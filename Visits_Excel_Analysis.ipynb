{
 "cells": [
  {
   "cell_type": "code",
   "execution_count": 3,
   "id": "0d5a11ea",
   "metadata": {},
   "outputs": [],
   "source": [
    "import numpy as np\n",
    "import pandas as pd\n",
    "import os\n",
    "import matplotlib.pyplot as plt\n",
    "from datetime import timedelta"
   ]
  },
  {
   "cell_type": "code",
   "execution_count": null,
   "id": "2a45507e",
   "metadata": {},
   "outputs": [],
   "source": [
    "xls = pd.ExcelFile(\"INRIX device count by county_071322.xlsx\")\n",
    "device_df = pd.read_excel(xls, 'National Device Panel Size')\n",
    "df2 = pd.read_excel(xls, 'CO-EST2021-POP')"
   ]
  },
  {
   "cell_type": "code",
   "execution_count": 54,
   "id": "be7e53b8",
   "metadata": {},
   "outputs": [],
   "source": [
    "visits_df = pd.DataFrame().assign(Date=device_df['Date'], Unique_Devices=device_df['Unique Devices'])"
   ]
  },
  {
   "cell_type": "code",
   "execution_count": 55,
   "id": "98524744",
   "metadata": {},
   "outputs": [],
   "source": [
    "cur_date = pd.to_datetime('2020-07-01')\n",
    "visits_df['interpolation factor'] = visits_df['Date']-cur_date"
   ]
  },
  {
   "cell_type": "code",
   "execution_count": 56,
   "id": "d405b97e",
   "metadata": {},
   "outputs": [],
   "source": [
    "visits_df['interpolation factor'] = ((visits_df['Date'] - cur_date).dt.days)/365"
   ]
  },
  {
   "cell_type": "code",
   "execution_count": 57,
   "id": "3d084749",
   "metadata": {},
   "outputs": [],
   "source": [
    "us_pop_2020 = 331501080\n",
    "us_pop_2021 = 331893745\n",
    "visits_df['interpolated population'] = (us_pop_2021-us_pop_2020)* visits_df['interpolation factor'] + us_pop_2020"
   ]
  },
  {
   "cell_type": "code",
   "execution_count": 58,
   "id": "7c700312",
   "metadata": {},
   "outputs": [],
   "source": [
    "visits_df['interpolated population'] = visits_df['interpolated population'].astype('int64')"
   ]
  },
  {
   "cell_type": "code",
   "execution_count": 61,
   "id": "8d023f27",
   "metadata": {},
   "outputs": [],
   "source": [
    "visits_df['SumPop/SumDevices'] = visits_df['interpolated population']/visits_df['Unique_Devices']"
   ]
  },
  {
   "cell_type": "code",
   "execution_count": 63,
   "id": "aa625f77",
   "metadata": {},
   "outputs": [
    {
     "data": {
      "text/html": [
       "<div>\n",
       "<style scoped>\n",
       "    .dataframe tbody tr th:only-of-type {\n",
       "        vertical-align: middle;\n",
       "    }\n",
       "\n",
       "    .dataframe tbody tr th {\n",
       "        vertical-align: top;\n",
       "    }\n",
       "\n",
       "    .dataframe thead th {\n",
       "        text-align: right;\n",
       "    }\n",
       "</style>\n",
       "<table border=\"1\" class=\"dataframe\">\n",
       "  <thead>\n",
       "    <tr style=\"text-align: right;\">\n",
       "      <th></th>\n",
       "      <th>Date</th>\n",
       "      <th>Unique_Devices</th>\n",
       "      <th>interpolation factor</th>\n",
       "      <th>interpolated population</th>\n",
       "      <th>SumPop/SumDevices</th>\n",
       "    </tr>\n",
       "  </thead>\n",
       "  <tbody>\n",
       "    <tr>\n",
       "      <th>0</th>\n",
       "      <td>2020-10-01</td>\n",
       "      <td>25204444</td>\n",
       "      <td>0.252055</td>\n",
       "      <td>331600053</td>\n",
       "      <td>13.156412</td>\n",
       "    </tr>\n",
       "    <tr>\n",
       "      <th>1</th>\n",
       "      <td>2020-10-02</td>\n",
       "      <td>27069081</td>\n",
       "      <td>0.254795</td>\n",
       "      <td>331601128</td>\n",
       "      <td>12.250180</td>\n",
       "    </tr>\n",
       "    <tr>\n",
       "      <th>2</th>\n",
       "      <td>2020-10-03</td>\n",
       "      <td>30126289</td>\n",
       "      <td>0.257534</td>\n",
       "      <td>331602204</td>\n",
       "      <td>11.007071</td>\n",
       "    </tr>\n",
       "    <tr>\n",
       "      <th>3</th>\n",
       "      <td>2020-10-04</td>\n",
       "      <td>27928919</td>\n",
       "      <td>0.260274</td>\n",
       "      <td>331603280</td>\n",
       "      <td>11.873115</td>\n",
       "    </tr>\n",
       "    <tr>\n",
       "      <th>4</th>\n",
       "      <td>2020-10-05</td>\n",
       "      <td>30605973</td>\n",
       "      <td>0.263014</td>\n",
       "      <td>331604356</td>\n",
       "      <td>10.834629</td>\n",
       "    </tr>\n",
       "    <tr>\n",
       "      <th>...</th>\n",
       "      <td>...</td>\n",
       "      <td>...</td>\n",
       "      <td>...</td>\n",
       "      <td>...</td>\n",
       "      <td>...</td>\n",
       "    </tr>\n",
       "    <tr>\n",
       "      <th>360</th>\n",
       "      <td>2021-09-26</td>\n",
       "      <td>28559160</td>\n",
       "      <td>1.238356</td>\n",
       "      <td>331987339</td>\n",
       "      <td>11.624548</td>\n",
       "    </tr>\n",
       "    <tr>\n",
       "      <th>361</th>\n",
       "      <td>2021-09-27</td>\n",
       "      <td>28383915</td>\n",
       "      <td>1.241096</td>\n",
       "      <td>331988414</td>\n",
       "      <td>11.696357</td>\n",
       "    </tr>\n",
       "    <tr>\n",
       "      <th>362</th>\n",
       "      <td>2021-09-28</td>\n",
       "      <td>28422271</td>\n",
       "      <td>1.243836</td>\n",
       "      <td>331989490</td>\n",
       "      <td>11.680611</td>\n",
       "    </tr>\n",
       "    <tr>\n",
       "      <th>363</th>\n",
       "      <td>2021-09-29</td>\n",
       "      <td>28120455</td>\n",
       "      <td>1.246575</td>\n",
       "      <td>331990566</td>\n",
       "      <td>11.806017</td>\n",
       "    </tr>\n",
       "    <tr>\n",
       "      <th>364</th>\n",
       "      <td>2021-09-30</td>\n",
       "      <td>28833551</td>\n",
       "      <td>1.249315</td>\n",
       "      <td>331991642</td>\n",
       "      <td>11.514074</td>\n",
       "    </tr>\n",
       "  </tbody>\n",
       "</table>\n",
       "<p>365 rows × 5 columns</p>\n",
       "</div>"
      ],
      "text/plain": [
       "          Date  Unique_Devices  interpolation factor  interpolated population  \\\n",
       "0   2020-10-01        25204444              0.252055                331600053   \n",
       "1   2020-10-02        27069081              0.254795                331601128   \n",
       "2   2020-10-03        30126289              0.257534                331602204   \n",
       "3   2020-10-04        27928919              0.260274                331603280   \n",
       "4   2020-10-05        30605973              0.263014                331604356   \n",
       "..         ...             ...                   ...                      ...   \n",
       "360 2021-09-26        28559160              1.238356                331987339   \n",
       "361 2021-09-27        28383915              1.241096                331988414   \n",
       "362 2021-09-28        28422271              1.243836                331989490   \n",
       "363 2021-09-29        28120455              1.246575                331990566   \n",
       "364 2021-09-30        28833551              1.249315                331991642   \n",
       "\n",
       "     SumPop/SumDevices  \n",
       "0            13.156412  \n",
       "1            12.250180  \n",
       "2            11.007071  \n",
       "3            11.873115  \n",
       "4            10.834629  \n",
       "..                 ...  \n",
       "360          11.624548  \n",
       "361          11.696357  \n",
       "362          11.680611  \n",
       "363          11.806017  \n",
       "364          11.514074  \n",
       "\n",
       "[365 rows x 5 columns]"
      ]
     },
     "execution_count": 63,
     "metadata": {},
     "output_type": "execute_result"
    }
   ],
   "source": [
    "visits_df"
   ]
  },
  {
   "cell_type": "code",
   "execution_count": 74,
   "id": "6d075008",
   "metadata": {},
   "outputs": [
    {
     "name": "stdout",
     "output_type": "stream",
     "text": [
      "Average SumPop/SumDevices: 10.33559376325629\n"
     ]
    }
   ],
   "source": [
    "Average_SumPop_SumDevices = visits_df['SumPop/SumDevices'].mean()\n",
    "print('Average SumPop/SumDevices: '+ str(Average_SumPop_SumDevices))"
   ]
  },
  {
   "cell_type": "code",
   "execution_count": 71,
   "id": "dd1b3df4",
   "metadata": {},
   "outputs": [
    {
     "data": {
      "text/plain": [
       "(-0.5, 364.5, 0.0, 15.75872021372234)"
      ]
     },
     "execution_count": 71,
     "metadata": {},
     "output_type": "execute_result"
    },
    {
     "data": {
      "image/png": "[encoded data removed]",
      "text/plain": [
       "<Figure size 2160x720 with 1 Axes>"
      ]
     },
     "metadata": {
      "needs_background": "light"
     },
     "output_type": "display_data"
    }
   ],
   "source": [
    "ax = visits_df['SumPop/SumDevices'].plot.bar(figsize=(30, 10),title='Daily SumDevices/SumPop from Oct 2020-Sept 2021')\n",
    "ax.axis('off')"
   ]
  }
 ],
 "metadata": {
  "kernelspec": {
   "display_name": "Python 3",
   "language": "python",
   "name": "python3"
  },
  "language_info": {
   "codemirror_mode": {
    "name": "ipython",
    "version": 3
   },
   "file_extension": ".py",
   "mimetype": "text/x-python",
   "name": "python",
   "nbconvert_exporter": "python",
   "pygments_lexer": "ipython3",
   "version": "3.8.8"
  }
 },
 "nbformat": 4,
 "nbformat_minor": 5
}
