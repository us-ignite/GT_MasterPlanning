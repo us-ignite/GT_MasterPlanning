{
 "cells": [
  {
   "cell_type": "code",
   "metadata": {
    "cell_id": "63dae04c-b51b-4bc8-b526-50c1260217f2",
    "deepnote_to_be_reexecuted": false,
    "source_hash": "9fa948f7",
    "execution_start": 1654693962604,
    "execution_millis": 2377,
    "deepnote_cell_type": "code",
    "deepnote_cell_height": 225
   },
   "source": "import pandas as pd\nfrom shapely.geometry import Point # Shapely for converting latitude/longtitude to geometry\nimport geopandas as gpd # To create GeodataFrame\nimport seaborn as sns\nimport matplotlib.pyplot as plt\nimport numpy as np\nimport warnings\nfrom datetime import datetime, timedelta\nwarnings.filterwarnings('ignore')",
   "outputs": [],
   "execution_count": null
  },
  {
   "cell_type": "code",
   "metadata": {
    "cell_id": "00001-4abec473-c66c-4f35-8c9f-7abed67331cb",
    "deepnote_to_be_reexecuted": false,
    "source_hash": "4da3478f",
    "execution_start": 1654693964999,
    "execution_millis": 1203,
    "deepnote_cell_type": "code",
    "deepnote_cell_height": 117
   },
   "source": "original_df = pd.read_csv('/work/trips.csv')\nheader_df = pd.read_csv('/work/TripBulkReportTripsHeaders.csv')\ntrips_df = pd.concat([original_df,header_df])",
   "outputs": [],
   "execution_count": null
  },
  {
   "cell_type": "code",
   "metadata": {
    "cell_id": "00002-6cdbea82-25c2-4e2a-af21-25ecb98c46e1",
    "deepnote_to_be_reexecuted": false,
    "source_hash": "6be1ddc6",
    "execution_start": 1654693966207,
    "execution_millis": 251,
    "deepnote_cell_type": "code",
    "deepnote_cell_height": 395
   },
   "source": "trips_df.head()",
   "outputs": [
    {
     "output_type": "execute_result",
     "execution_count": 3,
     "data": {
      "application/vnd.deepnote.dataframe.v3+json": {
       "column_count": 33,
       "row_count": 5,
       "columns": [
        {
         "name": "TripId",
         "dtype": "object",
         "stats": {
          "unique_count": 5,
          "nan_count": 0,
          "categories": [
           {
            "name": "a939d5d8c9b52b5265161bfa93054f0a",
            "count": 1
           },
           {
            "name": "88180c2feb14c8520f169e4bda526313",
            "count": 1
           },
           {
            "name": "3 others",
            "count": 3
           }
          ]
         }
        },
        {
         "name": "DeviceId",
         "dtype": "object",
         "stats": {
          "unique_count": 5,
          "nan_count": 0,
          "categories": [
           {
            "name": "0006da8402c807c4be339cab03f9d498",
            "count": 1
           },
           {
            "name": "009ef4b15eadd773468cd2bfdff6eb54",
            "count": 1
           },
           {
            "name": "3 others",
            "count": 3
           }
          ]
         }
        },
        {
         "name": "ProviderId",
         "dtype": "object",
         "stats": {
          "unique_count": 2,
          "nan_count": 0,
          "categories": [
           {
            "name": "74071a673307ca7459bcf75fbd024e09",
            "count": 3
           },
           {
            "name": "d07e70efcfab08731a97e7b91be644de",
            "count": 2
           }
          ]
         }
        },
        {
         "name": "Mode",
         "dtype": "object",
         "stats": {
          "unique_count": 2,
          "nan_count": 0,
          "categories": [
           {
            "name": "1",
            "count": 4
           },
           {
            "name": "0",
            "count": 1
           }
          ]
         }
        },
        {
         "name": "StartDate",
         "dtype": "object",
         "stats": {
          "unique_count": 5,
          "nan_count": 0,
          "categories": [
           {
            "name": "2022-05-11T20:19:31.000Z",
            "count": 1
           },
           {
            "name": "2022-05-14T21:07:54.000Z",
            "count": 1
           },
           {
            "name": "3 others",
            "count": 3
           }
          ]
         }
        },
        {
         "name": "StartWDay",
         "dtype": "object",
         "stats": {
          "unique_count": 3,
          "nan_count": 0,
          "categories": [
           {
            "name": "3",
            "count": 3
           },
           {
            "name": "6",
            "count": 1
           },
           {
            "name": "5",
            "count": 1
           }
          ]
         }
        },
        {
         "name": "EndDate",
         "dtype": "object",
         "stats": {
          "unique_count": 5,
          "nan_count": 0,
          "categories": [
           {
            "name": "2022-05-11T20:22:52.000Z",
            "count": 1
           },
           {
            "name": "2022-05-14T21:58:03.000Z",
            "count": 1
           },
           {
            "name": "3 others",
            "count": 3
           }
          ]
         }
        },
        {
         "name": "EndWDay",
         "dtype": "object",
         "stats": {
          "unique_count": 3,
          "nan_count": 0,
          "categories": [
           {
            "name": "3",
            "count": 3
           },
           {
            "name": "6",
            "count": 1
           },
           {
            "name": "5",
            "count": 1
           }
          ]
         }
        },
        {
         "name": "StartLocLat",
         "dtype": "float64",
         "stats": {
          "unique_count": 5,
          "nan_count": 0,
          "min": "30.18252",
          "max": "38.75461",
          "histogram": [
           {
            "bin_start": 30.18252,
            "bin_end": 31.039729,
            "count": 1
           },
           {
            "bin_start": 31.039729,
            "bin_end": 31.896938,
            "count": 0
           },
           {
            "bin_start": 31.896938,
            "bin_end": 32.754147,
            "count": 0
           },
           {
            "bin_start": 32.754147,
            "bin_end": 33.611356,
            "count": 0
           },
           {
            "bin_start": 33.611356,
            "bin_end": 34.468565,
            "count": 0
           },
           {
            "bin_start": 34.468565,
            "bin_end": 35.325773999999996,
            "count": 0
           },
           {
            "bin_start": 35.325773999999996,
            "bin_end": 36.182983,
            "count": 0
           },
           {
            "bin_start": 36.182983,
            "bin_end": 37.040192,
            "count": 0
           },
           {
            "bin_start": 37.040192,
            "bin_end": 37.897401,
            "count": 0
           },
           {
            "bin_start": 37.897401,
            "bin_end": 38.75461,
            "count": 4
           }
          ]
         }
        },
        {
         "name": "StartLocLon",
         "dtype": "float64",
         "stats": {
          "unique_count": 5,
          "nan_count": 0,
          "min": "-104.78828",
          "max": "-96.93443",
          "histogram": [
           {
            "bin_start": -104.78828,
            "bin_end": -104.002895,
            "count": 4
           },
           {
            "bin_start": -104.002895,
            "bin_end": -103.21751,
            "count": 0
           },
           {
            "bin_start": -103.21751,
            "bin_end": -102.432125,
            "count": 0
           },
           {
            "bin_start": -102.432125,
            "bin_end": -101.64674000000001,
            "count": 0
           },
           {
            "bin_start": -101.64674000000001,
            "bin_end": -100.861355,
            "count": 0
           },
           {
            "bin_start": -100.861355,
            "bin_end": -100.07597,
            "count": 0
           },
           {
            "bin_start": -100.07597,
            "bin_end": -99.29058500000001,
            "count": 0
           },
           {
            "bin_start": -99.29058500000001,
            "bin_end": -98.5052,
            "count": 0
           },
           {
            "bin_start": -98.5052,
            "bin_end": -97.71981500000001,
            "count": 0
           },
           {
            "bin_start": -97.71981500000001,
            "bin_end": -96.93443,
            "count": 1
           }
          ]
         }
        },
        {
         "name": "EndLocLat",
         "dtype": "float64",
         "stats": {
          "unique_count": 5,
          "nan_count": 0,
          "min": "30.18015",
          "max": "38.74819",
          "histogram": [
           {
            "bin_start": 30.18015,
            "bin_end": 31.036954,
            "count": 1
           },
           {
            "bin_start": 31.036954,
            "bin_end": 31.893758000000002,
            "count": 0
           },
           {
            "bin_start": 31.893758000000002,
            "bin_end": 32.750562,
            "count": 0
           },
           {
            "bin_start": 32.750562,
            "bin_end": 33.607366,
            "count": 0
           },
           {
            "bin_start": 33.607366,
            "bin_end": 34.46417,
            "count": 0
           },
           {
            "bin_start": 34.46417,
            "bin_end": 35.320974,
            "count": 0
           },
           {
            "bin_start": 35.320974,
            "bin_end": 36.177778,
            "count": 0
           },
           {
            "bin_start": 36.177778,
            "bin_end": 37.034582,
            "count": 0
           },
           {
            "bin_start": 37.034582,
            "bin_end": 37.891386000000004,
            "count": 0
           },
           {
            "bin_start": 37.891386000000004,
            "bin_end": 38.74819,
            "count": 4
           }
          ]
         }
        },
        {
         "name": "EndLocLon",
         "dtype": "float64",
         "stats": {
          "unique_count": 5,
          "nan_count": 0,
          "min": "-104.78828",
          "max": "-96.91383",
          "histogram": [
           {
            "bin_start": -104.78828,
            "bin_end": -104.000835,
            "count": 4
           },
           {
            "bin_start": -104.000835,
            "bin_end": -103.21339,
            "count": 0
           },
           {
            "bin_start": -103.21339,
            "bin_end": -102.425945,
            "count": 0
           },
           {
            "bin_start": -102.425945,
            "bin_end": -101.63850000000001,
            "count": 0
           },
           {
            "bin_start": -101.63850000000001,
            "bin_end": -100.851055,
            "count": 0
           },
           {
            "bin_start": -100.851055,
            "bin_end": -100.06361,
            "count": 0
           },
           {
            "bin_start": -100.06361,
            "bin_end": -99.276165,
            "count": 0
           },
           {
            "bin_start": -99.276165,
            "bin_end": -98.48872,
            "count": 0
           },
           {
            "bin_start": -98.48872,
            "bin_end": -97.70127500000001,
            "count": 0
           },
           {
            "bin_start": -97.70127500000001,
            "bin_end": -96.91383,
            "count": 1
           }
          ]
         }
        },
        {
         "name": "GeospatialType",
         "dtype": "object",
         "stats": {
          "unique_count": 3,
          "nan_count": 0,
          "categories": [
           {
            "name": "EI",
            "count": 3
           },
           {
            "name": "II",
            "count": 1
           },
           {
            "name": "IE",
            "count": 1
           }
          ]
         }
        },
        {
         "name": "ProviderType",
         "dtype": "object",
         "stats": {
          "unique_count": 1,
          "nan_count": 0,
          "categories": [
           {
            "name": "1",
            "count": 5
           }
          ]
         }
        },
        {
         "name": "ProviderDrivingProfile",
         "dtype": "object",
         "stats": {
          "unique_count": 1,
          "nan_count": 0,
          "categories": [
           {
            "name": "1",
            "count": 5
           }
          ]
         }
        },
        {
         "name": "VehicleWeightClass",
         "dtype": "object",
         "stats": {
          "unique_count": 1,
          "nan_count": 0,
          "categories": [
           {
            "name": "1",
            "count": 5
           }
          ]
         }
        },
        {
         "name": "ProbeSourceType",
         "dtype": "object",
         "stats": {
          "unique_count": 2,
          "nan_count": 0,
          "categories": [
           {
            "name": "2",
            "count": 3
           },
           {
            "name": "1",
            "count": 2
           }
          ]
         }
        },
        {
         "name": "OriginZoneName",
         "dtype": "object",
         "stats": {
          "unique_count": 1,
          "nan_count": 3,
          "categories": [
           {
            "name": "Fort Carson CO",
            "count": 2
           },
           {
            "name": "Missing",
            "count": 3
           }
          ]
         }
        },
        {
         "name": "DestinationZoneName",
         "dtype": "object",
         "stats": {
          "unique_count": 2,
          "nan_count": 1,
          "categories": [
           {
            "name": "Fort Carson CO",
            "count": 3
           },
           {
            "name": "Buc-ee's Giddings TX",
            "count": 1
           },
           {
            "name": "Missing",
            "count": 1
           }
          ]
         }
        },
        {
         "name": "EndpointType",
         "dtype": "object",
         "stats": {
          "unique_count": 2,
          "nan_count": 0,
          "categories": [
           {
            "name": "3",
            "count": 4
           },
           {
            "name": "2",
            "count": 1
           }
          ]
         }
        },
        {
         "name": "TripMeanSpeedKph",
         "dtype": "float64",
         "stats": {
          "unique_count": 5,
          "nan_count": 0,
          "min": "6.108307693",
          "max": "108.2067285",
          "histogram": [
           {
            "bin_start": 6.108307693,
            "bin_end": 16.3181497737,
            "count": 1
           },
           {
            "bin_start": 16.3181497737,
            "bin_end": 26.5279918544,
            "count": 0
           },
           {
            "bin_start": 26.5279918544,
            "bin_end": 36.7378339351,
            "count": 1
           },
           {
            "bin_start": 36.7378339351,
            "bin_end": 46.9476760158,
            "count": 1
           },
           {
            "bin_start": 46.9476760158,
            "bin_end": 57.1575180965,
            "count": 0
           },
           {
            "bin_start": 57.1575180965,
            "bin_end": 67.3673601772,
            "count": 1
           },
           {
            "bin_start": 67.3673601772,
            "bin_end": 77.5772022579,
            "count": 0
           },
           {
            "bin_start": 77.5772022579,
            "bin_end": 87.7870443386,
            "count": 0
           },
           {
            "bin_start": 87.7870443386,
            "bin_end": 97.9968864193,
            "count": 0
           },
           {
            "bin_start": 97.9968864193,
            "bin_end": 108.2067285,
            "count": 1
           }
          ]
         }
        },
        {
         "name": "TripMaxSpeedKph",
         "dtype": "float64",
         "stats": {
          "unique_count": 5,
          "nan_count": 0,
          "min": "10.71996025",
          "max": "222.233945",
          "histogram": [
           {
            "bin_start": 10.71996025,
            "bin_end": 31.871358725,
            "count": 1
           },
           {
            "bin_start": 31.871358725,
            "bin_end": 53.0227572,
            "count": 0
           },
           {
            "bin_start": 53.0227572,
            "bin_end": 74.17415567500001,
            "count": 0
           },
           {
            "bin_start": 74.17415567500001,
            "bin_end": 95.32555415,
            "count": 1
           },
           {
            "bin_start": 95.32555415,
            "bin_end": 116.47695262500001,
            "count": 0
           },
           {
            "bin_start": 116.47695262500001,
            "bin_end": 137.6283511,
            "count": 1
           },
           {
            "bin_start": 137.6283511,
            "bin_end": 158.77974957499998,
            "count": 0
           },
           {
            "bin_start": 158.77974957499998,
            "bin_end": 179.93114805,
            "count": 1
           },
           {
            "bin_start": 179.93114805,
            "bin_end": 201.082546525,
            "count": 0
           },
           {
            "bin_start": 201.082546525,
            "bin_end": 222.233945,
            "count": 1
           }
          ]
         }
        },
        {
         "name": "TripDistanceMeters",
         "dtype": "float64",
         "stats": {
          "unique_count": 5,
          "nan_count": 0,
          "min": "811.0475215",
          "max": "41419.13109",
          "histogram": [
           {
            "bin_start": 811.0475215,
            "bin_end": 4871.85587835,
            "count": 2
           },
           {
            "bin_start": 4871.85587835,
            "bin_end": 8932.664235200002,
            "count": 0
           },
           {
            "bin_start": 8932.664235200002,
            "bin_end": 12993.472592050002,
            "count": 1
           },
           {
            "bin_start": 12993.472592050002,
            "bin_end": 17054.280948900003,
            "count": 0
           },
           {
            "bin_start": 17054.280948900003,
            "bin_end": 21115.089305750003,
            "count": 0
           },
           {
            "bin_start": 21115.089305750003,
            "bin_end": 25175.897662600004,
            "count": 0
           },
           {
            "bin_start": 25175.897662600004,
            "bin_end": 29236.706019450005,
            "count": 1
           },
           {
            "bin_start": 29236.706019450005,
            "bin_end": 33297.5143763,
            "count": 0
           },
           {
            "bin_start": 33297.5143763,
            "bin_end": 37358.32273315,
            "count": 0
           },
           {
            "bin_start": 37358.32273315,
            "bin_end": 41419.13109,
            "count": 1
           }
          ]
         }
        },
        {
         "name": "MovementType",
         "dtype": "object",
         "stats": {
          "unique_count": 1,
          "nan_count": 0,
          "categories": [
           {
            "name": "1",
            "count": 5
           }
          ]
         }
        },
        {
         "name": "OriginCbg",
         "dtype": "float64",
         "stats": {
          "unique_count": 0,
          "nan_count": 5,
          "min": null,
          "max": null,
          "histogram": [
           {
            "bin_start": 0,
            "bin_end": 0.1,
            "count": 0
           },
           {
            "bin_start": 0.1,
            "bin_end": 0.2,
            "count": 0
           },
           {
            "bin_start": 0.2,
            "bin_end": 0.30000000000000004,
            "count": 0
           },
           {
            "bin_start": 0.30000000000000004,
            "bin_end": 0.4,
            "count": 0
           },
           {
            "bin_start": 0.4,
            "bin_end": 0.5,
            "count": 0
           },
           {
            "bin_start": 0.5,
            "bin_end": 0.6000000000000001,
            "count": 0
           },
           {
            "bin_start": 0.6000000000000001,
            "bin_end": 0.7000000000000001,
            "count": 0
           },
           {
            "bin_start": 0.7000000000000001,
            "bin_end": 0.8,
            "count": 0
           },
           {
            "bin_start": 0.8,
            "bin_end": 0.9,
            "count": 0
           },
           {
            "bin_start": 0.9,
            "bin_end": 1,
            "count": 0
           }
          ]
         }
        },
        {
         "name": "DestCbg",
         "dtype": "float64",
         "stats": {
          "unique_count": 0,
          "nan_count": 5,
          "min": null,
          "max": null,
          "histogram": [
           {
            "bin_start": 0,
            "bin_end": 0.1,
            "count": 0
           },
           {
            "bin_start": 0.1,
            "bin_end": 0.2,
            "count": 0
           },
           {
            "bin_start": 0.2,
            "bin_end": 0.30000000000000004,
            "count": 0
           },
           {
            "bin_start": 0.30000000000000004,
            "bin_end": 0.4,
            "count": 0
           },
           {
            "bin_start": 0.4,
            "bin_end": 0.5,
            "count": 0
           },
           {
            "bin_start": 0.5,
            "bin_end": 0.6000000000000001,
            "count": 0
           },
           {
            "bin_start": 0.6000000000000001,
            "bin_end": 0.7000000000000001,
            "count": 0
           },
           {
            "bin_start": 0.7000000000000001,
            "bin_end": 0.8,
            "count": 0
           },
           {
            "bin_start": 0.8,
            "bin_end": 0.9,
            "count": 0
           },
           {
            "bin_start": 0.9,
            "bin_end": 1,
            "count": 0
           }
          ]
         }
        },
        {
         "name": "StartTimezone",
         "dtype": "object",
         "stats": {
          "unique_count": 2,
          "nan_count": 0,
          "categories": [
           {
            "name": "America/Denver",
            "count": 4
           },
           {
            "name": "America/Chicago",
            "count": 1
           }
          ]
         }
        },
        {
         "name": "EndTimezone",
         "dtype": "object",
         "stats": {
          "unique_count": 2,
          "nan_count": 0,
          "categories": [
           {
            "name": "America/Denver",
            "count": 4
           },
           {
            "name": "America/Chicago",
            "count": 1
           }
          ]
         }
        },
        {
         "name": "WaypointFreqSec",
         "dtype": "float64",
         "stats": {
          "unique_count": 0,
          "nan_count": 5,
          "min": null,
          "max": null,
          "histogram": [
           {
            "bin_start": 0,
            "bin_end": 0.1,
            "count": 0
           },
           {
            "bin_start": 0.1,
            "bin_end": 0.2,
            "count": 0
           },
           {
            "bin_start": 0.2,
            "bin_end": 0.30000000000000004,
            "count": 0
           },
           {
            "bin_start": 0.30000000000000004,
            "bin_end": 0.4,
            "count": 0
           },
           {
            "bin_start": 0.4,
            "bin_end": 0.5,
            "count": 0
           },
           {
            "bin_start": 0.5,
            "bin_end": 0.6000000000000001,
            "count": 0
           },
           {
            "bin_start": 0.6000000000000001,
            "bin_end": 0.7000000000000001,
            "count": 0
           },
           {
            "bin_start": 0.7000000000000001,
            "bin_end": 0.8,
            "count": 0
           },
           {
            "bin_start": 0.8,
            "bin_end": 0.9,
            "count": 0
           },
           {
            "bin_start": 0.9,
            "bin_end": 1,
            "count": 0
           }
          ]
         }
        },
        {
         "name": "StartQk",
         "dtype": "float64",
         "stats": {
          "unique_count": 2,
          "nan_count": 0,
          "min": "2.31012e+16",
          "max": "2.31301e+16",
          "histogram": [
           {
            "bin_start": 23101200000000000,
            "bin_end": 23104090000000000,
            "count": 4
           },
           {
            "bin_start": 23104090000000000,
            "bin_end": 23106980000000000,
            "count": 0
           },
           {
            "bin_start": 23106980000000000,
            "bin_end": 23109870000000000,
            "count": 0
           },
           {
            "bin_start": 23109870000000000,
            "bin_end": 23112760000000000,
            "count": 0
           },
           {
            "bin_start": 23112760000000000,
            "bin_end": 23115650000000000,
            "count": 0
           },
           {
            "bin_start": 23115650000000000,
            "bin_end": 23118540000000000,
            "count": 0
           },
           {
            "bin_start": 23118540000000000,
            "bin_end": 23121430000000000,
            "count": 0
           },
           {
            "bin_start": 23121430000000000,
            "bin_end": 23124320000000000,
            "count": 0
           },
           {
            "bin_start": 23124320000000000,
            "bin_end": 23127210000000000,
            "count": 0
           },
           {
            "bin_start": 23127210000000000,
            "bin_end": 23130100000000000,
            "count": 1
           }
          ]
         }
        },
        {
         "name": "EndQk",
         "dtype": "float64",
         "stats": {
          "unique_count": 2,
          "nan_count": 0,
          "min": "2.31012e+16",
          "max": "2.31301e+16",
          "histogram": [
           {
            "bin_start": 23101200000000000,
            "bin_end": 23104090000000000,
            "count": 4
           },
           {
            "bin_start": 23104090000000000,
            "bin_end": 23106980000000000,
            "count": 0
           },
           {
            "bin_start": 23106980000000000,
            "bin_end": 23109870000000000,
            "count": 0
           },
           {
            "bin_start": 23109870000000000,
            "bin_end": 23112760000000000,
            "count": 0
           },
           {
            "bin_start": 23112760000000000,
            "bin_end": 23115650000000000,
            "count": 0
           },
           {
            "bin_start": 23115650000000000,
            "bin_end": 23118540000000000,
            "count": 0
           },
           {
            "bin_start": 23118540000000000,
            "bin_end": 23121430000000000,
            "count": 0
           },
           {
            "bin_start": 23121430000000000,
            "bin_end": 23124320000000000,
            "count": 0
           },
           {
            "bin_start": 23124320000000000,
            "bin_end": 23127210000000000,
            "count": 0
           },
           {
            "bin_start": 23127210000000000,
            "bin_end": 23130100000000000,
            "count": 1
           }
          ]
         }
        },
        {
         "name": "Unnamed: 31",
         "dtype": "object",
         "stats": {
          "unique_count": 2,
          "nan_count": 2,
          "categories": [
           {
            "name": "{\\method\\\":\\\"fused\\\"",
            "count": 2
           },
           {
            "name": "{\\method\\\":\\\"gps\\\"",
            "count": 1
           },
           {
            "name": "Missing",
            "count": 2
           }
          ]
         }
        },
        {
         "name": "Unnamed: 32",
         "dtype": "object",
         "stats": {
          "unique_count": 2,
          "nan_count": 2,
          "categories": [
           {
            "name": "\\\"aid_type\\\":\\\"AAID\\\"}\"",
            "count": 2
           },
           {
            "name": "\\\"aid_type\\\":\\\"IDFA\\\"}\"",
            "count": 1
           },
           {
            "name": "Missing",
            "count": 2
           }
          ]
         }
        },
        {
         "name": "_deepnote_index_column",
         "dtype": "int64"
        }
       ],
       "rows": [
        {
         "TripId": "a939d5d8c9b52b5265161bfa93054f0a",
         "DeviceId": "0006da8402c807c4be339cab03f9d498",
         "ProviderId": "d07e70efcfab08731a97e7b91be644de",
         "Mode": "1",
         "StartDate": "2022-05-11T20:19:31.000Z",
         "StartWDay": "3",
         "EndDate": "2022-05-11T20:22:52.000Z",
         "EndWDay": "3",
         "StartLocLat": 30.18252,
         "StartLocLon": -96.93443,
         "EndLocLat": 30.18015,
         "EndLocLon": -96.91383,
         "GeospatialType": "EI",
         "ProviderType": "1",
         "ProviderDrivingProfile": "1",
         "VehicleWeightClass": "1",
         "ProbeSourceType": "1",
         "OriginZoneName": "nan",
         "DestinationZoneName": "Buc-ee's Giddings TX",
         "EndpointType": "3",
         "TripMeanSpeedKph": 36.9896129,
         "TripMaxSpeedKph": 92.61582882,
         "TripDistanceMeters": 2065.253387,
         "MovementType": "1",
         "OriginCbg": "nan",
         "DestCbg": "nan",
         "StartTimezone": "America/Chicago",
         "EndTimezone": "America/Chicago",
         "WaypointFreqSec": "nan",
         "StartQk": 23130100000000000,
         "EndQk": 23130100000000000,
         "Unnamed: 31": "nan",
         "Unnamed: 32": "nan",
         "_deepnote_index_column": 0
        },
        {
         "TripId": "88180c2feb14c8520f169e4bda526313",
         "DeviceId": "009ef4b15eadd773468cd2bfdff6eb54",
         "ProviderId": "74071a673307ca7459bcf75fbd024e09",
         "Mode": "1",
         "StartDate": "2022-05-14T21:07:54.000Z",
         "StartWDay": "6",
         "EndDate": "2022-05-14T21:58:03.000Z",
         "EndWDay": "6",
         "StartLocLat": 38.27969,
         "StartLocLon": -104.52873,
         "EndLocLat": 38.34004,
         "EndLocLon": -104.67292,
         "GeospatialType": "EI",
         "ProviderType": "1",
         "ProviderDrivingProfile": "1",
         "VehicleWeightClass": "1",
         "ProbeSourceType": "2",
         "OriginZoneName": "nan",
         "DestinationZoneName": "Fort Carson CO",
         "EndpointType": "3",
         "TripMeanSpeedKph": 34.57612958,
         "TripMaxSpeedKph": 222.233945,
         "TripDistanceMeters": 28899.88164,
         "MovementType": "1",
         "OriginCbg": "nan",
         "DestCbg": "nan",
         "StartTimezone": "America/Denver",
         "EndTimezone": "America/Denver",
         "WaypointFreqSec": "nan",
         "StartQk": 23101200000000000,
         "EndQk": 23101200000000000,
         "Unnamed: 31": "{\\method\\\":\\\"fused\\\"",
         "Unnamed: 32": "\\\"aid_type\\\":\\\"AAID\\\"}\"",
         "_deepnote_index_column": 1
        },
        {
         "TripId": "a4d0936eb3b45ff1a5af8885939fbcd5",
         "DeviceId": "011dbfd3e177545535328ba48377522f",
         "ProviderId": "74071a673307ca7459bcf75fbd024e09",
         "Mode": "0",
         "StartDate": "2022-05-13T21:40:44.000Z",
         "StartWDay": "5",
         "EndDate": "2022-05-13T21:48:42.000Z",
         "EndWDay": "5",
         "StartLocLat": 38.75461,
         "StartLocLon": -104.78828,
         "EndLocLat": 38.74819,
         "EndLocLon": -104.78828,
         "GeospatialType": "II",
         "ProviderType": "1",
         "ProviderDrivingProfile": "1",
         "VehicleWeightClass": "1",
         "ProbeSourceType": "2",
         "OriginZoneName": "Fort Carson CO",
         "DestinationZoneName": "Fort Carson CO",
         "EndpointType": "3",
         "TripMeanSpeedKph": 6.108307693,
         "TripMaxSpeedKph": 10.71996025,
         "TripDistanceMeters": 811.0475215,
         "MovementType": "1",
         "OriginCbg": "nan",
         "DestCbg": "nan",
         "StartTimezone": "America/Denver",
         "EndTimezone": "America/Denver",
         "WaypointFreqSec": "nan",
         "StartQk": 23101200000000000,
         "EndQk": 23101200000000000,
         "Unnamed: 31": "{\\method\\\":\\\"fused\\\"",
         "Unnamed: 32": "\\\"aid_type\\\":\\\"AAID\\\"}\"",
         "_deepnote_index_column": 2
        },
        {
         "TripId": "a04c70dd5a17f8f54b7a5576951da0c5",
         "DeviceId": "014b33b72b76a3ba8cbb621009408974",
         "ProviderId": "d07e70efcfab08731a97e7b91be644de",
         "Mode": "1",
         "StartDate": "2022-05-11T23:37:31.000Z",
         "StartWDay": "3",
         "EndDate": "2022-05-11T23:47:49.000Z",
         "EndWDay": "3",
         "StartLocLat": 38.67639,
         "StartLocLon": -104.70588,
         "EndLocLat": 38.73319,
         "EndLocLon": -104.77867,
         "GeospatialType": "EI",
         "ProviderType": "1",
         "ProviderDrivingProfile": "1",
         "VehicleWeightClass": "1",
         "ProbeSourceType": "1",
         "OriginZoneName": "nan",
         "DestinationZoneName": "Fort Carson CO",
         "EndpointType": "3",
         "TripMeanSpeedKph": 64.42477686,
         "TripMaxSpeedKph": 125.7532355,
         "TripDistanceMeters": 11059.58669,
         "MovementType": "1",
         "OriginCbg": "nan",
         "DestCbg": "nan",
         "StartTimezone": "America/Denver",
         "EndTimezone": "America/Denver",
         "WaypointFreqSec": "nan",
         "StartQk": 23101200000000000,
         "EndQk": 23101200000000000,
         "Unnamed: 31": "nan",
         "Unnamed: 32": "nan",
         "_deepnote_index_column": 3
        },
        {
         "TripId": "509bba65db0e6495bb35e615f823350c",
         "DeviceId": "014ed4fc9ea19b744e0eb3a0b1d72bb1",
         "ProviderId": "74071a673307ca7459bcf75fbd024e09",
         "Mode": "1",
         "StartDate": "2022-05-12T00:14:40.000Z",
         "StartWDay": "3",
         "EndDate": "2022-05-12T00:37:38.000Z",
         "EndWDay": "3",
         "StartLocLat": 38.55622,
         "StartLocLon": -104.64958,
         "EndLocLat": 38.2193,
         "EndLocLon": -104.6537,
         "GeospatialType": "IE",
         "ProviderType": "1",
         "ProviderDrivingProfile": "1",
         "VehicleWeightClass": "1",
         "ProbeSourceType": "2",
         "OriginZoneName": "Fort Carson CO",
         "DestinationZoneName": "nan",
         "EndpointType": "2",
         "TripMeanSpeedKph": 108.2067285,
         "TripMaxSpeedKph": 167.958871,
         "TripDistanceMeters": 41419.13109,
         "MovementType": "1",
         "OriginCbg": "nan",
         "DestCbg": "nan",
         "StartTimezone": "America/Denver",
         "EndTimezone": "America/Denver",
         "WaypointFreqSec": "nan",
         "StartQk": 23101200000000000,
         "EndQk": 23101200000000000,
         "Unnamed: 31": "{\\method\\\":\\\"gps\\\"",
         "Unnamed: 32": "\\\"aid_type\\\":\\\"IDFA\\\"}\"",
         "_deepnote_index_column": 4
        }
       ]
      },
      "text/plain": "                             TripId                          DeviceId  \\\n0  a939d5d8c9b52b5265161bfa93054f0a  0006da8402c807c4be339cab03f9d498   \n1  88180c2feb14c8520f169e4bda526313  009ef4b15eadd773468cd2bfdff6eb54   \n2  a4d0936eb3b45ff1a5af8885939fbcd5  011dbfd3e177545535328ba48377522f   \n3  a04c70dd5a17f8f54b7a5576951da0c5  014b33b72b76a3ba8cbb621009408974   \n4  509bba65db0e6495bb35e615f823350c  014ed4fc9ea19b744e0eb3a0b1d72bb1   \n\n                         ProviderId Mode                 StartDate StartWDay  \\\n0  d07e70efcfab08731a97e7b91be644de    1  2022-05-11T20:19:31.000Z         3   \n1  74071a673307ca7459bcf75fbd024e09    1  2022-05-14T21:07:54.000Z         6   \n2  74071a673307ca7459bcf75fbd024e09    0  2022-05-13T21:40:44.000Z         5   \n3  d07e70efcfab08731a97e7b91be644de    1  2022-05-11T23:37:31.000Z         3   \n4  74071a673307ca7459bcf75fbd024e09    1  2022-05-12T00:14:40.000Z         3   \n\n                    EndDate EndWDay  StartLocLat  StartLocLon  ...  \\\n0  2022-05-11T20:22:52.000Z       3     30.18252    -96.93443  ...   \n1  2022-05-14T21:58:03.000Z       6     38.27969   -104.52873  ...   \n2  2022-05-13T21:48:42.000Z       5     38.75461   -104.78828  ...   \n3  2022-05-11T23:47:49.000Z       3     38.67639   -104.70588  ...   \n4  2022-05-12T00:37:38.000Z       3     38.55622   -104.64958  ...   \n\n   MovementType  OriginCbg DestCbg    StartTimezone      EndTimezone  \\\n0             1        NaN     NaN  America/Chicago  America/Chicago   \n1             1        NaN     NaN   America/Denver   America/Denver   \n2             1        NaN     NaN   America/Denver   America/Denver   \n3             1        NaN     NaN   America/Denver   America/Denver   \n4             1        NaN     NaN   America/Denver   America/Denver   \n\n  WaypointFreqSec       StartQk         EndQk           Unnamed: 31  \\\n0             NaN  2.313010e+16  2.313010e+16                   NaN   \n1             NaN  2.310120e+16  2.310120e+16  {\\method\\\":\\\"fused\\\"   \n2             NaN  2.310120e+16  2.310120e+16  {\\method\\\":\\\"fused\\\"   \n3             NaN  2.310120e+16  2.310120e+16                   NaN   \n4             NaN  2.310120e+16  2.310120e+16    {\\method\\\":\\\"gps\\\"   \n\n               Unnamed: 32  \n0                      NaN  \n1  \\\"aid_type\\\":\\\"AAID\\\"}\"  \n2  \\\"aid_type\\\":\\\"AAID\\\"}\"  \n3                      NaN  \n4  \\\"aid_type\\\":\\\"IDFA\\\"}\"  \n\n[5 rows x 33 columns]",
      "text/html": "<div>\n<style scoped>\n    .dataframe tbody tr th:only-of-type {\n        vertical-align: middle;\n    }\n\n    .dataframe tbody tr th {\n        vertical-align: top;\n    }\n\n    .dataframe thead th {\n        text-align: right;\n    }\n</style>\n<table border=\"1\" class=\"dataframe\">\n  <thead>\n    <tr style=\"text-align: right;\">\n      <th></th>\n      <th>TripId</th>\n      <th>DeviceId</th>\n      <th>ProviderId</th>\n      <th>Mode</th>\n      <th>StartDate</th>\n      <th>StartWDay</th>\n      <th>EndDate</th>\n      <th>EndWDay</th>\n      <th>StartLocLat</th>\n      <th>StartLocLon</th>\n      <th>...</th>\n      <th>MovementType</th>\n      <th>OriginCbg</th>\n      <th>DestCbg</th>\n      <th>StartTimezone</th>\n      <th>EndTimezone</th>\n      <th>WaypointFreqSec</th>\n      <th>StartQk</th>\n      <th>EndQk</th>\n      <th>Unnamed: 31</th>\n      <th>Unnamed: 32</th>\n    </tr>\n  </thead>\n  <tbody>\n    <tr>\n      <th>0</th>\n      <td>a939d5d8c9b52b5265161bfa93054f0a</td>\n      <td>0006da8402c807c4be339cab03f9d498</td>\n      <td>d07e70efcfab08731a97e7b91be644de</td>\n      <td>1</td>\n      <td>2022-05-11T20:19:31.000Z</td>\n      <td>3</td>\n      <td>2022-05-11T20:22:52.000Z</td>\n      <td>3</td>\n      <td>30.18252</td>\n      <td>-96.93443</td>\n      <td>...</td>\n      <td>1</td>\n      <td>NaN</td>\n      <td>NaN</td>\n      <td>America/Chicago</td>\n      <td>America/Chicago</td>\n      <td>NaN</td>\n      <td>2.313010e+16</td>\n      <td>2.313010e+16</td>\n      <td>NaN</td>\n      <td>NaN</td>\n    </tr>\n    <tr>\n      <th>1</th>\n      <td>88180c2feb14c8520f169e4bda526313</td>\n      <td>009ef4b15eadd773468cd2bfdff6eb54</td>\n      <td>74071a673307ca7459bcf75fbd024e09</td>\n      <td>1</td>\n      <td>2022-05-14T21:07:54.000Z</td>\n      <td>6</td>\n      <td>2022-05-14T21:58:03.000Z</td>\n      <td>6</td>\n      <td>38.27969</td>\n      <td>-104.52873</td>\n      <td>...</td>\n      <td>1</td>\n      <td>NaN</td>\n      <td>NaN</td>\n      <td>America/Denver</td>\n      <td>America/Denver</td>\n      <td>NaN</td>\n      <td>2.310120e+16</td>\n      <td>2.310120e+16</td>\n      <td>{\\method\\\":\\\"fused\\\"</td>\n      <td>\\\"aid_type\\\":\\\"AAID\\\"}\"</td>\n    </tr>\n    <tr>\n      <th>2</th>\n      <td>a4d0936eb3b45ff1a5af8885939fbcd5</td>\n      <td>011dbfd3e177545535328ba48377522f</td>\n      <td>74071a673307ca7459bcf75fbd024e09</td>\n      <td>0</td>\n      <td>2022-05-13T21:40:44.000Z</td>\n      <td>5</td>\n      <td>2022-05-13T21:48:42.000Z</td>\n      <td>5</td>\n      <td>38.75461</td>\n      <td>-104.78828</td>\n      <td>...</td>\n      <td>1</td>\n      <td>NaN</td>\n      <td>NaN</td>\n      <td>America/Denver</td>\n      <td>America/Denver</td>\n      <td>NaN</td>\n      <td>2.310120e+16</td>\n      <td>2.310120e+16</td>\n      <td>{\\method\\\":\\\"fused\\\"</td>\n      <td>\\\"aid_type\\\":\\\"AAID\\\"}\"</td>\n    </tr>\n    <tr>\n      <th>3</th>\n      <td>a04c70dd5a17f8f54b7a5576951da0c5</td>\n      <td>014b33b72b76a3ba8cbb621009408974</td>\n      <td>d07e70efcfab08731a97e7b91be644de</td>\n      <td>1</td>\n      <td>2022-05-11T23:37:31.000Z</td>\n      <td>3</td>\n      <td>2022-05-11T23:47:49.000Z</td>\n      <td>3</td>\n      <td>38.67639</td>\n      <td>-104.70588</td>\n      <td>...</td>\n      <td>1</td>\n      <td>NaN</td>\n      <td>NaN</td>\n      <td>America/Denver</td>\n      <td>America/Denver</td>\n      <td>NaN</td>\n      <td>2.310120e+16</td>\n      <td>2.310120e+16</td>\n      <td>NaN</td>\n      <td>NaN</td>\n    </tr>\n    <tr>\n      <th>4</th>\n      <td>509bba65db0e6495bb35e615f823350c</td>\n      <td>014ed4fc9ea19b744e0eb3a0b1d72bb1</td>\n      <td>74071a673307ca7459bcf75fbd024e09</td>\n      <td>1</td>\n      <td>2022-05-12T00:14:40.000Z</td>\n      <td>3</td>\n      <td>2022-05-12T00:37:38.000Z</td>\n      <td>3</td>\n      <td>38.55622</td>\n      <td>-104.64958</td>\n      <td>...</td>\n      <td>1</td>\n      <td>NaN</td>\n      <td>NaN</td>\n      <td>America/Denver</td>\n      <td>America/Denver</td>\n      <td>NaN</td>\n      <td>2.310120e+16</td>\n      <td>2.310120e+16</td>\n      <td>{\\method\\\":\\\"gps\\\"</td>\n      <td>\\\"aid_type\\\":\\\"IDFA\\\"}\"</td>\n    </tr>\n  </tbody>\n</table>\n<p>5 rows × 33 columns</p>\n</div>"
     },
     "metadata": {}
    }
   ],
   "execution_count": null
  },
  {
   "cell_type": "markdown",
   "source": "#  Data Cleaning",
   "metadata": {
    "cell_id": "6271a464a8ab4f7697ecd33f0809ccf4",
    "tags": [],
    "is_collapsed": false,
    "formattedRanges": [],
    "deepnote_cell_type": "text-cell-h1"
   }
  },
  {
   "cell_type": "markdown",
   "source": "### 1. Make sure there are no duplicate rows",
   "metadata": {
    "cell_id": "1c59bf3b3e9746e8b30fdc50c0085206",
    "tags": [],
    "is_collapsed": false,
    "formattedRanges": [],
    "deepnote_cell_type": "text-cell-h3"
   }
  },
  {
   "cell_type": "code",
   "metadata": {
    "cell_id": "00004-09cc899d-f3e8-47e1-9759-8fdde5033c2a",
    "deepnote_to_be_reexecuted": false,
    "source_hash": "bede2160",
    "execution_start": 1654693966522,
    "execution_millis": 1174,
    "deepnote_cell_type": "code",
    "deepnote_cell_height": 185.390625
   },
   "source": "number_of_dup = len(trips_df[trips_df.duplicated(subset=list(trips_df.columns).remove('TripId')) == True])\n\nprint('Number of rows in original data:', len(trips_df))\nprint('Number of duplicated rows : ',number_of_dup)",
   "outputs": [
    {
     "name": "stdout",
     "text": "Number of rows in original data: 136880\nNumber of duplicated rows :  0\n",
     "output_type": "stream"
    }
   ],
   "execution_count": null
  },
  {
   "cell_type": "markdown",
   "source": "### 2. Create geometry column",
   "metadata": {
    "cell_id": "00005-652db251-bda4-4eee-b5f5-b59895b764a4",
    "deepnote_cell_type": "markdown",
    "deepnote_cell_height": 62
   }
  },
  {
   "cell_type": "code",
   "metadata": {
    "cell_id": "00006-734d42b2-da6e-4295-a7df-7fa277dae26d",
    "deepnote_to_be_reexecuted": false,
    "source_hash": "236f870",
    "execution_start": 1654693967199,
    "execution_millis": 9883,
    "deepnote_cell_type": "code",
    "deepnote_cell_height": 315
   },
   "source": "# creating a geometry column \ntrips_df['Startlocation'] = list(zip(trips_df.StartLocLat, trips_df.StartLocLon))\ntrips_df['Startlocation'] = trips_df['Startlocation'].apply(Point)\n\ntrips_df['Endlocation'] = list(zip(trips_df.EndLocLat, trips_df.EndLocLon))\ntrips_df['Endlocation'] = trips_df['Endlocation'].apply(Point)\n\n\n# Coordinate reference system : WGS84\ncrs = {'init': 'epsg:4326'}\n\n# Creating a Geographic data frame \ngdf = gpd.GeoDataFrame(trips_df, crs=crs)\n",
   "outputs": [],
   "execution_count": null
  },
  {
   "cell_type": "markdown",
   "source": "### 3. Deal with Datetime",
   "metadata": {
    "cell_id": "00008-7825bbe0-4b0e-4139-b63a-5fff1145524c",
    "deepnote_cell_type": "markdown",
    "deepnote_cell_height": 62
   }
  },
  {
   "cell_type": "code",
   "metadata": {
    "cell_id": "00009-1c7d1259-7d12-4d81-98d4-a75d3b4df6ae",
    "deepnote_to_be_reexecuted": false,
    "source_hash": "5fbbbdb5",
    "execution_start": 1654693977088,
    "execution_millis": 15738,
    "deepnote_cell_type": "code",
    "deepnote_cell_height": 207
   },
   "source": "gdf['MST_start_datetime'] = pd.to_datetime(gdf['StartDate']).apply(lambda x:x.astimezone('MST'))\ngdf['MST_end_datetime'] = pd.to_datetime(gdf['EndDate']).apply(lambda x:x.astimezone('MST'))\n\ngdf['MST_start_date'] = gdf['MST_start_datetime'].apply(lambda x:x.date())\ngdf['MST_start_time'] = gdf['MST_start_datetime'].apply(lambda x:x.time())\n\ngdf['MST_end_date'] = gdf['MST_end_datetime'].apply(lambda x:x.date())\ngdf['MST_end_time'] = gdf['MST_end_datetime'].apply(lambda x:x.time())",
   "outputs": [],
   "execution_count": null
  },
  {
   "cell_type": "markdown",
   "source": "### 4.Exclude data whose ProviderType == Fleet",
   "metadata": {
    "cell_id": "00010-6b1b0da9-90fa-4029-a4fe-a25951b89405",
    "deepnote_cell_type": "markdown",
    "deepnote_cell_height": 62
   }
  },
  {
   "cell_type": "code",
   "source": "provider_type = sns.countplot(trips_df['ProviderType'])\nprovider_type.set_xticklabels(['Consumer','Fleet'])\nprovider_type.bar_label(provider_type.containers[0])",
   "metadata": {
    "cell_id": "7d3ba9fbf834479e9ae6586bdc8d68a1",
    "tags": [],
    "deepnote_to_be_reexecuted": false,
    "source_hash": "c05d64bf",
    "execution_start": 1654700690202,
    "execution_millis": 970,
    "deepnote_cell_type": "code",
    "deepnote_cell_height": 449.1875,
    "deepnote_output_heights": [
     21.1875,
     264
    ]
   },
   "outputs": [
    {
     "output_type": "execute_result",
     "execution_count": 90,
     "data": {
      "text/plain": "[Text(0, 0, '127805'), Text(0, 0, '9075')]"
     },
     "metadata": {}
    },
    {
     "data": {
      "text/plain": "<Figure size 432x288 with 1 Axes>",
      "image/png": "[encoded data removed]"
     },
     "metadata": {
      "needs_background": "light",
      "image/png": {
       "width": 407,
       "height": 262
      }
     },
     "output_type": "display_data"
    }
   ],
   "execution_count": null
  },
  {
   "cell_type": "code",
   "metadata": {
    "cell_id": "00011-5888194f-30e5-41af-908e-7ed5f64505fb",
    "deepnote_to_be_reexecuted": false,
    "source_hash": "d8e973b3",
    "execution_start": 1654700768237,
    "execution_millis": 433,
    "deepnote_cell_type": "code",
    "deepnote_cell_height": 431
   },
   "source": "# exclude data whose ProviderType == Fleet\ngdf = gdf[gdf['ProviderType']==1] \ngdf.head()",
   "outputs": [
    {
     "output_type": "execute_result",
     "execution_count": 91,
     "data": {
      "application/vnd.deepnote.dataframe.v3+json": {
       "column_count": 41,
       "row_count": 5,
       "columns": [
        {
         "name": "TripId",
         "dtype": "object",
         "stats": {
          "unique_count": 5,
          "nan_count": 0,
          "categories": [
           {
            "name": "a939d5d8c9b52b5265161bfa93054f0a",
            "count": 1
           },
           {
            "name": "88180c2feb14c8520f169e4bda526313",
            "count": 1
           },
           {
            "name": "3 others",
            "count": 3
           }
          ]
         }
        },
        {
         "name": "DeviceId",
         "dtype": "object",
         "stats": {
          "unique_count": 5,
          "nan_count": 0,
          "categories": [
           {
            "name": "0006da8402c807c4be339cab03f9d498",
            "count": 1
           },
           {
            "name": "009ef4b15eadd773468cd2bfdff6eb54",
            "count": 1
           },
           {
            "name": "3 others",
            "count": 3
           }
          ]
         }
        },
        {
         "name": "ProviderId",
         "dtype": "object",
         "stats": {
          "unique_count": 2,
          "nan_count": 0,
          "categories": [
           {
            "name": "74071a673307ca7459bcf75fbd024e09",
            "count": 3
           },
           {
            "name": "d07e70efcfab08731a97e7b91be644de",
            "count": 2
           }
          ]
         }
        },
        {
         "name": "Mode",
         "dtype": "object",
         "stats": {
          "unique_count": 2,
          "nan_count": 0,
          "categories": [
           {
            "name": "1",
            "count": 4
           },
           {
            "name": "0",
            "count": 1
           }
          ]
         }
        },
        {
         "name": "StartDate",
         "dtype": "object",
         "stats": {
          "unique_count": 5,
          "nan_count": 0,
          "categories": [
           {
            "name": "2022-05-11T20:19:31.000Z",
            "count": 1
           },
           {
            "name": "2022-05-14T21:07:54.000Z",
            "count": 1
           },
           {
            "name": "3 others",
            "count": 3
           }
          ]
         }
        },
        {
         "name": "StartWDay",
         "dtype": "object",
         "stats": {
          "unique_count": 3,
          "nan_count": 0,
          "categories": [
           {
            "name": "3",
            "count": 3
           },
           {
            "name": "6",
            "count": 1
           },
           {
            "name": "5",
            "count": 1
           }
          ]
         }
        },
        {
         "name": "EndDate",
         "dtype": "object",
         "stats": {
          "unique_count": 5,
          "nan_count": 0,
          "categories": [
           {
            "name": "2022-05-11T20:22:52.000Z",
            "count": 1
           },
           {
            "name": "2022-05-14T21:58:03.000Z",
            "count": 1
           },
           {
            "name": "3 others",
            "count": 3
           }
          ]
         }
        },
        {
         "name": "EndWDay",
         "dtype": "object",
         "stats": {
          "unique_count": 3,
          "nan_count": 0,
          "categories": [
           {
            "name": "3",
            "count": 3
           },
           {
            "name": "6",
            "count": 1
           },
           {
            "name": "5",
            "count": 1
           }
          ]
         }
        },
        {
         "name": "StartLocLat",
         "dtype": "float64",
         "stats": {
          "unique_count": 5,
          "nan_count": 0,
          "min": "30.18252",
          "max": "38.75461",
          "histogram": [
           {
            "bin_start": 30.18252,
            "bin_end": 31.039729,
            "count": 1
           },
           {
            "bin_start": 31.039729,
            "bin_end": 31.896938,
            "count": 0
           },
           {
            "bin_start": 31.896938,
            "bin_end": 32.754147,
            "count": 0
           },
           {
            "bin_start": 32.754147,
            "bin_end": 33.611356,
            "count": 0
           },
           {
            "bin_start": 33.611356,
            "bin_end": 34.468565,
            "count": 0
           },
           {
            "bin_start": 34.468565,
            "bin_end": 35.325773999999996,
            "count": 0
           },
           {
            "bin_start": 35.325773999999996,
            "bin_end": 36.182983,
            "count": 0
           },
           {
            "bin_start": 36.182983,
            "bin_end": 37.040192,
            "count": 0
           },
           {
            "bin_start": 37.040192,
            "bin_end": 37.897401,
            "count": 0
           },
           {
            "bin_start": 37.897401,
            "bin_end": 38.75461,
            "count": 4
           }
          ]
         }
        },
        {
         "name": "StartLocLon",
         "dtype": "float64",
         "stats": {
          "unique_count": 5,
          "nan_count": 0,
          "min": "-104.78828",
          "max": "-96.93443",
          "histogram": [
           {
            "bin_start": -104.78828,
            "bin_end": -104.002895,
            "count": 4
           },
           {
            "bin_start": -104.002895,
            "bin_end": -103.21751,
            "count": 0
           },
           {
            "bin_start": -103.21751,
            "bin_end": -102.432125,
            "count": 0
           },
           {
            "bin_start": -102.432125,
            "bin_end": -101.64674000000001,
            "count": 0
           },
           {
            "bin_start": -101.64674000000001,
            "bin_end": -100.861355,
            "count": 0
           },
           {
            "bin_start": -100.861355,
            "bin_end": -100.07597,
            "count": 0
           },
           {
            "bin_start": -100.07597,
            "bin_end": -99.29058500000001,
            "count": 0
           },
           {
            "bin_start": -99.29058500000001,
            "bin_end": -98.5052,
            "count": 0
           },
           {
            "bin_start": -98.5052,
            "bin_end": -97.71981500000001,
            "count": 0
           },
           {
            "bin_start": -97.71981500000001,
            "bin_end": -96.93443,
            "count": 1
           }
          ]
         }
        },
        {
         "name": "EndLocLat",
         "dtype": "float64",
         "stats": {
          "unique_count": 5,
          "nan_count": 0,
          "min": "30.18015",
          "max": "38.74819",
          "histogram": [
           {
            "bin_start": 30.18015,
            "bin_end": 31.036954,
            "count": 1
           },
           {
            "bin_start": 31.036954,
            "bin_end": 31.893758000000002,
            "count": 0
           },
           {
            "bin_start": 31.893758000000002,
            "bin_end": 32.750562,
            "count": 0
           },
           {
            "bin_start": 32.750562,
            "bin_end": 33.607366,
            "count": 0
           },
           {
            "bin_start": 33.607366,
            "bin_end": 34.46417,
            "count": 0
           },
           {
            "bin_start": 34.46417,
            "bin_end": 35.320974,
            "count": 0
           },
           {
            "bin_start": 35.320974,
            "bin_end": 36.177778,
            "count": 0
           },
           {
            "bin_start": 36.177778,
            "bin_end": 37.034582,
            "count": 0
           },
           {
            "bin_start": 37.034582,
            "bin_end": 37.891386000000004,
            "count": 0
           },
           {
            "bin_start": 37.891386000000004,
            "bin_end": 38.74819,
            "count": 4
           }
          ]
         }
        },
        {
         "name": "EndLocLon",
         "dtype": "float64",
         "stats": {
          "unique_count": 5,
          "nan_count": 0,
          "min": "-104.78828",
          "max": "-96.91383",
          "histogram": [
           {
            "bin_start": -104.78828,
            "bin_end": -104.000835,
            "count": 4
           },
           {
            "bin_start": -104.000835,
            "bin_end": -103.21339,
            "count": 0
           },
           {
            "bin_start": -103.21339,
            "bin_end": -102.425945,
            "count": 0
           },
           {
            "bin_start": -102.425945,
            "bin_end": -101.63850000000001,
            "count": 0
           },
           {
            "bin_start": -101.63850000000001,
            "bin_end": -100.851055,
            "count": 0
           },
           {
            "bin_start": -100.851055,
            "bin_end": -100.06361,
            "count": 0
           },
           {
            "bin_start": -100.06361,
            "bin_end": -99.276165,
            "count": 0
           },
           {
            "bin_start": -99.276165,
            "bin_end": -98.48872,
            "count": 0
           },
           {
            "bin_start": -98.48872,
            "bin_end": -97.70127500000001,
            "count": 0
           },
           {
            "bin_start": -97.70127500000001,
            "bin_end": -96.91383,
            "count": 1
           }
          ]
         }
        },
        {
         "name": "GeospatialType",
         "dtype": "object",
         "stats": {
          "unique_count": 3,
          "nan_count": 0,
          "categories": [
           {
            "name": "EI",
            "count": 3
           },
           {
            "name": "II",
            "count": 1
           },
           {
            "name": "IE",
            "count": 1
           }
          ]
         }
        },
        {
         "name": "ProviderType",
         "dtype": "object",
         "stats": {
          "unique_count": 1,
          "nan_count": 0,
          "categories": [
           {
            "name": "1",
            "count": 5
           }
          ]
         }
        },
        {
         "name": "ProviderDrivingProfile",
         "dtype": "object",
         "stats": {
          "unique_count": 1,
          "nan_count": 0,
          "categories": [
           {
            "name": "1",
            "count": 5
           }
          ]
         }
        },
        {
         "name": "VehicleWeightClass",
         "dtype": "object",
         "stats": {
          "unique_count": 1,
          "nan_count": 0,
          "categories": [
           {
            "name": "1",
            "count": 5
           }
          ]
         }
        },
        {
         "name": "ProbeSourceType",
         "dtype": "object",
         "stats": {
          "unique_count": 2,
          "nan_count": 0,
          "categories": [
           {
            "name": "2",
            "count": 3
           },
           {
            "name": "1",
            "count": 2
           }
          ]
         }
        },
        {
         "name": "OriginZoneName",
         "dtype": "object",
         "stats": {
          "unique_count": 1,
          "nan_count": 3,
          "categories": [
           {
            "name": "Fort Carson CO",
            "count": 2
           },
           {
            "name": "Missing",
            "count": 3
           }
          ]
         }
        },
        {
         "name": "DestinationZoneName",
         "dtype": "object",
         "stats": {
          "unique_count": 2,
          "nan_count": 1,
          "categories": [
           {
            "name": "Fort Carson CO",
            "count": 3
           },
           {
            "name": "Buc-ee's Giddings TX",
            "count": 1
           },
           {
            "name": "Missing",
            "count": 1
           }
          ]
         }
        },
        {
         "name": "EndpointType",
         "dtype": "object",
         "stats": {
          "unique_count": 2,
          "nan_count": 0,
          "categories": [
           {
            "name": "3",
            "count": 4
           },
           {
            "name": "2",
            "count": 1
           }
          ]
         }
        },
        {
         "name": "TripMeanSpeedKph",
         "dtype": "float64",
         "stats": {
          "unique_count": 5,
          "nan_count": 0,
          "min": "6.108307693",
          "max": "108.2067285",
          "histogram": [
           {
            "bin_start": 6.108307693,
            "bin_end": 16.3181497737,
            "count": 1
           },
           {
            "bin_start": 16.3181497737,
            "bin_end": 26.5279918544,
            "count": 0
           },
           {
            "bin_start": 26.5279918544,
            "bin_end": 36.7378339351,
            "count": 1
           },
           {
            "bin_start": 36.7378339351,
            "bin_end": 46.9476760158,
            "count": 1
           },
           {
            "bin_start": 46.9476760158,
            "bin_end": 57.1575180965,
            "count": 0
           },
           {
            "bin_start": 57.1575180965,
            "bin_end": 67.3673601772,
            "count": 1
           },
           {
            "bin_start": 67.3673601772,
            "bin_end": 77.5772022579,
            "count": 0
           },
           {
            "bin_start": 77.5772022579,
            "bin_end": 87.7870443386,
            "count": 0
           },
           {
            "bin_start": 87.7870443386,
            "bin_end": 97.9968864193,
            "count": 0
           },
           {
            "bin_start": 97.9968864193,
            "bin_end": 108.2067285,
            "count": 1
           }
          ]
         }
        },
        {
         "name": "TripMaxSpeedKph",
         "dtype": "float64",
         "stats": {
          "unique_count": 5,
          "nan_count": 0,
          "min": "10.71996025",
          "max": "222.233945",
          "histogram": [
           {
            "bin_start": 10.71996025,
            "bin_end": 31.871358725,
            "count": 1
           },
           {
            "bin_start": 31.871358725,
            "bin_end": 53.0227572,
            "count": 0
           },
           {
            "bin_start": 53.0227572,
            "bin_end": 74.17415567500001,
            "count": 0
           },
           {
            "bin_start": 74.17415567500001,
            "bin_end": 95.32555415,
            "count": 1
           },
           {
            "bin_start": 95.32555415,
            "bin_end": 116.47695262500001,
            "count": 0
           },
           {
            "bin_start": 116.47695262500001,
            "bin_end": 137.6283511,
            "count": 1
           },
           {
            "bin_start": 137.6283511,
            "bin_end": 158.77974957499998,
            "count": 0
           },
           {
            "bin_start": 158.77974957499998,
            "bin_end": 179.93114805,
            "count": 1
           },
           {
            "bin_start": 179.93114805,
            "bin_end": 201.082546525,
            "count": 0
           },
           {
            "bin_start": 201.082546525,
            "bin_end": 222.233945,
            "count": 1
           }
          ]
         }
        },
        {
         "name": "TripDistanceMeters",
         "dtype": "float64",
         "stats": {
          "unique_count": 5,
          "nan_count": 0,
          "min": "811.0475215",
          "max": "41419.13109",
          "histogram": [
           {
            "bin_start": 811.0475215,
            "bin_end": 4871.85587835,
            "count": 2
           },
           {
            "bin_start": 4871.85587835,
            "bin_end": 8932.664235200002,
            "count": 0
           },
           {
            "bin_start": 8932.664235200002,
            "bin_end": 12993.472592050002,
            "count": 1
           },
           {
            "bin_start": 12993.472592050002,
            "bin_end": 17054.280948900003,
            "count": 0
           },
           {
            "bin_start": 17054.280948900003,
            "bin_end": 21115.089305750003,
            "count": 0
           },
           {
            "bin_start": 21115.089305750003,
            "bin_end": 25175.897662600004,
            "count": 0
           },
           {
            "bin_start": 25175.897662600004,
            "bin_end": 29236.706019450005,
            "count": 1
           },
           {
            "bin_start": 29236.706019450005,
            "bin_end": 33297.5143763,
            "count": 0
           },
           {
            "bin_start": 33297.5143763,
            "bin_end": 37358.32273315,
            "count": 0
           },
           {
            "bin_start": 37358.32273315,
            "bin_end": 41419.13109,
            "count": 1
           }
          ]
         }
        },
        {
         "name": "MovementType",
         "dtype": "object",
         "stats": {
          "unique_count": 1,
          "nan_count": 0,
          "categories": [
           {
            "name": "1",
            "count": 5
           }
          ]
         }
        },
        {
         "name": "OriginCbg",
         "dtype": "float64",
         "stats": {
          "unique_count": 0,
          "nan_count": 5,
          "min": null,
          "max": null,
          "histogram": [
           {
            "bin_start": 0,
            "bin_end": 0.1,
            "count": 0
           },
           {
            "bin_start": 0.1,
            "bin_end": 0.2,
            "count": 0
           },
           {
            "bin_start": 0.2,
            "bin_end": 0.30000000000000004,
            "count": 0
           },
           {
            "bin_start": 0.30000000000000004,
            "bin_end": 0.4,
            "count": 0
           },
           {
            "bin_start": 0.4,
            "bin_end": 0.5,
            "count": 0
           },
           {
            "bin_start": 0.5,
            "bin_end": 0.6000000000000001,
            "count": 0
           },
           {
            "bin_start": 0.6000000000000001,
            "bin_end": 0.7000000000000001,
            "count": 0
           },
           {
            "bin_start": 0.7000000000000001,
            "bin_end": 0.8,
            "count": 0
           },
           {
            "bin_start": 0.8,
            "bin_end": 0.9,
            "count": 0
           },
           {
            "bin_start": 0.9,
            "bin_end": 1,
            "count": 0
           }
          ]
         }
        },
        {
         "name": "DestCbg",
         "dtype": "float64",
         "stats": {
          "unique_count": 0,
          "nan_count": 5,
          "min": null,
          "max": null,
          "histogram": [
           {
            "bin_start": 0,
            "bin_end": 0.1,
            "count": 0
           },
           {
            "bin_start": 0.1,
            "bin_end": 0.2,
            "count": 0
           },
           {
            "bin_start": 0.2,
            "bin_end": 0.30000000000000004,
            "count": 0
           },
           {
            "bin_start": 0.30000000000000004,
            "bin_end": 0.4,
            "count": 0
           },
           {
            "bin_start": 0.4,
            "bin_end": 0.5,
            "count": 0
           },
           {
            "bin_start": 0.5,
            "bin_end": 0.6000000000000001,
            "count": 0
           },
           {
            "bin_start": 0.6000000000000001,
            "bin_end": 0.7000000000000001,
            "count": 0
           },
           {
            "bin_start": 0.7000000000000001,
            "bin_end": 0.8,
            "count": 0
           },
           {
            "bin_start": 0.8,
            "bin_end": 0.9,
            "count": 0
           },
           {
            "bin_start": 0.9,
            "bin_end": 1,
            "count": 0
           }
          ]
         }
        },
        {
         "name": "StartTimezone",
         "dtype": "object",
         "stats": {
          "unique_count": 2,
          "nan_count": 0,
          "categories": [
           {
            "name": "America/Denver",
            "count": 4
           },
           {
            "name": "America/Chicago",
            "count": 1
           }
          ]
         }
        },
        {
         "name": "EndTimezone",
         "dtype": "object",
         "stats": {
          "unique_count": 2,
          "nan_count": 0,
          "categories": [
           {
            "name": "America/Denver",
            "count": 4
           },
           {
            "name": "America/Chicago",
            "count": 1
           }
          ]
         }
        },
        {
         "name": "WaypointFreqSec",
         "dtype": "float64",
         "stats": {
          "unique_count": 0,
          "nan_count": 5,
          "min": null,
          "max": null,
          "histogram": [
           {
            "bin_start": 0,
            "bin_end": 0.1,
            "count": 0
           },
           {
            "bin_start": 0.1,
            "bin_end": 0.2,
            "count": 0
           },
           {
            "bin_start": 0.2,
            "bin_end": 0.30000000000000004,
            "count": 0
           },
           {
            "bin_start": 0.30000000000000004,
            "bin_end": 0.4,
            "count": 0
           },
           {
            "bin_start": 0.4,
            "bin_end": 0.5,
            "count": 0
           },
           {
            "bin_start": 0.5,
            "bin_end": 0.6000000000000001,
            "count": 0
           },
           {
            "bin_start": 0.6000000000000001,
            "bin_end": 0.7000000000000001,
            "count": 0
           },
           {
            "bin_start": 0.7000000000000001,
            "bin_end": 0.8,
            "count": 0
           },
           {
            "bin_start": 0.8,
            "bin_end": 0.9,
            "count": 0
           },
           {
            "bin_start": 0.9,
            "bin_end": 1,
            "count": 0
           }
          ]
         }
        },
        {
         "name": "StartQk",
         "dtype": "float64",
         "stats": {
          "unique_count": 2,
          "nan_count": 0,
          "min": "2.31012e+16",
          "max": "2.31301e+16",
          "histogram": [
           {
            "bin_start": 23101200000000000,
            "bin_end": 23104090000000000,
            "count": 4
           },
           {
            "bin_start": 23104090000000000,
            "bin_end": 23106980000000000,
            "count": 0
           },
           {
            "bin_start": 23106980000000000,
            "bin_end": 23109870000000000,
            "count": 0
           },
           {
            "bin_start": 23109870000000000,
            "bin_end": 23112760000000000,
            "count": 0
           },
           {
            "bin_start": 23112760000000000,
            "bin_end": 23115650000000000,
            "count": 0
           },
           {
            "bin_start": 23115650000000000,
            "bin_end": 23118540000000000,
            "count": 0
           },
           {
            "bin_start": 23118540000000000,
            "bin_end": 23121430000000000,
            "count": 0
           },
           {
            "bin_start": 23121430000000000,
            "bin_end": 23124320000000000,
            "count": 0
           },
           {
            "bin_start": 23124320000000000,
            "bin_end": 23127210000000000,
            "count": 0
           },
           {
            "bin_start": 23127210000000000,
            "bin_end": 23130100000000000,
            "count": 1
           }
          ]
         }
        },
        {
         "name": "EndQk",
         "dtype": "float64",
         "stats": {
          "unique_count": 2,
          "nan_count": 0,
          "min": "2.31012e+16",
          "max": "2.31301e+16",
          "histogram": [
           {
            "bin_start": 23101200000000000,
            "bin_end": 23104090000000000,
            "count": 4
           },
           {
            "bin_start": 23104090000000000,
            "bin_end": 23106980000000000,
            "count": 0
           },
           {
            "bin_start": 23106980000000000,
            "bin_end": 23109870000000000,
            "count": 0
           },
           {
            "bin_start": 23109870000000000,
            "bin_end": 23112760000000000,
            "count": 0
           },
           {
            "bin_start": 23112760000000000,
            "bin_end": 23115650000000000,
            "count": 0
           },
           {
            "bin_start": 23115650000000000,
            "bin_end": 23118540000000000,
            "count": 0
           },
           {
            "bin_start": 23118540000000000,
            "bin_end": 23121430000000000,
            "count": 0
           },
           {
            "bin_start": 23121430000000000,
            "bin_end": 23124320000000000,
            "count": 0
           },
           {
            "bin_start": 23124320000000000,
            "bin_end": 23127210000000000,
            "count": 0
           },
           {
            "bin_start": 23127210000000000,
            "bin_end": 23130100000000000,
            "count": 1
           }
          ]
         }
        },
        {
         "name": "Unnamed: 31",
         "dtype": "object",
         "stats": {
          "unique_count": 2,
          "nan_count": 2,
          "categories": [
           {
            "name": "{\\method\\\":\\\"fused\\\"",
            "count": 2
           },
           {
            "name": "{\\method\\\":\\\"gps\\\"",
            "count": 1
           },
           {
            "name": "Missing",
            "count": 2
           }
          ]
         }
        },
        {
         "name": "Unnamed: 32",
         "dtype": "object",
         "stats": {
          "unique_count": 2,
          "nan_count": 2,
          "categories": [
           {
            "name": "\\\"aid_type\\\":\\\"AAID\\\"}\"",
            "count": 2
           },
           {
            "name": "\\\"aid_type\\\":\\\"IDFA\\\"}\"",
            "count": 1
           },
           {
            "name": "Missing",
            "count": 2
           }
          ]
         }
        },
        {
         "name": "Startlocation",
         "dtype": "object",
         "stats": {
          "unique_count": 5,
          "nan_count": 0,
          "categories": [
           {
            "name": "POINT (30.18252 -96.93443)",
            "count": 1
           },
           {
            "name": "POINT (38.27969 -104.52873)",
            "count": 1
           },
           {
            "name": "3 others",
            "count": 3
           }
          ]
         }
        },
        {
         "name": "Endlocation",
         "dtype": "object",
         "stats": {
          "unique_count": 5,
          "nan_count": 0,
          "categories": [
           {
            "name": "POINT (30.18015 -96.91383)",
            "count": 1
           },
           {
            "name": "POINT (38.34004 -104.67292)",
            "count": 1
           },
           {
            "name": "3 others",
            "count": 3
           }
          ]
         }
        },
        {
         "name": "MST_start_datetime",
         "dtype": "datetime64[ns, MST]",
         "stats": {
          "unique_count": 5,
          "nan_count": 0,
          "min": "2022-05-11 13:19:31-07:00",
          "max": "2022-05-14 14:07:54-07:00",
          "histogram": [
           {
            "bin_start": 1652300371000000000,
            "bin_end": 1652326581300000000,
            "count": 3
           },
           {
            "bin_start": 1652326581300000000,
            "bin_end": 1652352791600000000,
            "count": 0
           },
           {
            "bin_start": 1652352791600000000,
            "bin_end": 1652379001900000000,
            "count": 0
           },
           {
            "bin_start": 1652379001900000000,
            "bin_end": 1652405212200000000,
            "count": 0
           },
           {
            "bin_start": 1652405212200000000,
            "bin_end": 1652431422500000000,
            "count": 0
           },
           {
            "bin_start": 1652431422500000000,
            "bin_end": 1652457632800000000,
            "count": 0
           },
           {
            "bin_start": 1652457632800000000,
            "bin_end": 1652483843100000000,
            "count": 1
           },
           {
            "bin_start": 1652483843100000000,
            "bin_end": 1652510053400000000,
            "count": 0
           },
           {
            "bin_start": 1652510053400000000,
            "bin_end": 1652536263700000000,
            "count": 0
           },
           {
            "bin_start": 1652536263700000000,
            "bin_end": 1652562474000000000,
            "count": 1
           }
          ]
         }
        },
        {
         "name": "MST_end_datetime",
         "dtype": "datetime64[ns, MST]",
         "stats": {
          "unique_count": 5,
          "nan_count": 0,
          "min": "2022-05-11 13:22:52-07:00",
          "max": "2022-05-14 14:58:03-07:00",
          "histogram": [
           {
            "bin_start": 1652300572000000000,
            "bin_end": 1652327063100000000,
            "count": 3
           },
           {
            "bin_start": 1652327063100000000,
            "bin_end": 1652353554200000000,
            "count": 0
           },
           {
            "bin_start": 1652353554200000000,
            "bin_end": 1652380045300000000,
            "count": 0
           },
           {
            "bin_start": 1652380045300000000,
            "bin_end": 1652406536400000000,
            "count": 0
           },
           {
            "bin_start": 1652406536400000000,
            "bin_end": 1652433027500000000,
            "count": 0
           },
           {
            "bin_start": 1652433027500000000,
            "bin_end": 1652459518600000000,
            "count": 0
           },
           {
            "bin_start": 1652459518600000000,
            "bin_end": 1652486009700000000,
            "count": 1
           },
           {
            "bin_start": 1652486009700000000,
            "bin_end": 1652512500800000000,
            "count": 0
           },
           {
            "bin_start": 1652512500800000000,
            "bin_end": 1652538991900000000,
            "count": 0
           },
           {
            "bin_start": 1652538991900000000,
            "bin_end": 1652565483000000000,
            "count": 1
           }
          ]
         }
        },
        {
         "name": "MST_start_date",
         "dtype": "object",
         "stats": {
          "unique_count": 3,
          "nan_count": 0,
          "categories": [
           {
            "name": "2022-05-11",
            "count": 3
           },
           {
            "name": "2022-05-14",
            "count": 1
           },
           {
            "name": "2022-05-13",
            "count": 1
           }
          ]
         }
        },
        {
         "name": "MST_start_time",
         "dtype": "object",
         "stats": {
          "unique_count": 5,
          "nan_count": 0,
          "categories": [
           {
            "name": "13:19:31",
            "count": 1
           },
           {
            "name": "14:07:54",
            "count": 1
           },
           {
            "name": "3 others",
            "count": 3
           }
          ]
         }
        },
        {
         "name": "MST_end_date",
         "dtype": "object",
         "stats": {
          "unique_count": 3,
          "nan_count": 0,
          "categories": [
           {
            "name": "2022-05-11",
            "count": 3
           },
           {
            "name": "2022-05-14",
            "count": 1
           },
           {
            "name": "2022-05-13",
            "count": 1
           }
          ]
         }
        },
        {
         "name": "MST_end_time",
         "dtype": "object",
         "stats": {
          "unique_count": 5,
          "nan_count": 0,
          "categories": [
           {
            "name": "13:22:52",
            "count": 1
           },
           {
            "name": "14:58:03",
            "count": 1
           },
           {
            "name": "3 others",
            "count": 3
           }
          ]
         }
        },
        {
         "name": "_deepnote_index_column",
         "dtype": "int64"
        }
       ],
       "rows": [
        {
         "TripId": "a939d5d8c9b52b5265161bfa93054f0a",
         "DeviceId": "0006da8402c807c4be339cab03f9d498",
         "ProviderId": "d07e70efcfab08731a97e7b91be644de",
         "Mode": "1",
         "StartDate": "2022-05-11T20:19:31.000Z",
         "StartWDay": "3",
         "EndDate": "2022-05-11T20:22:52.000Z",
         "EndWDay": "3",
         "StartLocLat": 30.18252,
         "StartLocLon": -96.93443,
         "EndLocLat": 30.18015,
         "EndLocLon": -96.91383,
         "GeospatialType": "EI",
         "ProviderType": "1",
         "ProviderDrivingProfile": "1",
         "VehicleWeightClass": "1",
         "ProbeSourceType": "1",
         "OriginZoneName": "nan",
         "DestinationZoneName": "Buc-ee's Giddings TX",
         "EndpointType": "3",
         "TripMeanSpeedKph": 36.9896129,
         "TripMaxSpeedKph": 92.61582882,
         "TripDistanceMeters": 2065.253387,
         "MovementType": "1",
         "OriginCbg": "nan",
         "DestCbg": "nan",
         "StartTimezone": "America/Chicago",
         "EndTimezone": "America/Chicago",
         "WaypointFreqSec": "nan",
         "StartQk": 23130100000000000,
         "EndQk": 23130100000000000,
         "Unnamed: 31": "nan",
         "Unnamed: 32": "nan",
         "Startlocation": "POINT (30.18252 -96.93443)",
         "Endlocation": "POINT (30.18015 -96.91383)",
         "MST_start_datetime": "2022-05-11T13:19:31.000000",
         "MST_end_datetime": "2022-05-11T13:22:52.000000",
         "MST_start_date": "2022-05-11",
         "MST_start_time": "13:19:31",
         "MST_end_date": "2022-05-11",
         "MST_end_time": "13:22:52",
         "_deepnote_index_column": 0
        },
        {
         "TripId": "88180c2feb14c8520f169e4bda526313",
         "DeviceId": "009ef4b15eadd773468cd2bfdff6eb54",
         "ProviderId": "74071a673307ca7459bcf75fbd024e09",
         "Mode": "1",
         "StartDate": "2022-05-14T21:07:54.000Z",
         "StartWDay": "6",
         "EndDate": "2022-05-14T21:58:03.000Z",
         "EndWDay": "6",
         "StartLocLat": 38.27969,
         "StartLocLon": -104.52873,
         "EndLocLat": 38.34004,
         "EndLocLon": -104.67292,
         "GeospatialType": "EI",
         "ProviderType": "1",
         "ProviderDrivingProfile": "1",
         "VehicleWeightClass": "1",
         "ProbeSourceType": "2",
         "OriginZoneName": "nan",
         "DestinationZoneName": "Fort Carson CO",
         "EndpointType": "3",
         "TripMeanSpeedKph": 34.57612958,
         "TripMaxSpeedKph": 222.233945,
         "TripDistanceMeters": 28899.88164,
         "MovementType": "1",
         "OriginCbg": "nan",
         "DestCbg": "nan",
         "StartTimezone": "America/Denver",
         "EndTimezone": "America/Denver",
         "WaypointFreqSec": "nan",
         "StartQk": 23101200000000000,
         "EndQk": 23101200000000000,
         "Unnamed: 31": "{\\method\\\":\\\"fused\\\"",
         "Unnamed: 32": "\\\"aid_type\\\":\\\"AAID\\\"}\"",
         "Startlocation": "POINT (38.27969 -104.52873)",
         "Endlocation": "POINT (38.34004 -104.67292)",
         "MST_start_datetime": "2022-05-14T14:07:54.000000",
         "MST_end_datetime": "2022-05-14T14:58:03.000000",
         "MST_start_date": "2022-05-14",
         "MST_start_time": "14:07:54",
         "MST_end_date": "2022-05-14",
         "MST_end_time": "14:58:03",
         "_deepnote_index_column": 1
        },
        {
         "TripId": "a4d0936eb3b45ff1a5af8885939fbcd5",
         "DeviceId": "011dbfd3e177545535328ba48377522f",
         "ProviderId": "74071a673307ca7459bcf75fbd024e09",
         "Mode": "0",
         "StartDate": "2022-05-13T21:40:44.000Z",
         "StartWDay": "5",
         "EndDate": "2022-05-13T21:48:42.000Z",
         "EndWDay": "5",
         "StartLocLat": 38.75461,
         "StartLocLon": -104.78828,
         "EndLocLat": 38.74819,
         "EndLocLon": -104.78828,
         "GeospatialType": "II",
         "ProviderType": "1",
         "ProviderDrivingProfile": "1",
         "VehicleWeightClass": "1",
         "ProbeSourceType": "2",
         "OriginZoneName": "Fort Carson CO",
         "DestinationZoneName": "Fort Carson CO",
         "EndpointType": "3",
         "TripMeanSpeedKph": 6.108307693,
         "TripMaxSpeedKph": 10.71996025,
         "TripDistanceMeters": 811.0475215,
         "MovementType": "1",
         "OriginCbg": "nan",
         "DestCbg": "nan",
         "StartTimezone": "America/Denver",
         "EndTimezone": "America/Denver",
         "WaypointFreqSec": "nan",
         "StartQk": 23101200000000000,
         "EndQk": 23101200000000000,
         "Unnamed: 31": "{\\method\\\":\\\"fused\\\"",
         "Unnamed: 32": "\\\"aid_type\\\":\\\"AAID\\\"}\"",
         "Startlocation": "POINT (38.75461 -104.78828)",
         "Endlocation": "POINT (38.74819 -104.78828)",
         "MST_start_datetime": "2022-05-13T14:40:44.000000",
         "MST_end_datetime": "2022-05-13T14:48:42.000000",
         "MST_start_date": "2022-05-13",
         "MST_start_time": "14:40:44",
         "MST_end_date": "2022-05-13",
         "MST_end_time": "14:48:42",
         "_deepnote_index_column": 2
        },
        {
         "TripId": "a04c70dd5a17f8f54b7a5576951da0c5",
         "DeviceId": "014b33b72b76a3ba8cbb621009408974",
         "ProviderId": "d07e70efcfab08731a97e7b91be644de",
         "Mode": "1",
         "StartDate": "2022-05-11T23:37:31.000Z",
         "StartWDay": "3",
         "EndDate": "2022-05-11T23:47:49.000Z",
         "EndWDay": "3",
         "StartLocLat": 38.67639,
         "StartLocLon": -104.70588,
         "EndLocLat": 38.73319,
         "EndLocLon": -104.77867,
         "GeospatialType": "EI",
         "ProviderType": "1",
         "ProviderDrivingProfile": "1",
         "VehicleWeightClass": "1",
         "ProbeSourceType": "1",
         "OriginZoneName": "nan",
         "DestinationZoneName": "Fort Carson CO",
         "EndpointType": "3",
         "TripMeanSpeedKph": 64.42477686,
         "TripMaxSpeedKph": 125.7532355,
         "TripDistanceMeters": 11059.58669,
         "MovementType": "1",
         "OriginCbg": "nan",
         "DestCbg": "nan",
         "StartTimezone": "America/Denver",
         "EndTimezone": "America/Denver",
         "WaypointFreqSec": "nan",
         "StartQk": 23101200000000000,
         "EndQk": 23101200000000000,
         "Unnamed: 31": "nan",
         "Unnamed: 32": "nan",
         "Startlocation": "POINT (38.67639 -104.70588)",
         "Endlocation": "POINT (38.73319 -104.77867)",
         "MST_start_datetime": "2022-05-11T16:37:31.000000",
         "MST_end_datetime": "2022-05-11T16:47:49.000000",
         "MST_start_date": "2022-05-11",
         "MST_start_time": "16:37:31",
         "MST_end_date": "2022-05-11",
         "MST_end_time": "16:47:49",
         "_deepnote_index_column": 3
        },
        {
         "TripId": "509bba65db0e6495bb35e615f823350c",
         "DeviceId": "014ed4fc9ea19b744e0eb3a0b1d72bb1",
         "ProviderId": "74071a673307ca7459bcf75fbd024e09",
         "Mode": "1",
         "StartDate": "2022-05-12T00:14:40.000Z",
         "StartWDay": "3",
         "EndDate": "2022-05-12T00:37:38.000Z",
         "EndWDay": "3",
         "StartLocLat": 38.55622,
         "StartLocLon": -104.64958,
         "EndLocLat": 38.2193,
         "EndLocLon": -104.6537,
         "GeospatialType": "IE",
         "ProviderType": "1",
         "ProviderDrivingProfile": "1",
         "VehicleWeightClass": "1",
         "ProbeSourceType": "2",
         "OriginZoneName": "Fort Carson CO",
         "DestinationZoneName": "nan",
         "EndpointType": "2",
         "TripMeanSpeedKph": 108.2067285,
         "TripMaxSpeedKph": 167.958871,
         "TripDistanceMeters": 41419.13109,
         "MovementType": "1",
         "OriginCbg": "nan",
         "DestCbg": "nan",
         "StartTimezone": "America/Denver",
         "EndTimezone": "America/Denver",
         "WaypointFreqSec": "nan",
         "StartQk": 23101200000000000,
         "EndQk": 23101200000000000,
         "Unnamed: 31": "{\\method\\\":\\\"gps\\\"",
         "Unnamed: 32": "\\\"aid_type\\\":\\\"IDFA\\\"}\"",
         "Startlocation": "POINT (38.55622 -104.64958)",
         "Endlocation": "POINT (38.2193 -104.6537)",
         "MST_start_datetime": "2022-05-11T17:14:40.000000",
         "MST_end_datetime": "2022-05-11T17:37:38.000000",
         "MST_start_date": "2022-05-11",
         "MST_start_time": "17:14:40",
         "MST_end_date": "2022-05-11",
         "MST_end_time": "17:37:38",
         "_deepnote_index_column": 4
        }
       ]
      },
      "text/plain": "                             TripId                          DeviceId  \\\n0  a939d5d8c9b52b5265161bfa93054f0a  0006da8402c807c4be339cab03f9d498   \n1  88180c2feb14c8520f169e4bda526313  009ef4b15eadd773468cd2bfdff6eb54   \n2  a4d0936eb3b45ff1a5af8885939fbcd5  011dbfd3e177545535328ba48377522f   \n3  a04c70dd5a17f8f54b7a5576951da0c5  014b33b72b76a3ba8cbb621009408974   \n4  509bba65db0e6495bb35e615f823350c  014ed4fc9ea19b744e0eb3a0b1d72bb1   \n\n                         ProviderId Mode                 StartDate StartWDay  \\\n0  d07e70efcfab08731a97e7b91be644de    1  2022-05-11T20:19:31.000Z         3   \n1  74071a673307ca7459bcf75fbd024e09    1  2022-05-14T21:07:54.000Z         6   \n2  74071a673307ca7459bcf75fbd024e09    0  2022-05-13T21:40:44.000Z         5   \n3  d07e70efcfab08731a97e7b91be644de    1  2022-05-11T23:37:31.000Z         3   \n4  74071a673307ca7459bcf75fbd024e09    1  2022-05-12T00:14:40.000Z         3   \n\n                    EndDate EndWDay  StartLocLat  StartLocLon  ...  \\\n0  2022-05-11T20:22:52.000Z       3     30.18252    -96.93443  ...   \n1  2022-05-14T21:58:03.000Z       6     38.27969   -104.52873  ...   \n2  2022-05-13T21:48:42.000Z       5     38.75461   -104.78828  ...   \n3  2022-05-11T23:47:49.000Z       3     38.67639   -104.70588  ...   \n4  2022-05-12T00:37:38.000Z       3     38.55622   -104.64958  ...   \n\n            Unnamed: 31              Unnamed: 32                Startlocation  \\\n0                   NaN                      NaN   POINT (30.18252 -96.93443)   \n1  {\\method\\\":\\\"fused\\\"  \\\"aid_type\\\":\\\"AAID\\\"}\"  POINT (38.27969 -104.52873)   \n2  {\\method\\\":\\\"fused\\\"  \\\"aid_type\\\":\\\"AAID\\\"}\"  POINT (38.75461 -104.78828)   \n3                   NaN                      NaN  POINT (38.67639 -104.70588)   \n4    {\\method\\\":\\\"gps\\\"  \\\"aid_type\\\":\\\"IDFA\\\"}\"  POINT (38.55622 -104.64958)   \n\n                   Endlocation        MST_start_datetime  \\\n0   POINT (30.18015 -96.91383) 2022-05-11 13:19:31-07:00   \n1  POINT (38.34004 -104.67292) 2022-05-14 14:07:54-07:00   \n2  POINT (38.74819 -104.78828) 2022-05-13 14:40:44-07:00   \n3  POINT (38.73319 -104.77867) 2022-05-11 16:37:31-07:00   \n4    POINT (38.2193 -104.6537) 2022-05-11 17:14:40-07:00   \n\n           MST_end_datetime MST_start_date MST_start_time MST_end_date  \\\n0 2022-05-11 13:22:52-07:00     2022-05-11       13:19:31   2022-05-11   \n1 2022-05-14 14:58:03-07:00     2022-05-14       14:07:54   2022-05-14   \n2 2022-05-13 14:48:42-07:00     2022-05-13       14:40:44   2022-05-13   \n3 2022-05-11 16:47:49-07:00     2022-05-11       16:37:31   2022-05-11   \n4 2022-05-11 17:37:38-07:00     2022-05-11       17:14:40   2022-05-11   \n\n  MST_end_time  \n0     13:22:52  \n1     14:58:03  \n2     14:48:42  \n3     16:47:49  \n4     17:37:38  \n\n[5 rows x 41 columns]",
      "text/html": "<div>\n<style scoped>\n    .dataframe tbody tr th:only-of-type {\n        vertical-align: middle;\n    }\n\n    .dataframe tbody tr th {\n        vertical-align: top;\n    }\n\n    .dataframe thead th {\n        text-align: right;\n    }\n</style>\n<table border=\"1\" class=\"dataframe\">\n  <thead>\n    <tr style=\"text-align: right;\">\n      <th></th>\n      <th>TripId</th>\n      <th>DeviceId</th>\n      <th>ProviderId</th>\n      <th>Mode</th>\n      <th>StartDate</th>\n      <th>StartWDay</th>\n      <th>EndDate</th>\n      <th>EndWDay</th>\n      <th>StartLocLat</th>\n      <th>StartLocLon</th>\n      <th>...</th>\n      <th>Unnamed: 31</th>\n      <th>Unnamed: 32</th>\n      <th>Startlocation</th>\n      <th>Endlocation</th>\n      <th>MST_start_datetime</th>\n      <th>MST_end_datetime</th>\n      <th>MST_start_date</th>\n      <th>MST_start_time</th>\n      <th>MST_end_date</th>\n      <th>MST_end_time</th>\n    </tr>\n  </thead>\n  <tbody>\n    <tr>\n      <th>0</th>\n      <td>a939d5d8c9b52b5265161bfa93054f0a</td>\n      <td>0006da8402c807c4be339cab03f9d498</td>\n      <td>d07e70efcfab08731a97e7b91be644de</td>\n      <td>1</td>\n      <td>2022-05-11T20:19:31.000Z</td>\n      <td>3</td>\n      <td>2022-05-11T20:22:52.000Z</td>\n      <td>3</td>\n      <td>30.18252</td>\n      <td>-96.93443</td>\n      <td>...</td>\n      <td>NaN</td>\n      <td>NaN</td>\n      <td>POINT (30.18252 -96.93443)</td>\n      <td>POINT (30.18015 -96.91383)</td>\n      <td>2022-05-11 13:19:31-07:00</td>\n      <td>2022-05-11 13:22:52-07:00</td>\n      <td>2022-05-11</td>\n      <td>13:19:31</td>\n      <td>2022-05-11</td>\n      <td>13:22:52</td>\n    </tr>\n    <tr>\n      <th>1</th>\n      <td>88180c2feb14c8520f169e4bda526313</td>\n      <td>009ef4b15eadd773468cd2bfdff6eb54</td>\n      <td>74071a673307ca7459bcf75fbd024e09</td>\n      <td>1</td>\n      <td>2022-05-14T21:07:54.000Z</td>\n      <td>6</td>\n      <td>2022-05-14T21:58:03.000Z</td>\n      <td>6</td>\n      <td>38.27969</td>\n      <td>-104.52873</td>\n      <td>...</td>\n      <td>{\\method\\\":\\\"fused\\\"</td>\n      <td>\\\"aid_type\\\":\\\"AAID\\\"}\"</td>\n      <td>POINT (38.27969 -104.52873)</td>\n      <td>POINT (38.34004 -104.67292)</td>\n      <td>2022-05-14 14:07:54-07:00</td>\n      <td>2022-05-14 14:58:03-07:00</td>\n      <td>2022-05-14</td>\n      <td>14:07:54</td>\n      <td>2022-05-14</td>\n      <td>14:58:03</td>\n    </tr>\n    <tr>\n      <th>2</th>\n      <td>a4d0936eb3b45ff1a5af8885939fbcd5</td>\n      <td>011dbfd3e177545535328ba48377522f</td>\n      <td>74071a673307ca7459bcf75fbd024e09</td>\n      <td>0</td>\n      <td>2022-05-13T21:40:44.000Z</td>\n      <td>5</td>\n      <td>2022-05-13T21:48:42.000Z</td>\n      <td>5</td>\n      <td>38.75461</td>\n      <td>-104.78828</td>\n      <td>...</td>\n      <td>{\\method\\\":\\\"fused\\\"</td>\n      <td>\\\"aid_type\\\":\\\"AAID\\\"}\"</td>\n      <td>POINT (38.75461 -104.78828)</td>\n      <td>POINT (38.74819 -104.78828)</td>\n      <td>2022-05-13 14:40:44-07:00</td>\n      <td>2022-05-13 14:48:42-07:00</td>\n      <td>2022-05-13</td>\n      <td>14:40:44</td>\n      <td>2022-05-13</td>\n      <td>14:48:42</td>\n    </tr>\n    <tr>\n      <th>3</th>\n      <td>a04c70dd5a17f8f54b7a5576951da0c5</td>\n      <td>014b33b72b76a3ba8cbb621009408974</td>\n      <td>d07e70efcfab08731a97e7b91be644de</td>\n      <td>1</td>\n      <td>2022-05-11T23:37:31.000Z</td>\n      <td>3</td>\n      <td>2022-05-11T23:47:49.000Z</td>\n      <td>3</td>\n      <td>38.67639</td>\n      <td>-104.70588</td>\n      <td>...</td>\n      <td>NaN</td>\n      <td>NaN</td>\n      <td>POINT (38.67639 -104.70588)</td>\n      <td>POINT (38.73319 -104.77867)</td>\n      <td>2022-05-11 16:37:31-07:00</td>\n      <td>2022-05-11 16:47:49-07:00</td>\n      <td>2022-05-11</td>\n      <td>16:37:31</td>\n      <td>2022-05-11</td>\n      <td>16:47:49</td>\n    </tr>\n    <tr>\n      <th>4</th>\n      <td>509bba65db0e6495bb35e615f823350c</td>\n      <td>014ed4fc9ea19b744e0eb3a0b1d72bb1</td>\n      <td>74071a673307ca7459bcf75fbd024e09</td>\n      <td>1</td>\n      <td>2022-05-12T00:14:40.000Z</td>\n      <td>3</td>\n      <td>2022-05-12T00:37:38.000Z</td>\n      <td>3</td>\n      <td>38.55622</td>\n      <td>-104.64958</td>\n      <td>...</td>\n      <td>{\\method\\\":\\\"gps\\\"</td>\n      <td>\\\"aid_type\\\":\\\"IDFA\\\"}\"</td>\n      <td>POINT (38.55622 -104.64958)</td>\n      <td>POINT (38.2193 -104.6537)</td>\n      <td>2022-05-11 17:14:40-07:00</td>\n      <td>2022-05-11 17:37:38-07:00</td>\n      <td>2022-05-11</td>\n      <td>17:14:40</td>\n      <td>2022-05-11</td>\n      <td>17:37:38</td>\n    </tr>\n  </tbody>\n</table>\n<p>5 rows × 41 columns</p>\n</div>"
     },
     "metadata": {}
    }
   ],
   "execution_count": null
  },
  {
   "cell_type": "markdown",
   "source": "# EDA ",
   "metadata": {
    "cell_id": "00013-597f85f3-ea18-4604-a8ad-b69735ad280b",
    "deepnote_cell_type": "markdown",
    "deepnote_cell_height": 82
   }
  },
  {
   "cell_type": "markdown",
   "source": "### 1. Number of Device",
   "metadata": {
    "cell_id": "00014-6e3f358b-0519-4e78-aa75-816a12bbb0b9",
    "deepnote_cell_type": "markdown",
    "deepnote_cell_height": 62
   }
  },
  {
   "cell_type": "code",
   "metadata": {
    "cell_id": "00015-72b590a7-f6dc-4ff1-9348-2efc58812871",
    "deepnote_to_be_reexecuted": false,
    "source_hash": "1126f23f",
    "execution_start": 1654701620221,
    "execution_millis": 669,
    "deepnote_cell_type": "code",
    "deepnote_cell_height": 129.6875
   },
   "source": "device_number = len(gdf['DeviceId'].unique())\nprint('These {} trips are from {} unique devices.'.format(len(trips_df),device_number))",
   "outputs": [
    {
     "name": "stdout",
     "text": "These 136880 trips are from 68188 unique devices.\n",
     "output_type": "stream"
    }
   ],
   "execution_count": null
  },
  {
   "cell_type": "markdown",
   "source": "### 2. Walk vs. Vehicle",
   "metadata": {
    "cell_id": "00016-6f853f85-d30f-430f-af48-3a537f5fa2fa",
    "deepnote_cell_type": "markdown",
    "deepnote_cell_height": 62
   }
  },
  {
   "cell_type": "code",
   "metadata": {
    "cell_id": "00017-fc4dc8a7-b8bc-4586-a980-e66c00b5edde",
    "deepnote_to_be_reexecuted": false,
    "source_hash": "c0c31210",
    "execution_start": 1654700850380,
    "execution_millis": 843,
    "deepnote_cell_type": "code",
    "deepnote_cell_height": 449.1875,
    "deepnote_output_heights": [
     21.1875,
     264
    ]
   },
   "source": "count_plot = sns.countplot(gdf['Mode'])\ncount_plot.set_xticklabels(['Walk','Vehicle','Unknown']) \ncount_plot.bar_label(count_plot.containers[0])",
   "outputs": [
    {
     "output_type": "execute_result",
     "execution_count": 93,
     "data": {
      "text/plain": "[Text(0, 0, '7812'), Text(0, 0, '117149'), Text(0, 0, '2844')]"
     },
     "metadata": {}
    },
    {
     "data": {
      "text/plain": "<Figure size 432x288 with 1 Axes>",
      "image/png": "[encoded data removed]"
     },
     "metadata": {
      "needs_background": "light",
      "image/png": {
       "width": 407,
       "height": 262
      }
     },
     "output_type": "display_data"
    }
   ],
   "execution_count": null
  },
  {
   "cell_type": "markdown",
   "source": "### 3. Vehicle type",
   "metadata": {
    "cell_id": "00018-ffdf7104-529f-4f25-bc57-5bcf3b22e6b8",
    "deepnote_cell_type": "markdown",
    "deepnote_cell_height": 62
   }
  },
  {
   "cell_type": "markdown",
   "source": "",
   "metadata": {
    "cell_id": "5ee8379797d3471da204d39d2df0aa6f",
    "tags": [],
    "deepnote_cell_type": "markdown",
    "deepnote_cell_height": 46
   }
  },
  {
   "cell_type": "code",
   "metadata": {
    "cell_id": "00019-652b80b2-637c-40a3-9c67-47df924d9aa9",
    "deepnote_to_be_reexecuted": false,
    "source_hash": "429bacd1",
    "execution_start": 1654700914221,
    "execution_millis": 2285,
    "deepnote_cell_type": "code",
    "deepnote_cell_height": 842.1875,
    "deepnote_output_heights": [
     21.1875,
     351
    ]
   },
   "source": "fig,[ax1,ax2,ax3] = plt.subplots(nrows=1, ncols=3,figsize=(12,5))\nsns.countplot(gdf['ProviderDrivingProfile'],ax=ax1)\ntitle1='Provider Driving Profile' + '\\n'+'(Consumer Vehicles\\\\Taxi car services\\\\'+'\\n'+ 'Local Delivery Fleets\\\\trucking fleets)'\nax1.set_title(title1)\nax1.set_xticklabels(['Consumer Vehicles']) \nax1.set(xlabel=None)\nax1.bar_label(ax1.containers[0])\n\nsns.countplot(gdf['VehicleWeightClass'],ax=ax2)\ntitle2 = 'Vehicle Weight Class' + '\\n'+ '(Light/Medium/Heavy Duty Trucks)'\nax2.set_title(title2)\nax2.set_xticklabels(['Light Duty Truck'])\nax2.set(xlabel=None)\nax2.bar_label(ax2.containers[0])\n\nsns.countplot(gdf['ProbeSourceType'],ax=ax3)\nax3.set_title('Device Type')\nax3.set_xticklabels(['Embedded GPS','Mobile Device'])\nax3.set(xlabel=None)\nax3.bar_label(ax3.containers[0])",
   "outputs": [
    {
     "output_type": "execute_result",
     "execution_count": 94,
     "data": {
      "text/plain": "[Text(0, 0, '51745'), Text(0, 0, '76060')]"
     },
     "metadata": {}
    },
    {
     "data": {
      "text/plain": "<Figure size 864x360 with 3 Axes>",
      "image/png": "[encoded data removed]"
     },
     "metadata": {
      "needs_background": "light",
      "image/png": {
       "width": 742,
       "height": 349
      }
     },
     "output_type": "display_data"
    }
   ],
   "execution_count": null
  },
  {
   "cell_type": "markdown",
   "source": "### 4.Trips per Device",
   "metadata": {
    "cell_id": "00022-51be2ca9-dc78-44b5-99cd-3c02b9dd9903",
    "owner_user_id": "c2797620-17db-476e-95ed-5cf105d338d7",
    "deepnote_cell_type": "markdown",
    "deepnote_cell_height": 62
   }
  },
  {
   "cell_type": "code",
   "metadata": {
    "cell_id": "00023-9fa03ecf-8b0c-4304-a2e4-a0f5562ceb8a",
    "deepnote_to_be_reexecuted": false,
    "source_hash": "c36e9570",
    "execution_start": 1654694026208,
    "execution_millis": 383,
    "deepnote_cell_type": "code",
    "deepnote_cell_height": 348.53125,
    "deepnote_output_heights": [
     251.53125
    ]
   },
   "source": "gdf.groupby('DeviceId').count()['TripId'].sort_values(ascending=False)",
   "outputs": [
    {
     "output_type": "execute_result",
     "execution_count": 15,
     "data": {
      "text/plain": "DeviceId\n70e68ce6b66dd2052c188f2bd8ad0563    91\nc6d52211ec83fb63badb38f323b9544e    87\nb4ff8360a3e7ac8fa763580f3202936f    84\n7ebcf69bfbf7b47abab7ef0db2a72f08    73\n0f38377b674a05d3e686a692b1ad0571    73\n                                    ..\n5c2fcec0520b960ecdeb168f1a8d5a6b     1\n5c31552bf5a1b828a6ee2ed83befe84d     1\n5c3456a48b6bcfccc423cd81d95b66fc     1\n5c34fce528d5773151acc2f75af81476     1\nfffea5a18f1a308cee147a3e9c726700     1\nName: TripId, Length: 68188, dtype: int64"
     },
     "metadata": {}
    }
   ],
   "execution_count": null
  },
  {
   "cell_type": "markdown",
   "source": "##### On average, during the month of May each device visits Fort Carson 1.76 times. ",
   "metadata": {
    "cell_id": "5b97aa4036a34d71a6cd73a0359748ac",
    "tags": [],
    "deepnote_cell_type": "markdown",
    "deepnote_cell_height": 54
   },
   "outputs": [],
   "execution_count": null
  },
  {
   "cell_type": "code",
   "metadata": {
    "cell_id": "cde18b06eb024bba88b827081987c866",
    "tags": [],
    "deepnote_to_be_reexecuted": false,
    "source_hash": "de80e56c",
    "execution_start": 1654694122860,
    "execution_millis": 358,
    "deepnote_cell_type": "code",
    "deepnote_cell_height": 165.6875
   },
   "source": "# Calculate mean number of trips per deviceId\nmean_frequency = gdf.groupby(by = [\"Mode\",\"DeviceId\"]).count()['TripId'].mean()\nprint('During the month of May, on average each device frequents Fort Carson ' + str(mean_frequency) + ' times.')\n",
   "outputs": [
    {
     "name": "stdout",
     "text": "During the month of May, on average each person frequents Fort Carson 1.7569871186813488 times.\n",
     "output_type": "stream"
    }
   ],
   "execution_count": null
  },
  {
   "cell_type": "code",
   "source": "top_100_device_frequency = gdf['DeviceId'].value_counts().nlargest(1000)\n\nprint('Top 1000 most frequent deviceIds in May, 2022:\\n' ,top_100_device_frequency)",
   "metadata": {
    "cell_id": "cd3e025dace84563b63b6de2f895c3b1",
    "tags": [],
    "deepnote_to_be_reexecuted": false,
    "source_hash": "88d04fe4",
    "execution_start": 1654702640551,
    "execution_millis": 68,
    "deepnote_cell_type": "code",
    "deepnote_cell_height": 384.03125
   },
   "outputs": [
    {
     "name": "stdout",
     "text": "Top 1000 most frequent deviceIds in May, 2022:\n 70e68ce6b66dd2052c188f2bd8ad0563    91\nc6d52211ec83fb63badb38f323b9544e    87\nb4ff8360a3e7ac8fa763580f3202936f    84\n7ebcf69bfbf7b47abab7ef0db2a72f08    73\n0f38377b674a05d3e686a692b1ad0571    73\n                                    ..\nc06d8390b8541734835221d3980d89e1    16\nf5388ef71fe7781042079583b259ee4b    16\nc8c0671e805d42ea2e93c416d1cfa273    16\ne7a6a3cdae71e68654f415f5630e9c76    16\nef62dabbb4f2595d04add69385da4e34    16\nName: DeviceId, Length: 1000, dtype: int64\n",
     "output_type": "stream"
    }
   ],
   "execution_count": null
  },
  {
   "cell_type": "code",
   "source": "top_10_device_frequency_by_day = gdf.groupby([\"StartWDay\",'DeviceId']).count()['TripId'].nlargest(10).unstack(0).plot.bar(title = 'Top 10 trip frequencies by device and work day')\ntop_10_device_frequency_by_day = gdf['DeviceId'].value_counts().nlargest(10)\ntop_10_device_frequency_by_day\n",
   "metadata": {
    "cell_id": "5110667f183a41ddbe28a910407ed75f",
    "tags": [],
    "deepnote_to_be_reexecuted": false,
    "source_hash": "eac2739",
    "execution_start": 1654702628592,
    "execution_millis": 1211,
    "deepnote_cell_type": "code",
    "deepnote_cell_height": 863.140625,
    "deepnote_output_heights": [
     213.140625,
     468
    ]
   },
   "outputs": [
    {
     "output_type": "execute_result",
     "execution_count": 123,
     "data": {
      "text/plain": "70e68ce6b66dd2052c188f2bd8ad0563    91\nc6d52211ec83fb63badb38f323b9544e    87\nb4ff8360a3e7ac8fa763580f3202936f    84\n7ebcf69bfbf7b47abab7ef0db2a72f08    73\n0f38377b674a05d3e686a692b1ad0571    73\nfdb8335a86289cc02c878d534acc64d6    72\n4463db876cfb9492daaac5b440b07e8c    69\n3de0769d66ec0c1d5af1c6932a7cb11b    69\n12442b4a8ce203b9691b4c75ec448568    67\n7f9a222ec5dabd2c4e3a5ad18015a8e3    66\nName: DeviceId, dtype: int64"
     },
     "metadata": {}
    },
    {
     "data": {
      "text/plain": "<Figure size 432x288 with 1 Axes>",
      "image/png": "[encoded data removed]"
     },
     "metadata": {
      "needs_background": "light",
      "image/png": {
       "width": 378,
       "height": 466
      }
     },
     "output_type": "display_data"
    }
   ],
   "execution_count": null
  },
  {
   "cell_type": "code",
   "source": "# Plot top 10 trip frequency based on hour and deviceId\ngdf.groupby(['Mode','DeviceId',gdf['MST_start_datetime'].map(lambda x : x.hour)]).count()['TripId'].nlargest(10).unstack(0).plot.bar(title = 'Top 10 trip frequencies by device and hour', xlabel='(DeviceId, Hour of the day)', ylabel = 'Number of trips')\ndevice_by_hour = gdf.groupby(['Mode','DeviceId',gdf['MST_start_datetime'].map(lambda x : x.hour)]).count()['TripId'].nlargest(10)\nprint(device_by_hour)",
   "metadata": {
    "cell_id": "410f4c14ef2e45a2a8609ba2d3a1a707",
    "tags": [],
    "deepnote_to_be_reexecuted": false,
    "source_hash": "6561b605",
    "execution_start": 1654702894928,
    "execution_millis": 1792,
    "deepnote_cell_type": "code",
    "deepnote_cell_height": 908.34375,
    "deepnote_output_heights": [
     null,
     495
    ]
   },
   "outputs": [
    {
     "name": "stdout",
     "text": "Mode  DeviceId                          MST_start_datetime\n1     27f1ed72366fed2785ed61872bebd591  4                     12\n      b329d24cce75151cf90c59d3496a6376  8                     12\n      08e349a7568e0b3438b6389f6b09be2b  10                    11\n      a1b6f3ef1acd4d92a0e5d842d18cfcea  11                    11\n      a2b605e269966e8045debd0c07fcf339  7                     11\n      fc300205a2b6928df2c24354c0215426  5                     11\n      fdb8335a86289cc02c878d534acc64d6  11                    11\n      06b1fe61ea89c343ac60b3e582a1ca1c  5                     10\n      08e349a7568e0b3438b6389f6b09be2b  8                     10\n      0b4b497a3d93421ef76916d00fd3ef3c  8                     10\nName: TripId, dtype: int64\n",
     "output_type": "stream"
    },
    {
     "data": {
      "text/plain": "<Figure size 432x288 with 1 Axes>",
      "image/png": "[encoded data removed]"
     },
     "metadata": {
      "needs_background": "light",
      "image/png": {
       "width": 382,
       "height": 493
      }
     },
     "output_type": "display_data"
    }
   ],
   "execution_count": null
  },
  {
   "cell_type": "markdown",
   "source": "### 5.Trip Length",
   "metadata": {
    "cell_id": "a3643f0c0eb84070bbce0ed483e03832",
    "tags": [],
    "deepnote_cell_type": "markdown",
    "deepnote_cell_height": 62
   }
  },
  {
   "cell_type": "code",
   "metadata": {
    "cell_id": "b127e49124bd4080ac2b6ee159525242",
    "tags": [],
    "deepnote_to_be_reexecuted": false,
    "source_hash": "448a827a",
    "execution_start": 1654694099109,
    "execution_millis": 4511,
    "deepnote_cell_type": "code",
    "deepnote_cell_height": 171
   },
   "source": "trip_length = gdf['MST_end_datetime']-gdf['MST_start_datetime']\n\ndays, seconds = trip_length.apply(lambda x:x.days), trip_length.apply(lambda x:x.seconds)\nhours = days * 24 + seconds // 3600\n\ntrip_length_minutes = (gdf['MST_end_datetime']-gdf['MST_start_datetime']).apply(lambda x:x.seconds//60)",
   "outputs": [],
   "execution_count": null
  },
  {
   "cell_type": "code",
   "metadata": {
    "cell_id": "26c4859be67149e18d5cac932440c7cf",
    "tags": [],
    "deepnote_to_be_reexecuted": false,
    "source_hash": "80b272c2",
    "execution_start": 1654701376957,
    "execution_millis": 332,
    "deepnote_cell_type": "code",
    "deepnote_cell_height": 449.1875,
    "deepnote_output_heights": [
     21.1875,
     264
    ]
   },
   "source": "plt.figure(figsize=(8,4))\nsns.boxplot(trip_length_minutes)\nplt.xlabel('trip length (minutes)')",
   "outputs": [
    {
     "output_type": "execute_result",
     "execution_count": 107,
     "data": {
      "text/plain": "Text(0.5, 0, 'trip length (minutes)')"
     },
     "metadata": {}
    },
    {
     "data": {
      "text/plain": "<Figure size 576x288 with 1 Axes>",
      "image/png": "[encoded data removed]"
     },
     "metadata": {
      "needs_background": "light",
      "image/png": {
       "width": 464,
       "height": 262
      }
     },
     "output_type": "display_data"
    }
   ],
   "execution_count": null
  },
  {
   "cell_type": "markdown",
   "source": "### 6. Number of trips within vs. to vs. from Fort Carson",
   "metadata": {
    "cell_id": "03f0fea260de4414922c7984a3cb2f18",
    "tags": [],
    "deepnote_cell_type": "markdown",
    "deepnote_cell_height": 62
   }
  },
  {
   "cell_type": "code",
   "metadata": {
    "cell_id": "00024-5e0cb2b7-b818-4981-8b38-214dac37608d",
    "deepnote_to_be_reexecuted": false,
    "source_hash": "7a120a6c",
    "execution_start": 1654701035708,
    "execution_millis": 583,
    "owner_user_id": "7e16bdee-cfd2-4a6f-ae77-a351a9c80a82",
    "deepnote_cell_type": "code",
    "deepnote_cell_height": 431.1875,
    "deepnote_output_heights": [
     21.1875,
     264
    ]
   },
   "source": "ax = sns.countplot(gdf['GeospatialType'])\nax.bar_label(ax.containers[0])",
   "outputs": [
    {
     "output_type": "execute_result",
     "execution_count": 98,
     "data": {
      "text/plain": "[Text(0, 0, '38637'), Text(0, 0, '50647'), Text(0, 0, '38521')]"
     },
     "metadata": {}
    },
    {
     "data": {
      "text/plain": "<Figure size 432x288 with 1 Axes>",
      "image/png": "[encoded data removed]"
     },
     "metadata": {
      "needs_background": "light",
      "image/png": {
       "width": 401,
       "height": 262
      }
     },
     "output_type": "display_data"
    }
   ],
   "execution_count": null
  },
  {
   "cell_type": "markdown",
   "source": "### 7.How often did they visit the facility?\n\n##### To analyze the pattern of consumer visits to the facility, we have constructed bar charts of trips taken and grouped by day of the week for each trip type. \n\n##### From the chart, we can see that vehicle is the most common mode of transportation and most consumers visit the facility on Monday, Tuesday, Wednesday, and Friday\n\n### Bar chart of trips available by day (for each trip type)",
   "metadata": {
    "cell_id": "c2cbf3dba8424aac89909507d42638b4",
    "tags": [],
    "deepnote_to_be_reexecuted": false,
    "source_hash": "a8270c50",
    "execution_start": 1654700051452,
    "execution_millis": 1,
    "deepnote_cell_type": "markdown",
    "deepnote_cell_height": 246
   },
   "outputs": [],
   "execution_count": 84
  },
  {
   "cell_type": "code",
   "source": "# Plotting bar chart for trips available by day (for each trip type)\nindex = ['Walk', 'Vehicle', 'Unknown']\nticks = ['Mon', 'Tues', 'Wed', 'Thurs', 'Fri', 'Sat', 'Sun']\ntrip_type = gdf.groupby(by = [\"Mode\",\"StartWDay\"]).count()['TripId'].unstack(0).plot.bar(figsize=(12, 6), width=0.8, linewidth=0.2, title='Trips available by day', rot=0, xlabel=\"Day of the Week\") \ntrip_type.legend(index)",
   "metadata": {
    "cell_id": "41f52f9ab44e42c0a8b489e9998c4a88",
    "tags": [],
    "deepnote_to_be_reexecuted": false,
    "source_hash": "91960a76",
    "execution_start": 1654701477707,
    "execution_millis": 928,
    "deepnote_cell_type": "code",
    "deepnote_cell_height": 610.1875,
    "deepnote_output_heights": [
     21.1875,
     389
    ]
   },
   "outputs": [
    {
     "output_type": "execute_result",
     "execution_count": 108,
     "data": {
      "text/plain": "<matplotlib.legend.Legend at 0x7f96fdc7f750>"
     },
     "metadata": {}
    },
    {
     "data": {
      "text/plain": "<Figure size 864x432 with 1 Axes>",
      "image/png": "[encoded data removed]"
     },
     "metadata": {
      "needs_background": "light",
      "image/png": {
       "width": 722,
       "height": 387
      }
     },
     "output_type": "display_data"
    }
   ],
   "execution_count": null
  },
  {
   "cell_type": "markdown",
   "source": "##### Next, for each trip type we look at trips taken by hour of the day and found that between 5:00 am and 5:00 pm MST. ",
   "metadata": {
    "cell_id": "802e655969a5431cae601d5a88c86b0a",
    "tags": [],
    "deepnote_cell_type": "markdown",
    "deepnote_cell_height": 54
   },
   "outputs": [],
   "execution_count": null
  },
  {
   "cell_type": "code",
   "metadata": {
    "cell_id": "7e78355494fa495d8dbc96d7cedab144",
    "tags": [],
    "deepnote_to_be_reexecuted": false,
    "source_hash": "622affcd",
    "execution_start": 1654701597478,
    "execution_millis": 1139,
    "deepnote_cell_type": "code",
    "deepnote_cell_height": 592.1875,
    "deepnote_output_heights": [
     21.1875,
     389
    ]
   },
   "source": "# Plot bar chart of trips available by hour of the day (for each trip type)\ntrip_by_hour = gdf.groupby(by=['Mode',gdf['MST_start_datetime'].map(lambda x : x.hour)]).count()['TripId'].unstack(0).plot.bar(width = 1.2,title='Trips available by hour of the day', xlabel='Hour of the day',\nylabel='Number of trips',rot = 0, figsize=(12, 6))\ntrip_by_hour.legend(index)",
   "outputs": [
    {
     "output_type": "execute_result",
     "execution_count": 112,
     "data": {
      "text/plain": "<matplotlib.legend.Legend at 0x7f96fd015990>"
     },
     "metadata": {}
    },
    {
     "data": {
      "text/plain": "<Figure size 864x432 with 1 Axes>",
      "image/png": "[encoded data removed]"
     },
     "metadata": {
      "needs_background": "light",
      "image/png": {
       "width": 730,
       "height": 387
      }
     },
     "output_type": "display_data"
    }
   ],
   "execution_count": null
  },
  {
   "cell_type": "code",
   "metadata": {
    "cell_id": "45ab7666d008431c8f8244b39e64b8c0",
    "tags": [],
    "deepnote_to_be_reexecuted": false,
    "source_hash": "98759fc3",
    "execution_start": 1654701648493,
    "execution_millis": 1251,
    "deepnote_cell_type": "code",
    "deepnote_cell_height": 558.1875,
    "deepnote_output_heights": [
     21.1875,
     373
    ]
   },
   "source": "plt.figure(figsize=(14,6))\nsns.countplot(gdf['StartWDay'],hue=gdf['GeospatialType'])\n",
   "outputs": [
    {
     "output_type": "execute_result",
     "execution_count": 115,
     "data": {
      "text/plain": "<AxesSubplot:xlabel='StartWDay', ylabel='count'>"
     },
     "metadata": {}
    },
    {
     "data": {
      "text/plain": "<Figure size 1008x432 with 1 Axes>",
      "image/png": "[encoded data removed]"
     },
     "metadata": {
      "needs_background": "light",
      "image/png": {
       "width": 841,
       "height": 371
      }
     },
     "output_type": "display_data"
    }
   ],
   "execution_count": null
  },
  {
   "cell_type": "markdown",
   "source": "### 8.How long did they stay in the facility?",
   "metadata": {
    "cell_id": "9fa0991b7eba44709d6a437dde4c1e50",
    "tags": [],
    "deepnote_cell_type": "markdown",
    "deepnote_cell_height": 62
   }
  },
  {
   "cell_type": "code",
   "metadata": {
    "cell_id": "fab72d86677a474ab109a00bc64b2896",
    "tags": [],
    "deepnote_to_be_reexecuted": false,
    "source_hash": "6f47619e",
    "execution_start": 1654696982092,
    "execution_millis": 415,
    "deepnote_cell_type": "code",
    "deepnote_cell_height": 432.1875,
    "deepnote_output_heights": [
     21.1875,
     265
    ]
   },
   "source": "stay_length_df = pd.read_csv('/work/trips_duration.csv')\nsns.boxplot(stay_length_df['length_minutes'])",
   "outputs": [
    {
     "output_type": "execute_result",
     "execution_count": 48,
     "data": {
      "text/plain": "<AxesSubplot:xlabel='length_minutes'>"
     },
     "metadata": {}
    },
    {
     "data": {
      "text/plain": "<Figure size 432x288 with 1 Axes>",
      "image/png": "[encoded data removed]"
     },
     "metadata": {
      "needs_background": "light",
      "image/png": {
       "width": 352,
       "height": 263
      }
     },
     "output_type": "display_data"
    }
   ],
   "execution_count": null
  },
  {
   "cell_type": "markdown",
   "source": "<a style='text-decoration:none;line-height:16px;display:flex;color:#5B5B62;padding:10px;justify-content:end;' href='https://deepnote.com?utm_source=created-in-deepnote-cell&projectId=9863cd21-6747-4678-bbdd-813e8a94296e' target=\"_blank\">\n<img alt='Created in deepnote.com' style='display:inline;max-height:16px;margin:0px;margin-right:7.5px;' src='data:image/svg+xml;base64,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' > </img>\nCreated in <span style='font-weight:600;margin-left:4px;'>Deepnote</span></a>",
   "metadata": {
    "tags": [],
    "created_in_deepnote_cell": true,
    "deepnote_cell_type": "markdown"
   }
  }
 ],
 "nbformat": 4,
 "nbformat_minor": 5,
 "metadata": {
  "kernelspec": {
   "display_name": "Python 3 (ipykernel)",
   "language": "python",
   "name": "python3"
  },
  "language_info": {
   "codemirror_mode": {
    "name": "ipython",
    "version": 3
   },
   "file_extension": ".py",
   "mimetype": "text/x-python",
   "name": "python",
   "nbconvert_exporter": "python",
   "pygments_lexer": "ipython3",
   "version": "3.9.12"
  },
  "deepnote_notebook_id": "849f05aa-c25b-4227-ad6c-5628e2cb86b3",
  "deepnote": {},
  "deepnote_execution_queue": []
 }
}