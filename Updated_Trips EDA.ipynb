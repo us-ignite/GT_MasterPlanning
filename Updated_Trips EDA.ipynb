{
 "cells": [
  {
   "cell_type": "code",
   "execution_count": 1,
   "id": "0ccf9f15",
   "metadata": {},
   "outputs": [],
   "source": [
    "import geopandas as gpd\n",
    "import numpy as np\n",
    "import pandas as pd\n",
    "import os\n",
    "import matplotlib.pyplot as plt\n",
    "from datetime import timedelta\n",
    "\n",
    "# from cartoframes import read_carto, to_carto, has_table, list_tables\n",
    "# from cartoframes.auth import set_default_credentials, Credentials\n",
    "# #from cartoframes.viz import Map, Layer, basemaps\n",
    "# from cartoframes.data.clients import SQLClient\n",
    "from shapely.geometry import Point, LineString\n",
    "from zipfile import ZipFile"
   ]
  },
  {
   "cell_type": "markdown",
   "id": "edca12db",
   "metadata": {},
   "source": [
    "### New Trips Data"
   ]
  },
  {
   "cell_type": "code",
   "execution_count": 102,
   "id": "f4fc8fe7",
   "metadata": {},
   "outputs": [],
   "source": [
    "header = list(pd.read_csv('TripBulkReportTripsHeaders.csv',keep_default_na=True))\n",
    "header.append('Unnamed 31')\n",
    "header.append('Unnamed 32')\n",
    "large_trip_df = pd.read_csv('new_trips_large.csv', keep_default_na=True, names=header)\n",
    "small_trip_df = pd.read_csv('new_trips_subset.csv1', keep_default_na=True, names=header)\n",
    "\n",
    "\n",
    "frames = [large_trip_df,small_trip_df]\n",
    "trip_df = pd.concat(frames)"
   ]
  },
  {
   "cell_type": "code",
   "execution_count": 103,
   "id": "bb9fcc43",
   "metadata": {},
   "outputs": [
    {
     "data": {
      "text/plain": [
       "3476502"
      ]
     },
     "execution_count": 103,
     "metadata": {},
     "output_type": "execute_result"
    }
   ],
   "source": [
    "len(trip_df)"
   ]
  },
  {
   "cell_type": "code",
   "execution_count": 104,
   "id": "aaebddca",
   "metadata": {},
   "outputs": [
    {
     "data": {
      "text/plain": [
       "Index(['TripId', 'DeviceId', 'ProviderId', 'Mode', 'StartDate', 'StartWDay',\n",
       "       'EndDate', 'EndWDay', 'StartLocLat', 'StartLocLon', 'EndLocLat',\n",
       "       'EndLocLon', 'GeospatialType', 'ProviderType', 'ProviderDrivingProfile',\n",
       "       'VehicleWeightClass', 'ProbeSourceType', 'OriginZoneName',\n",
       "       'DestinationZoneName', 'EndpointType', 'TripMeanSpeedKph',\n",
       "       'TripMaxSpeedKph', 'TripDistanceMeters', 'MovementType', 'OriginCbg',\n",
       "       'DestCbg', 'StartTimezone', 'EndTimezone', 'WaypointFreqSec', 'StartQk',\n",
       "       'EndQk', 'Unnamed 31', 'Unnamed 32'],\n",
       "      dtype='object')"
      ]
     },
     "execution_count": 104,
     "metadata": {},
     "output_type": "execute_result"
    }
   ],
   "source": [
    "trip_df.columns"
   ]
  },
  {
   "cell_type": "code",
   "execution_count": 106,
   "id": "50f64c0c",
   "metadata": {},
   "outputs": [
    {
     "name": "stdout",
     "output_type": "stream",
     "text": [
      "Number of rows in original data: 3476502\n",
      "Number of data in Fort Carson :  3476502\n",
      "Number of duplicated rows :  0\n"
     ]
    }
   ],
   "source": [
    "number_of_dup = len(trip_df[trip_df.duplicated(subset=list(trip_df.columns).remove('TripId')) == True])\n",
    "number_of_fort = len(trip_df[(trip_df['OriginZoneName']!='Buc-ee\\'s Giddings TX')& (trip_df['DestinationZoneName']!='Buc-ee\\'s Giddings TX')])\n",
    "\n",
    "print('Number of rows in original data:', len(trip_df))\n",
    "print('Number of data in Fort Carson : ',number_of_fort)\n",
    "print('Number of duplicated rows : ',number_of_dup)"
   ]
  },
  {
   "cell_type": "code",
   "execution_count": 107,
   "id": "b501a2e7",
   "metadata": {},
   "outputs": [],
   "source": [
    "trip_df = trip_df[(trip_df['OriginZoneName']!='Buc-ee\\'s Giddings TX')& (trip_df['DestinationZoneName']!='Buc-ee\\'s Giddings TX')]\n",
    "# creating a geometry column \n",
    "trip_df['Startlocation'] = list(zip(trip_df.StartLocLat, trip_df.StartLocLon))\n",
    "trip_df['Startlocation'] = trip_df['Startlocation'].apply(Point)\n",
    "\n",
    "trip_df['Endlocation'] = list(zip(trip_df.EndLocLat, trip_df.EndLocLon))\n",
    "trip_df['Endlocation'] = trip_df['Endlocation'].apply(Point)\n",
    "\n",
    "trip_df= trip_df.drop(['Unnamed 31', 'Unnamed 32'], axis=1)"
   ]
  },
  {
   "cell_type": "code",
   "execution_count": 108,
   "id": "ab5068e7",
   "metadata": {},
   "outputs": [],
   "source": [
    "gdf = gpd.GeoDataFrame(trip_df)"
   ]
  },
  {
   "cell_type": "code",
   "execution_count": 109,
   "id": "2e8ba71b",
   "metadata": {},
   "outputs": [],
   "source": [
    "gdf['MST_start_datetime'] = pd.to_datetime(gdf['StartDate']).apply(lambda x:x.astimezone('MST'))\n",
    "gdf['MST_end_datetime'] = pd.to_datetime(gdf['EndDate']).apply(lambda x:x.astimezone('MST'))\n",
    "\n",
    "gdf['MST_start_date'] = gdf['MST_start_datetime'].apply(lambda x:x.date())\n",
    "gdf['MST_start_time'] = gdf['MST_start_datetime'].apply(lambda x:x.time())\n",
    "\n",
    "gdf['MST_end_date'] = gdf['MST_end_datetime'].apply(lambda x:x.date())\n",
    "gdf['MST_end_time'] = gdf['MST_end_datetime'].apply(lambda x:x.time())"
   ]
  },
  {
   "cell_type": "code",
   "execution_count": 110,
   "id": "2eed6338",
   "metadata": {},
   "outputs": [],
   "source": [
    "# create df of start day, month, year \n",
    "startYear = list(pd.DatetimeIndex(gdf['MST_start_date']).year)\n",
    "startMonth = list(pd.DatetimeIndex(gdf['MST_start_date']).month)\n",
    "startDay = list(pd.DatetimeIndex(gdf['MST_start_date']).day)\n",
    "\n",
    "# insert the start month, day, year column into the gdf\n",
    "gdf.insert(int(gdf.columns.get_indexer(['MST_start_date'])[0]+1), 'MST_start_month',startMonth)\n",
    "gdf.insert(int(gdf.columns.get_indexer(['MST_start_date'])[0]+2), 'MST_start_day',startDay)\n",
    "gdf.insert(int(gdf.columns.get_indexer(['MST_start_date'])[0]+3), 'MST_start_year',startYear)\n",
    "\n",
    "# create df of start hour, minutes, and seconds\n",
    "startHour = list(pd.DatetimeIndex(gdf['MST_start_datetime']).hour)\n",
    "startMin = list(pd.DatetimeIndex(gdf['MST_start_datetime']).minute)\n",
    "startSec = list(pd.DatetimeIndex(gdf['MST_start_datetime']).second)\n",
    "\n",
    "# insert the start hour, minutes, seconds column into the gdf\n",
    "gdf.insert(int(gdf.columns.get_indexer(['MST_start_time'])[0]+1), 'MST_start_hour',startHour)\n",
    "gdf.insert(int(gdf.columns.get_indexer(['MST_start_time'])[0]+2), 'MST_start_minute',startMin)\n",
    "gdf.insert(int(gdf.columns.get_indexer(['MST_start_time'])[0]+3), 'MST_start_second',startSec)\n",
    "\n",
    "# create df of end day, month, year \n",
    "endYear = list(pd.DatetimeIndex(gdf['MST_end_date']).year)\n",
    "endMonth = list(pd.DatetimeIndex(gdf['MST_end_date']).month)\n",
    "endDay = list(pd.DatetimeIndex(gdf['MST_end_date']).day)\n",
    "\n",
    "# insert the start month, day, year column into the gdf\n",
    "gdf.insert(int(gdf.columns.get_indexer(['MST_end_date'])[0]+1), 'MST_end_month',endMonth)\n",
    "gdf.insert(int(gdf.columns.get_indexer(['MST_end_date'])[0]+2), 'MST_end_day',endDay)\n",
    "gdf.insert(int(gdf.columns.get_indexer(['MST_end_date'])[0]+3), 'MST_end_year',endYear)\n",
    "\n",
    "# create df of end hour, minutes, and seconds\n",
    "endHour = list(pd.DatetimeIndex(gdf['MST_end_datetime']).hour)\n",
    "endMin = list(pd.DatetimeIndex(gdf['MST_end_datetime']).minute)\n",
    "endSec = list(pd.DatetimeIndex(gdf['MST_end_datetime']).second)\n",
    "\n",
    "\n",
    "# insert the start hour, minutes, seconds column into the gdf\n",
    "gdf.insert(int(gdf.columns.get_indexer(['MST_end_time'])[0]+1), 'MST_end_hour',endHour)\n",
    "gdf.insert(int(gdf.columns.get_indexer(['MST_end_time'])[0]+2), 'MST_end_minute',endMin)\n",
    "gdf.insert(int(gdf.columns.get_indexer(['MST_end_time'])[0]+3), 'MST_end_second',endSec)\n"
   ]
  },
  {
   "cell_type": "code",
   "execution_count": 111,
   "id": "aff65dd3",
   "metadata": {},
   "outputs": [
    {
     "data": {
      "text/plain": [
       "Index(['TripId', 'DeviceId', 'ProviderId', 'Mode', 'StartDate', 'StartWDay',\n",
       "       'EndDate', 'EndWDay', 'StartLocLat', 'StartLocLon', 'EndLocLat',\n",
       "       'EndLocLon', 'GeospatialType', 'ProviderType', 'ProviderDrivingProfile',\n",
       "       'VehicleWeightClass', 'ProbeSourceType', 'OriginZoneName',\n",
       "       'DestinationZoneName', 'EndpointType', 'TripMeanSpeedKph',\n",
       "       'TripMaxSpeedKph', 'TripDistanceMeters', 'MovementType', 'OriginCbg',\n",
       "       'DestCbg', 'StartTimezone', 'EndTimezone', 'WaypointFreqSec', 'StartQk',\n",
       "       'EndQk', 'Startlocation', 'Endlocation', 'MST_start_datetime',\n",
       "       'MST_end_datetime', 'MST_start_date', 'MST_start_month',\n",
       "       'MST_start_day', 'MST_start_year', 'MST_start_time', 'MST_start_hour',\n",
       "       'MST_start_minute', 'MST_start_second', 'MST_end_date', 'MST_end_month',\n",
       "       'MST_end_day', 'MST_end_year', 'MST_end_time', 'MST_end_hour',\n",
       "       'MST_end_minute', 'MST_end_second'],\n",
       "      dtype='object')"
      ]
     },
     "execution_count": 111,
     "metadata": {},
     "output_type": "execute_result"
    }
   ],
   "source": [
    "gdf.columns"
   ]
  },
  {
   "cell_type": "code",
   "execution_count": 112,
   "id": "406ba4c9",
   "metadata": {},
   "outputs": [
    {
     "data": {
      "text/plain": [
       "datetime.date(2020, 8, 31)"
      ]
     },
     "execution_count": 112,
     "metadata": {},
     "output_type": "execute_result"
    }
   ],
   "source": [
    "gdf['MST_start_date'].min()"
   ]
  },
  {
   "cell_type": "code",
   "execution_count": 113,
   "id": "f8d8a1b4",
   "metadata": {},
   "outputs": [
    {
     "data": {
      "text/plain": [
       "datetime.date(2021, 9, 30)"
      ]
     },
     "execution_count": 113,
     "metadata": {},
     "output_type": "execute_result"
    }
   ],
   "source": [
    "gdf['MST_start_date'].max()"
   ]
  },
  {
   "cell_type": "code",
   "execution_count": 114,
   "id": "01cc0dfe",
   "metadata": {},
   "outputs": [
    {
     "data": {
      "text/plain": [
       "396"
      ]
     },
     "execution_count": 114,
     "metadata": {},
     "output_type": "execute_result"
    }
   ],
   "source": [
    "gdf['MST_start_date'].nunique()"
   ]
  },
  {
   "cell_type": "code",
   "execution_count": 115,
   "id": "0f71548b",
   "metadata": {},
   "outputs": [
    {
     "data": {
      "text/plain": [
       "<DatetimeArray>\n",
       "[       '2020-12-28 07:49:16-07:00',        '2020-12-22 13:15:06-07:00',\n",
       "        '2020-12-21 18:32:52-07:00',        '2020-12-22 07:13:19-07:00',\n",
       "        '2020-12-22 04:46:26-07:00',        '2020-12-28 15:44:28-07:00',\n",
       "        '2020-12-22 08:37:10-07:00',        '2020-12-22 16:03:37-07:00',\n",
       "        '2020-12-27 13:09:25-07:00',        '2020-12-23 18:09:33-07:00',\n",
       " ...\n",
       "        '2020-09-08 15:09:43-07:00', '2020-09-08 18:02:16.688000-07:00',\n",
       "        '2020-09-11 14:25:27-07:00',        '2020-09-14 13:45:10-07:00',\n",
       "        '2020-09-13 22:40:10-07:00',        '2020-09-11 06:31:40-07:00',\n",
       "        '2020-09-11 14:18:26-07:00',        '2020-09-14 11:15:53-07:00',\n",
       "        '2020-09-08 19:09:58-07:00',        '2020-09-08 05:30:08-07:00']\n",
       "Length: 3163325, dtype: datetime64[ns, MST]"
      ]
     },
     "execution_count": 115,
     "metadata": {},
     "output_type": "execute_result"
    }
   ],
   "source": [
    "gdf['MST_start_datetime'].unique()"
   ]
  },
  {
   "cell_type": "code",
   "execution_count": 11,
   "id": "e630edcc",
   "metadata": {},
   "outputs": [
    {
     "data": {
      "text/plain": [
       "3476502"
      ]
     },
     "execution_count": 11,
     "metadata": {},
     "output_type": "execute_result"
    }
   ],
   "source": [
    "len(gdf['TripId'].unique())"
   ]
  },
  {
   "cell_type": "code",
   "execution_count": 116,
   "id": "6b1db521",
   "metadata": {},
   "outputs": [
    {
     "name": "stderr",
     "output_type": "stream",
     "text": [
      "/Users/cindyhuang/opt/anaconda3/lib/python3.8/site-packages/pandas/core/arrays/datetimes.py:1101: UserWarning: Converting to PeriodArray/Index representation will drop timezone information.\n",
      "  warnings.warn(\n"
     ]
    }
   ],
   "source": [
    "gdf['start_year_month'] = pd.to_datetime(gdf['MST_start_datetime']).dt.to_period('M')"
   ]
  },
  {
   "cell_type": "code",
   "execution_count": 117,
   "id": "d8ab4de6",
   "metadata": {},
   "outputs": [],
   "source": [
    "gdf_202010_to_202009_new = gdf.loc[(gdf['start_year_month']!='2020-09') & (gdf['start_year_month']!='2020-08')]"
   ]
  },
  {
   "cell_type": "code",
   "execution_count": 119,
   "id": "66b4446d",
   "metadata": {},
   "outputs": [
    {
     "name": "stderr",
     "output_type": "stream",
     "text": [
      "<ipython-input-119-93688cc6b1d5>:1: SettingWithCopyWarning: \n",
      "A value is trying to be set on a copy of a slice from a DataFrame.\n",
      "Try using .loc[row_indexer,col_indexer] = value instead\n",
      "\n",
      "See the caveats in the documentation: https://pandas.pydata.org/pandas-docs/stable/user_guide/indexing.html#returning-a-view-versus-a-copy\n",
      "  gdf_202010_to_202009_new['day_of_week'] = gdf_202010_to_202009_new['MST_start_datetime'].dt.day_name()\n"
     ]
    }
   ],
   "source": [
    "gdf_202010_to_202009_new['day_of_week'] = gdf_202010_to_202009_new['MST_start_datetime'].dt.day_name()"
   ]
  },
  {
   "cell_type": "code",
   "execution_count": 121,
   "id": "36f8e9e9",
   "metadata": {},
   "outputs": [],
   "source": [
    "# np.sort(gdf_202010_to_202009_new[pd.to_datetime(gdf_202010_to_202009_new['MST_start_date']).dt.day_name()=='Monday']['MST_start'].unique())"
   ]
  },
  {
   "cell_type": "code",
   "execution_count": 122,
   "id": "2aa6934b",
   "metadata": {},
   "outputs": [],
   "source": [
    "# gdf_202010_to_202009_new['MST_start_date'].nunique()"
   ]
  },
  {
   "cell_type": "code",
   "execution_count": 123,
   "id": "597d9aad",
   "metadata": {},
   "outputs": [],
   "source": [
    "workday = gdf_202010_to_202009_new[(gdf_202010_to_202009_new['day_of_week']!='Saturday') &(gdf_202010_to_202009_new['day_of_week']!='Sunday') ]"
   ]
  },
  {
   "cell_type": "code",
   "execution_count": 124,
   "id": "e6eac374",
   "metadata": {},
   "outputs": [
    {
     "data": {
      "text/plain": [
       "261"
      ]
     },
     "execution_count": 124,
     "metadata": {},
     "output_type": "execute_result"
    }
   ],
   "source": [
    "workday['MST_start_date'].nunique()"
   ]
  },
  {
   "cell_type": "code",
   "execution_count": 125,
   "id": "ed6c099e",
   "metadata": {},
   "outputs": [
    {
     "name": "stdout",
     "output_type": "stream",
     "text": [
      "Total number of EI trips in weekdays: 736212\n",
      "Total number of weekdays: 261\n",
      "On average, the number of EI trips per day on weekdays is: 2820.7\n"
     ]
    }
   ],
   "source": [
    "number_of_EI_weekday = workday.groupby(by = [\"GeospatialType\"]).count()['TripId']['EI']\n",
    "number_of_weekdays = len(workday['MST_start_date'].unique())\n",
    "print('Total number of EI trips in weekdays:',number_of_EI_weekday)\n",
    "print('Total number of weekdays:',number_of_weekdays)\n",
    "print('On average, the number of EI trips per day on weekdays is: {:.1f}'.format(number_of_EI_weekday/number_of_weekdays))"
   ]
  },
  {
   "cell_type": "code",
   "execution_count": null,
   "id": "9062944a",
   "metadata": {},
   "outputs": [],
   "source": [
    "print('Total number of trips between 2020/10 and 2021/09:',len(gdf_202010_to_202009_new))"
   ]
  },
  {
   "cell_type": "code",
   "execution_count": null,
   "id": "1155b037",
   "metadata": {},
   "outputs": [],
   "source": [
    "np.sort(workday.groupby(by='StartWDay')['MST_start_date'].unique().iloc[0])"
   ]
  },
  {
   "cell_type": "code",
   "execution_count": 126,
   "id": "1a5dd7a7",
   "metadata": {},
   "outputs": [],
   "source": [
    "# gdf_202010_to_202009_new['day_of_week'].unique()"
   ]
  },
  {
   "cell_type": "code",
   "execution_count": 46,
   "id": "e434c567",
   "metadata": {},
   "outputs": [],
   "source": [
    "# old_data_workday = old_large_202010_to_202009[(old_large_202010_to_202009['day_of_week']!='Saturday') &(old_large_202010_to_202009['day_of_week']!='Sunday') ]"
   ]
  },
  {
   "cell_type": "code",
   "execution_count": 127,
   "id": "8b0cf274",
   "metadata": {},
   "outputs": [
    {
     "name": "stdout",
     "output_type": "stream",
     "text": [
      "Total number of Trips on weekday by each Geospatial Type :\n"
     ]
    },
    {
     "data": {
      "text/plain": [
       "GeospatialType\n",
       "EI     736212\n",
       "IE     735982\n",
       "II    1370871\n",
       "Name: TripId, dtype: int64"
      ]
     },
     "execution_count": 127,
     "metadata": {},
     "output_type": "execute_result"
    }
   ],
   "source": [
    "print('Total number of Trips on weekday by each Geospatial Type :')\n",
    "workday.groupby(by = [\"GeospatialType\"]).count()['TripId']"
   ]
  },
  {
   "cell_type": "code",
   "execution_count": 128,
   "id": "884a5853",
   "metadata": {},
   "outputs": [
    {
     "name": "stdout",
     "output_type": "stream",
     "text": [
      "Total number of EI trips in weekdays: 736212\n",
      "Total number of weekdays: 261\n",
      "On average, the number of EI trips per day on weekdays is: 2820.7\n"
     ]
    }
   ],
   "source": [
    "number_of_EI_weekday = workday.groupby(by = [\"GeospatialType\"]).count()['TripId']['EI']\n",
    "number_of_weekdays = len(workday['MST_start_date'].unique())\n",
    "print('Total number of EI trips in weekdays:',number_of_EI_weekday)\n",
    "print('Total number of weekdays:',number_of_weekdays)\n",
    "print('On average, the number of EI trips per day on weekdays is: {:.1f}'.format(number_of_EI_weekday/number_of_weekdays))"
   ]
  },
  {
   "cell_type": "code",
   "execution_count": 129,
   "id": "d4a879ad",
   "metadata": {},
   "outputs": [
    {
     "name": "stdout",
     "output_type": "stream",
     "text": [
      "Number of days for each workday:\n"
     ]
    },
    {
     "data": {
      "text/plain": [
       "day_of_week\n",
       "Friday       52\n",
       "Monday       52\n",
       "Thursday     53\n",
       "Tuesday      52\n",
       "Wednesday    52\n",
       "Name: MST_start_date, dtype: int64"
      ]
     },
     "execution_count": 129,
     "metadata": {},
     "output_type": "execute_result"
    }
   ],
   "source": [
    "print('Number of days for each workday:')\n",
    "workday.groupby(by='day_of_week')['MST_start_date'].nunique()"
   ]
  },
  {
   "cell_type": "code",
   "execution_count": 130,
   "id": "6a9da445",
   "metadata": {},
   "outputs": [],
   "source": [
    "number_of_EI_each_weekday = workday.loc[workday['GeospatialType']=='EI'].groupby(['day_of_week']).count()['TripId']\n",
    "\n",
    "\n",
    "number_of_days = workday.groupby(by='day_of_week')['MST_start_date'].nunique()\n",
    "\n",
    "daily_weekday_average = pd.concat([number_of_EI_each_weekday,number_of_days],axis=1).set_index(np.array(['Mon','Tue','Wed','Thurs','Fri'])).\\\n",
    "rename(columns={'TripId':'number of trips','MST_start_date':'number of days'})\n",
    "daily_weekday_average['average number of trips'] = round(daily_weekday_average['number of trips']/daily_weekday_average['number of days'],1)"
   ]
  },
  {
   "cell_type": "code",
   "execution_count": 132,
   "id": "11e75fcf",
   "metadata": {},
   "outputs": [],
   "source": [
    "# number_of_EI_each_weekday = old_data_workday.loc[old_data_workday['GeospatialType']=='EI'].groupby(['day_of_week']).count()['TripId']\n",
    "\n",
    "\n",
    "# number_of_days = old_data_workday.groupby(by='day_of_week')['MST_start_date'].nunique()\n",
    "\n",
    "# old_daily_weekday_average = pd.concat([number_of_EI_each_weekday,number_of_days],axis=1).set_index(np.array(['Mon','Tue','Wed','Thurs','Fri'])).\\\n",
    "# rename(columns={'TripId':'number of trips','MST_start_date':'number of days'})\n",
    "# old_daily_weekday_average['average number of trips'] = round(old_daily_weekday_average['number of trips']/old_daily_weekday_average['number of days'],1)"
   ]
  },
  {
   "cell_type": "code",
   "execution_count": 133,
   "id": "525ecff5",
   "metadata": {},
   "outputs": [],
   "source": [
    "# print('Old data daily weekly average:\\n')\n",
    "# daily_weekday_average"
   ]
  },
  {
   "cell_type": "code",
   "execution_count": 134,
   "id": "3070ab6a",
   "metadata": {},
   "outputs": [
    {
     "name": "stdout",
     "output_type": "stream",
     "text": [
      "New data daily weekly average:\n",
      "\n"
     ]
    },
    {
     "data": {
      "text/html": [
       "<div>\n",
       "<style scoped>\n",
       "    .dataframe tbody tr th:only-of-type {\n",
       "        vertical-align: middle;\n",
       "    }\n",
       "\n",
       "    .dataframe tbody tr th {\n",
       "        vertical-align: top;\n",
       "    }\n",
       "\n",
       "    .dataframe thead th {\n",
       "        text-align: right;\n",
       "    }\n",
       "</style>\n",
       "<table border=\"1\" class=\"dataframe\">\n",
       "  <thead>\n",
       "    <tr style=\"text-align: right;\">\n",
       "      <th></th>\n",
       "      <th>number of trips</th>\n",
       "      <th>number of days</th>\n",
       "      <th>average number of trips</th>\n",
       "    </tr>\n",
       "  </thead>\n",
       "  <tbody>\n",
       "    <tr>\n",
       "      <th>Mon</th>\n",
       "      <td>142505</td>\n",
       "      <td>52</td>\n",
       "      <td>2740.5</td>\n",
       "    </tr>\n",
       "    <tr>\n",
       "      <th>Tue</th>\n",
       "      <td>136365</td>\n",
       "      <td>52</td>\n",
       "      <td>2622.4</td>\n",
       "    </tr>\n",
       "    <tr>\n",
       "      <th>Wed</th>\n",
       "      <td>152999</td>\n",
       "      <td>53</td>\n",
       "      <td>2886.8</td>\n",
       "    </tr>\n",
       "    <tr>\n",
       "      <th>Thurs</th>\n",
       "      <td>149929</td>\n",
       "      <td>52</td>\n",
       "      <td>2883.2</td>\n",
       "    </tr>\n",
       "    <tr>\n",
       "      <th>Fri</th>\n",
       "      <td>154414</td>\n",
       "      <td>52</td>\n",
       "      <td>2969.5</td>\n",
       "    </tr>\n",
       "  </tbody>\n",
       "</table>\n",
       "</div>"
      ],
      "text/plain": [
       "       number of trips  number of days  average number of trips\n",
       "Mon             142505              52                   2740.5\n",
       "Tue             136365              52                   2622.4\n",
       "Wed             152999              53                   2886.8\n",
       "Thurs           149929              52                   2883.2\n",
       "Fri             154414              52                   2969.5"
      ]
     },
     "execution_count": 134,
     "metadata": {},
     "output_type": "execute_result"
    }
   ],
   "source": [
    "print('New data daily weekly average:\\n')\n",
    "daily_weekday_average"
   ]
  },
  {
   "cell_type": "code",
   "execution_count": 177,
   "id": "e92a58af",
   "metadata": {},
   "outputs": [],
   "source": [
    "# gdf_202010_to_202009_new.head()"
   ]
  },
  {
   "cell_type": "markdown",
   "id": "200dc9dd",
   "metadata": {},
   "source": [
    "## Old data investigation"
   ]
  },
  {
   "cell_type": "code",
   "execution_count": 81,
   "id": "456768b5",
   "metadata": {},
   "outputs": [],
   "source": [
    "header = list(pd.read_csv('TripBulkReportTripsHeaders.csv',keep_default_na=True))\n",
    "header.append('Unnamed 31')\n",
    "header.append('Unnamed 32')\n",
    "trip_df = pd.read_csv('trips_large_old.csv', keep_default_na=True, names=header)\n",
    "small_trips_df = pd.read_csv('trips_small_old.csv', keep_default_na=True, names=header)\n",
    "\n",
    "frames = [trip_df,small_trips_df]\n",
    "old_data_gdf = pd.concat(frames)"
   ]
  },
  {
   "cell_type": "code",
   "execution_count": 84,
   "id": "debb2103",
   "metadata": {},
   "outputs": [
    {
     "data": {
      "text/plain": [
       "3235625"
      ]
     },
     "execution_count": 84,
     "metadata": {},
     "output_type": "execute_result"
    }
   ],
   "source": [
    "len(old_data_gdf)\n"
   ]
  },
  {
   "cell_type": "code",
   "execution_count": 45,
   "id": "97ce5e7a",
   "metadata": {},
   "outputs": [
    {
     "data": {
      "text/plain": [
       "1160372"
      ]
     },
     "execution_count": 45,
     "metadata": {},
     "output_type": "execute_result"
    }
   ],
   "source": [
    "len(small_trips_df)"
   ]
  },
  {
   "cell_type": "code",
   "execution_count": 44,
   "id": "d396fb3b",
   "metadata": {},
   "outputs": [
    {
     "data": {
      "text/plain": [
       "3476421"
      ]
     },
     "execution_count": 44,
     "metadata": {},
     "output_type": "execute_result"
    }
   ],
   "source": [
    "len(old_data_gdf)"
   ]
  },
  {
   "cell_type": "code",
   "execution_count": 85,
   "id": "79896dd1",
   "metadata": {},
   "outputs": [
    {
     "data": {
      "text/plain": [
       "2941464"
      ]
     },
     "execution_count": 85,
     "metadata": {},
     "output_type": "execute_result"
    }
   ],
   "source": [
    "old_data_gdf['StartDate'].nunique()"
   ]
  },
  {
   "cell_type": "code",
   "execution_count": 86,
   "id": "e5476b60",
   "metadata": {},
   "outputs": [
    {
     "data": {
      "text/plain": [
       "Index(['TripId', 'DeviceId', 'ProviderId', 'Mode', 'StartDate', 'StartWDay',\n",
       "       'EndDate', 'EndWDay', 'StartLocLat', 'StartLocLon', 'EndLocLat',\n",
       "       'EndLocLon', 'GeospatialType', 'ProviderType', 'ProviderDrivingProfile',\n",
       "       'VehicleWeightClass', 'ProbeSourceType', 'OriginZoneName',\n",
       "       'DestinationZoneName', 'EndpointType', 'TripMeanSpeedKph',\n",
       "       'TripMaxSpeedKph', 'TripDistanceMeters', 'MovementType', 'OriginCbg',\n",
       "       'DestCbg', 'StartTimezone', 'EndTimezone', 'WaypointFreqSec', 'StartQk',\n",
       "       'EndQk', 'Unnamed 31', 'Unnamed 32'],\n",
       "      dtype='object')"
      ]
     },
     "execution_count": 86,
     "metadata": {},
     "output_type": "execute_result"
    }
   ],
   "source": [
    "old_data_gdf.columns"
   ]
  },
  {
   "cell_type": "code",
   "execution_count": 87,
   "id": "16fb3626",
   "metadata": {},
   "outputs": [
    {
     "data": {
      "text/plain": [
       "'2020-10-01T00:00:09.000Z'"
      ]
     },
     "execution_count": 87,
     "metadata": {},
     "output_type": "execute_result"
    }
   ],
   "source": [
    "old_data_gdf['StartDate'].min()\n"
   ]
  },
  {
   "cell_type": "code",
   "execution_count": 88,
   "id": "2d8d8d52",
   "metadata": {},
   "outputs": [
    {
     "data": {
      "text/plain": [
       "'2021-09-30T23:59:58.000Z'"
      ]
     },
     "execution_count": 88,
     "metadata": {},
     "output_type": "execute_result"
    }
   ],
   "source": [
    "old_data_gdf['StartDate'].max()\n"
   ]
  },
  {
   "cell_type": "code",
   "execution_count": 122,
   "id": "6049e340",
   "metadata": {},
   "outputs": [
    {
     "data": {
      "text/html": [
       "<div>\n",
       "<style scoped>\n",
       "    .dataframe tbody tr th:only-of-type {\n",
       "        vertical-align: middle;\n",
       "    }\n",
       "\n",
       "    .dataframe tbody tr th {\n",
       "        vertical-align: top;\n",
       "    }\n",
       "\n",
       "    .dataframe thead th {\n",
       "        text-align: right;\n",
       "    }\n",
       "</style>\n",
       "<table border=\"1\" class=\"dataframe\">\n",
       "  <thead>\n",
       "    <tr style=\"text-align: right;\">\n",
       "      <th></th>\n",
       "      <th>TripId</th>\n",
       "      <th>DeviceId</th>\n",
       "      <th>ProviderId</th>\n",
       "      <th>Mode</th>\n",
       "      <th>StartDate</th>\n",
       "      <th>StartWDay</th>\n",
       "      <th>EndDate</th>\n",
       "      <th>EndWDay</th>\n",
       "      <th>StartLocLat</th>\n",
       "      <th>StartLocLon</th>\n",
       "      <th>...</th>\n",
       "      <th>MovementType</th>\n",
       "      <th>OriginCbg</th>\n",
       "      <th>DestCbg</th>\n",
       "      <th>StartTimezone</th>\n",
       "      <th>EndTimezone</th>\n",
       "      <th>WaypointFreqSec</th>\n",
       "      <th>StartQk</th>\n",
       "      <th>EndQk</th>\n",
       "      <th>Unnamed 31</th>\n",
       "      <th>Unnamed 32</th>\n",
       "    </tr>\n",
       "  </thead>\n",
       "  <tbody>\n",
       "    <tr>\n",
       "      <th>0</th>\n",
       "      <td>4e6d3859173a783b35f234126e7d84ab</td>\n",
       "      <td>0da5283cac35fa6de9a83477d1477377</td>\n",
       "      <td>d07e70efcfab08731a97e7b91be644de</td>\n",
       "      <td>1</td>\n",
       "      <td>2020-12-28T14:49:16.000Z</td>\n",
       "      <td>1</td>\n",
       "      <td>2020-12-28T15:53:22.000Z</td>\n",
       "      <td>1</td>\n",
       "      <td>38.71498</td>\n",
       "      <td>-104.70176</td>\n",
       "      <td>...</td>\n",
       "      <td>1</td>\n",
       "      <td>NaN</td>\n",
       "      <td>NaN</td>\n",
       "      <td>America/Denver</td>\n",
       "      <td>America/Denver</td>\n",
       "      <td>NaN</td>\n",
       "      <td>23101211002301310</td>\n",
       "      <td>23101210113102230</td>\n",
       "      <td>NaN</td>\n",
       "      <td>NaN</td>\n",
       "    </tr>\n",
       "    <tr>\n",
       "      <th>1</th>\n",
       "      <td>a9f9b922d560178ab3bd1b773fef437d</td>\n",
       "      <td>0ec14c96079ca0e5b6afd3d0a429cf49</td>\n",
       "      <td>42998cf32d552343bc8e460416382dca</td>\n",
       "      <td>1</td>\n",
       "      <td>2020-12-22T20:15:06.000Z</td>\n",
       "      <td>2</td>\n",
       "      <td>2020-12-22T20:26:22.000Z</td>\n",
       "      <td>2</td>\n",
       "      <td>38.74497</td>\n",
       "      <td>-104.79377</td>\n",
       "      <td>...</td>\n",
       "      <td>1</td>\n",
       "      <td>NaN</td>\n",
       "      <td>NaN</td>\n",
       "      <td>America/Denver</td>\n",
       "      <td>America/Denver</td>\n",
       "      <td>NaN</td>\n",
       "      <td>23101210113103011</td>\n",
       "      <td>23101211000023121</td>\n",
       "      <td>NaN</td>\n",
       "      <td>NaN</td>\n",
       "    </tr>\n",
       "    <tr>\n",
       "      <th>2</th>\n",
       "      <td>f6aec89e2dd3cd8fe5d09e45fc083de9</td>\n",
       "      <td>13d0412d930e3669ac09040c767f1097</td>\n",
       "      <td>42998cf32d552343bc8e460416382dca</td>\n",
       "      <td>1</td>\n",
       "      <td>2020-12-22T01:32:52.000Z</td>\n",
       "      <td>1</td>\n",
       "      <td>2020-12-22T01:59:33.000Z</td>\n",
       "      <td>1</td>\n",
       "      <td>38.76318</td>\n",
       "      <td>-104.80476</td>\n",
       "      <td>...</td>\n",
       "      <td>1</td>\n",
       "      <td>NaN</td>\n",
       "      <td>NaN</td>\n",
       "      <td>America/Denver</td>\n",
       "      <td>America/Denver</td>\n",
       "      <td>NaN</td>\n",
       "      <td>23101210111320233</td>\n",
       "      <td>23101210111320232</td>\n",
       "      <td>NaN</td>\n",
       "      <td>NaN</td>\n",
       "    </tr>\n",
       "    <tr>\n",
       "      <th>3</th>\n",
       "      <td>b87c20dbcc739db4ff64c100398437b7</td>\n",
       "      <td>1520526e3b9c71175574099508704611</td>\n",
       "      <td>d07e70efcfab08731a97e7b91be644de</td>\n",
       "      <td>1</td>\n",
       "      <td>2020-12-22T14:13:19.000Z</td>\n",
       "      <td>2</td>\n",
       "      <td>2020-12-22T14:30:36.000Z</td>\n",
       "      <td>2</td>\n",
       "      <td>38.69890</td>\n",
       "      <td>-104.68940</td>\n",
       "      <td>...</td>\n",
       "      <td>1</td>\n",
       "      <td>NaN</td>\n",
       "      <td>NaN</td>\n",
       "      <td>America/Denver</td>\n",
       "      <td>America/Denver</td>\n",
       "      <td>NaN</td>\n",
       "      <td>23101211002330133</td>\n",
       "      <td>23101210113101210</td>\n",
       "      <td>NaN</td>\n",
       "      <td>NaN</td>\n",
       "    </tr>\n",
       "    <tr>\n",
       "      <th>4</th>\n",
       "      <td>ea65f3a1f58f2431dcfe317be0bdd002</td>\n",
       "      <td>15c0082ebc282eaf14a6c80c67017142</td>\n",
       "      <td>66f041e16a60928b05a7e228a89c3799</td>\n",
       "      <td>1</td>\n",
       "      <td>2020-12-22T11:46:26.000Z</td>\n",
       "      <td>2</td>\n",
       "      <td>2020-12-22T12:03:42.000Z</td>\n",
       "      <td>2</td>\n",
       "      <td>38.75568</td>\n",
       "      <td>-104.80339</td>\n",
       "      <td>...</td>\n",
       "      <td>1</td>\n",
       "      <td>NaN</td>\n",
       "      <td>NaN</td>\n",
       "      <td>America/Denver</td>\n",
       "      <td>America/Denver</td>\n",
       "      <td>NaN</td>\n",
       "      <td>23101210111322320</td>\n",
       "      <td>23101210113121113</td>\n",
       "      <td>NaN</td>\n",
       "      <td>NaN</td>\n",
       "    </tr>\n",
       "  </tbody>\n",
       "</table>\n",
       "<p>5 rows × 33 columns</p>\n",
       "</div>"
      ],
      "text/plain": [
       "                             TripId                          DeviceId  \\\n",
       "0  4e6d3859173a783b35f234126e7d84ab  0da5283cac35fa6de9a83477d1477377   \n",
       "1  a9f9b922d560178ab3bd1b773fef437d  0ec14c96079ca0e5b6afd3d0a429cf49   \n",
       "2  f6aec89e2dd3cd8fe5d09e45fc083de9  13d0412d930e3669ac09040c767f1097   \n",
       "3  b87c20dbcc739db4ff64c100398437b7  1520526e3b9c71175574099508704611   \n",
       "4  ea65f3a1f58f2431dcfe317be0bdd002  15c0082ebc282eaf14a6c80c67017142   \n",
       "\n",
       "                         ProviderId  Mode                 StartDate  \\\n",
       "0  d07e70efcfab08731a97e7b91be644de     1  2020-12-28T14:49:16.000Z   \n",
       "1  42998cf32d552343bc8e460416382dca     1  2020-12-22T20:15:06.000Z   \n",
       "2  42998cf32d552343bc8e460416382dca     1  2020-12-22T01:32:52.000Z   \n",
       "3  d07e70efcfab08731a97e7b91be644de     1  2020-12-22T14:13:19.000Z   \n",
       "4  66f041e16a60928b05a7e228a89c3799     1  2020-12-22T11:46:26.000Z   \n",
       "\n",
       "   StartWDay                   EndDate  EndWDay  StartLocLat  StartLocLon  \\\n",
       "0          1  2020-12-28T15:53:22.000Z        1     38.71498   -104.70176   \n",
       "1          2  2020-12-22T20:26:22.000Z        2     38.74497   -104.79377   \n",
       "2          1  2020-12-22T01:59:33.000Z        1     38.76318   -104.80476   \n",
       "3          2  2020-12-22T14:30:36.000Z        2     38.69890   -104.68940   \n",
       "4          2  2020-12-22T12:03:42.000Z        2     38.75568   -104.80339   \n",
       "\n",
       "   ...  MovementType  OriginCbg DestCbg   StartTimezone     EndTimezone  \\\n",
       "0  ...             1        NaN     NaN  America/Denver  America/Denver   \n",
       "1  ...             1        NaN     NaN  America/Denver  America/Denver   \n",
       "2  ...             1        NaN     NaN  America/Denver  America/Denver   \n",
       "3  ...             1        NaN     NaN  America/Denver  America/Denver   \n",
       "4  ...             1        NaN     NaN  America/Denver  America/Denver   \n",
       "\n",
       "   WaypointFreqSec            StartQk              EndQk Unnamed 31  \\\n",
       "0              NaN  23101211002301310  23101210113102230        NaN   \n",
       "1              NaN  23101210113103011  23101211000023121        NaN   \n",
       "2              NaN  23101210111320233  23101210111320232        NaN   \n",
       "3              NaN  23101211002330133  23101210113101210        NaN   \n",
       "4              NaN  23101210111322320  23101210113121113        NaN   \n",
       "\n",
       "   Unnamed 32  \n",
       "0         NaN  \n",
       "1         NaN  \n",
       "2         NaN  \n",
       "3         NaN  \n",
       "4         NaN  \n",
       "\n",
       "[5 rows x 33 columns]"
      ]
     },
     "execution_count": 122,
     "metadata": {},
     "output_type": "execute_result"
    }
   ],
   "source": [
    "old_data_gdf.head()"
   ]
  },
  {
   "cell_type": "code",
   "execution_count": 89,
   "id": "464f0019",
   "metadata": {},
   "outputs": [],
   "source": [
    "old_data_gdf = old_data_gdf[(old_data_gdf['OriginZoneName']!='Buc-ee\\'s Giddings TX')& (old_data_gdf['DestinationZoneName']!='Buc-ee\\'s Giddings TX')]\n",
    "# creating a geometry column \n",
    "old_data_gdf['Startlocation'] = list(zip(old_data_gdf.StartLocLat, old_data_gdf.StartLocLon))\n",
    "old_data_gdf['Startlocation'] = old_data_gdf['Startlocation'].apply(Point)\n",
    "\n",
    "old_data_gdf['Endlocation'] = list(zip(old_data_gdf.EndLocLat, old_data_gdf.EndLocLon))\n",
    "old_data_gdf['Endlocation'] = old_data_gdf['Endlocation'].apply(Point)\n",
    "\n",
    "old_data_gdf= old_data_gdf.drop(['Unnamed 31', 'Unnamed 32'], axis=1)"
   ]
  },
  {
   "cell_type": "code",
   "execution_count": 90,
   "id": "132ad79d",
   "metadata": {},
   "outputs": [],
   "source": [
    "old_data_gdf = gpd.GeoDataFrame(old_data_gdf)"
   ]
  },
  {
   "cell_type": "code",
   "execution_count": 91,
   "id": "33ac61c2",
   "metadata": {},
   "outputs": [],
   "source": [
    "old_data_gdf['MST_start_datetime'] = pd.to_datetime(old_data_gdf['StartDate']).apply(lambda x:x.astimezone('MST'))\n",
    "old_data_gdf['MST_end_datetime'] = pd.to_datetime(old_data_gdf['EndDate']).apply(lambda x:x.astimezone('MST'))\n",
    "\n",
    "old_data_gdf['MST_start_date'] = old_data_gdf['MST_start_datetime'].apply(lambda x:x.date())\n",
    "old_data_gdf['MST_start_time'] = old_data_gdf['MST_start_datetime'].apply(lambda x:x.time())\n",
    "\n",
    "old_data_gdf['MST_end_date'] = old_data_gdf['MST_end_datetime'].apply(lambda x:x.date())\n",
    "old_data_gdf['MST_end_time'] = old_data_gdf['MST_end_datetime'].apply(lambda x:x.time())"
   ]
  },
  {
   "cell_type": "code",
   "execution_count": 92,
   "id": "a9a94b42",
   "metadata": {},
   "outputs": [],
   "source": [
    "old_data_gdf['day_of_week'] = old_data_gdf['MST_start_datetime'].dt.day_name()"
   ]
  },
  {
   "cell_type": "code",
   "execution_count": 135,
   "id": "a6bc09a5",
   "metadata": {},
   "outputs": [
    {
     "data": {
      "text/plain": [
       "Index(['TripId', 'DeviceId', 'ProviderId', 'Mode', 'StartDate', 'StartWDay',\n",
       "       'EndDate', 'EndWDay', 'StartLocLat', 'StartLocLon', 'EndLocLat',\n",
       "       'EndLocLon', 'GeospatialType', 'ProviderType', 'ProviderDrivingProfile',\n",
       "       'VehicleWeightClass', 'ProbeSourceType', 'OriginZoneName',\n",
       "       'DestinationZoneName', 'EndpointType', 'TripMeanSpeedKph',\n",
       "       'TripMaxSpeedKph', 'TripDistanceMeters', 'MovementType', 'OriginCbg',\n",
       "       'DestCbg', 'StartTimezone', 'EndTimezone', 'WaypointFreqSec', 'StartQk',\n",
       "       'EndQk', 'Startlocation', 'Endlocation', 'MST_start_datetime',\n",
       "       'MST_end_datetime', 'MST_start_date', 'MST_start_time', 'MST_end_date',\n",
       "       'MST_end_time', 'day_of_week', 'start_year_month'],\n",
       "      dtype='object')"
      ]
     },
     "execution_count": 135,
     "metadata": {},
     "output_type": "execute_result"
    }
   ],
   "source": [
    "old_data_gdf.columns"
   ]
  },
  {
   "cell_type": "code",
   "execution_count": 99,
   "id": "194c2a9e",
   "metadata": {},
   "outputs": [
    {
     "data": {
      "text/plain": [
       "366"
      ]
     },
     "execution_count": 99,
     "metadata": {},
     "output_type": "execute_result"
    }
   ],
   "source": [
    "old_data_gdf['MST_start_date'].nunique()"
   ]
  },
  {
   "cell_type": "code",
   "execution_count": 97,
   "id": "a20dc25a",
   "metadata": {},
   "outputs": [
    {
     "name": "stderr",
     "output_type": "stream",
     "text": [
      "/Users/cindyhuang/opt/anaconda3/lib/python3.8/site-packages/pandas/core/arrays/datetimes.py:1101: UserWarning: Converting to PeriodArray/Index representation will drop timezone information.\n",
      "  warnings.warn(\n"
     ]
    }
   ],
   "source": [
    "old_data_gdf['start_year_month'] = pd.to_datetime(old_data_gdf['MST_start_datetime']).dt.to_period('M')\n"
   ]
  },
  {
   "cell_type": "code",
   "execution_count": 95,
   "id": "cbf3d37b",
   "metadata": {},
   "outputs": [],
   "source": [
    "# trip_df = trip_df[(trip_df['OriginZoneName']!='Buc-ee\\'s Giddings TX')& (trip_df['DestinationZoneName']!='Buc-ee\\'s Giddings TX')]\n",
    "# # creating a geometry column \n",
    "# trip_df['Startlocation'] = list(zip(trip_df.StartLocLat, trip_df.StartLocLon))\n",
    "# trip_df['Startlocation'] = trip_df['Startlocation'].apply(Point)\n",
    "\n",
    "# trip_df['Endlocation'] = list(zip(trip_df.EndLocLat, trip_df.EndLocLon))\n",
    "# trip_df['Endlocation'] = trip_df['Endlocation'].apply(Point)\n",
    "\n",
    "# trip_df= trip_df.drop(['Unnamed 31', 'Unnamed 32'], axis=1)\n",
    "\n",
    "# trip_gdf = gpd.GeoDataFrame(trip_df)\n",
    "\n",
    "# large_trip_gdf = trip_gdf\n",
    "\n",
    "# large_trip_gdf['MST_start_datetime'] = pd.to_datetime(large_trip_gdf['StartDate']).apply(lambda x:x.astimezone('MST'))\n",
    "# large_trip_gdf['MST_end_datetime'] = pd.to_datetime(large_trip_gdf['EndDate']).apply(lambda x:x.astimezone('MST'))\n",
    "\n",
    "# large_trip_gdf['MST_start_date'] = large_trip_gdf['MST_start_datetime'].apply(lambda x:x.date())\n",
    "# large_trip_gdf['MST_start_time'] = large_trip_gdf['MST_start_datetime'].apply(lambda x:x.time())\n",
    "\n",
    "# large_trip_gdf['MST_end_date'] = large_trip_gdf['MST_end_datetime'].apply(lambda x:x.date())\n",
    "# large_trip_gdf['MST_end_time'] = large_trip_gdf['MST_end_datetime'].apply(lambda x:x.time())\n",
    "\n",
    "# large_trip_gdf['day_of_week'] = large_trip_gdf['MST_start_datetime'].dt.day_name()\n",
    "\n"
   ]
  },
  {
   "cell_type": "code",
   "execution_count": 137,
   "id": "9bc0c411",
   "metadata": {},
   "outputs": [],
   "source": [
    "old_data_workday = old_data_gdf[(old_data_gdf['day_of_week']!='Saturday') &(old_data_gdf['day_of_week']!='Sunday') ]"
   ]
  },
  {
   "cell_type": "code",
   "execution_count": 138,
   "id": "bb3864d3",
   "metadata": {},
   "outputs": [
    {
     "data": {
      "text/plain": [
       "262"
      ]
     },
     "execution_count": 138,
     "metadata": {},
     "output_type": "execute_result"
    }
   ],
   "source": [
    "old_data_workday['MST_start_date'].nunique()"
   ]
  },
  {
   "cell_type": "code",
   "execution_count": 136,
   "id": "d6cef850",
   "metadata": {},
   "outputs": [],
   "source": [
    "# large_trip_gdf['start_year_month'] = pd.to_datetime(large_trip_gdf['MST_start_datetime']).dt.to_period('M')\n"
   ]
  },
  {
   "cell_type": "code",
   "execution_count": null,
   "id": "042a6f7d",
   "metadata": {},
   "outputs": [],
   "source": [
    "# small_trips_df = small_trips_df[(small_trips_df['OriginZoneName']!='Buc-ee\\'s Giddings TX')& (small_trips_df['DestinationZoneName']!='Buc-ee\\'s Giddings TX')]\n",
    "# # creating a geometry column \n",
    "# small_trips_df['Startlocation'] = list(zip(small_trips_df.StartLocLat, small_trips_df.StartLocLon))\n",
    "# small_trips_df['Startlocation'] = small_trips_df['Startlocation'].apply(Point)\n",
    "\n",
    "# small_trips_df['Endlocation'] = list(zip(small_trips_df.EndLocLat, small_trips_df.EndLocLon))\n",
    "# small_trips_df['Endlocation'] = small_trips_df['Endlocation'].apply(Point)\n",
    "\n",
    "# small_trips_df= small_trips_df.drop(['Unnamed 31', 'Unnamed 32'], axis=1)\n",
    "\n",
    "# small_trips_df = gpd.GeoDataFrame(small_trips_df)\n",
    "\n",
    "# small_trip_gdf = small_trips_df\n",
    "\n",
    "# small_trip_gdf['MST_start_datetime'] = pd.to_datetime(small_trip_gdf['StartDate']).apply(lambda x:x.astimezone('MST'))\n",
    "# small_trip_gdf['MST_end_datetime'] = pd.to_datetime(small_trip_gdf['EndDate']).apply(lambda x:x.astimezone('MST'))\n",
    "\n",
    "# small_trip_gdf['MST_start_date'] = small_trip_gdf['MST_start_datetime'].apply(lambda x:x.date())\n",
    "# small_trip_gdf['MST_start_time'] = small_trip_gdf['MST_start_datetime'].apply(lambda x:x.time())\n",
    "\n",
    "# small_trip_gdf['MST_end_date'] = small_trip_gdf['MST_end_datetime'].apply(lambda x:x.date())\n",
    "# small_trip_gdf['MST_end_time'] = small_trip_gdf['MST_end_datetime'].apply(lambda x:x.time())\n",
    "\n",
    "# small_trip_gdf['day_of_week'] = small_trip_gdf['MST_start_datetime'].dt.day_name()"
   ]
  },
  {
   "cell_type": "code",
   "execution_count": null,
   "id": "fb58aa08",
   "metadata": {},
   "outputs": [],
   "source": [
    "# small_trip_gdf['start_year_month'] = pd.to_datetime(small_trip_gdf['MST_start_datetime']).dt.to_period('M')\n"
   ]
  },
  {
   "cell_type": "code",
   "execution_count": 140,
   "id": "0e863cbb",
   "metadata": {},
   "outputs": [
    {
     "name": "stdout",
     "output_type": "stream",
     "text": [
      "Old trips aggregated dataset time range is between 2020-09-30 and 2021-09-30\n",
      "\n",
      "New trips dataset time range is between 2020-08-31 and 2021-09-30\n",
      "Total numbers of trips in old aggredated data : 3234574\n",
      "Total numbers of trips in new data : 3234574\n"
     ]
    }
   ],
   "source": [
    "old_gdf_202010_to_202009 = old_data_gdf.loc[(old_data_gdf['start_year_month']!='2020-09') & (old_data_gdf['start_year_month']!='2020-08')]\n",
    "start = old_gdf_202010_to_202009['MST_start_date'].min()\n",
    "end = old_gdf_202010_to_202009['MST_start_date'].max()\n",
    "start_new = gdf_202010_to_202009_new['MST_start_date'].min()\n",
    "end_new = gdf_202010_to_202009_new['MST_start_date'].max()\n",
    "print('Old trips aggregated dataset time range is between '+str(old_data_gdf['MST_start_date'].min())+ ' and '+str(gdf['MST_start_date'].max()))\n",
    "print('\\nNew trips dataset time range is between '+str(gdf['MST_start_date'].min())+ ' and '+str(gdf['MST_start_date'].max()))\n",
    "\n",
    "\n",
    "print('Total numbers of trips in old aggredated data : '+str(len(old_gdf_202010_to_202009['TripId'].unique())))\n",
    "print('Total numbers of trips in new data : '+str(len(gdf_202010_to_202009_new['TripId'].unique())))"
   ]
  },
  {
   "cell_type": "code",
   "execution_count": null,
   "id": "1c3331c9",
   "metadata": {},
   "outputs": [],
   "source": [
    "# old_gdf_202010_to_202009 = old_data_gdf.loc[(old_data_gdf['start_year_month']!='2020-09') & (old_data_gdf['start_year_month']!='2020-08')]\n",
    "# old_large_202010_to_202009 = large_trip_gdf.loc[(large_trip_gdf['start_year_month']!='2020-09') & (large_trip_gdf['start_year_month']!='2020-08')]\n",
    "# old_small_202010_to_202009 = small_trip_gdf.loc[(small_trip_gdf['start_year_month']!='2020-09') & (small_trip_gdf['start_year_month']!='2020-08')]\n",
    "# small_start = small_trip_gdf['MST_start_date'].min()\n",
    "# small_end = small_trip_gdf['MST_start_date'].max()\n",
    "# large_start = large_trip_gdf['MST_start_date'].min()\n",
    "# large_end = large_trip_gdf['MST_start_date'].max()\n",
    "\n",
    "# start = old_gdf_202010_to_202009['MST_start_date'].min()\n",
    "# end = old_gdf_202010_to_202009['MST_start_date'].max()\n",
    "\n",
    "\n",
    "# old_large_start = old_large_202010_to_202009['MST_start_date'].min()\n",
    "# old_large_end= old_large_202010_to_202009['MST_start_date'].max()\n",
    "\n",
    "# old_small_start = old_small_202010_to_202009['MST_start_date'].min()\n",
    "# old_small_end= old_small_202010_to_202009['MST_start_date'].max()\n",
    "\n",
    "# start_new = gdf_202010_to_202009_new['MST_start_date'].min()\n",
    "# end_new = gdf_202010_to_202009_new['MST_start_date'].max()\n",
    "# print('Old trips aggregated dataset time range is between '+str(old_data_gdf['MST_start_date'].min())+ ' and '+str(old_data_gdf['MST_start_date'].max()))\n",
    "# # print('Old trips large dataset time range is between '+str(large_start)+ ' and '+str(large_end))\n",
    "# # print('Old trips subset data time range is between '+str(small_start)+ ' and '+str(small_end))\n",
    "\n",
    "\n",
    "# print('\\nNew trips dataset time range is between '+str(gdf['MST_start_date'].min())+ ' and '+str(gdf['MST_start_date'].max()))\n",
    "      \n",
    "\n",
    "# print('\\nSetting time range between 2020-10-01 and 2021-09-30, the total number of trips breakdown is as follows: ')\n",
    "\n",
    "# # print('Old trips large dataset time range is between '+str(old_large_start)+ ' and '+str(old_large_end))\n",
    "# # print('Old trips subset data time range is between '+str(old_small_start)+ ' and '+str(old_small_end))\n",
    "\n",
    "\n",
    "\n",
    "# print('Total numbers of trips in old aggredated data : '+str(len(old_gdf_202010_to_202009['TripId'].unique())))\n",
    "# print('Total numbers of trips in new data : '+str(len(gdf_202010_to_202009_new['TripId'].unique())))\n",
    "# print('Total numbers of trips in old large data : '+str(len(old_large_202010_to_202009['TripId'].unique())))\n",
    "# print('Total numbers of trips in old sub-data : '+str(len(old_small_202010_to_202009['TripId'].unique())))\n"
   ]
  },
  {
   "cell_type": "code",
   "execution_count": 142,
   "id": "9a23d8d7",
   "metadata": {},
   "outputs": [
    {
     "name": "stderr",
     "output_type": "stream",
     "text": [
      "<ipython-input-142-2c705aecae7f>:1: SettingWithCopyWarning: \n",
      "A value is trying to be set on a copy of a slice from a DataFrame.\n",
      "Try using .loc[row_indexer,col_indexer] = value instead\n",
      "\n",
      "See the caveats in the documentation: https://pandas.pydata.org/pandas-docs/stable/user_guide/indexing.html#returning-a-view-versus-a-copy\n",
      "  old_gdf_202010_to_202009['weekday_or_weekend'] = old_gdf_202010_to_202009['day_of_week'].apply(lambda x:'Weekend' if (x=='Saturday' or x=='Sunday')else 'Weekday')\n"
     ]
    },
    {
     "name": "stdout",
     "output_type": "stream",
     "text": [
      "EI trips breakdown on old trip data with range between 2020-10-01 and 2021-09-30\n",
      "On average, there are 2,380 trips onto and off of Fort Carson per day\n",
      "On average, there are 2,821 trips onto and off of Fort Carson per day for weekdays\n",
      "On average, there are 1,275 trips onto and off of Fort Carson per day for weekends\n"
     ]
    }
   ],
   "source": [
    "old_gdf_202010_to_202009['weekday_or_weekend'] = old_gdf_202010_to_202009['day_of_week'].apply(lambda x:'Weekend' if (x=='Saturday' or x=='Sunday')else 'Weekday')\n",
    "\n",
    "EI_gdf = old_gdf_202010_to_202009.loc[old_gdf_202010_to_202009['GeospatialType']=='EI']\n",
    "\n",
    "total_number_of_EI_trips = len(EI_gdf)\n",
    "number_of_days = len(old_gdf_202010_to_202009['MST_start_date'].unique())\n",
    "\n",
    "EI_trip_weekday_weekend = EI_gdf.groupby(by=['weekday_or_weekend']).count()['TripId']\n",
    "\n",
    "number_of_weekday_weekend = EI_gdf.groupby(by=['weekday_or_weekend'])['MST_start_date'].nunique()\n",
    "\n",
    "weekend_weekday_avg = pd.concat([EI_trip_weekday_weekend,number_of_weekday_weekend],axis=1)\\\n",
    ".rename(columns={'TripId':'number of EI trips','MST_start_date':'number of days'})\n",
    "weekend_weekday_avg['avg number of trips'] = round(weekend_weekday_avg['number of EI trips']/weekend_weekday_avg['number of days'],1)\n",
    "weekend_weekday_avg['number of EI trips'].apply(lambda x : \"{:,}\".format(x))\n",
    "print('EI trips breakdown on old trip data with range between '+str(start)+ ' and '+str(end))\n",
    "\n",
    "weekend_weekday_avg\n",
    "\n",
    "weekday_avg = weekend_weekday_avg.loc['Weekday']['avg number of trips']\n",
    "weekend_avg = weekend_weekday_avg.loc['Weekend']['avg number of trips']\n",
    "print('On average, there are {:,.0f} trips onto and off of Fort Carson per day'.format(total_number_of_EI_trips/number_of_days))\n",
    "print('On average, there are {:,.0f} trips onto and off of Fort Carson per day for weekdays'.format(weekday_avg))\n",
    "print('On average, there are {:,.0f} trips onto and off of Fort Carson per day for weekends'.format(weekend_avg))\n",
    "\n"
   ]
  },
  {
   "cell_type": "code",
   "execution_count": 143,
   "id": "8e99c05a",
   "metadata": {},
   "outputs": [
    {
     "name": "stderr",
     "output_type": "stream",
     "text": [
      "<ipython-input-143-d904278541bf>:1: SettingWithCopyWarning: \n",
      "A value is trying to be set on a copy of a slice from a DataFrame.\n",
      "Try using .loc[row_indexer,col_indexer] = value instead\n",
      "\n",
      "See the caveats in the documentation: https://pandas.pydata.org/pandas-docs/stable/user_guide/indexing.html#returning-a-view-versus-a-copy\n",
      "  gdf_202010_to_202009_new['weekday_or_weekend'] = gdf_202010_to_202009_new['day_of_week'].apply(lambda x:'Weekend' if (x=='Saturday' or x=='Sunday')else 'Weekday')\n"
     ]
    },
    {
     "name": "stdout",
     "output_type": "stream",
     "text": [
      "EI trips breakdown on new trip data with range between 2020-10-01 and 2021-09-30\n",
      "On average, there are 2,380 trips onto and off of Fort Carson per day\n",
      "On average, there are 2,821 trips onto and off of Fort Carson per day for weekdays\n",
      "On average, there are 1,275 trips onto and off of Fort Carson per day for weekends\n"
     ]
    }
   ],
   "source": [
    "gdf_202010_to_202009_new['weekday_or_weekend'] = gdf_202010_to_202009_new['day_of_week'].apply(lambda x:'Weekend' if (x=='Saturday' or x=='Sunday')else 'Weekday')\n",
    "\n",
    "EI_gdf = gdf_202010_to_202009_new.loc[gdf_202010_to_202009_new['GeospatialType']=='EI']\n",
    "\n",
    "total_number_of_EI_trips = len(EI_gdf)\n",
    "number_of_days = len(gdf_202010_to_202009_new['MST_start_date'].unique())\n",
    "\n",
    "# old_data_gdf['weekday_or_weekend'] = old_data_gdf['day_of_week'].apply(lambda x:'Weekend' if (x=='Saturday' or x=='Sunday')else 'Weekday')\n",
    "\n",
    "EI_trip_weekday_weekend = EI_gdf.groupby(by=['weekday_or_weekend']).count()['TripId']\n",
    "\n",
    "number_of_weekday_weekend = EI_gdf.groupby(by=['weekday_or_weekend'])['MST_start_date'].nunique()\n",
    "\n",
    "weekend_weekday_avg = pd.concat([EI_trip_weekday_weekend,number_of_weekday_weekend],axis=1)\\\n",
    ".rename(columns={'TripId':'number of EI trips','MST_start_date':'number of days'})\n",
    "weekend_weekday_avg['avg number of trips'] = round(weekend_weekday_avg['number of EI trips']/weekend_weekday_avg['number of days'],1)\n",
    "weekend_weekday_avg['number of EI trips'].apply(lambda x : \"{:,}\".format(x))\n",
    "print('EI trips breakdown on new trip data with range between '+str(start_new)+ ' and '+str(end_new))\n",
    "weekend_weekday_avg\n",
    "\n",
    "weekday_avg = weekend_weekday_avg.loc['Weekday']['avg number of trips']\n",
    "weekend_avg = weekend_weekday_avg.loc['Weekend']['avg number of trips']\n",
    "print('On average, there are {:,.0f} trips onto and off of Fort Carson per day'.format(total_number_of_EI_trips/number_of_days))\n",
    "print('On average, there are {:,.0f} trips onto and off of Fort Carson per day for weekdays'.format(weekday_avg))\n",
    "print('On average, there are {:,.0f} trips onto and off of Fort Carson per day for weekends'.format(weekend_avg))"
   ]
  },
  {
   "cell_type": "code",
   "execution_count": 29,
   "id": "0bc2963f",
   "metadata": {},
   "outputs": [
    {
     "data": {
      "text/plain": [
       "365"
      ]
     },
     "execution_count": 29,
     "metadata": {},
     "output_type": "execute_result"
    }
   ],
   "source": [
    "gdf_202010_to_202009_new.columns\n",
    "\n",
    "gdf_202010_to_202009_new['MST_start_date'].nunique()\n"
   ]
  },
  {
   "cell_type": "code",
   "execution_count": 144,
   "id": "f2cf63ff",
   "metadata": {},
   "outputs": [],
   "source": [
    "workday = gdf_202010_to_202009_new[(gdf_202010_to_202009_new['day_of_week']!='Saturday') &(gdf_202010_to_202009_new['day_of_week']!='Sunday') ]"
   ]
  },
  {
   "cell_type": "code",
   "execution_count": 145,
   "id": "1beb1f52",
   "metadata": {},
   "outputs": [
    {
     "name": "stdout",
     "output_type": "stream",
     "text": [
      "Total number of Each Type of Trips in weekday on new data:\n"
     ]
    },
    {
     "data": {
      "text/plain": [
       "GeospatialType\n",
       "EI     736212\n",
       "IE     735982\n",
       "II    1370871\n",
       "Name: TripId, dtype: int64"
      ]
     },
     "execution_count": 145,
     "metadata": {},
     "output_type": "execute_result"
    }
   ],
   "source": [
    "print('Total number of Each Type of Trips in weekday on new data:')\n",
    "workday.groupby(by = [\"GeospatialType\"]).count()['TripId']"
   ]
  },
  {
   "cell_type": "code",
   "execution_count": 146,
   "id": "4518d632",
   "metadata": {},
   "outputs": [
    {
     "name": "stdout",
     "output_type": "stream",
     "text": [
      "Total number of Each Type of Trips in weekday on old data:\n"
     ]
    },
    {
     "data": {
      "text/plain": [
       "GeospatialType\n",
       "EI     736509\n",
       "IE     736361\n",
       "II    1371246\n",
       "Name: TripId, dtype: int64"
      ]
     },
     "execution_count": 146,
     "metadata": {},
     "output_type": "execute_result"
    }
   ],
   "source": [
    "print('Total number of Each Type of Trips in weekday on old data:')\n",
    "old_data_workday.groupby(by = [\"GeospatialType\"]).count()['TripId']"
   ]
  },
  {
   "cell_type": "code",
   "execution_count": 147,
   "id": "840b473d",
   "metadata": {},
   "outputs": [
    {
     "name": "stdout",
     "output_type": "stream",
     "text": [
      "EI trip break down of old data between 2020-10-01 and 2021-09-30:\n",
      " \n",
      "Total number of EI trips in weekdays: 736509\n",
      "Total number of weekdays: 262\n",
      "\n",
      "On average, the number of EI trips per day on weekdays is: 2811.1\n",
      "Number of days for each workday:\n"
     ]
    },
    {
     "data": {
      "text/plain": [
       "day_of_week\n",
       "Friday       52\n",
       "Monday       52\n",
       "Thursday     53\n",
       "Tuesday      52\n",
       "Wednesday    53\n",
       "Name: MST_start_date, dtype: int64"
      ]
     },
     "execution_count": 147,
     "metadata": {},
     "output_type": "execute_result"
    }
   ],
   "source": [
    "number_of_EI_weekday = old_data_workday.groupby(by = [\"GeospatialType\"]).count()['TripId']['EI']\n",
    "number_of_weekdays = len(old_data_workday['MST_start_date'].unique())\n",
    "print('EI trip break down of old data between 2020-10-01 and 2021-09-30:\\n ')\n",
    "print('Total number of EI trips in weekdays:',number_of_EI_weekday)\n",
    "print('Total number of weekdays:',number_of_weekdays)\n",
    "print('\\nOn average, the number of EI trips per day on weekdays is: {:.1f}'.format(number_of_EI_weekday/number_of_weekdays))\n",
    "\n",
    "print('Number of days for each workday:')\n",
    "old_data_workday.groupby(by='day_of_week')['MST_start_date'].nunique()"
   ]
  },
  {
   "cell_type": "code",
   "execution_count": 148,
   "id": "23959aa3",
   "metadata": {},
   "outputs": [
    {
     "name": "stdout",
     "output_type": "stream",
     "text": [
      "EI trip break down of new data between 2020-10-01 and 2021-09-30\n",
      " \n",
      "Total number of EI trips in weekdays: 736212\n",
      "Total number of weekdays: 261\n",
      "\n",
      "On average, the number of EI trips per day on weekdays is: 2820.7\n",
      "Number of days for each workday:\n"
     ]
    },
    {
     "data": {
      "text/plain": [
       "day_of_week\n",
       "Friday       52\n",
       "Monday       52\n",
       "Thursday     53\n",
       "Tuesday      52\n",
       "Wednesday    52\n",
       "Name: MST_start_date, dtype: int64"
      ]
     },
     "execution_count": 148,
     "metadata": {},
     "output_type": "execute_result"
    }
   ],
   "source": [
    "number_of_EI_weekday = workday.groupby(by = [\"GeospatialType\"]).count()['TripId']['EI']\n",
    "number_of_weekdays = len(workday['MST_start_date'].unique())\n",
    "print('EI trip break down of new data between 2020-10-01 and 2021-09-30\\n ')\n",
    "print('Total number of EI trips in weekdays:',number_of_EI_weekday)\n",
    "print('Total number of weekdays:',number_of_weekdays)\n",
    "print('\\nOn average, the number of EI trips per day on weekdays is: {:.1f}'.format(number_of_EI_weekday/number_of_weekdays))\n",
    "\n",
    "print('Number of days for each workday:')\n",
    "workday.groupby(by='day_of_week')['MST_start_date'].nunique()"
   ]
  },
  {
   "cell_type": "code",
   "execution_count": 150,
   "id": "6b70e62a",
   "metadata": {},
   "outputs": [
    {
     "name": "stdout",
     "output_type": "stream",
     "text": [
      "EI trip breakdown by weekday/weekend for old data:\n",
      " \n"
     ]
    },
    {
     "data": {
      "text/html": [
       "<div>\n",
       "<style scoped>\n",
       "    .dataframe tbody tr th:only-of-type {\n",
       "        vertical-align: middle;\n",
       "    }\n",
       "\n",
       "    .dataframe tbody tr th {\n",
       "        vertical-align: top;\n",
       "    }\n",
       "\n",
       "    .dataframe thead th {\n",
       "        text-align: right;\n",
       "    }\n",
       "</style>\n",
       "<table border=\"1\" class=\"dataframe\">\n",
       "  <thead>\n",
       "    <tr style=\"text-align: right;\">\n",
       "      <th></th>\n",
       "      <th>number of EI trips</th>\n",
       "      <th>number of days</th>\n",
       "      <th>avg number of trips</th>\n",
       "    </tr>\n",
       "    <tr>\n",
       "      <th>weekday_or_weekend</th>\n",
       "      <th></th>\n",
       "      <th></th>\n",
       "      <th></th>\n",
       "    </tr>\n",
       "  </thead>\n",
       "  <tbody>\n",
       "    <tr>\n",
       "      <th>Weekday</th>\n",
       "      <td>736509</td>\n",
       "      <td>262</td>\n",
       "      <td>2811.1</td>\n",
       "    </tr>\n",
       "    <tr>\n",
       "      <th>Weekend</th>\n",
       "      <td>132612</td>\n",
       "      <td>104</td>\n",
       "      <td>1275.1</td>\n",
       "    </tr>\n",
       "  </tbody>\n",
       "</table>\n",
       "</div>"
      ],
      "text/plain": [
       "                    number of EI trips  number of days  avg number of trips\n",
       "weekday_or_weekend                                                         \n",
       "Weekday                         736509             262               2811.1\n",
       "Weekend                         132612             104               1275.1"
      ]
     },
     "execution_count": 150,
     "metadata": {},
     "output_type": "execute_result"
    }
   ],
   "source": [
    "old_data_gdf['weekday_or_weekend'] = old_data_gdf['day_of_week'].apply(lambda x:'Weekend' if (x=='Saturday' or x=='Sunday')else 'Weekday')\n",
    "\n",
    "EI_gdf = old_data_gdf.loc[old_data_gdf['GeospatialType']=='EI']\n",
    "\n",
    "total_number_of_EI_trips = len(EI_gdf)\n",
    "number_of_days = len(old_data_gdf['MST_start_date'].unique())\n",
    "\n",
    "# old_data_gdf['weekday_or_weekend'] = old_data_gdf['day_of_week'].apply(lambda x:'Weekend' if (x=='Saturday' or x=='Sunday')else 'Weekday')\n",
    "\n",
    "EI_trip_weekday_weekend = EI_gdf.groupby(by=['weekday_or_weekend']).count()['TripId']\n",
    "\n",
    "number_of_weekday_weekend = EI_gdf.groupby(by=['weekday_or_weekend'])['MST_start_date'].nunique()\n",
    "\n",
    "weekend_weekday_avg = pd.concat([EI_trip_weekday_weekend,number_of_weekday_weekend],axis=1)\\\n",
    ".rename(columns={'TripId':'number of EI trips','MST_start_date':'number of days'})\n",
    "weekend_weekday_avg['avg number of trips'] = round(weekend_weekday_avg['number of EI trips']/weekend_weekday_avg['number of days'],1)\n",
    "weekend_weekday_avg['number of EI trips'].apply(lambda x : \"{:,}\".format(x))\n",
    "print('EI trip breakdown by weekday/weekend for old data:\\n ')\n",
    "\n",
    "weekend_weekday_avg\n"
   ]
  },
  {
   "cell_type": "code",
   "execution_count": 167,
   "id": "7cd6f661",
   "metadata": {},
   "outputs": [
    {
     "name": "stdout",
     "output_type": "stream",
     "text": [
      "EI trip breakdown by weekday/weekend for new data:\n",
      " \n"
     ]
    },
    {
     "data": {
      "text/html": [
       "<div>\n",
       "<style scoped>\n",
       "    .dataframe tbody tr th:only-of-type {\n",
       "        vertical-align: middle;\n",
       "    }\n",
       "\n",
       "    .dataframe tbody tr th {\n",
       "        vertical-align: top;\n",
       "    }\n",
       "\n",
       "    .dataframe thead th {\n",
       "        text-align: right;\n",
       "    }\n",
       "</style>\n",
       "<table border=\"1\" class=\"dataframe\">\n",
       "  <thead>\n",
       "    <tr style=\"text-align: right;\">\n",
       "      <th></th>\n",
       "      <th>number of EI trips</th>\n",
       "      <th>number of days</th>\n",
       "      <th>avg number of trips</th>\n",
       "    </tr>\n",
       "    <tr>\n",
       "      <th>weekday_or_weekend</th>\n",
       "      <th></th>\n",
       "      <th></th>\n",
       "      <th></th>\n",
       "    </tr>\n",
       "  </thead>\n",
       "  <tbody>\n",
       "    <tr>\n",
       "      <th>Weekday</th>\n",
       "      <td>528658</td>\n",
       "      <td>284</td>\n",
       "      <td>1861.5</td>\n",
       "    </tr>\n",
       "    <tr>\n",
       "      <th>Weekend</th>\n",
       "      <td>94681</td>\n",
       "      <td>112</td>\n",
       "      <td>845.4</td>\n",
       "    </tr>\n",
       "  </tbody>\n",
       "</table>\n",
       "</div>"
      ],
      "text/plain": [
       "                    number of EI trips  number of days  avg number of trips\n",
       "weekday_or_weekend                                                         \n",
       "Weekday                         528658             284               1861.5\n",
       "Weekend                          94681             112                845.4"
      ]
     },
     "execution_count": 167,
     "metadata": {},
     "output_type": "execute_result"
    }
   ],
   "source": [
    "gdf['weekday_or_weekend'] = gdf['day_of_week'].apply(lambda x:'Weekend' if (x=='Saturday' or x=='Sunday')else 'Weekday')\n",
    "\n",
    "EI_gdf = gdf.loc[gdf['GeospatialType']=='EI']\n",
    "\n",
    "total_number_of_EI_trips = len(EI_gdf)\n",
    "number_of_days = len(gdf['MST_start_date'].unique())\n",
    "\n",
    "# old_data_gdf['weekday_or_weekend'] = old_data_gdf['day_of_week'].apply(lambda x:'Weekend' if (x=='Saturday' or x=='Sunday')else 'Weekday')\n",
    "\n",
    "EI_trip_weekday_weekend = EI_gdf.groupby(by=['weekday_or_weekend']).count()['TripId']\n",
    "\n",
    "number_of_weekday_weekend = EI_gdf.groupby(by=['weekday_or_weekend'])['MST_start_date'].nunique()\n",
    "\n",
    "weekend_weekday_avg = pd.concat([EI_trip_weekday_weekend,number_of_weekday_weekend],axis=1)\\\n",
    ".rename(columns={'TripId':'number of EI trips','MST_start_date':'number of days'})\n",
    "weekend_weekday_avg['avg number of trips'] = round(weekend_weekday_avg['number of EI trips']/weekend_weekday_avg['number of days'],1)\n",
    "weekend_weekday_avg['number of EI trips'].apply(lambda x : \"{:,}\".format(x))\n",
    "print('EI trip breakdown by weekday/weekend for new data:\\n ')\n",
    "\n",
    "weekend_weekday_avg"
   ]
  },
  {
   "cell_type": "code",
   "execution_count": 181,
   "id": "8e71ae61",
   "metadata": {},
   "outputs": [],
   "source": [
    "# start = old_data_gdf['MST_start_date'].min()\n",
    "# end = old_data_gdf['MST_start_date'].max()\n",
    "# start_new = gdf_202010_to_202009_new['MST_start_date'].min()\n",
    "# end_new = gdf_202010_to_202009_new['MST_start_date'].max()\n",
    "# print('Old trips dataset time range is between '+str(start)+ ' and '+str(end))\n",
    "# print('New trips dataset time range is between '+str(start_new)+ ' and '+str(end_new))\n"
   ]
  },
  {
   "cell_type": "code",
   "execution_count": 180,
   "id": "9af407b9",
   "metadata": {},
   "outputs": [],
   "source": [
    "# print('Total number of trips in old data is ' +str(len(old_gdf_202010_to_202009['TripId'].unique())))\n",
    "# print('Total number of trips in new data is ' +str(len(gdf_202010_to_202009_new['TripId'].unique())))\n"
   ]
  },
  {
   "cell_type": "code",
   "execution_count": 92,
   "id": "b9d90aef",
   "metadata": {},
   "outputs": [],
   "source": [
    "# gdf_20200930 = old_data_gdf[old_data_gdf['MST_start_date']== '2020-09-30']"
   ]
  },
  {
   "cell_type": "code",
   "execution_count": 179,
   "id": "ed8bbbe6",
   "metadata": {},
   "outputs": [],
   "source": [
    "# len(gdf_20200930['TripId'].unique())"
   ]
  },
  {
   "cell_type": "code",
   "execution_count": 151,
   "id": "a1a526fe",
   "metadata": {},
   "outputs": [],
   "source": [
    "# trip_df = pd.read_csv('trips (1).csv', keep_default_na=True, names=header)\n",
    "# small_trips_df = pd.read_csv('trips.csv1.csv', keep_default_na=True, names=header)"
   ]
  },
  {
   "cell_type": "code",
   "execution_count": 152,
   "id": "00a483c3",
   "metadata": {},
   "outputs": [],
   "source": [
    "# print('large data total number of trips: '+ str(len(trip_df['TripId'].unique())))\n",
    "# print('small data total number of trips: '+ str(len(small_trips_df['TripId'].unique())))\n",
    "\n",
    "# test = len(trip_df) + 1051"
   ]
  },
  {
   "cell_type": "code",
   "execution_count": null,
   "id": "9dabb912",
   "metadata": {},
   "outputs": [],
   "source": [
    "# trip_df['Startlocation'] = list(zip(trip_df.StartLocLat, trip_df.StartLocLon))\n",
    "# trip_df['Startlocation'] = trip_df['Startlocation'].apply(Point)\n",
    "\n",
    "# trip_df['Endlocation'] = list(zip(trip_df.EndLocLat, trip_df.EndLocLon))\n",
    "# trip_df['Endlocation'] = trip_df['Endlocation'].apply(Point)\n",
    "\n",
    "# trip_df= trip_df.drop(['Unnamed 31', 'Unnamed 32'], axis=1)\n",
    "\n",
    "# large_gdf = gpd.GeoDataFrame(trip_df)\n",
    "# large_gdf['MST_start_datetime'] = pd.to_datetime(large_gdf['StartDate']).apply(lambda x:x.astimezone('MST'))\n",
    "# large_gdf['MST_end_datetime'] = pd.to_datetime(large_gdf['EndDate']).apply(lambda x:x.astimezone('MST'))\n",
    "\n",
    "# large_gdf['MST_start_date'] = large_gdf['MST_start_datetime'].apply(lambda x:x.date())\n",
    "# large_gdf['MST_start_time'] = large_gdf['MST_start_datetime'].apply(lambda x:x.time())\n",
    "\n",
    "# large_gdf['MST_end_date'] = large_gdf['MST_end_datetime'].apply(lambda x:x.date())\n",
    "# large_gdf['MST_end_time'] = large_gdf['MST_end_datetime'].apply(lambda x:x.time())"
   ]
  },
  {
   "cell_type": "code",
   "execution_count": 117,
   "id": "7d9f57fa",
   "metadata": {},
   "outputs": [],
   "source": [
    "# small_trips_df['Startlocation'] = list(zip(trip_df.StartLocLat, small_trips_df.StartLocLon))\n",
    "# small_trips_df['Startlocation'] = small_trips_df['Startlocation'].apply(Point)\n",
    "\n",
    "# small_trips_df['Endlocation'] = list(zip(small_trips_df.EndLocLat, small_trips_df.EndLocLon))\n",
    "# small_trips_df['Endlocation'] = small_trips_df['Endlocation'].apply(Point)\n",
    "\n",
    "# # small_trips_df= small_trips_df.drop(['Unnamed 31', 'Unnamed 32'], axis=1)\n",
    "\n",
    "# small_gdf = gpd.GeoDataFrame(small_trips_df)\n",
    "# small_gdf['MST_start_datetime'] = pd.to_datetime(small_gdf['StartDate']).apply(lambda x:x.astimezone('MST'))\n",
    "# small_gdf['MST_end_datetime'] = pd.to_datetime(small_gdf['EndDate']).apply(lambda x:x.astimezone('MST'))\n",
    "\n",
    "# small_gdf['MST_start_date'] = small_gdf['MST_start_datetime'].apply(lambda x:x.date())\n",
    "# small_gdf['MST_start_time'] = small_gdf['MST_start_datetime'].apply(lambda x:x.time())\n",
    "\n",
    "# small_gdf['MST_end_date'] = small_gdf['MST_end_datetime'].apply(lambda x:x.date())\n",
    "# small_gdf['MST_end_time'] = small_gdf['MST_end_datetime'].apply(lambda x:x.time())"
   ]
  },
  {
   "cell_type": "code",
   "execution_count": 153,
   "id": "99567d68",
   "metadata": {},
   "outputs": [
    {
     "name": "stdout",
     "output_type": "stream",
     "text": [
      "2020-09-30 2021-09-30\n"
     ]
    }
   ],
   "source": [
    "print(old_data_gdf['MST_start_date'].min(), old_data_gdf['MST_start_date'].max())"
   ]
  },
  {
   "cell_type": "markdown",
   "id": "6c5b4490",
   "metadata": {},
   "source": [
    "### End of latest edit"
   ]
  }
 ],
 "metadata": {
  "kernelspec": {
   "display_name": "Python 3",
   "language": "python",
   "name": "python3"
  },
  "language_info": {
   "codemirror_mode": {
    "name": "ipython",
    "version": 3
   },
   "file_extension": ".py",
   "mimetype": "text/x-python",
   "name": "python",
   "nbconvert_exporter": "python",
   "pygments_lexer": "ipython3",
   "version": "3.8.8"
  }
 },
 "nbformat": 4,
 "nbformat_minor": 5
}
