{
 "cells": [
  {
   "cell_type": "code",
   "metadata": {
    "cell_id": "63dae04c-b51b-4bc8-b526-50c1260217f2",
    "deepnote_to_be_reexecuted": false,
    "source_hash": "9fa948f7",
    "execution_start": 1654719469170,
    "execution_millis": 2475,
    "deepnote_cell_type": "code",
    "deepnote_cell_height": 225
   },
   "source": "import pandas as pd\nfrom shapely.geometry import Point # Shapely for converting latitude/longtitude to geometry\nimport geopandas as gpd # To create GeodataFrame\nimport seaborn as sns\nimport matplotlib.pyplot as plt\nimport numpy as np\nimport warnings\nfrom datetime import datetime, timedelta\nwarnings.filterwarnings('ignore')",
   "execution_count": 1,
   "outputs": []
  },
  {
   "cell_type": "code",
   "metadata": {
    "cell_id": "00001-4abec473-c66c-4f35-8c9f-7abed67331cb",
    "deepnote_to_be_reexecuted": false,
    "source_hash": "4da3478f",
    "execution_start": 1654719471666,
    "execution_millis": 1078,
    "deepnote_cell_type": "code",
    "deepnote_cell_height": 117
   },
   "source": "original_df = pd.read_csv('/work/trips.csv')\nheader_df = pd.read_csv('/work/TripBulkReportTripsHeaders.csv')\ntrips_df = pd.concat([original_df,header_df])",
   "execution_count": 2,
   "outputs": []
  },
  {
   "cell_type": "code",
   "source": "# code below is used for new data set of (May 25 & May 26)\n\n# header = list(pd.read_csv('/work/TripBulkReportTripsHeaders.csv',keep_default_na=True))\n# header.append('Unnamed 31')\n# header.append('Unnamed 32')\n# trips_df = pd.read_csv('/work/trips_new.csv', keep_default_na=True, names=header)",
   "metadata": {
    "cell_id": "a902dd28f7e6481b9f6b7ea4771c4f6e",
    "tags": [],
    "deepnote_to_be_reexecuted": false,
    "source_hash": "a055563a",
    "execution_start": 1654719472756,
    "execution_millis": 22,
    "deepnote_cell_type": "code",
    "deepnote_cell_height": 171
   },
   "outputs": [],
   "execution_count": 3
  },
  {
   "cell_type": "code",
   "metadata": {
    "cell_id": "00002-6cdbea82-25c2-4e2a-af21-25ecb98c46e1",
    "deepnote_to_be_reexecuted": false,
    "source_hash": "6be1ddc6",
    "execution_start": 1654719472794,
    "execution_millis": 124,
    "deepnote_cell_type": "code",
    "deepnote_cell_height": 395
   },
   "source": "trips_df.head()",
   "execution_count": 4,
   "outputs": [
    {
     "output_type": "execute_result",
     "execution_count": 4,
     "data": {
      "application/vnd.deepnote.dataframe.v3+json": {
       "column_count": 33,
       "row_count": 5,
       "columns": [
        {
         "name": "TripId",
         "dtype": "object",
         "stats": {
          "unique_count": 5,
          "nan_count": 0,
          "categories": [
           {
            "name": "a939d5d8c9b52b5265161bfa93054f0a",
            "count": 1
           },
           {
            "name": "88180c2feb14c8520f169e4bda526313",
            "count": 1
           },
           {
            "name": "3 others",
            "count": 3
           }
          ]
         }
        },
        {
         "name": "DeviceId",
         "dtype": "object",
         "stats": {
          "unique_count": 5,
          "nan_count": 0,
          "categories": [
           {
            "name": "0006da8402c807c4be339cab03f9d498",
            "count": 1
           },
           {
            "name": "009ef4b15eadd773468cd2bfdff6eb54",
            "count": 1
           },
           {
            "name": "3 others",
            "count": 3
           }
          ]
         }
        },
        {
         "name": "ProviderId",
         "dtype": "object",
         "stats": {
          "unique_count": 2,
          "nan_count": 0,
          "categories": [
           {
            "name": "74071a673307ca7459bcf75fbd024e09",
            "count": 3
           },
           {
            "name": "d07e70efcfab08731a97e7b91be644de",
            "count": 2
           }
          ]
         }
        },
        {
         "name": "Mode",
         "dtype": "object",
         "stats": {
          "unique_count": 2,
          "nan_count": 0,
          "categories": [
           {
            "name": "1",
            "count": 4
           },
           {
            "name": "0",
            "count": 1
           }
          ]
         }
        },
        {
         "name": "StartDate",
         "dtype": "object",
         "stats": {
          "unique_count": 5,
          "nan_count": 0,
          "categories": [
           {
            "name": "2022-05-11T20:19:31.000Z",
            "count": 1
           },
           {
            "name": "2022-05-14T21:07:54.000Z",
            "count": 1
           },
           {
            "name": "3 others",
            "count": 3
           }
          ]
         }
        },
        {
         "name": "StartWDay",
         "dtype": "object",
         "stats": {
          "unique_count": 3,
          "nan_count": 0,
          "categories": [
           {
            "name": "3",
            "count": 3
           },
           {
            "name": "6",
            "count": 1
           },
           {
            "name": "5",
            "count": 1
           }
          ]
         }
        },
        {
         "name": "EndDate",
         "dtype": "object",
         "stats": {
          "unique_count": 5,
          "nan_count": 0,
          "categories": [
           {
            "name": "2022-05-11T20:22:52.000Z",
            "count": 1
           },
           {
            "name": "2022-05-14T21:58:03.000Z",
            "count": 1
           },
           {
            "name": "3 others",
            "count": 3
           }
          ]
         }
        },
        {
         "name": "EndWDay",
         "dtype": "object",
         "stats": {
          "unique_count": 3,
          "nan_count": 0,
          "categories": [
           {
            "name": "3",
            "count": 3
           },
           {
            "name": "6",
            "count": 1
           },
           {
            "name": "5",
            "count": 1
           }
          ]
         }
        },
        {
         "name": "StartLocLat",
         "dtype": "float64",
         "stats": {
          "unique_count": 5,
          "nan_count": 0,
          "min": "30.18252",
          "max": "38.75461",
          "histogram": [
           {
            "bin_start": 30.18252,
            "bin_end": 31.039729,
            "count": 1
           },
           {
            "bin_start": 31.039729,
            "bin_end": 31.896938,
            "count": 0
           },
           {
            "bin_start": 31.896938,
            "bin_end": 32.754147,
            "count": 0
           },
           {
            "bin_start": 32.754147,
            "bin_end": 33.611356,
            "count": 0
           },
           {
            "bin_start": 33.611356,
            "bin_end": 34.468565,
            "count": 0
           },
           {
            "bin_start": 34.468565,
            "bin_end": 35.325773999999996,
            "count": 0
           },
           {
            "bin_start": 35.325773999999996,
            "bin_end": 36.182983,
            "count": 0
           },
           {
            "bin_start": 36.182983,
            "bin_end": 37.040192,
            "count": 0
           },
           {
            "bin_start": 37.040192,
            "bin_end": 37.897401,
            "count": 0
           },
           {
            "bin_start": 37.897401,
            "bin_end": 38.75461,
            "count": 4
           }
          ]
         }
        },
        {
         "name": "StartLocLon",
         "dtype": "float64",
         "stats": {
          "unique_count": 5,
          "nan_count": 0,
          "min": "-104.78828",
          "max": "-96.93443",
          "histogram": [
           {
            "bin_start": -104.78828,
            "bin_end": -104.002895,
            "count": 4
           },
           {
            "bin_start": -104.002895,
            "bin_end": -103.21751,
            "count": 0
           },
           {
            "bin_start": -103.21751,
            "bin_end": -102.432125,
            "count": 0
           },
           {
            "bin_start": -102.432125,
            "bin_end": -101.64674000000001,
            "count": 0
           },
           {
            "bin_start": -101.64674000000001,
            "bin_end": -100.861355,
            "count": 0
           },
           {
            "bin_start": -100.861355,
            "bin_end": -100.07597,
            "count": 0
           },
           {
            "bin_start": -100.07597,
            "bin_end": -99.29058500000001,
            "count": 0
           },
           {
            "bin_start": -99.29058500000001,
            "bin_end": -98.5052,
            "count": 0
           },
           {
            "bin_start": -98.5052,
            "bin_end": -97.71981500000001,
            "count": 0
           },
           {
            "bin_start": -97.71981500000001,
            "bin_end": -96.93443,
            "count": 1
           }
          ]
         }
        },
        {
         "name": "EndLocLat",
         "dtype": "float64",
         "stats": {
          "unique_count": 5,
          "nan_count": 0,
          "min": "30.18015",
          "max": "38.74819",
          "histogram": [
           {
            "bin_start": 30.18015,
            "bin_end": 31.036954,
            "count": 1
           },
           {
            "bin_start": 31.036954,
            "bin_end": 31.893758000000002,
            "count": 0
           },
           {
            "bin_start": 31.893758000000002,
            "bin_end": 32.750562,
            "count": 0
           },
           {
            "bin_start": 32.750562,
            "bin_end": 33.607366,
            "count": 0
           },
           {
            "bin_start": 33.607366,
            "bin_end": 34.46417,
            "count": 0
           },
           {
            "bin_start": 34.46417,
            "bin_end": 35.320974,
            "count": 0
           },
           {
            "bin_start": 35.320974,
            "bin_end": 36.177778,
            "count": 0
           },
           {
            "bin_start": 36.177778,
            "bin_end": 37.034582,
            "count": 0
           },
           {
            "bin_start": 37.034582,
            "bin_end": 37.891386000000004,
            "count": 0
           },
           {
            "bin_start": 37.891386000000004,
            "bin_end": 38.74819,
            "count": 4
           }
          ]
         }
        },
        {
         "name": "EndLocLon",
         "dtype": "float64",
         "stats": {
          "unique_count": 5,
          "nan_count": 0,
          "min": "-104.78828",
          "max": "-96.91383",
          "histogram": [
           {
            "bin_start": -104.78828,
            "bin_end": -104.000835,
            "count": 4
           },
           {
            "bin_start": -104.000835,
            "bin_end": -103.21339,
            "count": 0
           },
           {
            "bin_start": -103.21339,
            "bin_end": -102.425945,
            "count": 0
           },
           {
            "bin_start": -102.425945,
            "bin_end": -101.63850000000001,
            "count": 0
           },
           {
            "bin_start": -101.63850000000001,
            "bin_end": -100.851055,
            "count": 0
           },
           {
            "bin_start": -100.851055,
            "bin_end": -100.06361,
            "count": 0
           },
           {
            "bin_start": -100.06361,
            "bin_end": -99.276165,
            "count": 0
           },
           {
            "bin_start": -99.276165,
            "bin_end": -98.48872,
            "count": 0
           },
           {
            "bin_start": -98.48872,
            "bin_end": -97.70127500000001,
            "count": 0
           },
           {
            "bin_start": -97.70127500000001,
            "bin_end": -96.91383,
            "count": 1
           }
          ]
         }
        },
        {
         "name": "GeospatialType",
         "dtype": "object",
         "stats": {
          "unique_count": 3,
          "nan_count": 0,
          "categories": [
           {
            "name": "EI",
            "count": 3
           },
           {
            "name": "II",
            "count": 1
           },
           {
            "name": "IE",
            "count": 1
           }
          ]
         }
        },
        {
         "name": "ProviderType",
         "dtype": "object",
         "stats": {
          "unique_count": 1,
          "nan_count": 0,
          "categories": [
           {
            "name": "1",
            "count": 5
           }
          ]
         }
        },
        {
         "name": "ProviderDrivingProfile",
         "dtype": "object",
         "stats": {
          "unique_count": 1,
          "nan_count": 0,
          "categories": [
           {
            "name": "1",
            "count": 5
           }
          ]
         }
        },
        {
         "name": "VehicleWeightClass",
         "dtype": "object",
         "stats": {
          "unique_count": 1,
          "nan_count": 0,
          "categories": [
           {
            "name": "1",
            "count": 5
           }
          ]
         }
        },
        {
         "name": "ProbeSourceType",
         "dtype": "object",
         "stats": {
          "unique_count": 2,
          "nan_count": 0,
          "categories": [
           {
            "name": "2",
            "count": 3
           },
           {
            "name": "1",
            "count": 2
           }
          ]
         }
        },
        {
         "name": "OriginZoneName",
         "dtype": "object",
         "stats": {
          "unique_count": 1,
          "nan_count": 3,
          "categories": [
           {
            "name": "Fort Carson CO",
            "count": 2
           },
           {
            "name": "Missing",
            "count": 3
           }
          ]
         }
        },
        {
         "name": "DestinationZoneName",
         "dtype": "object",
         "stats": {
          "unique_count": 2,
          "nan_count": 1,
          "categories": [
           {
            "name": "Fort Carson CO",
            "count": 3
           },
           {
            "name": "Buc-ee's Giddings TX",
            "count": 1
           },
           {
            "name": "Missing",
            "count": 1
           }
          ]
         }
        },
        {
         "name": "EndpointType",
         "dtype": "object",
         "stats": {
          "unique_count": 2,
          "nan_count": 0,
          "categories": [
           {
            "name": "3",
            "count": 4
           },
           {
            "name": "2",
            "count": 1
           }
          ]
         }
        },
        {
         "name": "TripMeanSpeedKph",
         "dtype": "float64",
         "stats": {
          "unique_count": 5,
          "nan_count": 0,
          "min": "6.108307693",
          "max": "108.2067285",
          "histogram": [
           {
            "bin_start": 6.108307693,
            "bin_end": 16.3181497737,
            "count": 1
           },
           {
            "bin_start": 16.3181497737,
            "bin_end": 26.5279918544,
            "count": 0
           },
           {
            "bin_start": 26.5279918544,
            "bin_end": 36.7378339351,
            "count": 1
           },
           {
            "bin_start": 36.7378339351,
            "bin_end": 46.9476760158,
            "count": 1
           },
           {
            "bin_start": 46.9476760158,
            "bin_end": 57.1575180965,
            "count": 0
           },
           {
            "bin_start": 57.1575180965,
            "bin_end": 67.3673601772,
            "count": 1
           },
           {
            "bin_start": 67.3673601772,
            "bin_end": 77.5772022579,
            "count": 0
           },
           {
            "bin_start": 77.5772022579,
            "bin_end": 87.7870443386,
            "count": 0
           },
           {
            "bin_start": 87.7870443386,
            "bin_end": 97.9968864193,
            "count": 0
           },
           {
            "bin_start": 97.9968864193,
            "bin_end": 108.2067285,
            "count": 1
           }
          ]
         }
        },
        {
         "name": "TripMaxSpeedKph",
         "dtype": "float64",
         "stats": {
          "unique_count": 5,
          "nan_count": 0,
          "min": "10.71996025",
          "max": "222.233945",
          "histogram": [
           {
            "bin_start": 10.71996025,
            "bin_end": 31.871358725,
            "count": 1
           },
           {
            "bin_start": 31.871358725,
            "bin_end": 53.0227572,
            "count": 0
           },
           {
            "bin_start": 53.0227572,
            "bin_end": 74.17415567500001,
            "count": 0
           },
           {
            "bin_start": 74.17415567500001,
            "bin_end": 95.32555415,
            "count": 1
           },
           {
            "bin_start": 95.32555415,
            "bin_end": 116.47695262500001,
            "count": 0
           },
           {
            "bin_start": 116.47695262500001,
            "bin_end": 137.6283511,
            "count": 1
           },
           {
            "bin_start": 137.6283511,
            "bin_end": 158.77974957499998,
            "count": 0
           },
           {
            "bin_start": 158.77974957499998,
            "bin_end": 179.93114805,
            "count": 1
           },
           {
            "bin_start": 179.93114805,
            "bin_end": 201.082546525,
            "count": 0
           },
           {
            "bin_start": 201.082546525,
            "bin_end": 222.233945,
            "count": 1
           }
          ]
         }
        },
        {
         "name": "TripDistanceMeters",
         "dtype": "float64",
         "stats": {
          "unique_count": 5,
          "nan_count": 0,
          "min": "811.0475215",
          "max": "41419.13109",
          "histogram": [
           {
            "bin_start": 811.0475215,
            "bin_end": 4871.85587835,
            "count": 2
           },
           {
            "bin_start": 4871.85587835,
            "bin_end": 8932.664235200002,
            "count": 0
           },
           {
            "bin_start": 8932.664235200002,
            "bin_end": 12993.472592050002,
            "count": 1
           },
           {
            "bin_start": 12993.472592050002,
            "bin_end": 17054.280948900003,
            "count": 0
           },
           {
            "bin_start": 17054.280948900003,
            "bin_end": 21115.089305750003,
            "count": 0
           },
           {
            "bin_start": 21115.089305750003,
            "bin_end": 25175.897662600004,
            "count": 0
           },
           {
            "bin_start": 25175.897662600004,
            "bin_end": 29236.706019450005,
            "count": 1
           },
           {
            "bin_start": 29236.706019450005,
            "bin_end": 33297.5143763,
            "count": 0
           },
           {
            "bin_start": 33297.5143763,
            "bin_end": 37358.32273315,
            "count": 0
           },
           {
            "bin_start": 37358.32273315,
            "bin_end": 41419.13109,
            "count": 1
           }
          ]
         }
        },
        {
         "name": "MovementType",
         "dtype": "object",
         "stats": {
          "unique_count": 1,
          "nan_count": 0,
          "categories": [
           {
            "name": "1",
            "count": 5
           }
          ]
         }
        },
        {
         "name": "OriginCbg",
         "dtype": "float64",
         "stats": {
          "unique_count": 0,
          "nan_count": 5,
          "min": null,
          "max": null,
          "histogram": [
           {
            "bin_start": 0,
            "bin_end": 0.1,
            "count": 0
           },
           {
            "bin_start": 0.1,
            "bin_end": 0.2,
            "count": 0
           },
           {
            "bin_start": 0.2,
            "bin_end": 0.30000000000000004,
            "count": 0
           },
           {
            "bin_start": 0.30000000000000004,
            "bin_end": 0.4,
            "count": 0
           },
           {
            "bin_start": 0.4,
            "bin_end": 0.5,
            "count": 0
           },
           {
            "bin_start": 0.5,
            "bin_end": 0.6000000000000001,
            "count": 0
           },
           {
            "bin_start": 0.6000000000000001,
            "bin_end": 0.7000000000000001,
            "count": 0
           },
           {
            "bin_start": 0.7000000000000001,
            "bin_end": 0.8,
            "count": 0
           },
           {
            "bin_start": 0.8,
            "bin_end": 0.9,
            "count": 0
           },
           {
            "bin_start": 0.9,
            "bin_end": 1,
            "count": 0
           }
          ]
         }
        },
        {
         "name": "DestCbg",
         "dtype": "float64",
         "stats": {
          "unique_count": 0,
          "nan_count": 5,
          "min": null,
          "max": null,
          "histogram": [
           {
            "bin_start": 0,
            "bin_end": 0.1,
            "count": 0
           },
           {
            "bin_start": 0.1,
            "bin_end": 0.2,
            "count": 0
           },
           {
            "bin_start": 0.2,
            "bin_end": 0.30000000000000004,
            "count": 0
           },
           {
            "bin_start": 0.30000000000000004,
            "bin_end": 0.4,
            "count": 0
           },
           {
            "bin_start": 0.4,
            "bin_end": 0.5,
            "count": 0
           },
           {
            "bin_start": 0.5,
            "bin_end": 0.6000000000000001,
            "count": 0
           },
           {
            "bin_start": 0.6000000000000001,
            "bin_end": 0.7000000000000001,
            "count": 0
           },
           {
            "bin_start": 0.7000000000000001,
            "bin_end": 0.8,
            "count": 0
           },
           {
            "bin_start": 0.8,
            "bin_end": 0.9,
            "count": 0
           },
           {
            "bin_start": 0.9,
            "bin_end": 1,
            "count": 0
           }
          ]
         }
        },
        {
         "name": "StartTimezone",
         "dtype": "object",
         "stats": {
          "unique_count": 2,
          "nan_count": 0,
          "categories": [
           {
            "name": "America/Denver",
            "count": 4
           },
           {
            "name": "America/Chicago",
            "count": 1
           }
          ]
         }
        },
        {
         "name": "EndTimezone",
         "dtype": "object",
         "stats": {
          "unique_count": 2,
          "nan_count": 0,
          "categories": [
           {
            "name": "America/Denver",
            "count": 4
           },
           {
            "name": "America/Chicago",
            "count": 1
           }
          ]
         }
        },
        {
         "name": "WaypointFreqSec",
         "dtype": "float64",
         "stats": {
          "unique_count": 0,
          "nan_count": 5,
          "min": null,
          "max": null,
          "histogram": [
           {
            "bin_start": 0,
            "bin_end": 0.1,
            "count": 0
           },
           {
            "bin_start": 0.1,
            "bin_end": 0.2,
            "count": 0
           },
           {
            "bin_start": 0.2,
            "bin_end": 0.30000000000000004,
            "count": 0
           },
           {
            "bin_start": 0.30000000000000004,
            "bin_end": 0.4,
            "count": 0
           },
           {
            "bin_start": 0.4,
            "bin_end": 0.5,
            "count": 0
           },
           {
            "bin_start": 0.5,
            "bin_end": 0.6000000000000001,
            "count": 0
           },
           {
            "bin_start": 0.6000000000000001,
            "bin_end": 0.7000000000000001,
            "count": 0
           },
           {
            "bin_start": 0.7000000000000001,
            "bin_end": 0.8,
            "count": 0
           },
           {
            "bin_start": 0.8,
            "bin_end": 0.9,
            "count": 0
           },
           {
            "bin_start": 0.9,
            "bin_end": 1,
            "count": 0
           }
          ]
         }
        },
        {
         "name": "StartQk",
         "dtype": "float64",
         "stats": {
          "unique_count": 2,
          "nan_count": 0,
          "min": "2.31012e+16",
          "max": "2.31301e+16",
          "histogram": [
           {
            "bin_start": 23101200000000000,
            "bin_end": 23104090000000000,
            "count": 4
           },
           {
            "bin_start": 23104090000000000,
            "bin_end": 23106980000000000,
            "count": 0
           },
           {
            "bin_start": 23106980000000000,
            "bin_end": 23109870000000000,
            "count": 0
           },
           {
            "bin_start": 23109870000000000,
            "bin_end": 23112760000000000,
            "count": 0
           },
           {
            "bin_start": 23112760000000000,
            "bin_end": 23115650000000000,
            "count": 0
           },
           {
            "bin_start": 23115650000000000,
            "bin_end": 23118540000000000,
            "count": 0
           },
           {
            "bin_start": 23118540000000000,
            "bin_end": 23121430000000000,
            "count": 0
           },
           {
            "bin_start": 23121430000000000,
            "bin_end": 23124320000000000,
            "count": 0
           },
           {
            "bin_start": 23124320000000000,
            "bin_end": 23127210000000000,
            "count": 0
           },
           {
            "bin_start": 23127210000000000,
            "bin_end": 23130100000000000,
            "count": 1
           }
          ]
         }
        },
        {
         "name": "EndQk",
         "dtype": "float64",
         "stats": {
          "unique_count": 2,
          "nan_count": 0,
          "min": "2.31012e+16",
          "max": "2.31301e+16",
          "histogram": [
           {
            "bin_start": 23101200000000000,
            "bin_end": 23104090000000000,
            "count": 4
           },
           {
            "bin_start": 23104090000000000,
            "bin_end": 23106980000000000,
            "count": 0
           },
           {
            "bin_start": 23106980000000000,
            "bin_end": 23109870000000000,
            "count": 0
           },
           {
            "bin_start": 23109870000000000,
            "bin_end": 23112760000000000,
            "count": 0
           },
           {
            "bin_start": 23112760000000000,
            "bin_end": 23115650000000000,
            "count": 0
           },
           {
            "bin_start": 23115650000000000,
            "bin_end": 23118540000000000,
            "count": 0
           },
           {
            "bin_start": 23118540000000000,
            "bin_end": 23121430000000000,
            "count": 0
           },
           {
            "bin_start": 23121430000000000,
            "bin_end": 23124320000000000,
            "count": 0
           },
           {
            "bin_start": 23124320000000000,
            "bin_end": 23127210000000000,
            "count": 0
           },
           {
            "bin_start": 23127210000000000,
            "bin_end": 23130100000000000,
            "count": 1
           }
          ]
         }
        },
        {
         "name": "Unnamed: 31",
         "dtype": "object",
         "stats": {
          "unique_count": 2,
          "nan_count": 2,
          "categories": [
           {
            "name": "{\\method\\\":\\\"fused\\\"",
            "count": 2
           },
           {
            "name": "{\\method\\\":\\\"gps\\\"",
            "count": 1
           },
           {
            "name": "Missing",
            "count": 2
           }
          ]
         }
        },
        {
         "name": "Unnamed: 32",
         "dtype": "object",
         "stats": {
          "unique_count": 2,
          "nan_count": 2,
          "categories": [
           {
            "name": "\\\"aid_type\\\":\\\"AAID\\\"}\"",
            "count": 2
           },
           {
            "name": "\\\"aid_type\\\":\\\"IDFA\\\"}\"",
            "count": 1
           },
           {
            "name": "Missing",
            "count": 2
           }
          ]
         }
        },
        {
         "name": "_deepnote_index_column",
         "dtype": "int64"
        }
       ],
       "rows": [
        {
         "TripId": "a939d5d8c9b52b5265161bfa93054f0a",
         "DeviceId": "0006da8402c807c4be339cab03f9d498",
         "ProviderId": "d07e70efcfab08731a97e7b91be644de",
         "Mode": "1",
         "StartDate": "2022-05-11T20:19:31.000Z",
         "StartWDay": "3",
         "EndDate": "2022-05-11T20:22:52.000Z",
         "EndWDay": "3",
         "StartLocLat": 30.18252,
         "StartLocLon": -96.93443,
         "EndLocLat": 30.18015,
         "EndLocLon": -96.91383,
         "GeospatialType": "EI",
         "ProviderType": "1",
         "ProviderDrivingProfile": "1",
         "VehicleWeightClass": "1",
         "ProbeSourceType": "1",
         "OriginZoneName": "nan",
         "DestinationZoneName": "Buc-ee's Giddings TX",
         "EndpointType": "3",
         "TripMeanSpeedKph": 36.9896129,
         "TripMaxSpeedKph": 92.61582882,
         "TripDistanceMeters": 2065.253387,
         "MovementType": "1",
         "OriginCbg": "nan",
         "DestCbg": "nan",
         "StartTimezone": "America/Chicago",
         "EndTimezone": "America/Chicago",
         "WaypointFreqSec": "nan",
         "StartQk": 23130100000000000,
         "EndQk": 23130100000000000,
         "Unnamed: 31": "nan",
         "Unnamed: 32": "nan",
         "_deepnote_index_column": 0
        },
        {
         "TripId": "88180c2feb14c8520f169e4bda526313",
         "DeviceId": "009ef4b15eadd773468cd2bfdff6eb54",
         "ProviderId": "74071a673307ca7459bcf75fbd024e09",
         "Mode": "1",
         "StartDate": "2022-05-14T21:07:54.000Z",
         "StartWDay": "6",
         "EndDate": "2022-05-14T21:58:03.000Z",
         "EndWDay": "6",
         "StartLocLat": 38.27969,
         "StartLocLon": -104.52873,
         "EndLocLat": 38.34004,
         "EndLocLon": -104.67292,
         "GeospatialType": "EI",
         "ProviderType": "1",
         "ProviderDrivingProfile": "1",
         "VehicleWeightClass": "1",
         "ProbeSourceType": "2",
         "OriginZoneName": "nan",
         "DestinationZoneName": "Fort Carson CO",
         "EndpointType": "3",
         "TripMeanSpeedKph": 34.57612958,
         "TripMaxSpeedKph": 222.233945,
         "TripDistanceMeters": 28899.88164,
         "MovementType": "1",
         "OriginCbg": "nan",
         "DestCbg": "nan",
         "StartTimezone": "America/Denver",
         "EndTimezone": "America/Denver",
         "WaypointFreqSec": "nan",
         "StartQk": 23101200000000000,
         "EndQk": 23101200000000000,
         "Unnamed: 31": "{\\method\\\":\\\"fused\\\"",
         "Unnamed: 32": "\\\"aid_type\\\":\\\"AAID\\\"}\"",
         "_deepnote_index_column": 1
        },
        {
         "TripId": "a4d0936eb3b45ff1a5af8885939fbcd5",
         "DeviceId": "011dbfd3e177545535328ba48377522f",
         "ProviderId": "74071a673307ca7459bcf75fbd024e09",
         "Mode": "0",
         "StartDate": "2022-05-13T21:40:44.000Z",
         "StartWDay": "5",
         "EndDate": "2022-05-13T21:48:42.000Z",
         "EndWDay": "5",
         "StartLocLat": 38.75461,
         "StartLocLon": -104.78828,
         "EndLocLat": 38.74819,
         "EndLocLon": -104.78828,
         "GeospatialType": "II",
         "ProviderType": "1",
         "ProviderDrivingProfile": "1",
         "VehicleWeightClass": "1",
         "ProbeSourceType": "2",
         "OriginZoneName": "Fort Carson CO",
         "DestinationZoneName": "Fort Carson CO",
         "EndpointType": "3",
         "TripMeanSpeedKph": 6.108307693,
         "TripMaxSpeedKph": 10.71996025,
         "TripDistanceMeters": 811.0475215,
         "MovementType": "1",
         "OriginCbg": "nan",
         "DestCbg": "nan",
         "StartTimezone": "America/Denver",
         "EndTimezone": "America/Denver",
         "WaypointFreqSec": "nan",
         "StartQk": 23101200000000000,
         "EndQk": 23101200000000000,
         "Unnamed: 31": "{\\method\\\":\\\"fused\\\"",
         "Unnamed: 32": "\\\"aid_type\\\":\\\"AAID\\\"}\"",
         "_deepnote_index_column": 2
        },
        {
         "TripId": "a04c70dd5a17f8f54b7a5576951da0c5",
         "DeviceId": "014b33b72b76a3ba8cbb621009408974",
         "ProviderId": "d07e70efcfab08731a97e7b91be644de",
         "Mode": "1",
         "StartDate": "2022-05-11T23:37:31.000Z",
         "StartWDay": "3",
         "EndDate": "2022-05-11T23:47:49.000Z",
         "EndWDay": "3",
         "StartLocLat": 38.67639,
         "StartLocLon": -104.70588,
         "EndLocLat": 38.73319,
         "EndLocLon": -104.77867,
         "GeospatialType": "EI",
         "ProviderType": "1",
         "ProviderDrivingProfile": "1",
         "VehicleWeightClass": "1",
         "ProbeSourceType": "1",
         "OriginZoneName": "nan",
         "DestinationZoneName": "Fort Carson CO",
         "EndpointType": "3",
         "TripMeanSpeedKph": 64.42477686,
         "TripMaxSpeedKph": 125.7532355,
         "TripDistanceMeters": 11059.58669,
         "MovementType": "1",
         "OriginCbg": "nan",
         "DestCbg": "nan",
         "StartTimezone": "America/Denver",
         "EndTimezone": "America/Denver",
         "WaypointFreqSec": "nan",
         "StartQk": 23101200000000000,
         "EndQk": 23101200000000000,
         "Unnamed: 31": "nan",
         "Unnamed: 32": "nan",
         "_deepnote_index_column": 3
        },
        {
         "TripId": "509bba65db0e6495bb35e615f823350c",
         "DeviceId": "014ed4fc9ea19b744e0eb3a0b1d72bb1",
         "ProviderId": "74071a673307ca7459bcf75fbd024e09",
         "Mode": "1",
         "StartDate": "2022-05-12T00:14:40.000Z",
         "StartWDay": "3",
         "EndDate": "2022-05-12T00:37:38.000Z",
         "EndWDay": "3",
         "StartLocLat": 38.55622,
         "StartLocLon": -104.64958,
         "EndLocLat": 38.2193,
         "EndLocLon": -104.6537,
         "GeospatialType": "IE",
         "ProviderType": "1",
         "ProviderDrivingProfile": "1",
         "VehicleWeightClass": "1",
         "ProbeSourceType": "2",
         "OriginZoneName": "Fort Carson CO",
         "DestinationZoneName": "nan",
         "EndpointType": "2",
         "TripMeanSpeedKph": 108.2067285,
         "TripMaxSpeedKph": 167.958871,
         "TripDistanceMeters": 41419.13109,
         "MovementType": "1",
         "OriginCbg": "nan",
         "DestCbg": "nan",
         "StartTimezone": "America/Denver",
         "EndTimezone": "America/Denver",
         "WaypointFreqSec": "nan",
         "StartQk": 23101200000000000,
         "EndQk": 23101200000000000,
         "Unnamed: 31": "{\\method\\\":\\\"gps\\\"",
         "Unnamed: 32": "\\\"aid_type\\\":\\\"IDFA\\\"}\"",
         "_deepnote_index_column": 4
        }
       ]
      },
      "text/plain": "                             TripId                          DeviceId  \\\n0  a939d5d8c9b52b5265161bfa93054f0a  0006da8402c807c4be339cab03f9d498   \n1  88180c2feb14c8520f169e4bda526313  009ef4b15eadd773468cd2bfdff6eb54   \n2  a4d0936eb3b45ff1a5af8885939fbcd5  011dbfd3e177545535328ba48377522f   \n3  a04c70dd5a17f8f54b7a5576951da0c5  014b33b72b76a3ba8cbb621009408974   \n4  509bba65db0e6495bb35e615f823350c  014ed4fc9ea19b744e0eb3a0b1d72bb1   \n\n                         ProviderId Mode                 StartDate StartWDay  \\\n0  d07e70efcfab08731a97e7b91be644de    1  2022-05-11T20:19:31.000Z         3   \n1  74071a673307ca7459bcf75fbd024e09    1  2022-05-14T21:07:54.000Z         6   \n2  74071a673307ca7459bcf75fbd024e09    0  2022-05-13T21:40:44.000Z         5   \n3  d07e70efcfab08731a97e7b91be644de    1  2022-05-11T23:37:31.000Z         3   \n4  74071a673307ca7459bcf75fbd024e09    1  2022-05-12T00:14:40.000Z         3   \n\n                    EndDate EndWDay  StartLocLat  StartLocLon  ...  \\\n0  2022-05-11T20:22:52.000Z       3     30.18252    -96.93443  ...   \n1  2022-05-14T21:58:03.000Z       6     38.27969   -104.52873  ...   \n2  2022-05-13T21:48:42.000Z       5     38.75461   -104.78828  ...   \n3  2022-05-11T23:47:49.000Z       3     38.67639   -104.70588  ...   \n4  2022-05-12T00:37:38.000Z       3     38.55622   -104.64958  ...   \n\n   MovementType  OriginCbg DestCbg    StartTimezone      EndTimezone  \\\n0             1        NaN     NaN  America/Chicago  America/Chicago   \n1             1        NaN     NaN   America/Denver   America/Denver   \n2             1        NaN     NaN   America/Denver   America/Denver   \n3             1        NaN     NaN   America/Denver   America/Denver   \n4             1        NaN     NaN   America/Denver   America/Denver   \n\n  WaypointFreqSec       StartQk         EndQk           Unnamed: 31  \\\n0             NaN  2.313010e+16  2.313010e+16                   NaN   \n1             NaN  2.310120e+16  2.310120e+16  {\\method\\\":\\\"fused\\\"   \n2             NaN  2.310120e+16  2.310120e+16  {\\method\\\":\\\"fused\\\"   \n3             NaN  2.310120e+16  2.310120e+16                   NaN   \n4             NaN  2.310120e+16  2.310120e+16    {\\method\\\":\\\"gps\\\"   \n\n               Unnamed: 32  \n0                      NaN  \n1  \\\"aid_type\\\":\\\"AAID\\\"}\"  \n2  \\\"aid_type\\\":\\\"AAID\\\"}\"  \n3                      NaN  \n4  \\\"aid_type\\\":\\\"IDFA\\\"}\"  \n\n[5 rows x 33 columns]",
      "text/html": "<div>\n<style scoped>\n    .dataframe tbody tr th:only-of-type {\n        vertical-align: middle;\n    }\n\n    .dataframe tbody tr th {\n        vertical-align: top;\n    }\n\n    .dataframe thead th {\n        text-align: right;\n    }\n</style>\n<table border=\"1\" class=\"dataframe\">\n  <thead>\n    <tr style=\"text-align: right;\">\n      <th></th>\n      <th>TripId</th>\n      <th>DeviceId</th>\n      <th>ProviderId</th>\n      <th>Mode</th>\n      <th>StartDate</th>\n      <th>StartWDay</th>\n      <th>EndDate</th>\n      <th>EndWDay</th>\n      <th>StartLocLat</th>\n      <th>StartLocLon</th>\n      <th>...</th>\n      <th>MovementType</th>\n      <th>OriginCbg</th>\n      <th>DestCbg</th>\n      <th>StartTimezone</th>\n      <th>EndTimezone</th>\n      <th>WaypointFreqSec</th>\n      <th>StartQk</th>\n      <th>EndQk</th>\n      <th>Unnamed: 31</th>\n      <th>Unnamed: 32</th>\n    </tr>\n  </thead>\n  <tbody>\n    <tr>\n      <th>0</th>\n      <td>a939d5d8c9b52b5265161bfa93054f0a</td>\n      <td>0006da8402c807c4be339cab03f9d498</td>\n      <td>d07e70efcfab08731a97e7b91be644de</td>\n      <td>1</td>\n      <td>2022-05-11T20:19:31.000Z</td>\n      <td>3</td>\n      <td>2022-05-11T20:22:52.000Z</td>\n      <td>3</td>\n      <td>30.18252</td>\n      <td>-96.93443</td>\n      <td>...</td>\n      <td>1</td>\n      <td>NaN</td>\n      <td>NaN</td>\n      <td>America/Chicago</td>\n      <td>America/Chicago</td>\n      <td>NaN</td>\n      <td>2.313010e+16</td>\n      <td>2.313010e+16</td>\n      <td>NaN</td>\n      <td>NaN</td>\n    </tr>\n    <tr>\n      <th>1</th>\n      <td>88180c2feb14c8520f169e4bda526313</td>\n      <td>009ef4b15eadd773468cd2bfdff6eb54</td>\n      <td>74071a673307ca7459bcf75fbd024e09</td>\n      <td>1</td>\n      <td>2022-05-14T21:07:54.000Z</td>\n      <td>6</td>\n      <td>2022-05-14T21:58:03.000Z</td>\n      <td>6</td>\n      <td>38.27969</td>\n      <td>-104.52873</td>\n      <td>...</td>\n      <td>1</td>\n      <td>NaN</td>\n      <td>NaN</td>\n      <td>America/Denver</td>\n      <td>America/Denver</td>\n      <td>NaN</td>\n      <td>2.310120e+16</td>\n      <td>2.310120e+16</td>\n      <td>{\\method\\\":\\\"fused\\\"</td>\n      <td>\\\"aid_type\\\":\\\"AAID\\\"}\"</td>\n    </tr>\n    <tr>\n      <th>2</th>\n      <td>a4d0936eb3b45ff1a5af8885939fbcd5</td>\n      <td>011dbfd3e177545535328ba48377522f</td>\n      <td>74071a673307ca7459bcf75fbd024e09</td>\n      <td>0</td>\n      <td>2022-05-13T21:40:44.000Z</td>\n      <td>5</td>\n      <td>2022-05-13T21:48:42.000Z</td>\n      <td>5</td>\n      <td>38.75461</td>\n      <td>-104.78828</td>\n      <td>...</td>\n      <td>1</td>\n      <td>NaN</td>\n      <td>NaN</td>\n      <td>America/Denver</td>\n      <td>America/Denver</td>\n      <td>NaN</td>\n      <td>2.310120e+16</td>\n      <td>2.310120e+16</td>\n      <td>{\\method\\\":\\\"fused\\\"</td>\n      <td>\\\"aid_type\\\":\\\"AAID\\\"}\"</td>\n    </tr>\n    <tr>\n      <th>3</th>\n      <td>a04c70dd5a17f8f54b7a5576951da0c5</td>\n      <td>014b33b72b76a3ba8cbb621009408974</td>\n      <td>d07e70efcfab08731a97e7b91be644de</td>\n      <td>1</td>\n      <td>2022-05-11T23:37:31.000Z</td>\n      <td>3</td>\n      <td>2022-05-11T23:47:49.000Z</td>\n      <td>3</td>\n      <td>38.67639</td>\n      <td>-104.70588</td>\n      <td>...</td>\n      <td>1</td>\n      <td>NaN</td>\n      <td>NaN</td>\n      <td>America/Denver</td>\n      <td>America/Denver</td>\n      <td>NaN</td>\n      <td>2.310120e+16</td>\n      <td>2.310120e+16</td>\n      <td>NaN</td>\n      <td>NaN</td>\n    </tr>\n    <tr>\n      <th>4</th>\n      <td>509bba65db0e6495bb35e615f823350c</td>\n      <td>014ed4fc9ea19b744e0eb3a0b1d72bb1</td>\n      <td>74071a673307ca7459bcf75fbd024e09</td>\n      <td>1</td>\n      <td>2022-05-12T00:14:40.000Z</td>\n      <td>3</td>\n      <td>2022-05-12T00:37:38.000Z</td>\n      <td>3</td>\n      <td>38.55622</td>\n      <td>-104.64958</td>\n      <td>...</td>\n      <td>1</td>\n      <td>NaN</td>\n      <td>NaN</td>\n      <td>America/Denver</td>\n      <td>America/Denver</td>\n      <td>NaN</td>\n      <td>2.310120e+16</td>\n      <td>2.310120e+16</td>\n      <td>{\\method\\\":\\\"gps\\\"</td>\n      <td>\\\"aid_type\\\":\\\"IDFA\\\"}\"</td>\n    </tr>\n  </tbody>\n</table>\n<p>5 rows × 33 columns</p>\n</div>"
     },
     "metadata": {}
    }
   ]
  },
  {
   "cell_type": "code",
   "source": "",
   "metadata": {
    "cell_id": "8a14d91774e4400d82209a621c00fb69",
    "deepnote_to_be_reexecuted": false,
    "source_hash": "b623e53d",
    "execution_start": 1654719472920,
    "execution_millis": 5,
    "deepnote_cell_type": "visualization"
   },
   "outputs": [],
   "execution_count": 4
  },
  {
   "cell_type": "markdown",
   "source": "#  Data Cleaning",
   "metadata": {
    "cell_id": "6271a464a8ab4f7697ecd33f0809ccf4",
    "tags": [],
    "is_collapsed": false,
    "formattedRanges": [],
    "deepnote_cell_type": "text-cell-h1"
   }
  },
  {
   "cell_type": "markdown",
   "source": "### 1. Make sure there are no duplicate rows &amp; Exclude data in TX",
   "metadata": {
    "cell_id": "1c59bf3b3e9746e8b30fdc50c0085206",
    "tags": [],
    "is_collapsed": false,
    "formattedRanges": [],
    "deepnote_cell_type": "text-cell-h3"
   }
  },
  {
   "cell_type": "code",
   "metadata": {
    "cell_id": "00004-09cc899d-f3e8-47e1-9759-8fdde5033c2a",
    "deepnote_to_be_reexecuted": false,
    "source_hash": "6e74dd66",
    "execution_start": 1654719472972,
    "execution_millis": 551,
    "owner_user_id": "0ca07f6c-769b-4d13-a003-48dd12bab9ca",
    "deepnote_cell_type": "code",
    "deepnote_cell_height": 259.078125
   },
   "source": "number_of_dup = len(trips_df[trips_df.duplicated(subset=list(trips_df.columns).remove('TripId')) == True])\nnumber_of_fort = len(trips_df[(trips_df['OriginZoneName']!='Buc-ee\\'s Giddings TX')& (trips_df['DestinationZoneName']!='Buc-ee\\'s Giddings TX')])\n\nprint('Number of rows in original data:', len(trips_df))\nprint('Number of data in Fort Carson : ',number_of_fort)\nprint('Number of duplicated rows : ',number_of_dup)\n",
   "execution_count": 5,
   "outputs": [
    {
     "name": "stdout",
     "text": "Number of rows in original data: 136880\nNumber of data in Fort Carson :  134373\nNumber of duplicated rows :  0\n",
     "output_type": "stream"
    }
   ]
  },
  {
   "cell_type": "markdown",
   "source": "### 2. Create geometry column",
   "metadata": {
    "cell_id": "00005-652db251-bda4-4eee-b5f5-b59895b764a4",
    "deepnote_cell_type": "markdown",
    "deepnote_cell_height": 62
   }
  },
  {
   "cell_type": "code",
   "metadata": {
    "cell_id": "00006-734d42b2-da6e-4295-a7df-7fa277dae26d",
    "deepnote_to_be_reexecuted": false,
    "source_hash": "f8e4451c",
    "execution_start": 1654719473566,
    "execution_millis": 5997,
    "deepnote_cell_type": "code",
    "deepnote_cell_height": 333
   },
   "source": "trips_df = trips_df[(trips_df['OriginZoneName']!='Buc-ee\\'s Giddings TX')& (trips_df['DestinationZoneName']!='Buc-ee\\'s Giddings TX')]\n# creating a geometry column \ntrips_df['Startlocation'] = list(zip(trips_df.StartLocLat, trips_df.StartLocLon))\ntrips_df['Startlocation'] = trips_df['Startlocation'].apply(Point)\n\ntrips_df['Endlocation'] = list(zip(trips_df.EndLocLat, trips_df.EndLocLon))\ntrips_df['Endlocation'] = trips_df['Endlocation'].apply(Point)\n\n\n# Coordinate reference system : WGS84\ncrs = {'init': 'epsg:4326'}\n\n# Creating a Geographic data frame \ngdf = gpd.GeoDataFrame(trips_df, crs=crs)\n",
   "execution_count": 6,
   "outputs": []
  },
  {
   "cell_type": "markdown",
   "source": "### 3. Deal with Datetime",
   "metadata": {
    "cell_id": "00008-7825bbe0-4b0e-4139-b63a-5fff1145524c",
    "deepnote_cell_type": "markdown",
    "deepnote_cell_height": 62
   }
  },
  {
   "cell_type": "code",
   "metadata": {
    "cell_id": "00009-1c7d1259-7d12-4d81-98d4-a75d3b4df6ae",
    "deepnote_to_be_reexecuted": false,
    "source_hash": "5fbbbdb5",
    "execution_start": 1654719479575,
    "execution_millis": 13143,
    "deepnote_cell_type": "code",
    "deepnote_cell_height": 207
   },
   "source": "gdf['MST_start_datetime'] = pd.to_datetime(gdf['StartDate']).apply(lambda x:x.astimezone('MST'))\ngdf['MST_end_datetime'] = pd.to_datetime(gdf['EndDate']).apply(lambda x:x.astimezone('MST'))\n\ngdf['MST_start_date'] = gdf['MST_start_datetime'].apply(lambda x:x.date())\ngdf['MST_start_time'] = gdf['MST_start_datetime'].apply(lambda x:x.time())\n\ngdf['MST_end_date'] = gdf['MST_end_datetime'].apply(lambda x:x.date())\ngdf['MST_end_time'] = gdf['MST_end_datetime'].apply(lambda x:x.time())",
   "execution_count": 7,
   "outputs": []
  },
  {
   "cell_type": "code",
   "source": "# create df of start day, month, year \nstartYear = list(pd.DatetimeIndex(gdf['MST_start_date']).year)\nstartMonth = list(pd.DatetimeIndex(gdf['MST_start_date']).month)\nstartDay = list(pd.DatetimeIndex(gdf['MST_start_date']).day)\n\n# insert the start month, day, year column into the gdf\ngdf.insert(int(gdf.columns.get_indexer(['MST_start_date'])[0]+1), 'MST_start_month',startMonth)\ngdf.insert(int(gdf.columns.get_indexer(['MST_start_date'])[0]+2), 'MST_start_day',startDay)\ngdf.insert(int(gdf.columns.get_indexer(['MST_start_date'])[0]+3), 'MST_start_year',startYear)\n\n# create df of start hour, minutes, and seconds\nstartHour = list(pd.DatetimeIndex(gdf['MST_start_datetime']).hour)\nstartMin = list(pd.DatetimeIndex(gdf['MST_start_datetime']).minute)\nstartSec = list(pd.DatetimeIndex(gdf['MST_start_datetime']).second)\n\n# insert the start hour, minutes, seconds column into the gdf\ngdf.insert(int(gdf.columns.get_indexer(['MST_start_time'])[0]+1), 'MST_start_hour',startHour)\ngdf.insert(int(gdf.columns.get_indexer(['MST_start_time'])[0]+2), 'MST_start_minute',startMin)\ngdf.insert(int(gdf.columns.get_indexer(['MST_start_time'])[0]+3), 'MST_start_second',startSec)\n\n# create df of end day, month, year \nendYear = list(pd.DatetimeIndex(gdf['MST_end_date']).year)\nendMonth = list(pd.DatetimeIndex(gdf['MST_end_date']).month)\nendDay = list(pd.DatetimeIndex(gdf['MST_end_date']).day)\n\n# insert the start month, day, year column into the gdf\ngdf.insert(int(gdf.columns.get_indexer(['MST_end_date'])[0]+1), 'MST_end_month',endMonth)\ngdf.insert(int(gdf.columns.get_indexer(['MST_end_date'])[0]+2), 'MST_end_day',endDay)\ngdf.insert(int(gdf.columns.get_indexer(['MST_end_date'])[0]+3), 'MST_end_year',endYear)\n\n# create df of end hour, minutes, and seconds\nendHour = list(pd.DatetimeIndex(gdf['MST_end_datetime']).hour)\nendMin = list(pd.DatetimeIndex(gdf['MST_end_datetime']).minute)\nendSec = list(pd.DatetimeIndex(gdf['MST_end_datetime']).second)\n\n# insert the start hour, minutes, seconds column into the gdf\ngdf.insert(int(gdf.columns.get_indexer(['MST_end_time'])[0]+1), 'MST_end_hour',endHour)\ngdf.insert(int(gdf.columns.get_indexer(['MST_end_time'])[0]+2), 'MST_end_minute',endMin)\ngdf.insert(int(gdf.columns.get_indexer(['MST_end_time'])[0]+3), 'MST_end_second',endSec)\n",
   "metadata": {
    "cell_id": "e5bd72f8f89a49daa793a9e045d9b7e2",
    "tags": [],
    "deepnote_to_be_reexecuted": false,
    "source_hash": "d281dc9",
    "execution_start": 1654719492755,
    "execution_millis": 912,
    "deepnote_cell_type": "code",
    "deepnote_cell_height": 783
   },
   "outputs": [],
   "execution_count": 8
  },
  {
   "cell_type": "markdown",
   "source": "### 4.Exclude data whose ProviderType == Fleet",
   "metadata": {
    "cell_id": "00010-6b1b0da9-90fa-4029-a4fe-a25951b89405",
    "deepnote_cell_type": "markdown",
    "deepnote_cell_height": 62
   }
  },
  {
   "cell_type": "code",
   "source": "provider_type = sns.countplot(trips_df['ProviderType'])\nprovider_type.set_xticklabels(['Consumer','Fleet'])\nprovider_type.bar_label(provider_type.containers[0])",
   "metadata": {
    "cell_id": "7d3ba9fbf834479e9ae6586bdc8d68a1",
    "tags": [],
    "deepnote_to_be_reexecuted": false,
    "source_hash": "c05d64bf",
    "execution_start": 1654719493667,
    "execution_millis": 734,
    "deepnote_cell_type": "code",
    "deepnote_cell_height": 449.1875,
    "deepnote_output_heights": [
     21.1875,
     264
    ]
   },
   "outputs": [
    {
     "output_type": "execute_result",
     "execution_count": 9,
     "data": {
      "text/plain": "[Text(0, 0, '125367'), Text(0, 0, '9006')]"
     },
     "metadata": {}
    },
    {
     "data": {
      "text/plain": "<Figure size 432x288 with 1 Axes>",
      "image/png": "[encoded data removed]"
     },
     "metadata": {
      "needs_background": "light",
      "image/png": {
       "width": 407,
       "height": 262
      }
     },
     "output_type": "display_data"
    }
   ],
   "execution_count": 9
  },
  {
   "cell_type": "code",
   "metadata": {
    "cell_id": "00011-5888194f-30e5-41af-908e-7ed5f64505fb",
    "deepnote_to_be_reexecuted": false,
    "source_hash": "d8e973b3",
    "execution_start": 1654719494414,
    "execution_millis": 313,
    "deepnote_cell_type": "code",
    "deepnote_cell_height": 431
   },
   "source": "# exclude data whose ProviderType == Fleet\ngdf = gdf[gdf['ProviderType']==1] \ngdf.head()",
   "execution_count": 10,
   "outputs": [
    {
     "output_type": "execute_result",
     "execution_count": 10,
     "data": {
      "application/vnd.deepnote.dataframe.v3+json": {
       "column_count": 53,
       "row_count": 5,
       "columns": [
        {
         "name": "TripId",
         "dtype": "object",
         "stats": {
          "unique_count": 5,
          "nan_count": 0,
          "categories": [
           {
            "name": "88180c2feb14c8520f169e4bda526313",
            "count": 1
           },
           {
            "name": "a4d0936eb3b45ff1a5af8885939fbcd5",
            "count": 1
           },
           {
            "name": "3 others",
            "count": 3
           }
          ]
         }
        },
        {
         "name": "DeviceId",
         "dtype": "object",
         "stats": {
          "unique_count": 5,
          "nan_count": 0,
          "categories": [
           {
            "name": "009ef4b15eadd773468cd2bfdff6eb54",
            "count": 1
           },
           {
            "name": "011dbfd3e177545535328ba48377522f",
            "count": 1
           },
           {
            "name": "3 others",
            "count": 3
           }
          ]
         }
        },
        {
         "name": "ProviderId",
         "dtype": "object",
         "stats": {
          "unique_count": 2,
          "nan_count": 0,
          "categories": [
           {
            "name": "74071a673307ca7459bcf75fbd024e09",
            "count": 4
           },
           {
            "name": "d07e70efcfab08731a97e7b91be644de",
            "count": 1
           }
          ]
         }
        },
        {
         "name": "Mode",
         "dtype": "object",
         "stats": {
          "unique_count": 2,
          "nan_count": 0,
          "categories": [
           {
            "name": "1",
            "count": 4
           },
           {
            "name": "0",
            "count": 1
           }
          ]
         }
        },
        {
         "name": "StartDate",
         "dtype": "object",
         "stats": {
          "unique_count": 5,
          "nan_count": 0,
          "categories": [
           {
            "name": "2022-05-14T21:07:54.000Z",
            "count": 1
           },
           {
            "name": "2022-05-13T21:40:44.000Z",
            "count": 1
           },
           {
            "name": "3 others",
            "count": 3
           }
          ]
         }
        },
        {
         "name": "StartWDay",
         "dtype": "object",
         "stats": {
          "unique_count": 3,
          "nan_count": 0,
          "categories": [
           {
            "name": "6",
            "count": 2
           },
           {
            "name": "3",
            "count": 2
           },
           {
            "name": "5",
            "count": 1
           }
          ]
         }
        },
        {
         "name": "EndDate",
         "dtype": "object",
         "stats": {
          "unique_count": 5,
          "nan_count": 0,
          "categories": [
           {
            "name": "2022-05-14T21:58:03.000Z",
            "count": 1
           },
           {
            "name": "2022-05-13T21:48:42.000Z",
            "count": 1
           },
           {
            "name": "3 others",
            "count": 3
           }
          ]
         }
        },
        {
         "name": "EndWDay",
         "dtype": "object",
         "stats": {
          "unique_count": 3,
          "nan_count": 0,
          "categories": [
           {
            "name": "6",
            "count": 2
           },
           {
            "name": "3",
            "count": 2
           },
           {
            "name": "5",
            "count": 1
           }
          ]
         }
        },
        {
         "name": "StartLocLat",
         "dtype": "float64",
         "stats": {
          "unique_count": 5,
          "nan_count": 0,
          "min": "38.27969",
          "max": "38.75461",
          "histogram": [
           {
            "bin_start": 38.27969,
            "bin_end": 38.327182,
            "count": 1
           },
           {
            "bin_start": 38.327182,
            "bin_end": 38.374674,
            "count": 1
           },
           {
            "bin_start": 38.374674,
            "bin_end": 38.422166000000004,
            "count": 0
           },
           {
            "bin_start": 38.422166000000004,
            "bin_end": 38.469658,
            "count": 0
           },
           {
            "bin_start": 38.469658,
            "bin_end": 38.51715,
            "count": 0
           },
           {
            "bin_start": 38.51715,
            "bin_end": 38.564642,
            "count": 1
           },
           {
            "bin_start": 38.564642,
            "bin_end": 38.612134,
            "count": 0
           },
           {
            "bin_start": 38.612134,
            "bin_end": 38.659626,
            "count": 0
           },
           {
            "bin_start": 38.659626,
            "bin_end": 38.707118,
            "count": 1
           },
           {
            "bin_start": 38.707118,
            "bin_end": 38.75461,
            "count": 1
           }
          ]
         }
        },
        {
         "name": "StartLocLon",
         "dtype": "float64",
         "stats": {
          "unique_count": 5,
          "nan_count": 0,
          "min": "-104.78828",
          "max": "-104.52873",
          "histogram": [
           {
            "bin_start": -104.78828,
            "bin_end": -104.762325,
            "count": 1
           },
           {
            "bin_start": -104.762325,
            "bin_end": -104.73637,
            "count": 0
           },
           {
            "bin_start": -104.73637,
            "bin_end": -104.710415,
            "count": 0
           },
           {
            "bin_start": -104.710415,
            "bin_end": -104.68446,
            "count": 1
           },
           {
            "bin_start": -104.68446,
            "bin_end": -104.65850499999999,
            "count": 1
           },
           {
            "bin_start": -104.65850499999999,
            "bin_end": -104.63255,
            "count": 1
           },
           {
            "bin_start": -104.63255,
            "bin_end": -104.606595,
            "count": 0
           },
           {
            "bin_start": -104.606595,
            "bin_end": -104.58064,
            "count": 0
           },
           {
            "bin_start": -104.58064,
            "bin_end": -104.55468499999999,
            "count": 0
           },
           {
            "bin_start": -104.55468499999999,
            "bin_end": -104.52873,
            "count": 1
           }
          ]
         }
        },
        {
         "name": "EndLocLat",
         "dtype": "float64",
         "stats": {
          "unique_count": 5,
          "nan_count": 0,
          "min": "38.2193",
          "max": "38.74819",
          "histogram": [
           {
            "bin_start": 38.2193,
            "bin_end": 38.272189,
            "count": 1
           },
           {
            "bin_start": 38.272189,
            "bin_end": 38.325078,
            "count": 0
           },
           {
            "bin_start": 38.325078,
            "bin_end": 38.377967,
            "count": 2
           },
           {
            "bin_start": 38.377967,
            "bin_end": 38.430856,
            "count": 0
           },
           {
            "bin_start": 38.430856,
            "bin_end": 38.483745,
            "count": 0
           },
           {
            "bin_start": 38.483745,
            "bin_end": 38.536634,
            "count": 0
           },
           {
            "bin_start": 38.536634,
            "bin_end": 38.589523,
            "count": 0
           },
           {
            "bin_start": 38.589523,
            "bin_end": 38.642412,
            "count": 0
           },
           {
            "bin_start": 38.642412,
            "bin_end": 38.695301,
            "count": 0
           },
           {
            "bin_start": 38.695301,
            "bin_end": 38.74819,
            "count": 2
           }
          ]
         }
        },
        {
         "name": "EndLocLon",
         "dtype": "float64",
         "stats": {
          "unique_count": 5,
          "nan_count": 0,
          "min": "-104.78828",
          "max": "-104.6537",
          "histogram": [
           {
            "bin_start": -104.78828,
            "bin_end": -104.774822,
            "count": 2
           },
           {
            "bin_start": -104.774822,
            "bin_end": -104.761364,
            "count": 0
           },
           {
            "bin_start": -104.761364,
            "bin_end": -104.747906,
            "count": 0
           },
           {
            "bin_start": -104.747906,
            "bin_end": -104.734448,
            "count": 0
           },
           {
            "bin_start": -104.734448,
            "bin_end": -104.72099,
            "count": 0
           },
           {
            "bin_start": -104.72099,
            "bin_end": -104.707532,
            "count": 0
           },
           {
            "bin_start": -104.707532,
            "bin_end": -104.694074,
            "count": 0
           },
           {
            "bin_start": -104.694074,
            "bin_end": -104.680616,
            "count": 0
           },
           {
            "bin_start": -104.680616,
            "bin_end": -104.667158,
            "count": 2
           },
           {
            "bin_start": -104.667158,
            "bin_end": -104.6537,
            "count": 1
           }
          ]
         }
        },
        {
         "name": "GeospatialType",
         "dtype": "object",
         "stats": {
          "unique_count": 3,
          "nan_count": 0,
          "categories": [
           {
            "name": "EI",
            "count": 2
           },
           {
            "name": "II",
            "count": 2
           },
           {
            "name": "IE",
            "count": 1
           }
          ]
         }
        },
        {
         "name": "ProviderType",
         "dtype": "object",
         "stats": {
          "unique_count": 1,
          "nan_count": 0,
          "categories": [
           {
            "name": "1",
            "count": 5
           }
          ]
         }
        },
        {
         "name": "ProviderDrivingProfile",
         "dtype": "object",
         "stats": {
          "unique_count": 1,
          "nan_count": 0,
          "categories": [
           {
            "name": "1",
            "count": 5
           }
          ]
         }
        },
        {
         "name": "VehicleWeightClass",
         "dtype": "object",
         "stats": {
          "unique_count": 1,
          "nan_count": 0,
          "categories": [
           {
            "name": "1",
            "count": 5
           }
          ]
         }
        },
        {
         "name": "ProbeSourceType",
         "dtype": "object",
         "stats": {
          "unique_count": 2,
          "nan_count": 0,
          "categories": [
           {
            "name": "2",
            "count": 4
           },
           {
            "name": "1",
            "count": 1
           }
          ]
         }
        },
        {
         "name": "OriginZoneName",
         "dtype": "object",
         "stats": {
          "unique_count": 1,
          "nan_count": 2,
          "categories": [
           {
            "name": "Fort Carson CO",
            "count": 3
           },
           {
            "name": "Missing",
            "count": 2
           }
          ]
         }
        },
        {
         "name": "DestinationZoneName",
         "dtype": "object",
         "stats": {
          "unique_count": 1,
          "nan_count": 1,
          "categories": [
           {
            "name": "Fort Carson CO",
            "count": 4
           },
           {
            "name": "Missing",
            "count": 1
           }
          ]
         }
        },
        {
         "name": "EndpointType",
         "dtype": "object",
         "stats": {
          "unique_count": 2,
          "nan_count": 0,
          "categories": [
           {
            "name": "3",
            "count": 4
           },
           {
            "name": "2",
            "count": 1
           }
          ]
         }
        },
        {
         "name": "TripMeanSpeedKph",
         "dtype": "float64",
         "stats": {
          "unique_count": 5,
          "nan_count": 0,
          "min": "6.108307693",
          "max": "108.2067285",
          "histogram": [
           {
            "bin_start": 6.108307693,
            "bin_end": 16.3181497737,
            "count": 1
           },
           {
            "bin_start": 16.3181497737,
            "bin_end": 26.5279918544,
            "count": 1
           },
           {
            "bin_start": 26.5279918544,
            "bin_end": 36.7378339351,
            "count": 1
           },
           {
            "bin_start": 36.7378339351,
            "bin_end": 46.9476760158,
            "count": 0
           },
           {
            "bin_start": 46.9476760158,
            "bin_end": 57.1575180965,
            "count": 0
           },
           {
            "bin_start": 57.1575180965,
            "bin_end": 67.3673601772,
            "count": 1
           },
           {
            "bin_start": 67.3673601772,
            "bin_end": 77.5772022579,
            "count": 0
           },
           {
            "bin_start": 77.5772022579,
            "bin_end": 87.7870443386,
            "count": 0
           },
           {
            "bin_start": 87.7870443386,
            "bin_end": 97.9968864193,
            "count": 0
           },
           {
            "bin_start": 97.9968864193,
            "bin_end": 108.2067285,
            "count": 1
           }
          ]
         }
        },
        {
         "name": "TripMaxSpeedKph",
         "dtype": "float64",
         "stats": {
          "unique_count": 5,
          "nan_count": 0,
          "min": "10.71996025",
          "max": "222.233945",
          "histogram": [
           {
            "bin_start": 10.71996025,
            "bin_end": 31.871358725,
            "count": 1
           },
           {
            "bin_start": 31.871358725,
            "bin_end": 53.0227572,
            "count": 0
           },
           {
            "bin_start": 53.0227572,
            "bin_end": 74.17415567500001,
            "count": 0
           },
           {
            "bin_start": 74.17415567500001,
            "bin_end": 95.32555415,
            "count": 0
           },
           {
            "bin_start": 95.32555415,
            "bin_end": 116.47695262500001,
            "count": 0
           },
           {
            "bin_start": 116.47695262500001,
            "bin_end": 137.6283511,
            "count": 1
           },
           {
            "bin_start": 137.6283511,
            "bin_end": 158.77974957499998,
            "count": 0
           },
           {
            "bin_start": 158.77974957499998,
            "bin_end": 179.93114805,
            "count": 1
           },
           {
            "bin_start": 179.93114805,
            "bin_end": 201.082546525,
            "count": 1
           },
           {
            "bin_start": 201.082546525,
            "bin_end": 222.233945,
            "count": 1
           }
          ]
         }
        },
        {
         "name": "TripDistanceMeters",
         "dtype": "float64",
         "stats": {
          "unique_count": 5,
          "nan_count": 0,
          "min": "811.0475215",
          "max": "41419.13109",
          "histogram": [
           {
            "bin_start": 811.0475215,
            "bin_end": 4871.85587835,
            "count": 1
           },
           {
            "bin_start": 4871.85587835,
            "bin_end": 8932.664235200002,
            "count": 0
           },
           {
            "bin_start": 8932.664235200002,
            "bin_end": 12993.472592050002,
            "count": 1
           },
           {
            "bin_start": 12993.472592050002,
            "bin_end": 17054.280948900003,
            "count": 0
           },
           {
            "bin_start": 17054.280948900003,
            "bin_end": 21115.089305750003,
            "count": 0
           },
           {
            "bin_start": 21115.089305750003,
            "bin_end": 25175.897662600004,
            "count": 0
           },
           {
            "bin_start": 25175.897662600004,
            "bin_end": 29236.706019450005,
            "count": 1
           },
           {
            "bin_start": 29236.706019450005,
            "bin_end": 33297.5143763,
            "count": 0
           },
           {
            "bin_start": 33297.5143763,
            "bin_end": 37358.32273315,
            "count": 1
           },
           {
            "bin_start": 37358.32273315,
            "bin_end": 41419.13109,
            "count": 1
           }
          ]
         }
        },
        {
         "name": "MovementType",
         "dtype": "object",
         "stats": {
          "unique_count": 1,
          "nan_count": 0,
          "categories": [
           {
            "name": "1",
            "count": 5
           }
          ]
         }
        },
        {
         "name": "OriginCbg",
         "dtype": "float64",
         "stats": {
          "unique_count": 0,
          "nan_count": 5,
          "min": null,
          "max": null,
          "histogram": [
           {
            "bin_start": 0,
            "bin_end": 0.1,
            "count": 0
           },
           {
            "bin_start": 0.1,
            "bin_end": 0.2,
            "count": 0
           },
           {
            "bin_start": 0.2,
            "bin_end": 0.30000000000000004,
            "count": 0
           },
           {
            "bin_start": 0.30000000000000004,
            "bin_end": 0.4,
            "count": 0
           },
           {
            "bin_start": 0.4,
            "bin_end": 0.5,
            "count": 0
           },
           {
            "bin_start": 0.5,
            "bin_end": 0.6000000000000001,
            "count": 0
           },
           {
            "bin_start": 0.6000000000000001,
            "bin_end": 0.7000000000000001,
            "count": 0
           },
           {
            "bin_start": 0.7000000000000001,
            "bin_end": 0.8,
            "count": 0
           },
           {
            "bin_start": 0.8,
            "bin_end": 0.9,
            "count": 0
           },
           {
            "bin_start": 0.9,
            "bin_end": 1,
            "count": 0
           }
          ]
         }
        },
        {
         "name": "DestCbg",
         "dtype": "float64",
         "stats": {
          "unique_count": 0,
          "nan_count": 5,
          "min": null,
          "max": null,
          "histogram": [
           {
            "bin_start": 0,
            "bin_end": 0.1,
            "count": 0
           },
           {
            "bin_start": 0.1,
            "bin_end": 0.2,
            "count": 0
           },
           {
            "bin_start": 0.2,
            "bin_end": 0.30000000000000004,
            "count": 0
           },
           {
            "bin_start": 0.30000000000000004,
            "bin_end": 0.4,
            "count": 0
           },
           {
            "bin_start": 0.4,
            "bin_end": 0.5,
            "count": 0
           },
           {
            "bin_start": 0.5,
            "bin_end": 0.6000000000000001,
            "count": 0
           },
           {
            "bin_start": 0.6000000000000001,
            "bin_end": 0.7000000000000001,
            "count": 0
           },
           {
            "bin_start": 0.7000000000000001,
            "bin_end": 0.8,
            "count": 0
           },
           {
            "bin_start": 0.8,
            "bin_end": 0.9,
            "count": 0
           },
           {
            "bin_start": 0.9,
            "bin_end": 1,
            "count": 0
           }
          ]
         }
        },
        {
         "name": "StartTimezone",
         "dtype": "object",
         "stats": {
          "unique_count": 1,
          "nan_count": 0,
          "categories": [
           {
            "name": "America/Denver",
            "count": 5
           }
          ]
         }
        },
        {
         "name": "EndTimezone",
         "dtype": "object",
         "stats": {
          "unique_count": 1,
          "nan_count": 0,
          "categories": [
           {
            "name": "America/Denver",
            "count": 5
           }
          ]
         }
        },
        {
         "name": "WaypointFreqSec",
         "dtype": "float64",
         "stats": {
          "unique_count": 0,
          "nan_count": 5,
          "min": null,
          "max": null,
          "histogram": [
           {
            "bin_start": 0,
            "bin_end": 0.1,
            "count": 0
           },
           {
            "bin_start": 0.1,
            "bin_end": 0.2,
            "count": 0
           },
           {
            "bin_start": 0.2,
            "bin_end": 0.30000000000000004,
            "count": 0
           },
           {
            "bin_start": 0.30000000000000004,
            "bin_end": 0.4,
            "count": 0
           },
           {
            "bin_start": 0.4,
            "bin_end": 0.5,
            "count": 0
           },
           {
            "bin_start": 0.5,
            "bin_end": 0.6000000000000001,
            "count": 0
           },
           {
            "bin_start": 0.6000000000000001,
            "bin_end": 0.7000000000000001,
            "count": 0
           },
           {
            "bin_start": 0.7000000000000001,
            "bin_end": 0.8,
            "count": 0
           },
           {
            "bin_start": 0.8,
            "bin_end": 0.9,
            "count": 0
           },
           {
            "bin_start": 0.9,
            "bin_end": 1,
            "count": 0
           }
          ]
         }
        },
        {
         "name": "StartQk",
         "dtype": "float64",
         "stats": {
          "unique_count": 1,
          "nan_count": 0,
          "min": "2.31012e+16",
          "max": "2.31012e+16",
          "histogram": null
         }
        },
        {
         "name": "EndQk",
         "dtype": "float64",
         "stats": {
          "unique_count": 1,
          "nan_count": 0,
          "min": "2.31012e+16",
          "max": "2.31012e+16",
          "histogram": null
         }
        },
        {
         "name": "Unnamed: 31",
         "dtype": "object",
         "stats": {
          "unique_count": 2,
          "nan_count": 1,
          "categories": [
           {
            "name": "{\\method\\\":\\\"fused\\\"",
            "count": 3
           },
           {
            "name": "{\\method\\\":\\\"gps\\\"",
            "count": 1
           },
           {
            "name": "Missing",
            "count": 1
           }
          ]
         }
        },
        {
         "name": "Unnamed: 32",
         "dtype": "object",
         "stats": {
          "unique_count": 2,
          "nan_count": 1,
          "categories": [
           {
            "name": "\\\"aid_type\\\":\\\"AAID\\\"}\"",
            "count": 3
           },
           {
            "name": "\\\"aid_type\\\":\\\"IDFA\\\"}\"",
            "count": 1
           },
           {
            "name": "Missing",
            "count": 1
           }
          ]
         }
        },
        {
         "name": "Startlocation",
         "dtype": "object",
         "stats": {
          "unique_count": 5,
          "nan_count": 0,
          "categories": [
           {
            "name": "POINT (38.27969 -104.52873)",
            "count": 1
           },
           {
            "name": "POINT (38.75461 -104.78828)",
            "count": 1
           },
           {
            "name": "3 others",
            "count": 3
           }
          ]
         }
        },
        {
         "name": "Endlocation",
         "dtype": "object",
         "stats": {
          "unique_count": 5,
          "nan_count": 0,
          "categories": [
           {
            "name": "POINT (38.34004 -104.67292)",
            "count": 1
           },
           {
            "name": "POINT (38.74819 -104.78828)",
            "count": 1
           },
           {
            "name": "3 others",
            "count": 3
           }
          ]
         }
        },
        {
         "name": "MST_start_datetime",
         "dtype": "datetime64[ns, MST]",
         "stats": {
          "unique_count": 5,
          "nan_count": 0,
          "min": "2022-05-11 16:37:31-07:00",
          "max": "2022-05-14 14:07:54-07:00",
          "histogram": [
           {
            "bin_start": 1652312251000000000,
            "bin_end": 1652337273300000000,
            "count": 2
           },
           {
            "bin_start": 1652337273300000000,
            "bin_end": 1652362295600000000,
            "count": 0
           },
           {
            "bin_start": 1652362295600000000,
            "bin_end": 1652387317900000000,
            "count": 0
           },
           {
            "bin_start": 1652387317900000000,
            "bin_end": 1652412340200000000,
            "count": 0
           },
           {
            "bin_start": 1652412340200000000,
            "bin_end": 1652437362500000000,
            "count": 0
           },
           {
            "bin_start": 1652437362500000000,
            "bin_end": 1652462384800000000,
            "count": 0
           },
           {
            "bin_start": 1652462384800000000,
            "bin_end": 1652487407100000000,
            "count": 1
           },
           {
            "bin_start": 1652487407100000000,
            "bin_end": 1652512429400000000,
            "count": 0
           },
           {
            "bin_start": 1652512429400000000,
            "bin_end": 1652537451700000000,
            "count": 0
           },
           {
            "bin_start": 1652537451700000000,
            "bin_end": 1652562474000000000,
            "count": 2
           }
          ]
         }
        },
        {
         "name": "MST_end_datetime",
         "dtype": "datetime64[ns, MST]",
         "stats": {
          "unique_count": 5,
          "nan_count": 0,
          "min": "2022-05-11 16:47:49-07:00",
          "max": "2022-05-14 14:58:03-07:00",
          "histogram": [
           {
            "bin_start": 1652312869000000000,
            "bin_end": 1652338130400000000,
            "count": 2
           },
           {
            "bin_start": 1652338130400000000,
            "bin_end": 1652363391800000000,
            "count": 0
           },
           {
            "bin_start": 1652363391800000000,
            "bin_end": 1652388653200000000,
            "count": 0
           },
           {
            "bin_start": 1652388653200000000,
            "bin_end": 1652413914600000000,
            "count": 0
           },
           {
            "bin_start": 1652413914600000000,
            "bin_end": 1652439176000000000,
            "count": 0
           },
           {
            "bin_start": 1652439176000000000,
            "bin_end": 1652464437400000000,
            "count": 0
           },
           {
            "bin_start": 1652464437400000000,
            "bin_end": 1652489698800000000,
            "count": 1
           },
           {
            "bin_start": 1652489698800000000,
            "bin_end": 1652514960200000000,
            "count": 0
           },
           {
            "bin_start": 1652514960200000000,
            "bin_end": 1652540221600000000,
            "count": 0
           },
           {
            "bin_start": 1652540221600000000,
            "bin_end": 1652565483000000000,
            "count": 2
           }
          ]
         }
        },
        {
         "name": "MST_start_date",
         "dtype": "object",
         "stats": {
          "unique_count": 3,
          "nan_count": 0,
          "categories": [
           {
            "name": "2022-05-14",
            "count": 2
           },
           {
            "name": "2022-05-11",
            "count": 2
           },
           {
            "name": "2022-05-13",
            "count": 1
           }
          ]
         }
        },
        {
         "name": "MST_start_month",
         "dtype": "int64",
         "stats": {
          "unique_count": 1,
          "nan_count": 0,
          "min": "5",
          "max": "5",
          "histogram": [
           {
            "bin_start": 4.5,
            "bin_end": 4.6,
            "count": 0
           },
           {
            "bin_start": 4.6,
            "bin_end": 4.7,
            "count": 0
           },
           {
            "bin_start": 4.7,
            "bin_end": 4.8,
            "count": 0
           },
           {
            "bin_start": 4.8,
            "bin_end": 4.9,
            "count": 0
           },
           {
            "bin_start": 4.9,
            "bin_end": 5,
            "count": 0
           },
           {
            "bin_start": 5,
            "bin_end": 5.1,
            "count": 5
           },
           {
            "bin_start": 5.1,
            "bin_end": 5.2,
            "count": 0
           },
           {
            "bin_start": 5.2,
            "bin_end": 5.3,
            "count": 0
           },
           {
            "bin_start": 5.3,
            "bin_end": 5.4,
            "count": 0
           },
           {
            "bin_start": 5.4,
            "bin_end": 5.5,
            "count": 0
           }
          ]
         }
        },
        {
         "name": "MST_start_day",
         "dtype": "int64",
         "stats": {
          "unique_count": 3,
          "nan_count": 0,
          "min": "11",
          "max": "14",
          "histogram": [
           {
            "bin_start": 11,
            "bin_end": 11.3,
            "count": 2
           },
           {
            "bin_start": 11.3,
            "bin_end": 11.6,
            "count": 0
           },
           {
            "bin_start": 11.6,
            "bin_end": 11.9,
            "count": 0
           },
           {
            "bin_start": 11.9,
            "bin_end": 12.2,
            "count": 0
           },
           {
            "bin_start": 12.2,
            "bin_end": 12.5,
            "count": 0
           },
           {
            "bin_start": 12.5,
            "bin_end": 12.8,
            "count": 0
           },
           {
            "bin_start": 12.8,
            "bin_end": 13.1,
            "count": 1
           },
           {
            "bin_start": 13.1,
            "bin_end": 13.4,
            "count": 0
           },
           {
            "bin_start": 13.4,
            "bin_end": 13.7,
            "count": 0
           },
           {
            "bin_start": 13.7,
            "bin_end": 14,
            "count": 2
           }
          ]
         }
        },
        {
         "name": "MST_start_year",
         "dtype": "int64",
         "stats": {
          "unique_count": 1,
          "nan_count": 0,
          "min": "2022",
          "max": "2022",
          "histogram": [
           {
            "bin_start": 2021.5,
            "bin_end": 2021.6,
            "count": 0
           },
           {
            "bin_start": 2021.6,
            "bin_end": 2021.7,
            "count": 0
           },
           {
            "bin_start": 2021.7,
            "bin_end": 2021.8,
            "count": 0
           },
           {
            "bin_start": 2021.8,
            "bin_end": 2021.9,
            "count": 0
           },
           {
            "bin_start": 2021.9,
            "bin_end": 2022,
            "count": 0
           },
           {
            "bin_start": 2022,
            "bin_end": 2022.1,
            "count": 5
           },
           {
            "bin_start": 2022.1,
            "bin_end": 2022.2,
            "count": 0
           },
           {
            "bin_start": 2022.2,
            "bin_end": 2022.3,
            "count": 0
           },
           {
            "bin_start": 2022.3,
            "bin_end": 2022.4,
            "count": 0
           },
           {
            "bin_start": 2022.4,
            "bin_end": 2022.5,
            "count": 0
           }
          ]
         }
        },
        {
         "name": "MST_start_time",
         "dtype": "object",
         "stats": {
          "unique_count": 5,
          "nan_count": 0,
          "categories": [
           {
            "name": "14:07:54",
            "count": 1
           },
           {
            "name": "14:40:44",
            "count": 1
           },
           {
            "name": "3 others",
            "count": 3
           }
          ]
         }
        },
        {
         "name": "MST_start_hour",
         "dtype": "int64",
         "stats": {
          "unique_count": 4,
          "nan_count": 0,
          "min": "13",
          "max": "17",
          "histogram": [
           {
            "bin_start": 13,
            "bin_end": 13.4,
            "count": 1
           },
           {
            "bin_start": 13.4,
            "bin_end": 13.8,
            "count": 0
           },
           {
            "bin_start": 13.8,
            "bin_end": 14.2,
            "count": 2
           },
           {
            "bin_start": 14.2,
            "bin_end": 14.6,
            "count": 0
           },
           {
            "bin_start": 14.6,
            "bin_end": 15,
            "count": 0
           },
           {
            "bin_start": 15,
            "bin_end": 15.4,
            "count": 0
           },
           {
            "bin_start": 15.4,
            "bin_end": 15.8,
            "count": 0
           },
           {
            "bin_start": 15.8,
            "bin_end": 16.2,
            "count": 1
           },
           {
            "bin_start": 16.2,
            "bin_end": 16.6,
            "count": 0
           },
           {
            "bin_start": 16.6,
            "bin_end": 17,
            "count": 1
           }
          ]
         }
        },
        {
         "name": "MST_start_minute",
         "dtype": "int64",
         "stats": {
          "unique_count": 5,
          "nan_count": 0,
          "min": "7",
          "max": "40",
          "histogram": [
           {
            "bin_start": 7,
            "bin_end": 10.3,
            "count": 2
           },
           {
            "bin_start": 10.3,
            "bin_end": 13.6,
            "count": 0
           },
           {
            "bin_start": 13.6,
            "bin_end": 16.9,
            "count": 1
           },
           {
            "bin_start": 16.9,
            "bin_end": 20.2,
            "count": 0
           },
           {
            "bin_start": 20.2,
            "bin_end": 23.5,
            "count": 0
           },
           {
            "bin_start": 23.5,
            "bin_end": 26.799999999999997,
            "count": 0
           },
           {
            "bin_start": 26.799999999999997,
            "bin_end": 30.099999999999998,
            "count": 0
           },
           {
            "bin_start": 30.099999999999998,
            "bin_end": 33.4,
            "count": 0
           },
           {
            "bin_start": 33.4,
            "bin_end": 36.7,
            "count": 0
           },
           {
            "bin_start": 36.7,
            "bin_end": 40,
            "count": 2
           }
          ]
         }
        },
        {
         "name": "MST_start_second",
         "dtype": "int64",
         "stats": {
          "unique_count": 5,
          "nan_count": 0,
          "min": "10",
          "max": "54",
          "histogram": [
           {
            "bin_start": 10,
            "bin_end": 14.4,
            "count": 1
           },
           {
            "bin_start": 14.4,
            "bin_end": 18.8,
            "count": 0
           },
           {
            "bin_start": 18.8,
            "bin_end": 23.200000000000003,
            "count": 0
           },
           {
            "bin_start": 23.200000000000003,
            "bin_end": 27.6,
            "count": 0
           },
           {
            "bin_start": 27.6,
            "bin_end": 32,
            "count": 1
           },
           {
            "bin_start": 32,
            "bin_end": 36.400000000000006,
            "count": 0
           },
           {
            "bin_start": 36.400000000000006,
            "bin_end": 40.800000000000004,
            "count": 1
           },
           {
            "bin_start": 40.800000000000004,
            "bin_end": 45.2,
            "count": 1
           },
           {
            "bin_start": 45.2,
            "bin_end": 49.6,
            "count": 0
           },
           {
            "bin_start": 49.6,
            "bin_end": 54,
            "count": 1
           }
          ]
         }
        },
        {
         "name": "MST_end_date",
         "dtype": "object",
         "stats": {
          "unique_count": 3,
          "nan_count": 0,
          "categories": [
           {
            "name": "2022-05-14",
            "count": 2
           },
           {
            "name": "2022-05-11",
            "count": 2
           },
           {
            "name": "2022-05-13",
            "count": 1
           }
          ]
         }
        },
        {
         "name": "MST_end_month",
         "dtype": "int64",
         "stats": {
          "unique_count": 1,
          "nan_count": 0,
          "min": "5",
          "max": "5",
          "histogram": [
           {
            "bin_start": 4.5,
            "bin_end": 4.6,
            "count": 0
           },
           {
            "bin_start": 4.6,
            "bin_end": 4.7,
            "count": 0
           },
           {
            "bin_start": 4.7,
            "bin_end": 4.8,
            "count": 0
           },
           {
            "bin_start": 4.8,
            "bin_end": 4.9,
            "count": 0
           },
           {
            "bin_start": 4.9,
            "bin_end": 5,
            "count": 0
           },
           {
            "bin_start": 5,
            "bin_end": 5.1,
            "count": 5
           },
           {
            "bin_start": 5.1,
            "bin_end": 5.2,
            "count": 0
           },
           {
            "bin_start": 5.2,
            "bin_end": 5.3,
            "count": 0
           },
           {
            "bin_start": 5.3,
            "bin_end": 5.4,
            "count": 0
           },
           {
            "bin_start": 5.4,
            "bin_end": 5.5,
            "count": 0
           }
          ]
         }
        },
        {
         "name": "MST_end_day",
         "dtype": "int64",
         "stats": {
          "unique_count": 3,
          "nan_count": 0,
          "min": "11",
          "max": "14",
          "histogram": [
           {
            "bin_start": 11,
            "bin_end": 11.3,
            "count": 2
           },
           {
            "bin_start": 11.3,
            "bin_end": 11.6,
            "count": 0
           },
           {
            "bin_start": 11.6,
            "bin_end": 11.9,
            "count": 0
           },
           {
            "bin_start": 11.9,
            "bin_end": 12.2,
            "count": 0
           },
           {
            "bin_start": 12.2,
            "bin_end": 12.5,
            "count": 0
           },
           {
            "bin_start": 12.5,
            "bin_end": 12.8,
            "count": 0
           },
           {
            "bin_start": 12.8,
            "bin_end": 13.1,
            "count": 1
           },
           {
            "bin_start": 13.1,
            "bin_end": 13.4,
            "count": 0
           },
           {
            "bin_start": 13.4,
            "bin_end": 13.7,
            "count": 0
           },
           {
            "bin_start": 13.7,
            "bin_end": 14,
            "count": 2
           }
          ]
         }
        },
        {
         "name": "MST_end_year",
         "dtype": "int64",
         "stats": {
          "unique_count": 1,
          "nan_count": 0,
          "min": "2022",
          "max": "2022",
          "histogram": [
           {
            "bin_start": 2021.5,
            "bin_end": 2021.6,
            "count": 0
           },
           {
            "bin_start": 2021.6,
            "bin_end": 2021.7,
            "count": 0
           },
           {
            "bin_start": 2021.7,
            "bin_end": 2021.8,
            "count": 0
           },
           {
            "bin_start": 2021.8,
            "bin_end": 2021.9,
            "count": 0
           },
           {
            "bin_start": 2021.9,
            "bin_end": 2022,
            "count": 0
           },
           {
            "bin_start": 2022,
            "bin_end": 2022.1,
            "count": 5
           },
           {
            "bin_start": 2022.1,
            "bin_end": 2022.2,
            "count": 0
           },
           {
            "bin_start": 2022.2,
            "bin_end": 2022.3,
            "count": 0
           },
           {
            "bin_start": 2022.3,
            "bin_end": 2022.4,
            "count": 0
           },
           {
            "bin_start": 2022.4,
            "bin_end": 2022.5,
            "count": 0
           }
          ]
         }
        },
        {
         "name": "MST_end_time",
         "dtype": "object",
         "stats": {
          "unique_count": 5,
          "nan_count": 0,
          "categories": [
           {
            "name": "14:58:03",
            "count": 1
           },
           {
            "name": "14:48:42",
            "count": 1
           },
           {
            "name": "3 others",
            "count": 3
           }
          ]
         }
        },
        {
         "name": "MST_end_hour",
         "dtype": "int64",
         "stats": {
          "unique_count": 3,
          "nan_count": 0,
          "min": "14",
          "max": "17",
          "histogram": [
           {
            "bin_start": 14,
            "bin_end": 14.3,
            "count": 3
           },
           {
            "bin_start": 14.3,
            "bin_end": 14.6,
            "count": 0
           },
           {
            "bin_start": 14.6,
            "bin_end": 14.9,
            "count": 0
           },
           {
            "bin_start": 14.9,
            "bin_end": 15.2,
            "count": 0
           },
           {
            "bin_start": 15.2,
            "bin_end": 15.5,
            "count": 0
           },
           {
            "bin_start": 15.5,
            "bin_end": 15.8,
            "count": 0
           },
           {
            "bin_start": 15.8,
            "bin_end": 16.1,
            "count": 1
           },
           {
            "bin_start": 16.1,
            "bin_end": 16.4,
            "count": 0
           },
           {
            "bin_start": 16.4,
            "bin_end": 16.7,
            "count": 0
           },
           {
            "bin_start": 16.7,
            "bin_end": 17,
            "count": 1
           }
          ]
         }
        },
        {
         "name": "MST_end_minute",
         "dtype": "int64",
         "stats": {
          "unique_count": 5,
          "nan_count": 0,
          "min": "33",
          "max": "58",
          "histogram": [
           {
            "bin_start": 33,
            "bin_end": 35.5,
            "count": 1
           },
           {
            "bin_start": 35.5,
            "bin_end": 38,
            "count": 1
           },
           {
            "bin_start": 38,
            "bin_end": 40.5,
            "count": 0
           },
           {
            "bin_start": 40.5,
            "bin_end": 43,
            "count": 0
           },
           {
            "bin_start": 43,
            "bin_end": 45.5,
            "count": 0
           },
           {
            "bin_start": 45.5,
            "bin_end": 48,
            "count": 1
           },
           {
            "bin_start": 48,
            "bin_end": 50.5,
            "count": 1
           },
           {
            "bin_start": 50.5,
            "bin_end": 53,
            "count": 0
           },
           {
            "bin_start": 53,
            "bin_end": 55.5,
            "count": 0
           },
           {
            "bin_start": 55.5,
            "bin_end": 58,
            "count": 1
           }
          ]
         }
        },
        {
         "name": "MST_end_second",
         "dtype": "int64",
         "stats": {
          "unique_count": 5,
          "nan_count": 0,
          "min": "3",
          "max": "49",
          "histogram": [
           {
            "bin_start": 3,
            "bin_end": 7.6,
            "count": 1
           },
           {
            "bin_start": 7.6,
            "bin_end": 12.2,
            "count": 0
           },
           {
            "bin_start": 12.2,
            "bin_end": 16.799999999999997,
            "count": 0
           },
           {
            "bin_start": 16.799999999999997,
            "bin_end": 21.4,
            "count": 0
           },
           {
            "bin_start": 21.4,
            "bin_end": 26,
            "count": 1
           },
           {
            "bin_start": 26,
            "bin_end": 30.599999999999998,
            "count": 0
           },
           {
            "bin_start": 30.599999999999998,
            "bin_end": 35.199999999999996,
            "count": 0
           },
           {
            "bin_start": 35.199999999999996,
            "bin_end": 39.8,
            "count": 1
           },
           {
            "bin_start": 39.8,
            "bin_end": 44.4,
            "count": 1
           },
           {
            "bin_start": 44.4,
            "bin_end": 49,
            "count": 1
           }
          ]
         }
        },
        {
         "name": "_deepnote_index_column",
         "dtype": "int64"
        }
       ],
       "rows": [
        {
         "TripId": "88180c2feb14c8520f169e4bda526313",
         "DeviceId": "009ef4b15eadd773468cd2bfdff6eb54",
         "ProviderId": "74071a673307ca7459bcf75fbd024e09",
         "Mode": "1",
         "StartDate": "2022-05-14T21:07:54.000Z",
         "StartWDay": "6",
         "EndDate": "2022-05-14T21:58:03.000Z",
         "EndWDay": "6",
         "StartLocLat": 38.27969,
         "StartLocLon": -104.52873,
         "EndLocLat": 38.34004,
         "EndLocLon": -104.67292,
         "GeospatialType": "EI",
         "ProviderType": "1",
         "ProviderDrivingProfile": "1",
         "VehicleWeightClass": "1",
         "ProbeSourceType": "2",
         "OriginZoneName": "nan",
         "DestinationZoneName": "Fort Carson CO",
         "EndpointType": "3",
         "TripMeanSpeedKph": 34.57612958,
         "TripMaxSpeedKph": 222.233945,
         "TripDistanceMeters": 28899.88164,
         "MovementType": "1",
         "OriginCbg": "nan",
         "DestCbg": "nan",
         "StartTimezone": "America/Denver",
         "EndTimezone": "America/Denver",
         "WaypointFreqSec": "nan",
         "StartQk": 23101200000000000,
         "EndQk": 23101200000000000,
         "Unnamed: 31": "{\\method\\\":\\\"fused\\\"",
         "Unnamed: 32": "\\\"aid_type\\\":\\\"AAID\\\"}\"",
         "Startlocation": "POINT (38.27969 -104.52873)",
         "Endlocation": "POINT (38.34004 -104.67292)",
         "MST_start_datetime": "2022-05-14T14:07:54.000000",
         "MST_end_datetime": "2022-05-14T14:58:03.000000",
         "MST_start_date": "2022-05-14",
         "MST_start_month": 5,
         "MST_start_day": 14,
         "MST_start_year": 2022,
         "MST_start_time": "14:07:54",
         "MST_start_hour": 14,
         "MST_start_minute": 7,
         "MST_start_second": 54,
         "MST_end_date": "2022-05-14",
         "MST_end_month": 5,
         "MST_end_day": 14,
         "MST_end_year": 2022,
         "MST_end_time": "14:58:03",
         "MST_end_hour": 14,
         "MST_end_minute": 58,
         "MST_end_second": 3,
         "_deepnote_index_column": 1
        },
        {
         "TripId": "a4d0936eb3b45ff1a5af8885939fbcd5",
         "DeviceId": "011dbfd3e177545535328ba48377522f",
         "ProviderId": "74071a673307ca7459bcf75fbd024e09",
         "Mode": "0",
         "StartDate": "2022-05-13T21:40:44.000Z",
         "StartWDay": "5",
         "EndDate": "2022-05-13T21:48:42.000Z",
         "EndWDay": "5",
         "StartLocLat": 38.75461,
         "StartLocLon": -104.78828,
         "EndLocLat": 38.74819,
         "EndLocLon": -104.78828,
         "GeospatialType": "II",
         "ProviderType": "1",
         "ProviderDrivingProfile": "1",
         "VehicleWeightClass": "1",
         "ProbeSourceType": "2",
         "OriginZoneName": "Fort Carson CO",
         "DestinationZoneName": "Fort Carson CO",
         "EndpointType": "3",
         "TripMeanSpeedKph": 6.108307693,
         "TripMaxSpeedKph": 10.71996025,
         "TripDistanceMeters": 811.0475215,
         "MovementType": "1",
         "OriginCbg": "nan",
         "DestCbg": "nan",
         "StartTimezone": "America/Denver",
         "EndTimezone": "America/Denver",
         "WaypointFreqSec": "nan",
         "StartQk": 23101200000000000,
         "EndQk": 23101200000000000,
         "Unnamed: 31": "{\\method\\\":\\\"fused\\\"",
         "Unnamed: 32": "\\\"aid_type\\\":\\\"AAID\\\"}\"",
         "Startlocation": "POINT (38.75461 -104.78828)",
         "Endlocation": "POINT (38.74819 -104.78828)",
         "MST_start_datetime": "2022-05-13T14:40:44.000000",
         "MST_end_datetime": "2022-05-13T14:48:42.000000",
         "MST_start_date": "2022-05-13",
         "MST_start_month": 5,
         "MST_start_day": 13,
         "MST_start_year": 2022,
         "MST_start_time": "14:40:44",
         "MST_start_hour": 14,
         "MST_start_minute": 40,
         "MST_start_second": 44,
         "MST_end_date": "2022-05-13",
         "MST_end_month": 5,
         "MST_end_day": 13,
         "MST_end_year": 2022,
         "MST_end_time": "14:48:42",
         "MST_end_hour": 14,
         "MST_end_minute": 48,
         "MST_end_second": 42,
         "_deepnote_index_column": 2
        },
        {
         "TripId": "a04c70dd5a17f8f54b7a5576951da0c5",
         "DeviceId": "014b33b72b76a3ba8cbb621009408974",
         "ProviderId": "d07e70efcfab08731a97e7b91be644de",
         "Mode": "1",
         "StartDate": "2022-05-11T23:37:31.000Z",
         "StartWDay": "3",
         "EndDate": "2022-05-11T23:47:49.000Z",
         "EndWDay": "3",
         "StartLocLat": 38.67639,
         "StartLocLon": -104.70588,
         "EndLocLat": 38.73319,
         "EndLocLon": -104.77867,
         "GeospatialType": "EI",
         "ProviderType": "1",
         "ProviderDrivingProfile": "1",
         "VehicleWeightClass": "1",
         "ProbeSourceType": "1",
         "OriginZoneName": "nan",
         "DestinationZoneName": "Fort Carson CO",
         "EndpointType": "3",
         "TripMeanSpeedKph": 64.42477686,
         "TripMaxSpeedKph": 125.7532355,
         "TripDistanceMeters": 11059.58669,
         "MovementType": "1",
         "OriginCbg": "nan",
         "DestCbg": "nan",
         "StartTimezone": "America/Denver",
         "EndTimezone": "America/Denver",
         "WaypointFreqSec": "nan",
         "StartQk": 23101200000000000,
         "EndQk": 23101200000000000,
         "Unnamed: 31": "nan",
         "Unnamed: 32": "nan",
         "Startlocation": "POINT (38.67639 -104.70588)",
         "Endlocation": "POINT (38.73319 -104.77867)",
         "MST_start_datetime": "2022-05-11T16:37:31.000000",
         "MST_end_datetime": "2022-05-11T16:47:49.000000",
         "MST_start_date": "2022-05-11",
         "MST_start_month": 5,
         "MST_start_day": 11,
         "MST_start_year": 2022,
         "MST_start_time": "16:37:31",
         "MST_start_hour": 16,
         "MST_start_minute": 37,
         "MST_start_second": 31,
         "MST_end_date": "2022-05-11",
         "MST_end_month": 5,
         "MST_end_day": 11,
         "MST_end_year": 2022,
         "MST_end_time": "16:47:49",
         "MST_end_hour": 16,
         "MST_end_minute": 47,
         "MST_end_second": 49,
         "_deepnote_index_column": 3
        },
        {
         "TripId": "509bba65db0e6495bb35e615f823350c",
         "DeviceId": "014ed4fc9ea19b744e0eb3a0b1d72bb1",
         "ProviderId": "74071a673307ca7459bcf75fbd024e09",
         "Mode": "1",
         "StartDate": "2022-05-12T00:14:40.000Z",
         "StartWDay": "3",
         "EndDate": "2022-05-12T00:37:38.000Z",
         "EndWDay": "3",
         "StartLocLat": 38.55622,
         "StartLocLon": -104.64958,
         "EndLocLat": 38.2193,
         "EndLocLon": -104.6537,
         "GeospatialType": "IE",
         "ProviderType": "1",
         "ProviderDrivingProfile": "1",
         "VehicleWeightClass": "1",
         "ProbeSourceType": "2",
         "OriginZoneName": "Fort Carson CO",
         "DestinationZoneName": "nan",
         "EndpointType": "2",
         "TripMeanSpeedKph": 108.2067285,
         "TripMaxSpeedKph": 167.958871,
         "TripDistanceMeters": 41419.13109,
         "MovementType": "1",
         "OriginCbg": "nan",
         "DestCbg": "nan",
         "StartTimezone": "America/Denver",
         "EndTimezone": "America/Denver",
         "WaypointFreqSec": "nan",
         "StartQk": 23101200000000000,
         "EndQk": 23101200000000000,
         "Unnamed: 31": "{\\method\\\":\\\"gps\\\"",
         "Unnamed: 32": "\\\"aid_type\\\":\\\"IDFA\\\"}\"",
         "Startlocation": "POINT (38.55622 -104.64958)",
         "Endlocation": "POINT (38.2193 -104.6537)",
         "MST_start_datetime": "2022-05-11T17:14:40.000000",
         "MST_end_datetime": "2022-05-11T17:37:38.000000",
         "MST_start_date": "2022-05-11",
         "MST_start_month": 5,
         "MST_start_day": 11,
         "MST_start_year": 2022,
         "MST_start_time": "17:14:40",
         "MST_start_hour": 17,
         "MST_start_minute": 14,
         "MST_start_second": 40,
         "MST_end_date": "2022-05-11",
         "MST_end_month": 5,
         "MST_end_day": 11,
         "MST_end_year": 2022,
         "MST_end_time": "17:37:38",
         "MST_end_hour": 17,
         "MST_end_minute": 37,
         "MST_end_second": 38,
         "_deepnote_index_column": 4
        },
        {
         "TripId": "331d214470e8b35cbd9a4fff41e857ec",
         "DeviceId": "018c8710f851218ae510a49e8bbdee56",
         "ProviderId": "74071a673307ca7459bcf75fbd024e09",
         "Mode": "1",
         "StartDate": "2022-05-14T20:10:10.000Z",
         "StartWDay": "6",
         "EndDate": "2022-05-14T21:33:25.000Z",
         "EndWDay": "6",
         "StartLocLat": 38.34111,
         "StartLocLon": -104.6688,
         "EndLocLat": 38.34111,
         "EndLocLon": -104.6688,
         "GeospatialType": "II",
         "ProviderType": "1",
         "ProviderDrivingProfile": "1",
         "VehicleWeightClass": "1",
         "ProbeSourceType": "2",
         "OriginZoneName": "Fort Carson CO",
         "DestinationZoneName": "Fort Carson CO",
         "EndpointType": "3",
         "TripMeanSpeedKph": 26.31707273,
         "TripMaxSpeedKph": 198.4677871,
         "TripDistanceMeters": 36514.93841,
         "MovementType": "1",
         "OriginCbg": "nan",
         "DestCbg": "nan",
         "StartTimezone": "America/Denver",
         "EndTimezone": "America/Denver",
         "WaypointFreqSec": "nan",
         "StartQk": 23101200000000000,
         "EndQk": 23101200000000000,
         "Unnamed: 31": "{\\method\\\":\\\"fused\\\"",
         "Unnamed: 32": "\\\"aid_type\\\":\\\"AAID\\\"}\"",
         "Startlocation": "POINT (38.34111 -104.6688)",
         "Endlocation": "POINT (38.34111 -104.6688)",
         "MST_start_datetime": "2022-05-14T13:10:10.000000",
         "MST_end_datetime": "2022-05-14T14:33:25.000000",
         "MST_start_date": "2022-05-14",
         "MST_start_month": 5,
         "MST_start_day": 14,
         "MST_start_year": 2022,
         "MST_start_time": "13:10:10",
         "MST_start_hour": 13,
         "MST_start_minute": 10,
         "MST_start_second": 10,
         "MST_end_date": "2022-05-14",
         "MST_end_month": 5,
         "MST_end_day": 14,
         "MST_end_year": 2022,
         "MST_end_time": "14:33:25",
         "MST_end_hour": 14,
         "MST_end_minute": 33,
         "MST_end_second": 25,
         "_deepnote_index_column": 5
        }
       ]
      },
      "text/plain": "                             TripId                          DeviceId  \\\n1  88180c2feb14c8520f169e4bda526313  009ef4b15eadd773468cd2bfdff6eb54   \n2  a4d0936eb3b45ff1a5af8885939fbcd5  011dbfd3e177545535328ba48377522f   \n3  a04c70dd5a17f8f54b7a5576951da0c5  014b33b72b76a3ba8cbb621009408974   \n4  509bba65db0e6495bb35e615f823350c  014ed4fc9ea19b744e0eb3a0b1d72bb1   \n5  331d214470e8b35cbd9a4fff41e857ec  018c8710f851218ae510a49e8bbdee56   \n\n                         ProviderId Mode                 StartDate StartWDay  \\\n1  74071a673307ca7459bcf75fbd024e09    1  2022-05-14T21:07:54.000Z         6   \n2  74071a673307ca7459bcf75fbd024e09    0  2022-05-13T21:40:44.000Z         5   \n3  d07e70efcfab08731a97e7b91be644de    1  2022-05-11T23:37:31.000Z         3   \n4  74071a673307ca7459bcf75fbd024e09    1  2022-05-12T00:14:40.000Z         3   \n5  74071a673307ca7459bcf75fbd024e09    1  2022-05-14T20:10:10.000Z         6   \n\n                    EndDate EndWDay  StartLocLat  StartLocLon  ...  \\\n1  2022-05-14T21:58:03.000Z       6     38.27969   -104.52873  ...   \n2  2022-05-13T21:48:42.000Z       5     38.75461   -104.78828  ...   \n3  2022-05-11T23:47:49.000Z       3     38.67639   -104.70588  ...   \n4  2022-05-12T00:37:38.000Z       3     38.55622   -104.64958  ...   \n5  2022-05-14T21:33:25.000Z       6     38.34111   -104.66880  ...   \n\n   MST_start_minute  MST_start_second MST_end_date MST_end_month MST_end_day  \\\n1                 7                54   2022-05-14             5          14   \n2                40                44   2022-05-13             5          13   \n3                37                31   2022-05-11             5          11   \n4                14                40   2022-05-11             5          11   \n5                10                10   2022-05-14             5          14   \n\n  MST_end_year MST_end_time MST_end_hour MST_end_minute MST_end_second  \n1         2022     14:58:03           14             58              3  \n2         2022     14:48:42           14             48             42  \n3         2022     16:47:49           16             47             49  \n4         2022     17:37:38           17             37             38  \n5         2022     14:33:25           14             33             25  \n\n[5 rows x 53 columns]",
      "text/html": "<div>\n<style scoped>\n    .dataframe tbody tr th:only-of-type {\n        vertical-align: middle;\n    }\n\n    .dataframe tbody tr th {\n        vertical-align: top;\n    }\n\n    .dataframe thead th {\n        text-align: right;\n    }\n</style>\n<table border=\"1\" class=\"dataframe\">\n  <thead>\n    <tr style=\"text-align: right;\">\n      <th></th>\n      <th>TripId</th>\n      <th>DeviceId</th>\n      <th>ProviderId</th>\n      <th>Mode</th>\n      <th>StartDate</th>\n      <th>StartWDay</th>\n      <th>EndDate</th>\n      <th>EndWDay</th>\n      <th>StartLocLat</th>\n      <th>StartLocLon</th>\n      <th>...</th>\n      <th>MST_start_minute</th>\n      <th>MST_start_second</th>\n      <th>MST_end_date</th>\n      <th>MST_end_month</th>\n      <th>MST_end_day</th>\n      <th>MST_end_year</th>\n      <th>MST_end_time</th>\n      <th>MST_end_hour</th>\n      <th>MST_end_minute</th>\n      <th>MST_end_second</th>\n    </tr>\n  </thead>\n  <tbody>\n    <tr>\n      <th>1</th>\n      <td>88180c2feb14c8520f169e4bda526313</td>\n      <td>009ef4b15eadd773468cd2bfdff6eb54</td>\n      <td>74071a673307ca7459bcf75fbd024e09</td>\n      <td>1</td>\n      <td>2022-05-14T21:07:54.000Z</td>\n      <td>6</td>\n      <td>2022-05-14T21:58:03.000Z</td>\n      <td>6</td>\n      <td>38.27969</td>\n      <td>-104.52873</td>\n      <td>...</td>\n      <td>7</td>\n      <td>54</td>\n      <td>2022-05-14</td>\n      <td>5</td>\n      <td>14</td>\n      <td>2022</td>\n      <td>14:58:03</td>\n      <td>14</td>\n      <td>58</td>\n      <td>3</td>\n    </tr>\n    <tr>\n      <th>2</th>\n      <td>a4d0936eb3b45ff1a5af8885939fbcd5</td>\n      <td>011dbfd3e177545535328ba48377522f</td>\n      <td>74071a673307ca7459bcf75fbd024e09</td>\n      <td>0</td>\n      <td>2022-05-13T21:40:44.000Z</td>\n      <td>5</td>\n      <td>2022-05-13T21:48:42.000Z</td>\n      <td>5</td>\n      <td>38.75461</td>\n      <td>-104.78828</td>\n      <td>...</td>\n      <td>40</td>\n      <td>44</td>\n      <td>2022-05-13</td>\n      <td>5</td>\n      <td>13</td>\n      <td>2022</td>\n      <td>14:48:42</td>\n      <td>14</td>\n      <td>48</td>\n      <td>42</td>\n    </tr>\n    <tr>\n      <th>3</th>\n      <td>a04c70dd5a17f8f54b7a5576951da0c5</td>\n      <td>014b33b72b76a3ba8cbb621009408974</td>\n      <td>d07e70efcfab08731a97e7b91be644de</td>\n      <td>1</td>\n      <td>2022-05-11T23:37:31.000Z</td>\n      <td>3</td>\n      <td>2022-05-11T23:47:49.000Z</td>\n      <td>3</td>\n      <td>38.67639</td>\n      <td>-104.70588</td>\n      <td>...</td>\n      <td>37</td>\n      <td>31</td>\n      <td>2022-05-11</td>\n      <td>5</td>\n      <td>11</td>\n      <td>2022</td>\n      <td>16:47:49</td>\n      <td>16</td>\n      <td>47</td>\n      <td>49</td>\n    </tr>\n    <tr>\n      <th>4</th>\n      <td>509bba65db0e6495bb35e615f823350c</td>\n      <td>014ed4fc9ea19b744e0eb3a0b1d72bb1</td>\n      <td>74071a673307ca7459bcf75fbd024e09</td>\n      <td>1</td>\n      <td>2022-05-12T00:14:40.000Z</td>\n      <td>3</td>\n      <td>2022-05-12T00:37:38.000Z</td>\n      <td>3</td>\n      <td>38.55622</td>\n      <td>-104.64958</td>\n      <td>...</td>\n      <td>14</td>\n      <td>40</td>\n      <td>2022-05-11</td>\n      <td>5</td>\n      <td>11</td>\n      <td>2022</td>\n      <td>17:37:38</td>\n      <td>17</td>\n      <td>37</td>\n      <td>38</td>\n    </tr>\n    <tr>\n      <th>5</th>\n      <td>331d214470e8b35cbd9a4fff41e857ec</td>\n      <td>018c8710f851218ae510a49e8bbdee56</td>\n      <td>74071a673307ca7459bcf75fbd024e09</td>\n      <td>1</td>\n      <td>2022-05-14T20:10:10.000Z</td>\n      <td>6</td>\n      <td>2022-05-14T21:33:25.000Z</td>\n      <td>6</td>\n      <td>38.34111</td>\n      <td>-104.66880</td>\n      <td>...</td>\n      <td>10</td>\n      <td>10</td>\n      <td>2022-05-14</td>\n      <td>5</td>\n      <td>14</td>\n      <td>2022</td>\n      <td>14:33:25</td>\n      <td>14</td>\n      <td>33</td>\n      <td>25</td>\n    </tr>\n  </tbody>\n</table>\n<p>5 rows × 53 columns</p>\n</div>"
     },
     "metadata": {}
    }
   ]
  },
  {
   "cell_type": "code",
   "source": "gdf.to_csv('/work/trips_after_cleaning.csv')",
   "metadata": {
    "cell_id": "41d8e0a4a4a24188aeea7edf32db4fa3",
    "tags": [],
    "deepnote_to_be_reexecuted": false,
    "source_hash": "90d20306",
    "execution_start": 1654719494727,
    "execution_millis": 16319,
    "deepnote_cell_type": "code",
    "deepnote_cell_height": 81
   },
   "outputs": [],
   "execution_count": 11
  },
  {
   "cell_type": "markdown",
   "source": "# EDA ",
   "metadata": {
    "cell_id": "00013-597f85f3-ea18-4604-a8ad-b69735ad280b",
    "deepnote_cell_type": "markdown",
    "deepnote_cell_height": 82
   }
  },
  {
   "cell_type": "markdown",
   "source": "### 1. Number of Device",
   "metadata": {
    "cell_id": "00014-6e3f358b-0519-4e78-aa75-816a12bbb0b9",
    "deepnote_cell_type": "markdown",
    "deepnote_cell_height": 62
   }
  },
  {
   "cell_type": "code",
   "metadata": {
    "cell_id": "00015-72b590a7-f6dc-4ff1-9348-2efc58812871",
    "deepnote_to_be_reexecuted": false,
    "source_hash": "77aebe5",
    "execution_start": 1654719511083,
    "execution_millis": 2055,
    "deepnote_cell_type": "code",
    "deepnote_cell_height": 148
   },
   "source": "gdf = pd.read_csv('/work/trips_after_cleaning.csv')\ndevice_number = len(gdf['DeviceId'].unique())\nprint('These {} trips are from {} unique devices.'.format(len(gdf),device_number))",
   "execution_count": 12,
   "outputs": [
    {
     "name": "stdout",
     "text": "These 125367 trips are from 65890 unique devices.\n",
     "output_type": "stream"
    }
   ]
  },
  {
   "cell_type": "markdown",
   "source": "### 2. Walk vs. Vehicle",
   "metadata": {
    "cell_id": "00016-6f853f85-d30f-430f-af48-3a537f5fa2fa",
    "deepnote_cell_type": "markdown",
    "deepnote_cell_height": 62
   }
  },
  {
   "cell_type": "code",
   "metadata": {
    "cell_id": "00017-fc4dc8a7-b8bc-4586-a980-e66c00b5edde",
    "deepnote_to_be_reexecuted": false,
    "source_hash": "c0c31210",
    "execution_start": 1654719513180,
    "execution_millis": 654,
    "deepnote_cell_type": "code",
    "deepnote_cell_height": 452.1875,
    "deepnote_output_heights": [
     21.1875,
     267
    ]
   },
   "source": "count_plot = sns.countplot(gdf['Mode'])\ncount_plot.set_xticklabels(['Walk','Vehicle','Unknown']) \ncount_plot.bar_label(count_plot.containers[0])",
   "execution_count": 13,
   "outputs": [
    {
     "output_type": "execute_result",
     "execution_count": 13,
     "data": {
      "text/plain": "[Text(0, 0, '7784'), Text(0, 0, '114747'), Text(0, 0, '2836')]"
     },
     "metadata": {}
    },
    {
     "data": {
      "text/plain": "<Figure size 432x288 with 1 Axes>",
      "image/png": "[encoded data removed]"
     },
     "metadata": {
      "needs_background": "light",
      "image/png": {
       "width": 407,
       "height": 265
      }
     },
     "output_type": "display_data"
    }
   ]
  },
  {
   "cell_type": "markdown",
   "source": "### 3. Vehicle type",
   "metadata": {
    "cell_id": "00018-ffdf7104-529f-4f25-bc57-5bcf3b22e6b8",
    "deepnote_cell_type": "markdown",
    "deepnote_cell_height": 62
   }
  },
  {
   "cell_type": "code",
   "metadata": {
    "cell_id": "00019-652b80b2-637c-40a3-9c67-47df924d9aa9",
    "deepnote_to_be_reexecuted": false,
    "source_hash": "c9dc6a3d",
    "execution_start": 1654719513503,
    "execution_millis": 635,
    "owner_user_id": "c2797620-17db-476e-95ed-5cf105d338d7",
    "deepnote_cell_type": "code",
    "deepnote_cell_height": 1548.046875,
    "deepnote_output_heights": [
     21.1875,
     481
    ]
   },
   "source": "fig,[ax1,ax2,ax3] = plt.subplots(nrows=1, ncols=3,figsize=(12,5))\nsns.countplot(gdf['ProviderDrivingProfile'],ax=ax1,order=[1,2,3,4])\ntitle1='Provider Driving Profile' \nax1.set_title(title1)\nax1.set_xticklabels(['Consumer Vehicles','Taxi/shuttle/town car services','Field Service/Local Delivery Fleets','For hire/private trucking fleets'],rotation=90) \nax1.set(xlabel=None)\nax1.bar_label(ax1.containers[0])\n\nsns.countplot(gdf['VehicleWeightClass'],ax=ax2,order=[1,2,3])\ntitle2 = 'Vehicle Weight Class' \nax2.set_title(title2)\nax2.set_xticklabels(['Light Duty Truck','Medium Duty Trucks','Heavy Duty Trucks'],rotation=90)\nax2.set(xlabel=None)\nax2.bar_label(ax2.containers[0])\n\nsns.countplot(gdf['ProbeSourceType'],ax=ax3)\nax3.set_title('Device Type')\nax3.set_xticklabels(['Embedded GPS','Mobile Device'])\nax3.set(xlabel=None)\nax3.bar_label(ax3.containers[0])",
   "execution_count": 14,
   "outputs": [
    {
     "output_type": "execute_result",
     "execution_count": 14,
     "data": {
      "text/plain": "[Text(0, 0, '49851'), Text(0, 0, '75516')]"
     },
     "metadata": {}
    },
    {
     "data": {
      "text/plain": "<Figure size 864x360 with 3 Axes>",
      "image/png": "[encoded data removed]"
     },
     "metadata": {
      "needs_background": "light",
      "image/png": {
       "width": 742,
       "height": 479
      }
     },
     "output_type": "display_data"
    }
   ]
  },
  {
   "cell_type": "markdown",
   "source": "### 4.Trips per Device",
   "metadata": {
    "cell_id": "00022-51be2ca9-dc78-44b5-99cd-3c02b9dd9903",
    "deepnote_cell_type": "markdown",
    "deepnote_cell_height": 62
   }
  },
  {
   "cell_type": "code",
   "metadata": {
    "cell_id": "00023-9fa03ecf-8b0c-4304-a2e4-a0f5562ceb8a",
    "deepnote_to_be_reexecuted": false,
    "source_hash": "c36e9570",
    "execution_start": 1654719514192,
    "execution_millis": 280,
    "deepnote_cell_type": "code",
    "deepnote_cell_height": 348.53125,
    "deepnote_output_heights": [
     251.53125
    ]
   },
   "source": "gdf.groupby('DeviceId').count()['TripId'].sort_values(ascending=False)",
   "execution_count": 15,
   "outputs": [
    {
     "output_type": "execute_result",
     "execution_count": 15,
     "data": {
      "text/plain": "DeviceId\n70e68ce6b66dd2052c188f2bd8ad0563    91\nc6d52211ec83fb63badb38f323b9544e    87\nb4ff8360a3e7ac8fa763580f3202936f    84\n7ebcf69bfbf7b47abab7ef0db2a72f08    73\n0f38377b674a05d3e686a692b1ad0571    73\n                                    ..\n5c74e85b99cb5f281355a6082a5e719b     1\n5c7869cf018376e328bd37c307ade182     1\n5c7c47733c412a7e23b80df65ebc70d5     1\n5c7e0c3d9bf2f1168c31fc4cb066d844     1\nfffea5a18f1a308cee147a3e9c726700     1\nName: TripId, Length: 65890, dtype: int64"
     },
     "metadata": {}
    }
   ]
  },
  {
   "cell_type": "markdown",
   "source": "##### On average, during the month of May each device visits Fort Carson 1.76 times. ",
   "metadata": {
    "cell_id": "5b97aa4036a34d71a6cd73a0359748ac",
    "tags": [],
    "deepnote_cell_type": "markdown",
    "deepnote_cell_height": 54
   },
   "outputs": [],
   "execution_count": null
  },
  {
   "cell_type": "code",
   "metadata": {
    "cell_id": "cde18b06eb024bba88b827081987c866",
    "tags": [],
    "deepnote_to_be_reexecuted": false,
    "source_hash": "366a667f",
    "execution_start": 1654719514492,
    "execution_millis": 380,
    "deepnote_cell_type": "code",
    "deepnote_cell_height": 165.6875
   },
   "source": "# Calculate mean number of trips per deviceId\nmean_frequency = gdf.groupby(by = [\"Mode\",\"DeviceId\"]).count()['TripId'].mean()\nprint('During the month of May, on average each device frequents Fort Carson ' + str(mean_frequency) + ' times.')\n",
   "execution_count": 16,
   "outputs": [
    {
     "name": "stdout",
     "text": "During the month of May, on average each device frequents Fort Carson 1.7801238179081589 times.\n",
     "output_type": "stream"
    }
   ]
  },
  {
   "cell_type": "code",
   "source": "top_100_device_frequency = gdf['DeviceId'].value_counts().nlargest(1000)\n\nprint('Top 1000 most frequent deviceIds in May, 2022:\\n' ,top_100_device_frequency)",
   "metadata": {
    "cell_id": "cd3e025dace84563b63b6de2f895c3b1",
    "tags": [],
    "deepnote_to_be_reexecuted": false,
    "source_hash": "88d04fe4",
    "execution_start": 1654719514957,
    "execution_millis": 39,
    "deepnote_cell_type": "code",
    "deepnote_cell_height": 384.03125
   },
   "outputs": [
    {
     "name": "stdout",
     "text": "Top 1000 most frequent deviceIds in May, 2022:\n 70e68ce6b66dd2052c188f2bd8ad0563    91\nc6d52211ec83fb63badb38f323b9544e    87\nb4ff8360a3e7ac8fa763580f3202936f    84\n7ebcf69bfbf7b47abab7ef0db2a72f08    73\n0f38377b674a05d3e686a692b1ad0571    73\n                                    ..\nb93172855031d35a2de8daa35ccad7c2    16\n0847f30605dc40e4381b097e5bc30db5    16\n85da6a2d19f9f59cdef120b2f5d9d1fe    16\nb94883fac37f1ae6863db16076a9b561    16\nbc57d1b695cfb96ac1511713b1ae4356    16\nName: DeviceId, Length: 1000, dtype: int64\n",
     "output_type": "stream"
    }
   ],
   "execution_count": 17
  },
  {
   "cell_type": "code",
   "source": "top_10_device_frequency_by_day = gdf.groupby([\"StartWDay\",'DeviceId']).count()['TripId'].nlargest(10).unstack(0).plot.bar(title = 'Top 10 trip frequencies by device and work day')\ntop_10_device_frequency_by_day = gdf['DeviceId'].value_counts().nlargest(10)\ntop_10_device_frequency_by_day\n",
   "metadata": {
    "cell_id": "5110667f183a41ddbe28a910407ed75f",
    "tags": [],
    "deepnote_to_be_reexecuted": false,
    "source_hash": "eac2739",
    "execution_start": 1654719515026,
    "execution_millis": 1543,
    "deepnote_cell_type": "code",
    "deepnote_cell_height": 863,
    "deepnote_output_heights": [
     213,
     468
    ]
   },
   "outputs": [
    {
     "output_type": "execute_result",
     "execution_count": 18,
     "data": {
      "text/plain": "70e68ce6b66dd2052c188f2bd8ad0563    91\nc6d52211ec83fb63badb38f323b9544e    87\nb4ff8360a3e7ac8fa763580f3202936f    84\n7ebcf69bfbf7b47abab7ef0db2a72f08    73\n0f38377b674a05d3e686a692b1ad0571    73\nfdb8335a86289cc02c878d534acc64d6    72\n3de0769d66ec0c1d5af1c6932a7cb11b    69\n4463db876cfb9492daaac5b440b07e8c    69\n12442b4a8ce203b9691b4c75ec448568    67\n7f9a222ec5dabd2c4e3a5ad18015a8e3    66\nName: DeviceId, dtype: int64"
     },
     "metadata": {}
    },
    {
     "data": {
      "text/plain": "<Figure size 432x288 with 1 Axes>",
      "image/png": "[encoded data removed]"
     },
     "metadata": {
      "needs_background": "light",
      "image/png": {
       "width": 378,
       "height": 466
      }
     },
     "output_type": "display_data"
    }
   ],
   "execution_count": 18
  },
  {
   "cell_type": "code",
   "source": "# Plot top 10 trip frequency based on hour and deviceId\ndevice_by_hour = gdf.groupby(['Mode','DeviceId','MST_start_hour']).count()['TripId'].nlargest(10)\ndevice_by_hour",
   "metadata": {
    "cell_id": "410f4c14ef2e45a2a8609ba2d3a1a707",
    "tags": [],
    "deepnote_to_be_reexecuted": false,
    "source_hash": "3f59b553",
    "execution_start": 1654719516102,
    "execution_millis": 493,
    "deepnote_cell_type": "code",
    "deepnote_cell_height": 365.34375,
    "deepnote_output_heights": [
     232.34375,
     495
    ]
   },
   "outputs": [
    {
     "output_type": "execute_result",
     "execution_count": 19,
     "data": {
      "text/plain": "Mode  DeviceId                          MST_start_hour\n1     27f1ed72366fed2785ed61872bebd591  4                 12\n      b329d24cce75151cf90c59d3496a6376  8                 12\n      08e349a7568e0b3438b6389f6b09be2b  10                11\n      a1b6f3ef1acd4d92a0e5d842d18cfcea  11                11\n      a2b605e269966e8045debd0c07fcf339  7                 11\n      fc300205a2b6928df2c24354c0215426  5                 11\n      fdb8335a86289cc02c878d534acc64d6  11                11\n      06b1fe61ea89c343ac60b3e582a1ca1c  5                 10\n      08e349a7568e0b3438b6389f6b09be2b  8                 10\n      0b4b497a3d93421ef76916d00fd3ef3c  8                 10\nName: TripId, dtype: int64"
     },
     "metadata": {}
    }
   ],
   "execution_count": 19
  },
  {
   "cell_type": "markdown",
   "source": "### 5.Trip Length",
   "metadata": {
    "cell_id": "a3643f0c0eb84070bbce0ed483e03832",
    "tags": [],
    "deepnote_cell_type": "markdown",
    "deepnote_cell_height": 62
   }
  },
  {
   "cell_type": "code",
   "metadata": {
    "cell_id": "b127e49124bd4080ac2b6ee159525242",
    "tags": [],
    "deepnote_to_be_reexecuted": false,
    "source_hash": "3f00bbcf",
    "execution_start": 1654719516483,
    "execution_millis": 9909,
    "deepnote_cell_type": "code",
    "deepnote_cell_height": 171,
    "deepnote_output_heights": [
     606.5
    ]
   },
   "source": "trip_length = pd.to_datetime(gdf['MST_end_datetime'])-pd.to_datetime(gdf['MST_start_datetime'])\n\ndays, seconds = trip_length.apply(lambda x:x.days), trip_length.apply(lambda x:x.seconds)\nhours = days * 24 + seconds // 3600\n\ntrip_length_minutes = (pd.to_datetime(gdf['MST_end_datetime'])-pd.to_datetime(gdf['MST_start_datetime'])).apply(lambda x:x.seconds//60)",
   "execution_count": 20,
   "outputs": []
  },
  {
   "cell_type": "code",
   "metadata": {
    "cell_id": "26c4859be67149e18d5cac932440c7cf",
    "tags": [],
    "deepnote_to_be_reexecuted": false,
    "source_hash": "80b272c2",
    "execution_start": 1654719526400,
    "execution_millis": 223,
    "deepnote_cell_type": "code",
    "deepnote_cell_height": 449.1875,
    "deepnote_output_heights": [
     21.1875,
     264
    ]
   },
   "source": "plt.figure(figsize=(8,4))\nsns.boxplot(trip_length_minutes)\nplt.xlabel('trip length (minutes)')",
   "execution_count": 21,
   "outputs": [
    {
     "output_type": "execute_result",
     "execution_count": 21,
     "data": {
      "text/plain": "Text(0.5, 0, 'trip length (minutes)')"
     },
     "metadata": {}
    },
    {
     "data": {
      "text/plain": "<Figure size 576x288 with 1 Axes>",
      "image/png": "[encoded data removed]"
     },
     "metadata": {
      "needs_background": "light",
      "image/png": {
       "width": 464,
       "height": 262
      }
     },
     "output_type": "display_data"
    }
   ]
  },
  {
   "cell_type": "markdown",
   "source": "### 6. Number of trips within vs. to vs. from Fort Carson",
   "metadata": {
    "cell_id": "03f0fea260de4414922c7984a3cb2f18",
    "tags": [],
    "deepnote_cell_type": "markdown",
    "deepnote_cell_height": 62
   }
  },
  {
   "cell_type": "code",
   "metadata": {
    "cell_id": "00024-5e0cb2b7-b818-4981-8b38-214dac37608d",
    "deepnote_to_be_reexecuted": false,
    "source_hash": "7a120a6c",
    "execution_start": 1654719526651,
    "execution_millis": 290,
    "deepnote_cell_type": "code",
    "deepnote_cell_height": 431,
    "deepnote_output_heights": [
     21,
     264
    ]
   },
   "source": "ax = sns.countplot(gdf['GeospatialType'])\nax.bar_label(ax.containers[0])",
   "execution_count": 22,
   "outputs": [
    {
     "output_type": "execute_result",
     "execution_count": 22,
     "data": {
      "text/plain": "[Text(0, 0, '37394'), Text(0, 0, '50641'), Text(0, 0, '37332')]"
     },
     "metadata": {}
    },
    {
     "data": {
      "text/plain": "<Figure size 432x288 with 1 Axes>",
      "image/png": "[encoded data removed]"
     },
     "metadata": {
      "needs_background": "light",
      "image/png": {
       "width": 401,
       "height": 262
      }
     },
     "output_type": "display_data"
    }
   ]
  },
  {
   "cell_type": "markdown",
   "source": "### 7.How often did they visit the facility?\n\n##### To analyze the pattern of consumer visits to the facility, we have constructed bar charts of trips taken and grouped by day of the week for each trip type. \n\n##### From the chart, we can see that vehicle is the most common mode of transportation and most consumers visit the facility on Monday, Tuesday, Wednesday, and Friday\n\n### Bar chart of trips available by day (for each trip type)",
   "metadata": {
    "cell_id": "c2cbf3dba8424aac89909507d42638b4",
    "tags": [],
    "deepnote_to_be_reexecuted": false,
    "source_hash": "a8270c50",
    "execution_start": 1654700051452,
    "execution_millis": 1,
    "deepnote_cell_type": "markdown",
    "deepnote_cell_height": 246
   },
   "outputs": [],
   "execution_count": 84
  },
  {
   "cell_type": "code",
   "source": "# Plotting bar chart for trips available by day (for each trip type)\nindex = ['Walk', 'Vehicle', 'Unknown']\nticks = ['Mon', 'Tues', 'Wed', 'Thurs', 'Fri', 'Sat', 'Sun']\ntrip_type = gdf.groupby(by = [\"Mode\",\"StartWDay\"]).count()['TripId'].unstack(0).plot.bar(figsize=(12, 6), width=0.8, linewidth=0.2, title='Trips available by day', rot=0, xlabel=\"Day of the Week\") \ntrip_type.legend(index)",
   "metadata": {
    "cell_id": "41f52f9ab44e42c0a8b489e9998c4a88",
    "tags": [],
    "deepnote_to_be_reexecuted": false,
    "source_hash": "12a980b5",
    "execution_start": 1654719527024,
    "execution_millis": 689,
    "deepnote_cell_type": "code",
    "deepnote_cell_height": 610,
    "deepnote_output_heights": [
     21,
     389
    ]
   },
   "outputs": [
    {
     "output_type": "execute_result",
     "execution_count": 23,
     "data": {
      "text/plain": "<matplotlib.legend.Legend at 0x7f46d05d7610>"
     },
     "metadata": {}
    },
    {
     "data": {
      "text/plain": "<Figure size 864x432 with 1 Axes>",
      "image/png": "[encoded data removed]"
     },
     "metadata": {
      "needs_background": "light",
      "image/png": {
       "width": 722,
       "height": 387
      }
     },
     "output_type": "display_data"
    }
   ],
   "execution_count": 23
  },
  {
   "cell_type": "markdown",
   "source": "##### Next, for each trip type we look at trips taken by hour of the day and found that between 5:00 am and 5:00 pm MST. ",
   "metadata": {
    "cell_id": "802e655969a5431cae601d5a88c86b0a",
    "tags": [],
    "deepnote_cell_type": "markdown",
    "deepnote_cell_height": 54
   },
   "outputs": [],
   "execution_count": null
  },
  {
   "cell_type": "code",
   "metadata": {
    "cell_id": "7e78355494fa495d8dbc96d7cedab144",
    "tags": [],
    "deepnote_to_be_reexecuted": false,
    "source_hash": "25e0b463",
    "execution_start": 1654719527480,
    "execution_millis": 756,
    "deepnote_cell_type": "code",
    "deepnote_cell_height": 592,
    "deepnote_output_heights": [
     21,
     389
    ]
   },
   "source": "# Plot bar chart of trips available by hour of the day (for each trip type)\ntrip_by_hour = gdf.groupby(by=['Mode','MST_start_hour']).count()['TripId'].unstack(0).plot.bar(width = 1.2,title='Trips available by hour of the day', xlabel='Hour of the day',\nylabel='Number of trips',rot = 0, figsize=(12, 6))\ntrip_by_hour.legend(index)",
   "execution_count": 24,
   "outputs": [
    {
     "output_type": "execute_result",
     "execution_count": 24,
     "data": {
      "text/plain": "<matplotlib.legend.Legend at 0x7f46d0683b10>"
     },
     "metadata": {}
    },
    {
     "data": {
      "text/plain": "<Figure size 864x432 with 1 Axes>",
      "image/png": "[encoded data removed]"
     },
     "metadata": {
      "needs_background": "light",
      "image/png": {
       "width": 730,
       "height": 387
      }
     },
     "output_type": "display_data"
    }
   ]
  },
  {
   "cell_type": "code",
   "metadata": {
    "cell_id": "45ab7666d008431c8f8244b39e64b8c0",
    "tags": [],
    "deepnote_to_be_reexecuted": false,
    "source_hash": "98759fc3",
    "execution_start": 1654719528239,
    "execution_millis": 437,
    "deepnote_cell_type": "code",
    "deepnote_cell_height": 558,
    "deepnote_output_heights": [
     21,
     373
    ]
   },
   "source": "plt.figure(figsize=(14,6))\nsns.countplot(gdf['StartWDay'],hue=gdf['GeospatialType'])\n",
   "execution_count": 25,
   "outputs": [
    {
     "output_type": "execute_result",
     "execution_count": 25,
     "data": {
      "text/plain": "<AxesSubplot:xlabel='StartWDay', ylabel='count'>"
     },
     "metadata": {}
    },
    {
     "data": {
      "text/plain": "<Figure size 1008x432 with 1 Axes>",
      "image/png": "[encoded data removed]"
     },
     "metadata": {
      "needs_background": "light",
      "image/png": {
       "width": 841,
       "height": 371
      }
     },
     "output_type": "display_data"
    }
   ]
  },
  {
   "cell_type": "markdown",
   "source": "##### We have also visualized the distribution of IE,II, EI by the hour.\n##### Assuming that most trips coming on to the base are of EI geospacial type and most trips coming off are of IE type, we can see that the most devices coming off the base occurs at 6am-7am. \n\n##### Assuming that most trips leaving the base are IE type, we can see that most trips/people leave Fort Carson beteween 2-3pm.\n\n\n",
   "metadata": {
    "cell_id": "fd49fcdc226947e0b966229d9fc5b3fe",
    "tags": [],
    "owner_user_id": "7e16bdee-cfd2-4a6f-ae77-a351a9c80a82",
    "deepnote_cell_type": "markdown",
    "deepnote_cell_height": 190
   },
   "outputs": [],
   "execution_count": null
  },
  {
   "cell_type": "code",
   "source": "geospacial_by_hour = gdf.groupby(by=['GeospatialType','MST_start_hour']).count()['TripId'].unstack(0).plot.bar(width = 1.2,title='Trips by Geospacial Type and hour of the day', xlabel='Hour of the day',\nylabel='Number of trips',rot = 0, figsize=(12, 6))",
   "metadata": {
    "cell_id": "471e3aa891404ad68a56c330231c1aed",
    "tags": [],
    "deepnote_to_be_reexecuted": false,
    "source_hash": "61392867",
    "execution_start": 1654719528728,
    "execution_millis": 862,
    "deepnote_cell_type": "code",
    "deepnote_cell_height": 504,
    "deepnote_output_heights": [
     389
    ]
   },
   "outputs": [
    {
     "data": {
      "text/plain": "<Figure size 864x432 with 1 Axes>",
      "image/png": "[encoded data removed]"
     },
     "metadata": {
      "needs_background": "light",
      "image/png": {
       "width": 730,
       "height": 387
      }
     },
     "output_type": "display_data"
    }
   ],
   "execution_count": 26
  },
  {
   "cell_type": "code",
   "source": "# geospacial_by_hour = gdf.groupby(by=['GeospatialType','Mode']).count()['TripId'].unstack(0).plot.bar(width = 1.2,title='Trips by Geospacial Type and hour of the day', xlabel='Hour of the day',\n# ylabel='Number of trips',rot = 0, figsize=(12, 6))",
   "metadata": {
    "cell_id": "92ffe1b936e3478ba2f393787e6e6018",
    "tags": [],
    "deepnote_to_be_reexecuted": false,
    "source_hash": "69e9df10",
    "execution_start": 1654719529636,
    "execution_millis": 1,
    "deepnote_cell_type": "code",
    "deepnote_cell_height": 99,
    "deepnote_output_heights": [
     389
    ]
   },
   "outputs": [],
   "execution_count": 27
  },
  {
   "cell_type": "markdown",
   "source": "### 8.How long did they stay in the facility?",
   "metadata": {
    "cell_id": "9fa0991b7eba44709d6a437dde4c1e50",
    "tags": [],
    "deepnote_cell_type": "markdown",
    "deepnote_cell_height": 62
   }
  },
  {
   "cell_type": "code",
   "metadata": {
    "cell_id": "fab72d86677a474ab109a00bc64b2896",
    "tags": [],
    "deepnote_to_be_reexecuted": false,
    "source_hash": "6f47619e",
    "execution_start": 1654719529637,
    "execution_millis": 856,
    "deepnote_cell_type": "code",
    "deepnote_cell_height": 432.1875,
    "deepnote_output_heights": [
     21.1875,
     265
    ]
   },
   "source": "stay_length_df = pd.read_csv('/work/trips_duration.csv')\nsns.boxplot(stay_length_df['length_minutes'])",
   "execution_count": 28,
   "outputs": [
    {
     "output_type": "execute_result",
     "execution_count": 28,
     "data": {
      "text/plain": "<AxesSubplot:xlabel='length_minutes'>"
     },
     "metadata": {}
    },
    {
     "data": {
      "text/plain": "<Figure size 432x288 with 1 Axes>",
      "image/png": "[encoded data removed]"
     },
     "metadata": {
      "needs_background": "light",
      "image/png": {
       "width": 352,
       "height": 263
      }
     },
     "output_type": "display_data"
    }
   ]
  },
  {
   "cell_type": "markdown",
   "source": "<a style='text-decoration:none;line-height:16px;display:flex;color:#5B5B62;padding:10px;justify-content:end;' href='https://deepnote.com?utm_source=created-in-deepnote-cell&projectId=9863cd21-6747-4678-bbdd-813e8a94296e' target=\"_blank\">\n<img alt='Created in deepnote.com' style='display:inline;max-height:16px;margin:0px;margin-right:7.5px;' src='data:image/svg+xml;base64,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' > </img>\nCreated in <span style='font-weight:600;margin-left:4px;'>Deepnote</span></a>",
   "metadata": {
    "tags": [],
    "created_in_deepnote_cell": true,
    "deepnote_cell_type": "markdown"
   }
  }
 ],
 "nbformat": 4,
 "nbformat_minor": 5,
 "metadata": {
  "kernelspec": {
   "display_name": "Python 3 (ipykernel)",
   "language": "python",
   "name": "python3"
  },
  "language_info": {
   "codemirror_mode": {
    "name": "ipython",
    "version": 3
   },
   "file_extension": ".py",
   "mimetype": "text/x-python",
   "name": "python",
   "nbconvert_exporter": "python",
   "pygments_lexer": "ipython3",
   "version": "3.9.12"
  },
  "deepnote_notebook_id": "849f05aa-c25b-4227-ad6c-5628e2cb86b3",
  "deepnote": {},
  "deepnote_execution_queue": []
 }
}