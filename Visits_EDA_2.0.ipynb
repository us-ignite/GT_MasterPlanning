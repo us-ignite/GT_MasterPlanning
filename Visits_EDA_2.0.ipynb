{
 "cells": [
  {
   "cell_type": "code",
   "execution_count": 23,
   "id": "133766fa",
   "metadata": {},
   "outputs": [],
   "source": [
    "import numpy as np\n",
    "import pandas as pd\n",
    "import os\n",
    "import matplotlib.pyplot as plt\n",
    "from datetime import timedelta\n",
    "\n",
    "from cartoframes import read_carto, to_carto, has_table, list_tables\n",
    "from cartoframes.auth import set_default_credentials, Credentials\n",
    "#from cartoframes.viz import Map, Layer, basemaps\n",
    "from shapely.geometry import Point, LineString\n",
    "from zipfile import ZipFile"
   ]
  },
  {
   "cell_type": "code",
   "execution_count": 133,
   "id": "e976526d",
   "metadata": {},
   "outputs": [],
   "source": []
  },
  {
   "cell_type": "code",
   "execution_count": 101,
   "id": "3606d218",
   "metadata": {},
   "outputs": [],
   "source": [
    "visits_df = pd.read_excel(\"INRIX Visits Panel Size - Oct 2020 to Sept 2021.xlsx\") "
   ]
  },
  {
   "cell_type": "code",
   "execution_count": 25,
   "id": "0ccb9c35",
   "metadata": {},
   "outputs": [
    {
     "data": {
      "text/plain": [
       "Index(['Date', 'Unique Devices'], dtype='object')"
      ]
     },
     "execution_count": 25,
     "metadata": {},
     "output_type": "execute_result"
    }
   ],
   "source": [
    "visits_df.columns"
   ]
  },
  {
   "cell_type": "code",
   "execution_count": 26,
   "id": "da0d6f98",
   "metadata": {},
   "outputs": [
    {
     "data": {
      "text/html": [
       "<div>\n",
       "<style scoped>\n",
       "    .dataframe tbody tr th:only-of-type {\n",
       "        vertical-align: middle;\n",
       "    }\n",
       "\n",
       "    .dataframe tbody tr th {\n",
       "        vertical-align: top;\n",
       "    }\n",
       "\n",
       "    .dataframe thead th {\n",
       "        text-align: right;\n",
       "    }\n",
       "</style>\n",
       "<table border=\"1\" class=\"dataframe\">\n",
       "  <thead>\n",
       "    <tr style=\"text-align: right;\">\n",
       "      <th></th>\n",
       "      <th>Date</th>\n",
       "      <th>Unique Devices</th>\n",
       "    </tr>\n",
       "  </thead>\n",
       "  <tbody>\n",
       "    <tr>\n",
       "      <th>0</th>\n",
       "      <td>2020-10-01</td>\n",
       "      <td>25204444</td>\n",
       "    </tr>\n",
       "    <tr>\n",
       "      <th>1</th>\n",
       "      <td>2020-10-02</td>\n",
       "      <td>27069081</td>\n",
       "    </tr>\n",
       "    <tr>\n",
       "      <th>2</th>\n",
       "      <td>2020-10-03</td>\n",
       "      <td>30126289</td>\n",
       "    </tr>\n",
       "    <tr>\n",
       "      <th>3</th>\n",
       "      <td>2020-10-04</td>\n",
       "      <td>27928919</td>\n",
       "    </tr>\n",
       "    <tr>\n",
       "      <th>4</th>\n",
       "      <td>2020-10-05</td>\n",
       "      <td>30605973</td>\n",
       "    </tr>\n",
       "    <tr>\n",
       "      <th>...</th>\n",
       "      <td>...</td>\n",
       "      <td>...</td>\n",
       "    </tr>\n",
       "    <tr>\n",
       "      <th>360</th>\n",
       "      <td>2021-09-26</td>\n",
       "      <td>28559160</td>\n",
       "    </tr>\n",
       "    <tr>\n",
       "      <th>361</th>\n",
       "      <td>2021-09-27</td>\n",
       "      <td>28383915</td>\n",
       "    </tr>\n",
       "    <tr>\n",
       "      <th>362</th>\n",
       "      <td>2021-09-28</td>\n",
       "      <td>28422271</td>\n",
       "    </tr>\n",
       "    <tr>\n",
       "      <th>363</th>\n",
       "      <td>2021-09-29</td>\n",
       "      <td>28120455</td>\n",
       "    </tr>\n",
       "    <tr>\n",
       "      <th>364</th>\n",
       "      <td>2021-09-30</td>\n",
       "      <td>28833551</td>\n",
       "    </tr>\n",
       "  </tbody>\n",
       "</table>\n",
       "<p>365 rows × 2 columns</p>\n",
       "</div>"
      ],
      "text/plain": [
       "          Date  Unique Devices\n",
       "0   2020-10-01        25204444\n",
       "1   2020-10-02        27069081\n",
       "2   2020-10-03        30126289\n",
       "3   2020-10-04        27928919\n",
       "4   2020-10-05        30605973\n",
       "..         ...             ...\n",
       "360 2021-09-26        28559160\n",
       "361 2021-09-27        28383915\n",
       "362 2021-09-28        28422271\n",
       "363 2021-09-29        28120455\n",
       "364 2021-09-30        28833551\n",
       "\n",
       "[365 rows x 2 columns]"
      ]
     },
     "execution_count": 26,
     "metadata": {},
     "output_type": "execute_result"
    }
   ],
   "source": [
    "visits_df"
   ]
  },
  {
   "cell_type": "code",
   "execution_count": 279,
   "id": "b5912c29",
   "metadata": {},
   "outputs": [],
   "source": [
    "visits_df['year'] = visits_df['Date'].dt.year"
   ]
  },
  {
   "cell_type": "code",
   "execution_count": 28,
   "id": "760d408e",
   "metadata": {},
   "outputs": [],
   "source": [
    "visits_df['month'] = visits_df['Date'].dt.month\n",
    "visits_df['year_month'] = pd.to_datetime(visits_df['Date']).dt.to_period('M')\n"
   ]
  },
  {
   "cell_type": "code",
   "execution_count": 29,
   "id": "ff5e1141",
   "metadata": {},
   "outputs": [
    {
     "data": {
      "text/plain": [
       "<PeriodArray>\n",
       "['2020-10', '2020-11', '2020-12', '2021-01', '2021-02', '2021-03', '2021-04',\n",
       " '2021-05', '2021-06', '2021-07', '2021-08', '2021-09']\n",
       "Length: 12, dtype: period[M]"
      ]
     },
     "execution_count": 29,
     "metadata": {},
     "output_type": "execute_result"
    }
   ],
   "source": [
    "visits_df.year_month.unique()"
   ]
  },
  {
   "cell_type": "code",
   "execution_count": 30,
   "id": "5535d79a",
   "metadata": {},
   "outputs": [
    {
     "name": "stdout",
     "output_type": "stream",
     "text": [
      "Average number of devices per year:\n"
     ]
    },
    {
     "data": {
      "text/plain": [
       "6131512354.5"
      ]
     },
     "execution_count": 30,
     "metadata": {},
     "output_type": "execute_result"
    }
   ],
   "source": [
    "print('Average number of devices per year:')\n",
    "average_device_per_year = visits_df.sum()['Unique Devices']/len(visits_df.year.unique())\n",
    "average_device_per_year"
   ]
  },
  {
   "cell_type": "code",
   "execution_count": 31,
   "id": "4b20a5ef",
   "metadata": {},
   "outputs": [
    {
     "name": "stdout",
     "output_type": "stream",
     "text": [
      "Average number of devices per day per year:\n"
     ]
    },
    {
     "data": {
      "text/html": [
       "<div>\n",
       "<style scoped>\n",
       "    .dataframe tbody tr th:only-of-type {\n",
       "        vertical-align: middle;\n",
       "    }\n",
       "\n",
       "    .dataframe tbody tr th {\n",
       "        vertical-align: top;\n",
       "    }\n",
       "\n",
       "    .dataframe thead th {\n",
       "        text-align: right;\n",
       "    }\n",
       "</style>\n",
       "<table border=\"1\" class=\"dataframe\">\n",
       "  <thead>\n",
       "    <tr style=\"text-align: right;\">\n",
       "      <th></th>\n",
       "      <th>Sum of devices per year</th>\n",
       "      <th>Total number of days</th>\n",
       "      <th>Average number of devices per day</th>\n",
       "    </tr>\n",
       "  </thead>\n",
       "  <tbody>\n",
       "    <tr>\n",
       "      <th>2020</th>\n",
       "      <td>2739637203</td>\n",
       "      <td>92</td>\n",
       "      <td>29778665.2</td>\n",
       "    </tr>\n",
       "    <tr>\n",
       "      <th>2021</th>\n",
       "      <td>9523387506</td>\n",
       "      <td>273</td>\n",
       "      <td>34884203.3</td>\n",
       "    </tr>\n",
       "  </tbody>\n",
       "</table>\n",
       "</div>"
      ],
      "text/plain": [
       "      Sum of devices per year  Total number of days  \\\n",
       "2020               2739637203                    92   \n",
       "2021               9523387506                   273   \n",
       "\n",
       "      Average number of devices per day  \n",
       "2020                         29778665.2  \n",
       "2021                         34884203.3  "
      ]
     },
     "execution_count": 31,
     "metadata": {},
     "output_type": "execute_result"
    }
   ],
   "source": [
    "print('Average number of devices per day per year:')\n",
    "total_device_year = visits_df.groupby(by=['year']).sum()['Unique Devices']\n",
    "number_of_days = visits_df['year'].value_counts()\n",
    "annual_avg = pd.concat([total_device_year,number_of_days],axis=1)\\\n",
    ".rename(columns={'Unique Devices':'Sum of devices per year','year':'Total number of days'})\n",
    "annual_avg['Average number of devices per day'] = round(annual_avg['Sum of devices per year']/annual_avg['Total number of days'],1)\n",
    "\n",
    "annual_avg"
   ]
  },
  {
   "cell_type": "code",
   "execution_count": 32,
   "id": "50165614",
   "metadata": {},
   "outputs": [
    {
     "data": {
      "text/plain": [
       "Date\n",
       "2020-10-01    25204444\n",
       "2020-10-02    27069081\n",
       "2020-10-03    30126289\n",
       "2020-10-04    27928919\n",
       "2020-10-05    30605973\n",
       "                ...   \n",
       "2021-09-26    28559160\n",
       "2021-09-27    28383915\n",
       "2021-09-28    28422271\n",
       "2021-09-29    28120455\n",
       "2021-09-30    28833551\n",
       "Name: Unique Devices, Length: 365, dtype: int64"
      ]
     },
     "execution_count": 32,
     "metadata": {},
     "output_type": "execute_result"
    }
   ],
   "source": [
    "visits_df.groupby(by=['Date']).sum()['Unique Devices']"
   ]
  },
  {
   "cell_type": "code",
   "execution_count": 33,
   "id": "fa47b86a",
   "metadata": {},
   "outputs": [
    {
     "name": "stdout",
     "output_type": "stream",
     "text": [
      "Top 10 largest number of devices in a day:\n"
     ]
    },
    {
     "data": {
      "text/plain": [
       "Date\n",
       "2021-08-09    65475135\n",
       "2021-08-08    61926635\n",
       "2021-08-05    60774870\n",
       "2021-08-23    58920116\n",
       "2021-08-20    58869650\n",
       "2021-08-21    58146786\n",
       "2021-08-04    57615438\n",
       "2021-08-01    57400027\n",
       "2021-08-02    57110454\n",
       "2021-08-18    56912915\n",
       "Name: Unique Devices, dtype: int64"
      ]
     },
     "execution_count": 33,
     "metadata": {},
     "output_type": "execute_result"
    }
   ],
   "source": [
    "print('Top 10 largest number of devices in a day:')\n",
    "visits_df.groupby(by=['Date']).sum()['Unique Devices'].nlargest(10)"
   ]
  },
  {
   "cell_type": "code",
   "execution_count": 34,
   "id": "23435fa1",
   "metadata": {},
   "outputs": [
    {
     "name": "stdout",
     "output_type": "stream",
     "text": [
      "\tAggregate total number of devices:\n"
     ]
    },
    {
     "data": {
      "image/png": "[encoded data removed]",
      "text/plain": [
       "<Figure size 432x288 with 1 Axes>"
      ]
     },
     "metadata": {
      "needs_background": "light"
     },
     "output_type": "display_data"
    }
   ],
   "source": [
    "print('\\tAggregate total number of devices:')\n",
    "y = visits_df.sum()['Unique Devices']\n",
    "fig, ax = plt.subplots(1, 1)\n",
    "ax.bar(y, width=1,align='center', height=visits_df.sum()['Unique Devices'])\n",
    "for bars in ax.containers:\n",
    "    ax.bar_label(bars, fmt='%9.0f', size=10)\n",
    "plt.show()"
   ]
  },
  {
   "cell_type": "code",
   "execution_count": 35,
   "id": "464d8708",
   "metadata": {},
   "outputs": [
    {
     "data": {
      "image/png": "[encoded data removed]",
      "text/plain": [
       "<Figure size 432x288 with 1 Axes>"
      ]
     },
     "metadata": {
      "needs_background": "light"
     },
     "output_type": "display_data"
    }
   ],
   "source": [
    "ax = pd.DataFrame(visits_df.groupby(by=['year']).sum()['Unique Devices']).T.plot.bar(stacked=True, rot=0, title='Aggregate total number of devices')\n",
    "for bars in ax.containers:\n",
    "    ax.bar_label(bars, fmt='%9.0f', size=10)"
   ]
  },
  {
   "cell_type": "code",
   "execution_count": 36,
   "id": "a7dded77",
   "metadata": {},
   "outputs": [
    {
     "data": {
      "image/png": "[encoded data removed]",
      "text/plain": [
       "<Figure size 864x432 with 1 Axes>"
      ]
     },
     "metadata": {
      "needs_background": "light"
     },
     "output_type": "display_data"
    }
   ],
   "source": [
    "ax = visits_df.groupby(by=['year_month']).sum()['Unique Devices'].plot.bar(figsize=(12, 6), width=0.8, linewidth=0.2, title='Total Number of devices by month', rot=0, xlabel='month') \n",
    "for bars in ax.containers:\n",
    "    ax.bar_label(bars, fmt='%9.0f', size=8)"
   ]
  },
  {
   "cell_type": "code",
   "execution_count": 45,
   "id": "4662db6c",
   "metadata": {},
   "outputs": [
    {
     "data": {
      "text/html": [
       "<div>\n",
       "<style scoped>\n",
       "    .dataframe tbody tr th:only-of-type {\n",
       "        vertical-align: middle;\n",
       "    }\n",
       "\n",
       "    .dataframe tbody tr th {\n",
       "        vertical-align: top;\n",
       "    }\n",
       "\n",
       "    .dataframe thead th {\n",
       "        text-align: right;\n",
       "    }\n",
       "</style>\n",
       "<table border=\"1\" class=\"dataframe\">\n",
       "  <thead>\n",
       "    <tr style=\"text-align: right;\">\n",
       "      <th></th>\n",
       "      <th>Date</th>\n",
       "      <th>Unique Devices</th>\n",
       "      <th>year</th>\n",
       "      <th>month</th>\n",
       "      <th>year_month</th>\n",
       "      <th>day_of_week</th>\n",
       "    </tr>\n",
       "  </thead>\n",
       "  <tbody>\n",
       "    <tr>\n",
       "      <th>0</th>\n",
       "      <td>2020-10-01</td>\n",
       "      <td>25204444</td>\n",
       "      <td>2020</td>\n",
       "      <td>10</td>\n",
       "      <td>2020-10</td>\n",
       "      <td>Thursday</td>\n",
       "    </tr>\n",
       "    <tr>\n",
       "      <th>1</th>\n",
       "      <td>2020-10-02</td>\n",
       "      <td>27069081</td>\n",
       "      <td>2020</td>\n",
       "      <td>10</td>\n",
       "      <td>2020-10</td>\n",
       "      <td>Friday</td>\n",
       "    </tr>\n",
       "    <tr>\n",
       "      <th>2</th>\n",
       "      <td>2020-10-03</td>\n",
       "      <td>30126289</td>\n",
       "      <td>2020</td>\n",
       "      <td>10</td>\n",
       "      <td>2020-10</td>\n",
       "      <td>Saturday</td>\n",
       "    </tr>\n",
       "    <tr>\n",
       "      <th>3</th>\n",
       "      <td>2020-10-04</td>\n",
       "      <td>27928919</td>\n",
       "      <td>2020</td>\n",
       "      <td>10</td>\n",
       "      <td>2020-10</td>\n",
       "      <td>Sunday</td>\n",
       "    </tr>\n",
       "    <tr>\n",
       "      <th>4</th>\n",
       "      <td>2020-10-05</td>\n",
       "      <td>30605973</td>\n",
       "      <td>2020</td>\n",
       "      <td>10</td>\n",
       "      <td>2020-10</td>\n",
       "      <td>Monday</td>\n",
       "    </tr>\n",
       "    <tr>\n",
       "      <th>...</th>\n",
       "      <td>...</td>\n",
       "      <td>...</td>\n",
       "      <td>...</td>\n",
       "      <td>...</td>\n",
       "      <td>...</td>\n",
       "      <td>...</td>\n",
       "    </tr>\n",
       "    <tr>\n",
       "      <th>360</th>\n",
       "      <td>2021-09-26</td>\n",
       "      <td>28559160</td>\n",
       "      <td>2021</td>\n",
       "      <td>9</td>\n",
       "      <td>2021-09</td>\n",
       "      <td>Sunday</td>\n",
       "    </tr>\n",
       "    <tr>\n",
       "      <th>361</th>\n",
       "      <td>2021-09-27</td>\n",
       "      <td>28383915</td>\n",
       "      <td>2021</td>\n",
       "      <td>9</td>\n",
       "      <td>2021-09</td>\n",
       "      <td>Monday</td>\n",
       "    </tr>\n",
       "    <tr>\n",
       "      <th>362</th>\n",
       "      <td>2021-09-28</td>\n",
       "      <td>28422271</td>\n",
       "      <td>2021</td>\n",
       "      <td>9</td>\n",
       "      <td>2021-09</td>\n",
       "      <td>Tuesday</td>\n",
       "    </tr>\n",
       "    <tr>\n",
       "      <th>363</th>\n",
       "      <td>2021-09-29</td>\n",
       "      <td>28120455</td>\n",
       "      <td>2021</td>\n",
       "      <td>9</td>\n",
       "      <td>2021-09</td>\n",
       "      <td>Wednesday</td>\n",
       "    </tr>\n",
       "    <tr>\n",
       "      <th>364</th>\n",
       "      <td>2021-09-30</td>\n",
       "      <td>28833551</td>\n",
       "      <td>2021</td>\n",
       "      <td>9</td>\n",
       "      <td>2021-09</td>\n",
       "      <td>Thursday</td>\n",
       "    </tr>\n",
       "  </tbody>\n",
       "</table>\n",
       "<p>365 rows × 6 columns</p>\n",
       "</div>"
      ],
      "text/plain": [
       "          Date  Unique Devices  year  month year_month day_of_week\n",
       "0   2020-10-01        25204444  2020     10    2020-10    Thursday\n",
       "1   2020-10-02        27069081  2020     10    2020-10      Friday\n",
       "2   2020-10-03        30126289  2020     10    2020-10    Saturday\n",
       "3   2020-10-04        27928919  2020     10    2020-10      Sunday\n",
       "4   2020-10-05        30605973  2020     10    2020-10      Monday\n",
       "..         ...             ...   ...    ...        ...         ...\n",
       "360 2021-09-26        28559160  2021      9    2021-09      Sunday\n",
       "361 2021-09-27        28383915  2021      9    2021-09      Monday\n",
       "362 2021-09-28        28422271  2021      9    2021-09     Tuesday\n",
       "363 2021-09-29        28120455  2021      9    2021-09   Wednesday\n",
       "364 2021-09-30        28833551  2021      9    2021-09    Thursday\n",
       "\n",
       "[365 rows x 6 columns]"
      ]
     },
     "execution_count": 45,
     "metadata": {},
     "output_type": "execute_result"
    }
   ],
   "source": [
    "visits_df"
   ]
  },
  {
   "cell_type": "code",
   "execution_count": 76,
   "id": "185dbd53",
   "metadata": {},
   "outputs": [],
   "source": [
    "from pandas.api.types import CategoricalDtype\n",
    "cats = [ 'Monday', 'Tuesday', 'Wednesday', 'Thursday', 'Friday', 'Saturday', 'Sunday']\n",
    "cat_type = CategoricalDtype(categories=cats, ordered=True)\n",
    "visits_df['day_of_week'] = visits_df['Date'].dt.day_name()\n",
    "visits_df['day_of_week'] = visits_df['day_of_week'].astype(cat_type)\n"
   ]
  },
  {
   "cell_type": "code",
   "execution_count": 77,
   "id": "2364a166",
   "metadata": {},
   "outputs": [],
   "source": [
    "visits_df_2020 = visits_df[visits_df['year']==2020]\n",
    "visits_df_2021 = visits_df[visits_df['year']==2021]"
   ]
  },
  {
   "cell_type": "markdown",
   "id": "2e7b729d",
   "metadata": {},
   "source": [
    "### Sum of Devices per day"
   ]
  },
  {
   "cell_type": "code",
   "execution_count": 79,
   "id": "7eed4727",
   "metadata": {},
   "outputs": [
    {
     "data": {
      "image/png": "[encoded data removed]",
      "text/plain": [
       "<Figure size 1440x720 with 1 Axes>"
      ]
     },
     "metadata": {
      "needs_background": "light"
     },
     "output_type": "display_data"
    }
   ],
   "source": [
    "ax = visits_df_2020.groupby(by=['day_of_week']).sum()['Unique Devices'].plot.bar(figsize=(20, 10), width=0.8, linewidth=0.2, title='2020 Summed Device by day', rot=0, xlabel='Day of the Week')\n",
    "for bars in ax.containers:\n",
    "    ax.bar_label(bars, fmt='%9.0f', size=14)"
   ]
  },
  {
   "cell_type": "code",
   "execution_count": 80,
   "id": "2aeb1b74",
   "metadata": {},
   "outputs": [
    {
     "data": {
      "image/png": "[encoded data removed]",
      "text/plain": [
       "<Figure size 1440x720 with 1 Axes>"
      ]
     },
     "metadata": {
      "needs_background": "light"
     },
     "output_type": "display_data"
    }
   ],
   "source": [
    "ax = visits_df_2021.groupby(by=['day_of_week']).sum()['Unique Devices'].plot.bar(figsize=(20, 10), width=0.8, linewidth=0.2, title='2021 Summed Device by day', rot=0, xlabel='Day of the Week')\n",
    "for bars in ax.containers:\n",
    "    ax.bar_label(bars, fmt='%9.0f', size=14)"
   ]
  },
  {
   "cell_type": "code",
   "execution_count": 88,
   "id": "35ad39ed",
   "metadata": {},
   "outputs": [],
   "source": [
    "Average_devices_per_day_2020 = visits_df_2020.sum()['Unique Devices']/len(visits_df_2020)\n",
    "Average_devices_per_day_2021 = visits_df_2021.sum()['Unique Devices']/len(visits_df_2021)"
   ]
  },
  {
   "cell_type": "code",
   "execution_count": 94,
   "id": "006da3a6",
   "metadata": {},
   "outputs": [
    {
     "name": "stdout",
     "output_type": "stream",
     "text": [
      "Number of days with data in 2020: 92\n",
      "Number of days with data in 2021: 273\n"
     ]
    }
   ],
   "source": [
    "print('Number of days with data in 2020: '+ str(len(visits_df_2020['Date'].unique())))\n",
    "print('Number of days with data in 2021: '+ str(len(visits_df_2021['Date'].unique())))"
   ]
  },
  {
   "cell_type": "code",
   "execution_count": 97,
   "id": "aa2d4cf4",
   "metadata": {},
   "outputs": [],
   "source": [
    "average_2020_365_estimate = visits_df_2020.sum()['Unique Devices']/365\n",
    "average_2021_365_estimate = visits_df_2021.sum()['Unique Devices']/365"
   ]
  },
  {
   "cell_type": "code",
   "execution_count": 176,
   "id": "0398d21b",
   "metadata": {},
   "outputs": [],
   "source": [
    "# print('Using 365 days, the average number of devices per day is:')\n",
    "# print('Average number of unique devices per day in 2020: '+ str(average_2020_365_estimate))\n",
    "# print('Average number of unique devices per day in 2021: '+ str(average_2021_365_estimate))"
   ]
  },
  {
   "cell_type": "markdown",
   "id": "6c36ff0f",
   "metadata": {},
   "source": [
    "### Average number of devices per year + day"
   ]
  },
  {
   "cell_type": "code",
   "execution_count": 100,
   "id": "01da2fb1",
   "metadata": {},
   "outputs": [
    {
     "name": "stdout",
     "output_type": "stream",
     "text": [
      "Based on the number of days with data provided, the average number of devices per day is:\n",
      "\n",
      "Average number of unique devices per day in 2020: 29778665.25\n",
      "Average number of unique devices per day in 2021: 34884203.31868132\n"
     ]
    }
   ],
   "source": [
    "print('Based on the number of days with data provided, the average number of devices per day is:\\n')\n",
    "print('Average number of unique devices per day in 2020: '+ str(Average_devices_per_day_2020))\n",
    "print('Average number of unique devices per day in 2021: '+ str(Average_devices_per_day_2021))"
   ]
  },
  {
   "cell_type": "code",
   "execution_count": 312,
   "id": "c8136ad0",
   "metadata": {},
   "outputs": [
    {
     "data": {
      "image/png": "[encoded data removed]",
      "text/plain": [
       "<Figure size 432x288 with 1 Axes>"
      ]
     },
     "metadata": {
      "needs_background": "light"
     },
     "output_type": "display_data"
    }
   ],
   "source": [
    "bar_df = pd.DataFrame({'Year':['2020', '2021'], 'count':[Average_devices_per_day_2020, Average_devices_per_day_2021]})\n",
    "ax = bar_df.plot.bar(x='Year', y='count', rot=0, title='Average number of devices per day by year')\n",
    "for bars in ax.containers:\n",
    "    ax.bar_label(bars, fmt='%9.0f', size=10)"
   ]
  },
  {
   "cell_type": "code",
   "execution_count": 283,
   "id": "efb7c76d",
   "metadata": {},
   "outputs": [
    {
     "name": "stdout",
     "output_type": "stream",
     "text": [
      "Average number of devices per year:\n"
     ]
    },
    {
     "data": {
      "text/plain": [
       "6131512354.5"
      ]
     },
     "execution_count": 283,
     "metadata": {},
     "output_type": "execute_result"
    }
   ],
   "source": [
    "print('Average number of devices per year:')\n",
    "visits_df.sum()['Unique Devices']/len(visits_df['year'].unique())"
   ]
  },
  {
   "cell_type": "markdown",
   "id": "81153b28",
   "metadata": {},
   "source": [
    "### Population Analysis"
   ]
  },
  {
   "cell_type": "code",
   "execution_count": 167,
   "id": "45ac1a71",
   "metadata": {},
   "outputs": [
    {
     "data": {
      "text/plain": [
       "Index(['year_month_day', 'census_05', 'census_05_leadingzero', 'combined name',\n",
       "       'normalization_factor', 'population', 'Unnamed: 6', 'Ratio',\n",
       "       'without NA's', 'Unnamed: 9', 'Average Ratio', 'Unnamed: 11',\n",
       "       'SumDevices/SumPop'],\n",
       "      dtype='object')"
      ]
     },
     "execution_count": 167,
     "metadata": {},
     "output_type": "execute_result"
    }
   ],
   "source": [
    "xls = pd.ExcelFile('INRIX_device_count_by_county.xlsx')\n",
    "county_data = pd.read_excel(xls, 'INRIX')\n",
    "df2 = pd.read_excel(xls, 'CO-EST2021-POP')"
   ]
  },
  {
   "cell_type": "markdown",
   "id": "bc8dac29",
   "metadata": {},
   "source": [
    "### April 18, 2018 population "
   ]
  },
  {
   "cell_type": "code",
   "execution_count": 132,
   "id": "dbd344c0",
   "metadata": {},
   "outputs": [
    {
     "data": {
      "text/html": [
       "<div>\n",
       "<style scoped>\n",
       "    .dataframe tbody tr th:only-of-type {\n",
       "        vertical-align: middle;\n",
       "    }\n",
       "\n",
       "    .dataframe tbody tr th {\n",
       "        vertical-align: top;\n",
       "    }\n",
       "\n",
       "    .dataframe thead th {\n",
       "        text-align: right;\n",
       "    }\n",
       "</style>\n",
       "<table border=\"1\" class=\"dataframe\">\n",
       "  <thead>\n",
       "    <tr style=\"text-align: right;\">\n",
       "      <th></th>\n",
       "      <th>year_month_day</th>\n",
       "      <th>census_05</th>\n",
       "      <th>census_05_leadingzero</th>\n",
       "      <th>combined name</th>\n",
       "      <th>normalization_factor</th>\n",
       "      <th>population</th>\n",
       "      <th>Unnamed: 6</th>\n",
       "      <th>Ratio</th>\n",
       "      <th>without NA's</th>\n",
       "      <th>Unnamed: 9</th>\n",
       "      <th>Average Ratio</th>\n",
       "      <th>Unnamed: 11</th>\n",
       "      <th>SumDevices/SumPop</th>\n",
       "      <th>0</th>\n",
       "      <th>1</th>\n",
       "    </tr>\n",
       "  </thead>\n",
       "  <tbody>\n",
       "  </tbody>\n",
       "</table>\n",
       "</div>"
      ],
      "text/plain": [
       "Empty DataFrame\n",
       "Columns: [year_month_day, census_05, census_05_leadingzero, combined name, normalization_factor, population, Unnamed: 6, Ratio, without NA's, Unnamed: 9, Average Ratio, Unnamed: 11, SumDevices/SumPop, 0, 1]\n",
       "Index: []"
      ]
     },
     "execution_count": 132,
     "metadata": {},
     "output_type": "execute_result"
    }
   ],
   "source": [
    "county_data.columns"
   ]
  },
  {
   "cell_type": "code",
   "execution_count": 134,
   "id": "7e46daf7",
   "metadata": {},
   "outputs": [],
   "source": [
    "county_data = pd.concat([county_data, county_data['combined name'].str.split(', ', expand=True)], axis=1)"
   ]
  },
  {
   "cell_type": "code",
   "execution_count": 135,
   "id": "0398b749",
   "metadata": {},
   "outputs": [
    {
     "data": {
      "text/plain": [
       "Index([       'year_month_day',             'census_05',\n",
       "       'census_05_leadingzero',         'combined name',\n",
       "        'normalization_factor',            'population',\n",
       "                  'Unnamed: 6',                 'Ratio',\n",
       "                'without NA's',            'Unnamed: 9',\n",
       "               'Average Ratio',           'Unnamed: 11',\n",
       "           'SumDevices/SumPop',                       0,\n",
       "                             1],\n",
       "      dtype='object')"
      ]
     },
     "execution_count": 135,
     "metadata": {},
     "output_type": "execute_result"
    }
   ],
   "source": [
    "county_data.columns"
   ]
  },
  {
   "cell_type": "code",
   "execution_count": 146,
   "id": "12652c84",
   "metadata": {},
   "outputs": [],
   "source": [
    "county_data= county_data.rename(columns={0: \"County\", 1: \"State\"})"
   ]
  },
  {
   "cell_type": "code",
   "execution_count": 147,
   "id": "7f2264cf",
   "metadata": {},
   "outputs": [
    {
     "data": {
      "text/plain": [
       "Index(['year_month_day', 'census_05', 'census_05_leadingzero', 'combined name',\n",
       "       'normalization_factor', 'population', 'Unnamed: 6', 'Ratio',\n",
       "       'without NA's', 'Unnamed: 9', 'Average Ratio', 'Unnamed: 11',\n",
       "       'SumDevices/SumPop', 'County', 'State'],\n",
       "      dtype='object')"
      ]
     },
     "execution_count": 147,
     "metadata": {},
     "output_type": "execute_result"
    }
   ],
   "source": [
    "county_data.columns"
   ]
  },
  {
   "cell_type": "code",
   "execution_count": 116,
   "id": "3ffc84dc",
   "metadata": {},
   "outputs": [],
   "source": [
    "bool_series = pd.notnull(county_data[\"combined name\"])"
   ]
  },
  {
   "cell_type": "code",
   "execution_count": 122,
   "id": "4f1713ca",
   "metadata": {},
   "outputs": [
    {
     "data": {
      "text/plain": [
       "3136"
      ]
     },
     "execution_count": 122,
     "metadata": {},
     "output_type": "execute_result"
    }
   ],
   "source": [
    "len(county_data[bool_series])"
   ]
  },
  {
   "cell_type": "code",
   "execution_count": 121,
   "id": "576a3564",
   "metadata": {},
   "outputs": [
    {
     "data": {
      "text/plain": [
       "85"
      ]
     },
     "execution_count": 121,
     "metadata": {},
     "output_type": "execute_result"
    }
   ],
   "source": [
    "len(county_data[pd.isnull(county_data[\"combined name\"])])"
   ]
  },
  {
   "cell_type": "code",
   "execution_count": 137,
   "id": "1a1a2313",
   "metadata": {},
   "outputs": [],
   "source": [
    "county_data = county_data[county_data['combined name'].notna()]"
   ]
  },
  {
   "cell_type": "code",
   "execution_count": 138,
   "id": "c053ded8",
   "metadata": {},
   "outputs": [
    {
     "data": {
      "text/plain": [
       "3136"
      ]
     },
     "execution_count": 138,
     "metadata": {},
     "output_type": "execute_result"
    }
   ],
   "source": [
    "len(county_data)"
   ]
  },
  {
   "cell_type": "code",
   "execution_count": 160,
   "id": "102566bd",
   "metadata": {},
   "outputs": [
    {
     "name": "stdout",
     "output_type": "stream",
     "text": [
      "Total population in the US: 315196157.0\n"
     ]
    }
   ],
   "source": [
    "total_population = county_data.sum()['population']\n",
    "print('Total population in the US: ' + str(total_population))"
   ]
  },
  {
   "cell_type": "code",
   "execution_count": 166,
   "id": "bbc68021",
   "metadata": {},
   "outputs": [
    {
     "name": "stdout",
     "output_type": "stream",
     "text": [
      "As of April 18, 2018, sum of total population by County\n",
      "Note: If number is 0, it means population data is not provided\n"
     ]
    },
    {
     "data": {
      "text/plain": [
       "County\n",
       "Abbeville County         24299.0\n",
       "Acadia County                0.0\n",
       "Accomack County          33246.0\n",
       "Ada County              511931.0\n",
       "Adair County             71072.0\n",
       "                          ...   \n",
       "Yukon Koyukuk County         0.0\n",
       "Yuma County             216931.0\n",
       "Zapata County            13908.0\n",
       "Zavala County             9534.0\n",
       "Ziebach County            2380.0\n",
       "Name: population, Length: 1843, dtype: float64"
      ]
     },
     "execution_count": 166,
     "metadata": {},
     "output_type": "execute_result"
    }
   ],
   "source": [
    "print('As of April 18, 2018, sum of total population by County\\nNote: If number is 0, it means population data is not provided')\n",
    "county_data.groupby(by=['County']).sum()['population'] \n"
   ]
  },
  {
   "cell_type": "code",
   "execution_count": 162,
   "id": "7b64fa38",
   "metadata": {},
   "outputs": [],
   "source": [
    "DC = county_data[county_data['State']=='District of Columbia']"
   ]
  },
  {
   "cell_type": "code",
   "execution_count": 165,
   "id": "d17e57e6",
   "metadata": {},
   "outputs": [
    {
     "name": "stdout",
     "output_type": "stream",
     "text": [
      "As of April 18, 2018, sum of total population by State:\n",
      "Note: If number is 0, it means population data is not provided\n"
     ]
    },
    {
     "data": {
      "text/plain": [
       "State\n",
       "Alabama                  4875316.0\n",
       "Alaska                         0.0\n",
       "Arizona                  7276316.0\n",
       "Arkansas                 2994541.0\n",
       "California              39237836.0\n",
       "Colorado                 5812069.0\n",
       "Connecticut              3605597.0\n",
       "Delaware                 1003384.0\n",
       "District of Columbia           0.0\n",
       "Florida                 21110675.0\n",
       "Georgia                 10041848.0\n",
       "Hawaii                   1441471.0\n",
       "Idaho                    1900923.0\n",
       "Illinois                11267068.0\n",
       "Indiana                  6378050.0\n",
       "Iowa                     3179064.0\n",
       "Kansas                   2934582.0\n",
       "Kentucky                 4509394.0\n",
       "Louisiana                      0.0\n",
       "Maine                    1372247.0\n",
       "Maryland                 4468059.0\n",
       "Massachusetts            6984723.0\n",
       "Michigan                 9830000.0\n",
       "Minnesota                5508208.0\n",
       "Mississippi              2761332.0\n",
       "Missouri                 4372204.0\n",
       "Montana                  1104271.0\n",
       "Nebraska                 1963692.0\n",
       "Nevada                   3084998.0\n",
       "New Hampshire            1388992.0\n",
       "New Jersey               9267130.0\n",
       "New Mexico               1894369.0\n",
       "New York                19727862.0\n",
       "North Carolina          10551162.0\n",
       "North Dakota              774948.0\n",
       "Ohio                    11780017.0\n",
       "Oklahoma                 3986639.0\n",
       "Oregon                   4246155.0\n",
       "Pennsylvania            12964056.0\n",
       "Rhode Island             1095610.0\n",
       "South Carolina           5190705.0\n",
       "South Dakota              881790.0\n",
       "Tennessee                6975218.0\n",
       "Texas                   29508023.0\n",
       "Utah                     3337975.0\n",
       "Vermont                   645570.0\n",
       "Virginia                 6060750.0\n",
       "Washington               7738692.0\n",
       "West Virginia            1782959.0\n",
       "Wisconsin                5800864.0\n",
       "Wyoming                   578803.0\n",
       "Name: population, dtype: float64"
      ]
     },
     "execution_count": 165,
     "metadata": {},
     "output_type": "execute_result"
    }
   ],
   "source": [
    "print('As of April 18, 2018, sum of total population by State:\\nNote: If number is 0, it means population data is not provided')\n",
    "county_data.groupby(by=['State']).sum()['population'] "
   ]
  },
  {
   "cell_type": "code",
   "execution_count": 143,
   "id": "dff75028",
   "metadata": {},
   "outputs": [
    {
     "data": {
      "text/plain": [
       "Index([       'year_month_day',             'census_05',\n",
       "       'census_05_leadingzero',         'combined name',\n",
       "        'normalization_factor',            'population',\n",
       "                  'Unnamed: 6',                 'Ratio',\n",
       "                'without NA's',            'Unnamed: 9',\n",
       "               'Average Ratio',           'Unnamed: 11',\n",
       "           'SumDevices/SumPop',                       0,\n",
       "                             1],\n",
       "      dtype='object')"
      ]
     },
     "execution_count": 143,
     "metadata": {},
     "output_type": "execute_result"
    }
   ],
   "source": [
    "county_data.columns"
   ]
  },
  {
   "cell_type": "code",
   "execution_count": 163,
   "id": "17ad3445",
   "metadata": {},
   "outputs": [
    {
     "data": {
      "text/plain": [
       "Index(['year_month_day', 'census_05', 'census_05_leadingzero', 'combined name',\n",
       "       'normalization_factor', 'population', 'Unnamed: 6', 'Ratio',\n",
       "       'without NA's', 'Unnamed: 9', 'Average Ratio', 'Unnamed: 11',\n",
       "       'SumDevices/SumPop', 'County', 'State'],\n",
       "      dtype='object')"
      ]
     },
     "execution_count": 163,
     "metadata": {},
     "output_type": "execute_result"
    }
   ],
   "source": [
    "county_data.columns"
   ]
  },
  {
   "cell_type": "markdown",
   "id": "29e11c80",
   "metadata": {},
   "source": [
    "#### 2020 & 2021 Population"
   ]
  },
  {
   "cell_type": "code",
   "execution_count": 251,
   "id": "e8ed23bd",
   "metadata": {},
   "outputs": [],
   "source": [
    "df2 = pd.read_excel(xls, 'CO-EST2021-POP')\n",
    "df2 = df2.iloc[4: , 1:-2]\n",
    "# drop non county/state related data\n",
    "df2 = df2.iloc[:-5 , :]"
   ]
  },
  {
   "cell_type": "code",
   "execution_count": 252,
   "id": "18946e09",
   "metadata": {},
   "outputs": [
    {
     "data": {
      "text/html": [
       "<div>\n",
       "<style scoped>\n",
       "    .dataframe tbody tr th:only-of-type {\n",
       "        vertical-align: middle;\n",
       "    }\n",
       "\n",
       "    .dataframe tbody tr th {\n",
       "        vertical-align: top;\n",
       "    }\n",
       "\n",
       "    .dataframe thead th {\n",
       "        text-align: right;\n",
       "    }\n",
       "</style>\n",
       "<table border=\"1\" class=\"dataframe\">\n",
       "  <thead>\n",
       "    <tr style=\"text-align: right;\">\n",
       "      <th></th>\n",
       "      <th>table with row headers in column A and column headers in rows 3 through 4 (leading dots indicate sub-parts)</th>\n",
       "      <th>Unnamed: 2</th>\n",
       "      <th>Unnamed: 3</th>\n",
       "      <th>Unnamed: 4</th>\n",
       "      <th>Unnamed: 5</th>\n",
       "    </tr>\n",
       "  </thead>\n",
       "  <tbody>\n",
       "    <tr>\n",
       "      <th>4</th>\n",
       "      <td>.Autauga County, Alabama</td>\n",
       "      <td>NaN</td>\n",
       "      <td>58805</td>\n",
       "      <td>58877</td>\n",
       "      <td>59095.0</td>\n",
       "    </tr>\n",
       "    <tr>\n",
       "      <th>5</th>\n",
       "      <td>.Baldwin County, Alabama</td>\n",
       "      <td>NaN</td>\n",
       "      <td>231767</td>\n",
       "      <td>233140</td>\n",
       "      <td>239294.0</td>\n",
       "    </tr>\n",
       "    <tr>\n",
       "      <th>6</th>\n",
       "      <td>.Barbour County, Alabama</td>\n",
       "      <td>NaN</td>\n",
       "      <td>25223</td>\n",
       "      <td>25180</td>\n",
       "      <td>24964.0</td>\n",
       "    </tr>\n",
       "    <tr>\n",
       "      <th>7</th>\n",
       "      <td>.Bibb County, Alabama</td>\n",
       "      <td>NaN</td>\n",
       "      <td>22293</td>\n",
       "      <td>22223</td>\n",
       "      <td>22477.0</td>\n",
       "    </tr>\n",
       "    <tr>\n",
       "      <th>8</th>\n",
       "      <td>.Blount County, Alabama</td>\n",
       "      <td>NaN</td>\n",
       "      <td>59134</td>\n",
       "      <td>59081</td>\n",
       "      <td>59041.0</td>\n",
       "    </tr>\n",
       "    <tr>\n",
       "      <th>...</th>\n",
       "      <td>...</td>\n",
       "      <td>...</td>\n",
       "      <td>...</td>\n",
       "      <td>...</td>\n",
       "      <td>...</td>\n",
       "    </tr>\n",
       "    <tr>\n",
       "      <th>3142</th>\n",
       "      <td>.Sweetwater County, Wyoming</td>\n",
       "      <td>NaN</td>\n",
       "      <td>42272</td>\n",
       "      <td>42158</td>\n",
       "      <td>41614.0</td>\n",
       "    </tr>\n",
       "    <tr>\n",
       "      <th>3143</th>\n",
       "      <td>.Teton County, Wyoming</td>\n",
       "      <td>NaN</td>\n",
       "      <td>23331</td>\n",
       "      <td>23347</td>\n",
       "      <td>23575.0</td>\n",
       "    </tr>\n",
       "    <tr>\n",
       "      <th>3144</th>\n",
       "      <td>.Uinta County, Wyoming</td>\n",
       "      <td>NaN</td>\n",
       "      <td>20450</td>\n",
       "      <td>20441</td>\n",
       "      <td>20635.0</td>\n",
       "    </tr>\n",
       "    <tr>\n",
       "      <th>3145</th>\n",
       "      <td>.Washakie County, Wyoming</td>\n",
       "      <td>NaN</td>\n",
       "      <td>7685</td>\n",
       "      <td>7658</td>\n",
       "      <td>7705.0</td>\n",
       "    </tr>\n",
       "    <tr>\n",
       "      <th>3146</th>\n",
       "      <td>.Weston County, Wyoming</td>\n",
       "      <td>NaN</td>\n",
       "      <td>6838</td>\n",
       "      <td>6809</td>\n",
       "      <td>6745.0</td>\n",
       "    </tr>\n",
       "  </tbody>\n",
       "</table>\n",
       "<p>3143 rows × 5 columns</p>\n",
       "</div>"
      ],
      "text/plain": [
       "     table with row headers in column A and column headers in rows 3 through 4 (leading dots indicate sub-parts)  \\\n",
       "4                              .Autauga County, Alabama                                                            \n",
       "5                              .Baldwin County, Alabama                                                            \n",
       "6                              .Barbour County, Alabama                                                            \n",
       "7                                 .Bibb County, Alabama                                                            \n",
       "8                               .Blount County, Alabama                                                            \n",
       "...                                                 ...                                                            \n",
       "3142                        .Sweetwater County, Wyoming                                                            \n",
       "3143                             .Teton County, Wyoming                                                            \n",
       "3144                             .Uinta County, Wyoming                                                            \n",
       "3145                          .Washakie County, Wyoming                                                            \n",
       "3146                            .Weston County, Wyoming                                                            \n",
       "\n",
       "      Unnamed: 2 Unnamed: 3 Unnamed: 4  Unnamed: 5  \n",
       "4            NaN      58805      58877     59095.0  \n",
       "5            NaN     231767     233140    239294.0  \n",
       "6            NaN      25223      25180     24964.0  \n",
       "7            NaN      22293      22223     22477.0  \n",
       "8            NaN      59134      59081     59041.0  \n",
       "...          ...        ...        ...         ...  \n",
       "3142         NaN      42272      42158     41614.0  \n",
       "3143         NaN      23331      23347     23575.0  \n",
       "3144         NaN      20450      20441     20635.0  \n",
       "3145         NaN       7685       7658      7705.0  \n",
       "3146         NaN       6838       6809      6745.0  \n",
       "\n",
       "[3143 rows x 5 columns]"
      ]
     },
     "execution_count": 252,
     "metadata": {},
     "output_type": "execute_result"
    }
   ],
   "source": [
    "df2"
   ]
  },
  {
   "cell_type": "code",
   "execution_count": 253,
   "id": "468f5cd0",
   "metadata": {},
   "outputs": [],
   "source": [
    "df2= df2.rename(columns={'table with row headers in column A and column headers in rows 3 through 4 (leading dots indicate sub-parts)': \"County+State\", 'Unnamed: 3': \"April 1, 2020 Estimates Base\", 'Unnamed: 4':'2020 population', 'Unnamed: 5':'2021 population'})\n",
    "df2=df2.drop(['Unnamed: 2'], axis=1)"
   ]
  },
  {
   "cell_type": "code",
   "execution_count": 254,
   "id": "c881f240",
   "metadata": {},
   "outputs": [
    {
     "name": "stderr",
     "output_type": "stream",
     "text": [
      "<ipython-input-254-bc3fed921c1f>:4: FutureWarning: The default value of regex will change from True to False in a future version. In addition, single character regular expressions will*not* be treated as literal strings when regex=True.\n",
      "  pop_data['County'] = pop_data['County'].str.replace(r'.', '')\n"
     ]
    }
   ],
   "source": [
    "pop_data = pd.concat([df2, df2['County+State'].str.split(', ', expand=True)], axis=1)\n",
    "pop_data = pop_data.rename(columns = {0:'County', 1:'State'})\n",
    "\n",
    "pop_data['County'] = pop_data['County'].str.replace(r'.', '')\n",
    "pop_data = pop_data.astype({\"2020 population\": int, \"2021 population\": int})"
   ]
  },
  {
   "cell_type": "code",
   "execution_count": 266,
   "id": "551d0834",
   "metadata": {},
   "outputs": [
    {
     "data": {
      "text/html": [
       "<div>\n",
       "<style scoped>\n",
       "    .dataframe tbody tr th:only-of-type {\n",
       "        vertical-align: middle;\n",
       "    }\n",
       "\n",
       "    .dataframe tbody tr th {\n",
       "        vertical-align: top;\n",
       "    }\n",
       "\n",
       "    .dataframe thead th {\n",
       "        text-align: right;\n",
       "    }\n",
       "</style>\n",
       "<table border=\"1\" class=\"dataframe\">\n",
       "  <thead>\n",
       "    <tr style=\"text-align: right;\">\n",
       "      <th></th>\n",
       "      <th>County+State</th>\n",
       "      <th>April 1, 2020 Estimates Base</th>\n",
       "      <th>2020 population</th>\n",
       "      <th>2021 population</th>\n",
       "      <th>County</th>\n",
       "      <th>State</th>\n",
       "    </tr>\n",
       "  </thead>\n",
       "  <tbody>\n",
       "    <tr>\n",
       "      <th>4</th>\n",
       "      <td>.Autauga County, Alabama</td>\n",
       "      <td>58805</td>\n",
       "      <td>58877</td>\n",
       "      <td>59095</td>\n",
       "      <td>Autauga County</td>\n",
       "      <td>Alabama</td>\n",
       "    </tr>\n",
       "    <tr>\n",
       "      <th>5</th>\n",
       "      <td>.Baldwin County, Alabama</td>\n",
       "      <td>231767</td>\n",
       "      <td>233140</td>\n",
       "      <td>239294</td>\n",
       "      <td>Baldwin County</td>\n",
       "      <td>Alabama</td>\n",
       "    </tr>\n",
       "    <tr>\n",
       "      <th>6</th>\n",
       "      <td>.Barbour County, Alabama</td>\n",
       "      <td>25223</td>\n",
       "      <td>25180</td>\n",
       "      <td>24964</td>\n",
       "      <td>Barbour County</td>\n",
       "      <td>Alabama</td>\n",
       "    </tr>\n",
       "    <tr>\n",
       "      <th>7</th>\n",
       "      <td>.Bibb County, Alabama</td>\n",
       "      <td>22293</td>\n",
       "      <td>22223</td>\n",
       "      <td>22477</td>\n",
       "      <td>Bibb County</td>\n",
       "      <td>Alabama</td>\n",
       "    </tr>\n",
       "    <tr>\n",
       "      <th>8</th>\n",
       "      <td>.Blount County, Alabama</td>\n",
       "      <td>59134</td>\n",
       "      <td>59081</td>\n",
       "      <td>59041</td>\n",
       "      <td>Blount County</td>\n",
       "      <td>Alabama</td>\n",
       "    </tr>\n",
       "    <tr>\n",
       "      <th>...</th>\n",
       "      <td>...</td>\n",
       "      <td>...</td>\n",
       "      <td>...</td>\n",
       "      <td>...</td>\n",
       "      <td>...</td>\n",
       "      <td>...</td>\n",
       "    </tr>\n",
       "    <tr>\n",
       "      <th>3142</th>\n",
       "      <td>.Sweetwater County, Wyoming</td>\n",
       "      <td>42272</td>\n",
       "      <td>42158</td>\n",
       "      <td>41614</td>\n",
       "      <td>Sweetwater County</td>\n",
       "      <td>Wyoming</td>\n",
       "    </tr>\n",
       "    <tr>\n",
       "      <th>3143</th>\n",
       "      <td>.Teton County, Wyoming</td>\n",
       "      <td>23331</td>\n",
       "      <td>23347</td>\n",
       "      <td>23575</td>\n",
       "      <td>Teton County</td>\n",
       "      <td>Wyoming</td>\n",
       "    </tr>\n",
       "    <tr>\n",
       "      <th>3144</th>\n",
       "      <td>.Uinta County, Wyoming</td>\n",
       "      <td>20450</td>\n",
       "      <td>20441</td>\n",
       "      <td>20635</td>\n",
       "      <td>Uinta County</td>\n",
       "      <td>Wyoming</td>\n",
       "    </tr>\n",
       "    <tr>\n",
       "      <th>3145</th>\n",
       "      <td>.Washakie County, Wyoming</td>\n",
       "      <td>7685</td>\n",
       "      <td>7658</td>\n",
       "      <td>7705</td>\n",
       "      <td>Washakie County</td>\n",
       "      <td>Wyoming</td>\n",
       "    </tr>\n",
       "    <tr>\n",
       "      <th>3146</th>\n",
       "      <td>.Weston County, Wyoming</td>\n",
       "      <td>6838</td>\n",
       "      <td>6809</td>\n",
       "      <td>6745</td>\n",
       "      <td>Weston County</td>\n",
       "      <td>Wyoming</td>\n",
       "    </tr>\n",
       "  </tbody>\n",
       "</table>\n",
       "<p>3143 rows × 6 columns</p>\n",
       "</div>"
      ],
      "text/plain": [
       "                     County+State April 1, 2020 Estimates Base  \\\n",
       "4        .Autauga County, Alabama                        58805   \n",
       "5        .Baldwin County, Alabama                       231767   \n",
       "6        .Barbour County, Alabama                        25223   \n",
       "7           .Bibb County, Alabama                        22293   \n",
       "8         .Blount County, Alabama                        59134   \n",
       "...                           ...                          ...   \n",
       "3142  .Sweetwater County, Wyoming                        42272   \n",
       "3143       .Teton County, Wyoming                        23331   \n",
       "3144       .Uinta County, Wyoming                        20450   \n",
       "3145    .Washakie County, Wyoming                         7685   \n",
       "3146      .Weston County, Wyoming                         6838   \n",
       "\n",
       "      2020 population  2021 population             County    State  \n",
       "4               58877            59095     Autauga County  Alabama  \n",
       "5              233140           239294     Baldwin County  Alabama  \n",
       "6               25180            24964     Barbour County  Alabama  \n",
       "7               22223            22477        Bibb County  Alabama  \n",
       "8               59081            59041      Blount County  Alabama  \n",
       "...               ...              ...                ...      ...  \n",
       "3142            42158            41614  Sweetwater County  Wyoming  \n",
       "3143            23347            23575       Teton County  Wyoming  \n",
       "3144            20441            20635       Uinta County  Wyoming  \n",
       "3145             7658             7705    Washakie County  Wyoming  \n",
       "3146             6809             6745      Weston County  Wyoming  \n",
       "\n",
       "[3143 rows x 6 columns]"
      ]
     },
     "execution_count": 266,
     "metadata": {},
     "output_type": "execute_result"
    }
   ],
   "source": [
    "pop_data"
   ]
  },
  {
   "cell_type": "code",
   "execution_count": 256,
   "id": "eac5b9be",
   "metadata": {},
   "outputs": [
    {
     "data": {
      "text/plain": [
       "Index(['County+State', 'April 1, 2020 Estimates Base', '2020 population',\n",
       "       '2021 population', 'County', 'State'],\n",
       "      dtype='object')"
      ]
     },
     "execution_count": 256,
     "metadata": {},
     "output_type": "execute_result"
    }
   ],
   "source": [
    "pop_data.columns"
   ]
  },
  {
   "cell_type": "code",
   "execution_count": 258,
   "id": "df5e7954",
   "metadata": {},
   "outputs": [
    {
     "name": "stdout",
     "output_type": "stream",
     "text": [
      "In 2020, sum of total population by County\n",
      "Note: If number is 0, it means population data is not provided\n"
     ]
    },
    {
     "data": {
      "text/plain": [
       "County\n",
       "Abbeville County              24212\n",
       "Acadia Parish                 57455\n",
       "Accomack County               33348\n",
       "Ada County                   497984\n",
       "Adair County                  71008\n",
       "                              ...  \n",
       "Yukon-Koyukuk Census Area      5300\n",
       "Yuma County                  214416\n",
       "Zapata County                 13884\n",
       "Zavala County                  9652\n",
       "Ziebach County                 2388\n",
       "Name: 2020 population, Length: 1878, dtype: int64"
      ]
     },
     "execution_count": 258,
     "metadata": {},
     "output_type": "execute_result"
    }
   ],
   "source": [
    "print('In 2020, sum of total population by County\\nNote: If number is 0, it means population data is not provided')\n",
    "pop_data.groupby(by=['County']).sum()['2020 population'] "
   ]
  },
  {
   "cell_type": "code",
   "execution_count": 259,
   "id": "9aaaf7ff",
   "metadata": {},
   "outputs": [
    {
     "name": "stdout",
     "output_type": "stream",
     "text": [
      "In 2021, sum of total population by County\n",
      "Note: If number is 0, it means population data is not provided\n"
     ]
    },
    {
     "data": {
      "text/plain": [
       "County\n",
       "Abbeville County              24299\n",
       "Acadia Parish                 57288\n",
       "Accomack County               33246\n",
       "Ada County                   511931\n",
       "Adair County                  71072\n",
       "                              ...  \n",
       "Yukon-Koyukuk Census Area      5275\n",
       "Yuma County                  216931\n",
       "Zapata County                 13908\n",
       "Zavala County                  9534\n",
       "Ziebach County                 2380\n",
       "Name: 2021 population, Length: 1878, dtype: int64"
      ]
     },
     "execution_count": 259,
     "metadata": {},
     "output_type": "execute_result"
    }
   ],
   "source": [
    "print('In 2021, sum of total population by County\\nNote: If number is 0, it means population data is not provided')\n",
    "pop_data.groupby(by=['County']).sum()['2021 population'] "
   ]
  },
  {
   "cell_type": "code",
   "execution_count": 262,
   "id": "d7d26a9e",
   "metadata": {},
   "outputs": [
    {
     "name": "stdout",
     "output_type": "stream",
     "text": [
      "2020, sum of total population by State\n",
      "\n"
     ]
    },
    {
     "data": {
      "text/plain": [
       "State\n",
       "Alabama                  5024803\n",
       "Alaska                    732441\n",
       "Arizona                  7177986\n",
       "Arkansas                 3012232\n",
       "California              39499738\n",
       "Colorado                 5784308\n",
       "Connecticut              3600260\n",
       "Delaware                  991886\n",
       "District of Columbia      690093\n",
       "Florida                 21569932\n",
       "Georgia                 10725800\n",
       "Hawaii                   1451911\n",
       "Idaho                    1847772\n",
       "Illinois                12785245\n",
       "Indiana                  6785644\n",
       "Iowa                     3188669\n",
       "Kansas                   2935880\n",
       "Kentucky                 4503958\n",
       "Louisiana                4651203\n",
       "Maine                    1362280\n",
       "Maryland                 6172679\n",
       "Massachusetts            7022220\n",
       "Michigan                10067664\n",
       "Minnesota                5707165\n",
       "Mississippi              2956870\n",
       "Missouri                 6154481\n",
       "Montana                  1086193\n",
       "Nebraska                 1961455\n",
       "Nevada                   3114071\n",
       "New Hampshire            1377848\n",
       "New Jersey               9279743\n",
       "New Mexico               2117566\n",
       "New York                20154933\n",
       "North Carolina          10457177\n",
       "North Dakota              778962\n",
       "Ohio                    11790587\n",
       "Oklahoma                 3962031\n",
       "Oregon                   4241544\n",
       "Pennsylvania            12989625\n",
       "Rhode Island             1096229\n",
       "South Carolina           5130729\n",
       "South Dakota              887099\n",
       "Tennessee                6920119\n",
       "Texas                   29217653\n",
       "Utah                     3281684\n",
       "Vermont                   642495\n",
       "Virginia                 8632044\n",
       "Washington               7718785\n",
       "West Virginia            1789798\n",
       "Wisconsin                5892323\n",
       "Wyoming                   577267\n",
       "Name: 2020 population, dtype: int64"
      ]
     },
     "execution_count": 262,
     "metadata": {},
     "output_type": "execute_result"
    }
   ],
   "source": [
    "print('2020, sum of total population by State')\n",
    "pop_data.groupby(by=['State']).sum()['2020 population'] "
   ]
  },
  {
   "cell_type": "code",
   "execution_count": 271,
   "id": "1c128b5e",
   "metadata": {},
   "outputs": [
    {
     "name": "stdout",
     "output_type": "stream",
     "text": [
      "In 2021, the sum of total population by State:\n"
     ]
    },
    {
     "data": {
      "text/plain": [
       "State\n",
       "Alabama                  5039877\n",
       "Alaska                    732673\n",
       "Arizona                  7276316\n",
       "Arkansas                 3025891\n",
       "California              39237836\n",
       "Colorado                 5812069\n",
       "Connecticut              3605597\n",
       "Delaware                 1003384\n",
       "District of Columbia      670050\n",
       "Florida                 21781128\n",
       "Georgia                 10799566\n",
       "Hawaii                   1441553\n",
       "Idaho                    1900923\n",
       "Illinois                12671469\n",
       "Indiana                  6805985\n",
       "Iowa                     3193079\n",
       "Kansas                   2934582\n",
       "Kentucky                 4509394\n",
       "Louisiana                4624047\n",
       "Maine                    1372247\n",
       "Maryland                 6165129\n",
       "Massachusetts            6984723\n",
       "Michigan                10050811\n",
       "Minnesota                5707390\n",
       "Mississippi              2949965\n",
       "Missouri                 6168187\n",
       "Montana                  1104271\n",
       "Nebraska                 1963692\n",
       "Nevada                   3143991\n",
       "New Hampshire            1388992\n",
       "New Jersey               9267130\n",
       "New Mexico               2115877\n",
       "New York                19835913\n",
       "North Carolina          10551162\n",
       "North Dakota              774948\n",
       "Ohio                    11780017\n",
       "Oklahoma                 3986639\n",
       "Oregon                   4246155\n",
       "Pennsylvania            12964056\n",
       "Rhode Island             1095610\n",
       "South Carolina           5190705\n",
       "South Dakota              895376\n",
       "Tennessee                6975218\n",
       "Texas                   29527941\n",
       "Utah                     3337975\n",
       "Vermont                   645570\n",
       "Virginia                 8642274\n",
       "Washington               7738692\n",
       "West Virginia            1782959\n",
       "Wisconsin                5895908\n",
       "Wyoming                   578803\n",
       "Name: 2021 population, dtype: int64"
      ]
     },
     "execution_count": 271,
     "metadata": {},
     "output_type": "execute_result"
    }
   ],
   "source": [
    "print('In 2021, the sum of total population by State:')\n",
    "pop_data.groupby(by=['State']).sum()['2021 population'] "
   ]
  },
  {
   "cell_type": "code",
   "execution_count": 269,
   "id": "cb1b16c6",
   "metadata": {},
   "outputs": [
    {
     "name": "stdout",
     "output_type": "stream",
     "text": [
      "Total population in the US in 2020 :331501080\n",
      "\n",
      "Total population in the US in 2021 :331893745\n",
      "\n",
      "Average population per year: 331697412.5\n"
     ]
    }
   ],
   "source": [
    "total_2020_pop = pop_data['2020 population'].sum()\n",
    "print('Total population in the US in 2020 :'+ str(total_2020_pop))\n",
    "\n",
    "total_2021_pop = pop_data['2021 population'].sum()\n",
    "print('\\nTotal population in the US in 2021 :'+ str(total_2021_pop))\n",
    "\n",
    "average_pop = (total_2020_pop+total_2021_pop)/2\n",
    "print('\\nAverage population per year: '+ str(average_pop))"
   ]
  },
  {
   "cell_type": "code",
   "execution_count": 274,
   "id": "357c6fea",
   "metadata": {},
   "outputs": [
    {
     "name": "stdout",
     "output_type": "stream",
     "text": [
      "In 2020, the average total population by State per day:\n"
     ]
    },
    {
     "data": {
      "text/plain": [
       "State\n",
       "Alabama                  13766.583562\n",
       "Alaska                    2006.687671\n",
       "Arizona                  19665.715068\n",
       "Arkansas                  8252.690411\n",
       "California              108218.460274\n",
       "Colorado                 15847.419178\n",
       "Connecticut               9863.726027\n",
       "Delaware                  2717.495890\n",
       "District of Columbia      1890.665753\n",
       "Florida                  59095.704110\n",
       "Georgia                  29385.753425\n",
       "Hawaii                    3977.838356\n",
       "Idaho                     5062.389041\n",
       "Illinois                 35028.068493\n",
       "Indiana                  18590.805479\n",
       "Iowa                      8736.079452\n",
       "Kansas                    8043.506849\n",
       "Kentucky                 12339.610959\n",
       "Louisiana                12743.021918\n",
       "Maine                     3732.273973\n",
       "Maryland                 16911.449315\n",
       "Massachusetts            19238.958904\n",
       "Michigan                 27582.641096\n",
       "Minnesota                15636.068493\n",
       "Mississippi               8101.013699\n",
       "Missouri                 16861.591781\n",
       "Montana                   2975.871233\n",
       "Nebraska                  5373.849315\n",
       "Nevada                    8531.701370\n",
       "New Hampshire             3774.926027\n",
       "New Jersey               25423.953425\n",
       "New Mexico                5801.550685\n",
       "New York                 55218.994521\n",
       "North Carolina           28649.800000\n",
       "North Dakota              2134.142466\n",
       "Ohio                     32302.978082\n",
       "Oklahoma                 10854.879452\n",
       "Oregon                   11620.668493\n",
       "Pennsylvania             35588.013699\n",
       "Rhode Island              3003.367123\n",
       "South Carolina           14056.791781\n",
       "South Dakota              2430.408219\n",
       "Tennessee                18959.230137\n",
       "Texas                    80048.364384\n",
       "Utah                      8990.915068\n",
       "Vermont                   1760.260274\n",
       "Virginia                 23649.435616\n",
       "Washington               21147.356164\n",
       "West Virginia             4903.556164\n",
       "Wisconsin                16143.350685\n",
       "Wyoming                   1581.553425\n",
       "Name: 2020 population, dtype: float64"
      ]
     },
     "execution_count": 274,
     "metadata": {},
     "output_type": "execute_result"
    }
   ],
   "source": [
    "print('In 2020, the average total population by State per day:')\n",
    "pop_data.groupby(by=['State']).sum()['2020 population'] /365"
   ]
  },
  {
   "cell_type": "code",
   "execution_count": 273,
   "id": "8afc4ffa",
   "metadata": {},
   "outputs": [
    {
     "name": "stdout",
     "output_type": "stream",
     "text": [
      "In 2020, the average total population by State per day:\n",
      "In 2021, the average total population by State per day:\n"
     ]
    },
    {
     "data": {
      "text/plain": [
       "State\n",
       "Alabama                  13807.882192\n",
       "Alaska                    2007.323288\n",
       "Arizona                  19935.112329\n",
       "Arkansas                  8290.112329\n",
       "California              107500.920548\n",
       "Colorado                 15923.476712\n",
       "Connecticut               9878.347945\n",
       "Delaware                  2748.997260\n",
       "District of Columbia      1835.753425\n",
       "Florida                  59674.323288\n",
       "Georgia                  29587.852055\n",
       "Hawaii                    3949.460274\n",
       "Idaho                     5208.008219\n",
       "Illinois                 34716.353425\n",
       "Indiana                  18646.534247\n",
       "Iowa                      8748.161644\n",
       "Kansas                    8039.950685\n",
       "Kentucky                 12354.504110\n",
       "Louisiana                12668.621918\n",
       "Maine                     3759.580822\n",
       "Maryland                 16890.764384\n",
       "Massachusetts            19136.227397\n",
       "Michigan                 27536.468493\n",
       "Minnesota                15636.684932\n",
       "Mississippi               8082.095890\n",
       "Missouri                 16899.142466\n",
       "Montana                   3025.400000\n",
       "Nebraska                  5379.978082\n",
       "Nevada                    8613.673973\n",
       "New Hampshire             3805.457534\n",
       "New Jersey               25389.397260\n",
       "New Mexico                5796.923288\n",
       "New York                 54344.967123\n",
       "North Carolina           28907.293151\n",
       "North Dakota              2123.145205\n",
       "Ohio                     32274.019178\n",
       "Oklahoma                 10922.298630\n",
       "Oregon                   11633.301370\n",
       "Pennsylvania             35517.961644\n",
       "Rhode Island              3001.671233\n",
       "South Carolina           14221.109589\n",
       "South Dakota              2453.084932\n",
       "Tennessee                19110.186301\n",
       "Texas                    80898.468493\n",
       "Utah                      9145.136986\n",
       "Vermont                   1768.684932\n",
       "Virginia                 23677.463014\n",
       "Washington               21201.895890\n",
       "West Virginia             4884.819178\n",
       "Wisconsin                16153.172603\n",
       "Wyoming                   1585.761644\n",
       "Name: 2021 population, dtype: float64"
      ]
     },
     "execution_count": 273,
     "metadata": {},
     "output_type": "execute_result"
    }
   ],
   "source": [
    "print('In 2021, the average total population by State per day:')\n",
    "pop_data.groupby(by=['State']).sum()['2021 population'] /365"
   ]
  },
  {
   "cell_type": "code",
   "execution_count": 286,
   "id": "734c8908",
   "metadata": {},
   "outputs": [
    {
     "name": "stdout",
     "output_type": "stream",
     "text": [
      "The average population by State per year is:\n"
     ]
    },
    {
     "data": {
      "text/plain": [
       "State\n",
       "Alabama                  5032340.0\n",
       "Alaska                    732557.0\n",
       "Arizona                  7227151.0\n",
       "Arkansas                 3019061.5\n",
       "California              39368787.0\n",
       "Colorado                 5798188.5\n",
       "Connecticut              3602928.5\n",
       "Delaware                  997635.0\n",
       "District of Columbia      680071.5\n",
       "Florida                 21675530.0\n",
       "Georgia                 10762683.0\n",
       "Hawaii                   1446732.0\n",
       "Idaho                    1874347.5\n",
       "Illinois                12728357.0\n",
       "Indiana                  6795814.5\n",
       "Iowa                     3190874.0\n",
       "Kansas                   2935231.0\n",
       "Kentucky                 4506676.0\n",
       "Louisiana                4637625.0\n",
       "Maine                    1367263.5\n",
       "Maryland                 6168904.0\n",
       "Massachusetts            7003471.5\n",
       "Michigan                10059237.5\n",
       "Minnesota                5707277.5\n",
       "Mississippi              2953417.5\n",
       "Missouri                 6161334.0\n",
       "Montana                  1095232.0\n",
       "Nebraska                 1962573.5\n",
       "Nevada                   3129031.0\n",
       "New Hampshire            1383420.0\n",
       "New Jersey               9273436.5\n",
       "New Mexico               2116721.5\n",
       "New York                19995423.0\n",
       "North Carolina          10504169.5\n",
       "North Dakota              776955.0\n",
       "Ohio                    11785302.0\n",
       "Oklahoma                 3974335.0\n",
       "Oregon                   4243849.5\n",
       "Pennsylvania            12976840.5\n",
       "Rhode Island             1095919.5\n",
       "South Carolina           5160717.0\n",
       "South Dakota              891237.5\n",
       "Tennessee                6947668.5\n",
       "Texas                   29372797.0\n",
       "Utah                     3309829.5\n",
       "Vermont                   644032.5\n",
       "Virginia                 8637159.0\n",
       "Washington               7728738.5\n",
       "West Virginia            1786378.5\n",
       "Wisconsin                5894115.5\n",
       "Wyoming                   578035.0\n",
       "dtype: float64"
      ]
     },
     "execution_count": 286,
     "metadata": {},
     "output_type": "execute_result"
    }
   ],
   "source": [
    "print('The average population by State per year is:')\n",
    "(pop_data.groupby(by=['State']).sum()['2020 population'] + pop_data.groupby(by=['State']).sum()['2021 population'])/2"
   ]
  },
  {
   "cell_type": "code",
   "execution_count": 309,
   "id": "47050e0b",
   "metadata": {},
   "outputs": [],
   "source": [
    "# ax = ((pop_data.groupby(by=['State']).sum()['2020 population'] + pop_data.groupby(by=['State']).sum()['2021 population'])/2).plot.bar(figsize=(100, 30), width=0.8, linewidth=0.2, title='Average Population by State per year', rot=0, xlabel='State', fontsize=30)\n",
    "\n",
    "# plt.xlabel('xlabel', fontsize=18)"
   ]
  },
  {
   "cell_type": "code",
   "execution_count": 292,
   "id": "a7fc80e1",
   "metadata": {},
   "outputs": [
    {
     "name": "stdout",
     "output_type": "stream",
     "text": [
      "In the United States, the average population for in a state in 2020 is 6500021.176470588\n",
      "In the United States, the average population for in a state in 2020 is 6507720.490196078\n"
     ]
    }
   ],
   "source": [
    "average_2020_pop = pop_data.sum()['2020 population']/pop_data['State'].nunique()\n",
    "average_2021_pop = pop_data.sum()['2021 population']/pop_data['State'].nunique()\n",
    "print('In the United States, the average population for in a state in 2020 is '+ str(average_2020_pop))\n",
    "print('In the United States, the average population for in a state in 2020 is '+ str(average_2021_pop))"
   ]
  },
  {
   "cell_type": "code",
   "execution_count": 313,
   "id": "b87ea569",
   "metadata": {},
   "outputs": [
    {
     "data": {
      "image/png": "[encoded data removed]",
      "text/plain": [
       "<Figure size 432x288 with 1 Axes>"
      ]
     },
     "metadata": {
      "needs_background": "light"
     },
     "output_type": "display_data"
    }
   ],
   "source": [
    "bar_df = pd.DataFrame({'Year':['2020', '2021'], 'count':[average_2020_pop, average_2021_pop]})\n",
    "ax = bar_df.plot.bar(x='Year', y='count', rot=0, title='Average Population of 1 State by year')\n",
    "for bars in ax.containers:\n",
    "    ax.bar_label(bars, fmt='%9.0f', size=10)"
   ]
  },
  {
   "cell_type": "code",
   "execution_count": null,
   "id": "156b4c80",
   "metadata": {},
   "outputs": [],
   "source": []
  }
 ],
 "metadata": {
  "kernelspec": {
   "display_name": "Python 3",
   "language": "python",
   "name": "python3"
  },
  "language_info": {
   "codemirror_mode": {
    "name": "ipython",
    "version": 3
   },
   "file_extension": ".py",
   "mimetype": "text/x-python",
   "name": "python",
   "nbconvert_exporter": "python",
   "pygments_lexer": "ipython3",
   "version": "3.8.8"
  }
 },
 "nbformat": 4,
 "nbformat_minor": 5
}
